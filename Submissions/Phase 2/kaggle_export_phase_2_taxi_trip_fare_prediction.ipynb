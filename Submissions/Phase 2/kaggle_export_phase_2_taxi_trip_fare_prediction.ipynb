{
  "metadata": {
    "kernelspec": {
      "name": "python3",
      "display_name": "Python 3",
      "language": "python"
    },
    "language_info": {
      "name": "python",
      "version": "3.7.12",
      "mimetype": "text/x-python",
      "codemirror_mode": {
        "name": "ipython",
        "version": 3
      },
      "pygments_lexer": "ipython3",
      "nbconvert_exporter": "python",
      "file_extension": ".py"
    },
    "colab": {
      "provenance": [],
      "machine_shape": "hm",
      "collapsed_sections": [
        "c6hbLSL4llOw",
        "bFWpFi5AllOx",
        "c7O3DjcyllOx",
        "_kSRQcPIllOy",
        "EBnvhNNFllOy",
        "G6ns_y0tllOz",
        "AyMsAPd5llOz",
        "RFFL-6LWllOz",
        "DRUeHlkdllO0",
        "7kKS3ovbllO0"
      ]
    },
    "accelerator": "GPU",
    "gpuClass": "standard"
  },
  "nbformat_minor": 0,
  "nbformat": 4,
  "cells": [
    {
      "cell_type": "markdown",
      "source": [
        "# Price analysis, Profitability and Affordability of Taxi trips in New York City"
      ],
      "metadata": {
        "id": "Wa8joS5lllOo"
      }
    },
    {
      "cell_type": "markdown",
      "source": [
        "## Name: Venkata Krishna Bharadwaj Boinepally\n",
        "## UB ID: 50419396\n",
        "## UB Email: vboinepa@buffalo.edu\n",
        "## Course: CSE 587: Data Intensive Computing\n",
        "## Term: Fall 2022\n",
        "## Project Name: [Phase 2] Prediction of Taxi Trip Fare for given distance and time"
      ],
      "metadata": {
        "id": "q3X5ebP4llOr"
      }
    },
    {
      "cell_type": "markdown",
      "source": [
        "## Data Processing\n",
        "(Same as Phase 1. For more details, refer Phase 1)"
      ],
      "metadata": {
        "id": "7FtPoshFllOr"
      }
    },
    {
      "cell_type": "markdown",
      "source": [
        "Import numpy, pandas, matplotlib, seaborn"
      ],
      "metadata": {
        "id": "3peAFcQxllOs"
      }
    },
    {
      "cell_type": "code",
      "source": [
        "import numpy as np\n",
        "import pandas as pd\n",
        "import matplotlib.pyplot as plt"
      ],
      "metadata": {
        "_cell_guid": "b1076dfc-b9ad-4769-8c92-a6c4dae69d19",
        "_uuid": "8f2839f25d086af736a60e9eeb907d3b93b6e0e5",
        "execution": {
          "iopub.status.busy": "2022-11-05T15:34:07.127224Z",
          "iopub.execute_input": "2022-11-05T15:34:07.128380Z",
          "iopub.status.idle": "2022-11-05T15:34:07.152709Z",
          "shell.execute_reply.started": "2022-11-05T15:34:07.128254Z",
          "shell.execute_reply": "2022-11-05T15:34:07.151775Z"
        },
        "trusted": true,
        "id": "YAN4TOwpllOs"
      },
      "execution_count": 2,
      "outputs": []
    },
    {
      "cell_type": "code",
      "source": [
        "import seaborn as sns"
      ],
      "metadata": {
        "execution": {
          "iopub.status.busy": "2022-11-05T15:34:07.154666Z",
          "iopub.execute_input": "2022-11-05T15:34:07.155155Z",
          "iopub.status.idle": "2022-11-05T15:34:07.990884Z",
          "shell.execute_reply.started": "2022-11-05T15:34:07.155099Z",
          "shell.execute_reply": "2022-11-05T15:34:07.989686Z"
        },
        "trusted": true,
        "id": "kY_vYX6gllOt"
      },
      "execution_count": 3,
      "outputs": []
    },
    {
      "cell_type": "markdown",
      "source": [
        "Source of dataset [https://www1.nyc.gov/site/tlc/about/tlc-trip-record-data.page](https://www1.nyc.gov/site/tlc/about/tlc-trip-record-data.page)"
      ],
      "metadata": {
        "id": "cHSV4HzLllOt"
      }
    },
    {
      "cell_type": "code",
      "source": [
        "# trip data\n",
        "!wget https://d37ci6vzurychx.cloudfront.net/trip-data/fhvhv_tripdata_2022-06.parquet"
      ],
      "metadata": {
        "execution": {
          "iopub.status.busy": "2022-11-05T15:34:07.992293Z",
          "iopub.execute_input": "2022-11-05T15:34:07.993033Z",
          "iopub.status.idle": "2022-11-05T15:34:48.723471Z",
          "shell.execute_reply.started": "2022-11-05T15:34:07.992992Z",
          "shell.execute_reply": "2022-11-05T15:34:48.722333Z"
        },
        "trusted": true,
        "colab": {
          "base_uri": "https://localhost:8080/"
        },
        "id": "DfuI76qellOt",
        "outputId": "f81eb258-7cd6-446c-a5a3-3f0b452d7b5f"
      },
      "execution_count": 4,
      "outputs": [
        {
          "output_type": "stream",
          "name": "stdout",
          "text": [
            "--2022-11-06 21:43:10--  https://d37ci6vzurychx.cloudfront.net/trip-data/fhvhv_tripdata_2022-06.parquet\n",
            "Resolving d37ci6vzurychx.cloudfront.net (d37ci6vzurychx.cloudfront.net)... 65.9.84.11, 65.9.84.167, 65.9.84.31, ...\n",
            "Connecting to d37ci6vzurychx.cloudfront.net (d37ci6vzurychx.cloudfront.net)|65.9.84.11|:443... connected.\n",
            "HTTP request sent, awaiting response... 200 OK\n",
            "Length: 458193119 (437M) [application/x-www-form-urlencoded]\n",
            "Saving to: ‘fhvhv_tripdata_2022-06.parquet’\n",
            "\n",
            "fhvhv_tripdata_2022 100%[===================>] 436.97M  55.9MB/s    in 8.6s    \n",
            "\n",
            "2022-11-06 21:43:19 (50.7 MB/s) - ‘fhvhv_tripdata_2022-06.parquet’ saved [458193119/458193119]\n",
            "\n"
          ]
        }
      ]
    },
    {
      "cell_type": "code",
      "source": [
        "# zone data\n",
        "!wget https://d37ci6vzurychx.cloudfront.net/misc/taxi+_zone_lookup.csv"
      ],
      "metadata": {
        "scrolled": true,
        "execution": {
          "iopub.status.busy": "2022-11-05T15:34:48.726575Z",
          "iopub.execute_input": "2022-11-05T15:34:48.727291Z",
          "iopub.status.idle": "2022-11-05T15:34:50.879701Z",
          "shell.execute_reply.started": "2022-11-05T15:34:48.727245Z",
          "shell.execute_reply": "2022-11-05T15:34:50.878204Z"
        },
        "trusted": true,
        "colab": {
          "base_uri": "https://localhost:8080/"
        },
        "id": "sD9yicnZllOu",
        "outputId": "ecd8d1c3-80ef-43f6-c6ee-02d7d0404581"
      },
      "execution_count": 5,
      "outputs": [
        {
          "output_type": "stream",
          "name": "stdout",
          "text": [
            "--2022-11-06 21:43:19--  https://d37ci6vzurychx.cloudfront.net/misc/taxi+_zone_lookup.csv\n",
            "Resolving d37ci6vzurychx.cloudfront.net (d37ci6vzurychx.cloudfront.net)... 65.9.84.11, 65.9.84.167, 65.9.84.31, ...\n",
            "Connecting to d37ci6vzurychx.cloudfront.net (d37ci6vzurychx.cloudfront.net)|65.9.84.11|:443... connected.\n",
            "HTTP request sent, awaiting response... 200 OK\n",
            "Length: 12322 (12K) [text/csv]\n",
            "Saving to: ‘taxi+_zone_lookup.csv’\n",
            "\n",
            "\rtaxi+_zone_lookup.c   0%[                    ]       0  --.-KB/s               \rtaxi+_zone_lookup.c 100%[===================>]  12.03K  --.-KB/s    in 0s      \n",
            "\n",
            "2022-11-06 21:43:19 (343 MB/s) - ‘taxi+_zone_lookup.csv’ saved [12322/12322]\n",
            "\n"
          ]
        }
      ]
    },
    {
      "cell_type": "markdown",
      "source": [
        "Do\n",
        "1. pip install pyarrow\n",
        "2. pip install fastparquet\n",
        "\n",
        "For reading parquet files"
      ],
      "metadata": {
        "id": "21LpsR3CllOu"
      }
    },
    {
      "cell_type": "markdown",
      "source": [
        "Read trip data for June 2022"
      ],
      "metadata": {
        "id": "3YmYfkp4llOv"
      }
    },
    {
      "cell_type": "code",
      "source": [
        "df = pd.read_parquet('fhvhv_tripdata_2022-06.parquet')"
      ],
      "metadata": {
        "execution": {
          "iopub.status.busy": "2022-11-05T15:34:50.881471Z",
          "iopub.execute_input": "2022-11-05T15:34:50.881869Z",
          "iopub.status.idle": "2022-11-05T15:35:08.499396Z",
          "shell.execute_reply.started": "2022-11-05T15:34:50.881827Z",
          "shell.execute_reply": "2022-11-05T15:35:08.498324Z"
        },
        "trusted": true,
        "id": "S_C-TJ4xllOv"
      },
      "execution_count": 6,
      "outputs": []
    },
    {
      "cell_type": "code",
      "source": [
        "df"
      ],
      "metadata": {
        "execution": {
          "iopub.status.busy": "2022-11-05T15:35:08.501207Z",
          "iopub.execute_input": "2022-11-05T15:35:08.501809Z",
          "iopub.status.idle": "2022-11-05T15:35:19.140087Z",
          "shell.execute_reply.started": "2022-11-05T15:35:08.501770Z",
          "shell.execute_reply": "2022-11-05T15:35:19.139086Z"
        },
        "trusted": true,
        "colab": {
          "base_uri": "https://localhost:8080/",
          "height": 661
        },
        "id": "A1AV6cxkllOv",
        "outputId": "dfc68313-3a20-4f02-8358-5661a256eae5"
      },
      "execution_count": 7,
      "outputs": [
        {
          "output_type": "execute_result",
          "data": {
            "text/plain": [
              "         hvfhs_license_num dispatching_base_num originating_base_num  \\\n",
              "0                   HV0003               B03404               B03404   \n",
              "1                   HV0003               B03404               B03404   \n",
              "2                   HV0003               B03404               B03404   \n",
              "3                   HV0003               B03404               B03404   \n",
              "4                   HV0005               B03406                 None   \n",
              "...                    ...                  ...                  ...   \n",
              "17780070            HV0003               B03404               B03404   \n",
              "17780071            HV0003               B03404               B03404   \n",
              "17780072            HV0003               B03404               B03404   \n",
              "17780073            HV0003               B03404               B03404   \n",
              "17780074            HV0005               B03406                 None   \n",
              "\n",
              "            request_datetime   on_scene_datetime     pickup_datetime  \\\n",
              "0        2022-06-01 00:15:35 2022-06-01 00:17:20 2022-06-01 00:17:41   \n",
              "1        2022-06-01 00:39:04 2022-06-01 00:40:36 2022-06-01 00:42:37   \n",
              "2        2022-06-01 00:27:53 2022-06-01 00:31:34 2022-06-01 00:36:22   \n",
              "3        2022-06-01 00:48:15 2022-06-01 00:49:38 2022-06-01 00:51:18   \n",
              "4        2022-06-01 00:04:51                 NaT 2022-06-01 00:13:33   \n",
              "...                      ...                 ...                 ...   \n",
              "17780070 2022-06-30 23:20:49 2022-06-30 23:24:23 2022-06-30 23:24:43   \n",
              "17780071 2022-06-30 23:36:13 2022-06-30 23:39:12 2022-06-30 23:39:20   \n",
              "17780072 2022-06-30 23:50:50 2022-06-30 23:55:11 2022-06-30 23:57:12   \n",
              "17780073 2022-06-30 23:02:40 2022-06-30 23:04:58 2022-06-30 23:06:44   \n",
              "17780074 2022-06-30 23:00:28                 NaT 2022-06-30 23:03:06   \n",
              "\n",
              "            dropoff_datetime  PULocationID  DOLocationID  trip_miles  ...  \\\n",
              "0        2022-06-01 00:25:41           234           114       1.500  ...   \n",
              "1        2022-06-01 00:56:32           161           151       4.180  ...   \n",
              "2        2022-06-01 00:45:31           231            87       2.910  ...   \n",
              "3        2022-06-01 01:11:15            87           225       5.450  ...   \n",
              "4        2022-06-01 00:17:27           137           162       1.069  ...   \n",
              "...                      ...           ...           ...         ...  ...   \n",
              "17780070 2022-06-30 23:38:19            74           224       6.070  ...   \n",
              "17780071 2022-06-30 23:51:10           224            13       4.900  ...   \n",
              "17780072 2022-07-01 00:07:07           231           231       0.530  ...   \n",
              "17780073 2022-06-30 23:26:28           234            48       2.850  ...   \n",
              "17780074 2022-06-30 23:18:13           244           242       6.207  ...   \n",
              "\n",
              "          sales_tax  congestion_surcharge  airport_fee  tips  driver_pay  \\\n",
              "0              0.68                  2.75          0.0  1.00        9.36   \n",
              "1              1.81                  2.75          0.0  4.82       15.61   \n",
              "2              1.09                  2.75          0.0  1.00        8.22   \n",
              "3              2.19                  2.75          0.0  0.00       16.88   \n",
              "4              0.73                  2.75          0.0  0.00        5.47   \n",
              "...             ...                   ...          ...   ...         ...   \n",
              "17780070       1.56                  2.75          0.0  2.24       16.23   \n",
              "17780071       1.59                  2.75          0.0  0.00       13.94   \n",
              "17780072       1.06                  2.75          0.0  3.00       18.46   \n",
              "17780073       2.79                  2.75          0.0  1.00       27.27   \n",
              "17780074       1.80                  0.00          0.0  0.00       15.26   \n",
              "\n",
              "          shared_request_flag  shared_match_flag  access_a_ride_flag  \\\n",
              "0                           N                  N                       \n",
              "1                           N                  N                       \n",
              "2                           N                  N                       \n",
              "3                           N                  N                       \n",
              "4                           N                  N                   N   \n",
              "...                       ...                ...                 ...   \n",
              "17780070                    N                  N                       \n",
              "17780071                    N                  N                       \n",
              "17780072                    N                  N                       \n",
              "17780073                    N                  N                       \n",
              "17780074                    N                  N                   N   \n",
              "\n",
              "          wav_request_flag wav_match_flag  \n",
              "0                        N              N  \n",
              "1                        N              N  \n",
              "2                        N              N  \n",
              "3                        N              N  \n",
              "4                        N              N  \n",
              "...                    ...            ...  \n",
              "17780070                 N              N  \n",
              "17780071                 N              N  \n",
              "17780072                 N              N  \n",
              "17780073                 N              N  \n",
              "17780074                 N              N  \n",
              "\n",
              "[17780075 rows x 24 columns]"
            ],
            "text/html": [
              "\n",
              "  <div id=\"df-6f4db365-9ba8-44f3-91de-996efae00214\">\n",
              "    <div class=\"colab-df-container\">\n",
              "      <div>\n",
              "<style scoped>\n",
              "    .dataframe tbody tr th:only-of-type {\n",
              "        vertical-align: middle;\n",
              "    }\n",
              "\n",
              "    .dataframe tbody tr th {\n",
              "        vertical-align: top;\n",
              "    }\n",
              "\n",
              "    .dataframe thead th {\n",
              "        text-align: right;\n",
              "    }\n",
              "</style>\n",
              "<table border=\"1\" class=\"dataframe\">\n",
              "  <thead>\n",
              "    <tr style=\"text-align: right;\">\n",
              "      <th></th>\n",
              "      <th>hvfhs_license_num</th>\n",
              "      <th>dispatching_base_num</th>\n",
              "      <th>originating_base_num</th>\n",
              "      <th>request_datetime</th>\n",
              "      <th>on_scene_datetime</th>\n",
              "      <th>pickup_datetime</th>\n",
              "      <th>dropoff_datetime</th>\n",
              "      <th>PULocationID</th>\n",
              "      <th>DOLocationID</th>\n",
              "      <th>trip_miles</th>\n",
              "      <th>...</th>\n",
              "      <th>sales_tax</th>\n",
              "      <th>congestion_surcharge</th>\n",
              "      <th>airport_fee</th>\n",
              "      <th>tips</th>\n",
              "      <th>driver_pay</th>\n",
              "      <th>shared_request_flag</th>\n",
              "      <th>shared_match_flag</th>\n",
              "      <th>access_a_ride_flag</th>\n",
              "      <th>wav_request_flag</th>\n",
              "      <th>wav_match_flag</th>\n",
              "    </tr>\n",
              "  </thead>\n",
              "  <tbody>\n",
              "    <tr>\n",
              "      <th>0</th>\n",
              "      <td>HV0003</td>\n",
              "      <td>B03404</td>\n",
              "      <td>B03404</td>\n",
              "      <td>2022-06-01 00:15:35</td>\n",
              "      <td>2022-06-01 00:17:20</td>\n",
              "      <td>2022-06-01 00:17:41</td>\n",
              "      <td>2022-06-01 00:25:41</td>\n",
              "      <td>234</td>\n",
              "      <td>114</td>\n",
              "      <td>1.500</td>\n",
              "      <td>...</td>\n",
              "      <td>0.68</td>\n",
              "      <td>2.75</td>\n",
              "      <td>0.0</td>\n",
              "      <td>1.00</td>\n",
              "      <td>9.36</td>\n",
              "      <td>N</td>\n",
              "      <td>N</td>\n",
              "      <td></td>\n",
              "      <td>N</td>\n",
              "      <td>N</td>\n",
              "    </tr>\n",
              "    <tr>\n",
              "      <th>1</th>\n",
              "      <td>HV0003</td>\n",
              "      <td>B03404</td>\n",
              "      <td>B03404</td>\n",
              "      <td>2022-06-01 00:39:04</td>\n",
              "      <td>2022-06-01 00:40:36</td>\n",
              "      <td>2022-06-01 00:42:37</td>\n",
              "      <td>2022-06-01 00:56:32</td>\n",
              "      <td>161</td>\n",
              "      <td>151</td>\n",
              "      <td>4.180</td>\n",
              "      <td>...</td>\n",
              "      <td>1.81</td>\n",
              "      <td>2.75</td>\n",
              "      <td>0.0</td>\n",
              "      <td>4.82</td>\n",
              "      <td>15.61</td>\n",
              "      <td>N</td>\n",
              "      <td>N</td>\n",
              "      <td></td>\n",
              "      <td>N</td>\n",
              "      <td>N</td>\n",
              "    </tr>\n",
              "    <tr>\n",
              "      <th>2</th>\n",
              "      <td>HV0003</td>\n",
              "      <td>B03404</td>\n",
              "      <td>B03404</td>\n",
              "      <td>2022-06-01 00:27:53</td>\n",
              "      <td>2022-06-01 00:31:34</td>\n",
              "      <td>2022-06-01 00:36:22</td>\n",
              "      <td>2022-06-01 00:45:31</td>\n",
              "      <td>231</td>\n",
              "      <td>87</td>\n",
              "      <td>2.910</td>\n",
              "      <td>...</td>\n",
              "      <td>1.09</td>\n",
              "      <td>2.75</td>\n",
              "      <td>0.0</td>\n",
              "      <td>1.00</td>\n",
              "      <td>8.22</td>\n",
              "      <td>N</td>\n",
              "      <td>N</td>\n",
              "      <td></td>\n",
              "      <td>N</td>\n",
              "      <td>N</td>\n",
              "    </tr>\n",
              "    <tr>\n",
              "      <th>3</th>\n",
              "      <td>HV0003</td>\n",
              "      <td>B03404</td>\n",
              "      <td>B03404</td>\n",
              "      <td>2022-06-01 00:48:15</td>\n",
              "      <td>2022-06-01 00:49:38</td>\n",
              "      <td>2022-06-01 00:51:18</td>\n",
              "      <td>2022-06-01 01:11:15</td>\n",
              "      <td>87</td>\n",
              "      <td>225</td>\n",
              "      <td>5.450</td>\n",
              "      <td>...</td>\n",
              "      <td>2.19</td>\n",
              "      <td>2.75</td>\n",
              "      <td>0.0</td>\n",
              "      <td>0.00</td>\n",
              "      <td>16.88</td>\n",
              "      <td>N</td>\n",
              "      <td>N</td>\n",
              "      <td></td>\n",
              "      <td>N</td>\n",
              "      <td>N</td>\n",
              "    </tr>\n",
              "    <tr>\n",
              "      <th>4</th>\n",
              "      <td>HV0005</td>\n",
              "      <td>B03406</td>\n",
              "      <td>None</td>\n",
              "      <td>2022-06-01 00:04:51</td>\n",
              "      <td>NaT</td>\n",
              "      <td>2022-06-01 00:13:33</td>\n",
              "      <td>2022-06-01 00:17:27</td>\n",
              "      <td>137</td>\n",
              "      <td>162</td>\n",
              "      <td>1.069</td>\n",
              "      <td>...</td>\n",
              "      <td>0.73</td>\n",
              "      <td>2.75</td>\n",
              "      <td>0.0</td>\n",
              "      <td>0.00</td>\n",
              "      <td>5.47</td>\n",
              "      <td>N</td>\n",
              "      <td>N</td>\n",
              "      <td>N</td>\n",
              "      <td>N</td>\n",
              "      <td>N</td>\n",
              "    </tr>\n",
              "    <tr>\n",
              "      <th>...</th>\n",
              "      <td>...</td>\n",
              "      <td>...</td>\n",
              "      <td>...</td>\n",
              "      <td>...</td>\n",
              "      <td>...</td>\n",
              "      <td>...</td>\n",
              "      <td>...</td>\n",
              "      <td>...</td>\n",
              "      <td>...</td>\n",
              "      <td>...</td>\n",
              "      <td>...</td>\n",
              "      <td>...</td>\n",
              "      <td>...</td>\n",
              "      <td>...</td>\n",
              "      <td>...</td>\n",
              "      <td>...</td>\n",
              "      <td>...</td>\n",
              "      <td>...</td>\n",
              "      <td>...</td>\n",
              "      <td>...</td>\n",
              "      <td>...</td>\n",
              "    </tr>\n",
              "    <tr>\n",
              "      <th>17780070</th>\n",
              "      <td>HV0003</td>\n",
              "      <td>B03404</td>\n",
              "      <td>B03404</td>\n",
              "      <td>2022-06-30 23:20:49</td>\n",
              "      <td>2022-06-30 23:24:23</td>\n",
              "      <td>2022-06-30 23:24:43</td>\n",
              "      <td>2022-06-30 23:38:19</td>\n",
              "      <td>74</td>\n",
              "      <td>224</td>\n",
              "      <td>6.070</td>\n",
              "      <td>...</td>\n",
              "      <td>1.56</td>\n",
              "      <td>2.75</td>\n",
              "      <td>0.0</td>\n",
              "      <td>2.24</td>\n",
              "      <td>16.23</td>\n",
              "      <td>N</td>\n",
              "      <td>N</td>\n",
              "      <td></td>\n",
              "      <td>N</td>\n",
              "      <td>N</td>\n",
              "    </tr>\n",
              "    <tr>\n",
              "      <th>17780071</th>\n",
              "      <td>HV0003</td>\n",
              "      <td>B03404</td>\n",
              "      <td>B03404</td>\n",
              "      <td>2022-06-30 23:36:13</td>\n",
              "      <td>2022-06-30 23:39:12</td>\n",
              "      <td>2022-06-30 23:39:20</td>\n",
              "      <td>2022-06-30 23:51:10</td>\n",
              "      <td>224</td>\n",
              "      <td>13</td>\n",
              "      <td>4.900</td>\n",
              "      <td>...</td>\n",
              "      <td>1.59</td>\n",
              "      <td>2.75</td>\n",
              "      <td>0.0</td>\n",
              "      <td>0.00</td>\n",
              "      <td>13.94</td>\n",
              "      <td>N</td>\n",
              "      <td>N</td>\n",
              "      <td></td>\n",
              "      <td>N</td>\n",
              "      <td>N</td>\n",
              "    </tr>\n",
              "    <tr>\n",
              "      <th>17780072</th>\n",
              "      <td>HV0003</td>\n",
              "      <td>B03404</td>\n",
              "      <td>B03404</td>\n",
              "      <td>2022-06-30 23:50:50</td>\n",
              "      <td>2022-06-30 23:55:11</td>\n",
              "      <td>2022-06-30 23:57:12</td>\n",
              "      <td>2022-07-01 00:07:07</td>\n",
              "      <td>231</td>\n",
              "      <td>231</td>\n",
              "      <td>0.530</td>\n",
              "      <td>...</td>\n",
              "      <td>1.06</td>\n",
              "      <td>2.75</td>\n",
              "      <td>0.0</td>\n",
              "      <td>3.00</td>\n",
              "      <td>18.46</td>\n",
              "      <td>N</td>\n",
              "      <td>N</td>\n",
              "      <td></td>\n",
              "      <td>N</td>\n",
              "      <td>N</td>\n",
              "    </tr>\n",
              "    <tr>\n",
              "      <th>17780073</th>\n",
              "      <td>HV0003</td>\n",
              "      <td>B03404</td>\n",
              "      <td>B03404</td>\n",
              "      <td>2022-06-30 23:02:40</td>\n",
              "      <td>2022-06-30 23:04:58</td>\n",
              "      <td>2022-06-30 23:06:44</td>\n",
              "      <td>2022-06-30 23:26:28</td>\n",
              "      <td>234</td>\n",
              "      <td>48</td>\n",
              "      <td>2.850</td>\n",
              "      <td>...</td>\n",
              "      <td>2.79</td>\n",
              "      <td>2.75</td>\n",
              "      <td>0.0</td>\n",
              "      <td>1.00</td>\n",
              "      <td>27.27</td>\n",
              "      <td>N</td>\n",
              "      <td>N</td>\n",
              "      <td></td>\n",
              "      <td>N</td>\n",
              "      <td>N</td>\n",
              "    </tr>\n",
              "    <tr>\n",
              "      <th>17780074</th>\n",
              "      <td>HV0005</td>\n",
              "      <td>B03406</td>\n",
              "      <td>None</td>\n",
              "      <td>2022-06-30 23:00:28</td>\n",
              "      <td>NaT</td>\n",
              "      <td>2022-06-30 23:03:06</td>\n",
              "      <td>2022-06-30 23:18:13</td>\n",
              "      <td>244</td>\n",
              "      <td>242</td>\n",
              "      <td>6.207</td>\n",
              "      <td>...</td>\n",
              "      <td>1.80</td>\n",
              "      <td>0.00</td>\n",
              "      <td>0.0</td>\n",
              "      <td>0.00</td>\n",
              "      <td>15.26</td>\n",
              "      <td>N</td>\n",
              "      <td>N</td>\n",
              "      <td>N</td>\n",
              "      <td>N</td>\n",
              "      <td>N</td>\n",
              "    </tr>\n",
              "  </tbody>\n",
              "</table>\n",
              "<p>17780075 rows × 24 columns</p>\n",
              "</div>\n",
              "      <button class=\"colab-df-convert\" onclick=\"convertToInteractive('df-6f4db365-9ba8-44f3-91de-996efae00214')\"\n",
              "              title=\"Convert this dataframe to an interactive table.\"\n",
              "              style=\"display:none;\">\n",
              "        \n",
              "  <svg xmlns=\"http://www.w3.org/2000/svg\" height=\"24px\"viewBox=\"0 0 24 24\"\n",
              "       width=\"24px\">\n",
              "    <path d=\"M0 0h24v24H0V0z\" fill=\"none\"/>\n",
              "    <path d=\"M18.56 5.44l.94 2.06.94-2.06 2.06-.94-2.06-.94-.94-2.06-.94 2.06-2.06.94zm-11 1L8.5 8.5l.94-2.06 2.06-.94-2.06-.94L8.5 2.5l-.94 2.06-2.06.94zm10 10l.94 2.06.94-2.06 2.06-.94-2.06-.94-.94-2.06-.94 2.06-2.06.94z\"/><path d=\"M17.41 7.96l-1.37-1.37c-.4-.4-.92-.59-1.43-.59-.52 0-1.04.2-1.43.59L10.3 9.45l-7.72 7.72c-.78.78-.78 2.05 0 2.83L4 21.41c.39.39.9.59 1.41.59.51 0 1.02-.2 1.41-.59l7.78-7.78 2.81-2.81c.8-.78.8-2.07 0-2.86zM5.41 20L4 18.59l7.72-7.72 1.47 1.35L5.41 20z\"/>\n",
              "  </svg>\n",
              "      </button>\n",
              "      \n",
              "  <style>\n",
              "    .colab-df-container {\n",
              "      display:flex;\n",
              "      flex-wrap:wrap;\n",
              "      gap: 12px;\n",
              "    }\n",
              "\n",
              "    .colab-df-convert {\n",
              "      background-color: #E8F0FE;\n",
              "      border: none;\n",
              "      border-radius: 50%;\n",
              "      cursor: pointer;\n",
              "      display: none;\n",
              "      fill: #1967D2;\n",
              "      height: 32px;\n",
              "      padding: 0 0 0 0;\n",
              "      width: 32px;\n",
              "    }\n",
              "\n",
              "    .colab-df-convert:hover {\n",
              "      background-color: #E2EBFA;\n",
              "      box-shadow: 0px 1px 2px rgba(60, 64, 67, 0.3), 0px 1px 3px 1px rgba(60, 64, 67, 0.15);\n",
              "      fill: #174EA6;\n",
              "    }\n",
              "\n",
              "    [theme=dark] .colab-df-convert {\n",
              "      background-color: #3B4455;\n",
              "      fill: #D2E3FC;\n",
              "    }\n",
              "\n",
              "    [theme=dark] .colab-df-convert:hover {\n",
              "      background-color: #434B5C;\n",
              "      box-shadow: 0px 1px 3px 1px rgba(0, 0, 0, 0.15);\n",
              "      filter: drop-shadow(0px 1px 2px rgba(0, 0, 0, 0.3));\n",
              "      fill: #FFFFFF;\n",
              "    }\n",
              "  </style>\n",
              "\n",
              "      <script>\n",
              "        const buttonEl =\n",
              "          document.querySelector('#df-6f4db365-9ba8-44f3-91de-996efae00214 button.colab-df-convert');\n",
              "        buttonEl.style.display =\n",
              "          google.colab.kernel.accessAllowed ? 'block' : 'none';\n",
              "\n",
              "        async function convertToInteractive(key) {\n",
              "          const element = document.querySelector('#df-6f4db365-9ba8-44f3-91de-996efae00214');\n",
              "          const dataTable =\n",
              "            await google.colab.kernel.invokeFunction('convertToInteractive',\n",
              "                                                     [key], {});\n",
              "          if (!dataTable) return;\n",
              "\n",
              "          const docLinkHtml = 'Like what you see? Visit the ' +\n",
              "            '<a target=\"_blank\" href=https://colab.research.google.com/notebooks/data_table.ipynb>data table notebook</a>'\n",
              "            + ' to learn more about interactive tables.';\n",
              "          element.innerHTML = '';\n",
              "          dataTable['output_type'] = 'display_data';\n",
              "          await google.colab.output.renderOutput(dataTable, element);\n",
              "          const docLink = document.createElement('div');\n",
              "          docLink.innerHTML = docLinkHtml;\n",
              "          element.appendChild(docLink);\n",
              "        }\n",
              "      </script>\n",
              "    </div>\n",
              "  </div>\n",
              "  "
            ]
          },
          "metadata": {},
          "execution_count": 7
        }
      ]
    },
    {
      "cell_type": "markdown",
      "source": [
        "Read zone data"
      ],
      "metadata": {
        "id": "X4NflEjtllOv"
      }
    },
    {
      "cell_type": "code",
      "source": [
        "zone_df = pd.read_csv('taxi+_zone_lookup.csv')"
      ],
      "metadata": {
        "execution": {
          "iopub.status.busy": "2022-11-05T15:35:19.141563Z",
          "iopub.execute_input": "2022-11-05T15:35:19.144674Z",
          "iopub.status.idle": "2022-11-05T15:35:19.153476Z",
          "shell.execute_reply.started": "2022-11-05T15:35:19.144641Z",
          "shell.execute_reply": "2022-11-05T15:35:19.152511Z"
        },
        "trusted": true,
        "id": "h0bFq7UkllOv"
      },
      "execution_count": 8,
      "outputs": []
    },
    {
      "cell_type": "code",
      "source": [
        "zone_df"
      ],
      "metadata": {
        "execution": {
          "iopub.status.busy": "2022-11-05T15:35:19.155238Z",
          "iopub.execute_input": "2022-11-05T15:35:19.155637Z",
          "iopub.status.idle": "2022-11-05T15:35:19.170203Z",
          "shell.execute_reply.started": "2022-11-05T15:35:19.155600Z",
          "shell.execute_reply": "2022-11-05T15:35:19.169185Z"
        },
        "trusted": true,
        "colab": {
          "base_uri": "https://localhost:8080/",
          "height": 424
        },
        "id": "LAeqxE91llOv",
        "outputId": "59000e3a-418d-452c-ced2-376f65c75957"
      },
      "execution_count": 9,
      "outputs": [
        {
          "output_type": "execute_result",
          "data": {
            "text/plain": [
              "     LocationID        Borough                     Zone service_zone\n",
              "0             1            EWR           Newark Airport          EWR\n",
              "1             2         Queens              Jamaica Bay    Boro Zone\n",
              "2             3          Bronx  Allerton/Pelham Gardens    Boro Zone\n",
              "3             4      Manhattan            Alphabet City  Yellow Zone\n",
              "4             5  Staten Island            Arden Heights    Boro Zone\n",
              "..          ...            ...                      ...          ...\n",
              "260         261      Manhattan       World Trade Center  Yellow Zone\n",
              "261         262      Manhattan           Yorkville East  Yellow Zone\n",
              "262         263      Manhattan           Yorkville West  Yellow Zone\n",
              "263         264        Unknown                       NV          NaN\n",
              "264         265        Unknown                      NaN          NaN\n",
              "\n",
              "[265 rows x 4 columns]"
            ],
            "text/html": [
              "\n",
              "  <div id=\"df-a90af996-8226-45b3-ae4a-cb60f3e2c2e5\">\n",
              "    <div class=\"colab-df-container\">\n",
              "      <div>\n",
              "<style scoped>\n",
              "    .dataframe tbody tr th:only-of-type {\n",
              "        vertical-align: middle;\n",
              "    }\n",
              "\n",
              "    .dataframe tbody tr th {\n",
              "        vertical-align: top;\n",
              "    }\n",
              "\n",
              "    .dataframe thead th {\n",
              "        text-align: right;\n",
              "    }\n",
              "</style>\n",
              "<table border=\"1\" class=\"dataframe\">\n",
              "  <thead>\n",
              "    <tr style=\"text-align: right;\">\n",
              "      <th></th>\n",
              "      <th>LocationID</th>\n",
              "      <th>Borough</th>\n",
              "      <th>Zone</th>\n",
              "      <th>service_zone</th>\n",
              "    </tr>\n",
              "  </thead>\n",
              "  <tbody>\n",
              "    <tr>\n",
              "      <th>0</th>\n",
              "      <td>1</td>\n",
              "      <td>EWR</td>\n",
              "      <td>Newark Airport</td>\n",
              "      <td>EWR</td>\n",
              "    </tr>\n",
              "    <tr>\n",
              "      <th>1</th>\n",
              "      <td>2</td>\n",
              "      <td>Queens</td>\n",
              "      <td>Jamaica Bay</td>\n",
              "      <td>Boro Zone</td>\n",
              "    </tr>\n",
              "    <tr>\n",
              "      <th>2</th>\n",
              "      <td>3</td>\n",
              "      <td>Bronx</td>\n",
              "      <td>Allerton/Pelham Gardens</td>\n",
              "      <td>Boro Zone</td>\n",
              "    </tr>\n",
              "    <tr>\n",
              "      <th>3</th>\n",
              "      <td>4</td>\n",
              "      <td>Manhattan</td>\n",
              "      <td>Alphabet City</td>\n",
              "      <td>Yellow Zone</td>\n",
              "    </tr>\n",
              "    <tr>\n",
              "      <th>4</th>\n",
              "      <td>5</td>\n",
              "      <td>Staten Island</td>\n",
              "      <td>Arden Heights</td>\n",
              "      <td>Boro Zone</td>\n",
              "    </tr>\n",
              "    <tr>\n",
              "      <th>...</th>\n",
              "      <td>...</td>\n",
              "      <td>...</td>\n",
              "      <td>...</td>\n",
              "      <td>...</td>\n",
              "    </tr>\n",
              "    <tr>\n",
              "      <th>260</th>\n",
              "      <td>261</td>\n",
              "      <td>Manhattan</td>\n",
              "      <td>World Trade Center</td>\n",
              "      <td>Yellow Zone</td>\n",
              "    </tr>\n",
              "    <tr>\n",
              "      <th>261</th>\n",
              "      <td>262</td>\n",
              "      <td>Manhattan</td>\n",
              "      <td>Yorkville East</td>\n",
              "      <td>Yellow Zone</td>\n",
              "    </tr>\n",
              "    <tr>\n",
              "      <th>262</th>\n",
              "      <td>263</td>\n",
              "      <td>Manhattan</td>\n",
              "      <td>Yorkville West</td>\n",
              "      <td>Yellow Zone</td>\n",
              "    </tr>\n",
              "    <tr>\n",
              "      <th>263</th>\n",
              "      <td>264</td>\n",
              "      <td>Unknown</td>\n",
              "      <td>NV</td>\n",
              "      <td>NaN</td>\n",
              "    </tr>\n",
              "    <tr>\n",
              "      <th>264</th>\n",
              "      <td>265</td>\n",
              "      <td>Unknown</td>\n",
              "      <td>NaN</td>\n",
              "      <td>NaN</td>\n",
              "    </tr>\n",
              "  </tbody>\n",
              "</table>\n",
              "<p>265 rows × 4 columns</p>\n",
              "</div>\n",
              "      <button class=\"colab-df-convert\" onclick=\"convertToInteractive('df-a90af996-8226-45b3-ae4a-cb60f3e2c2e5')\"\n",
              "              title=\"Convert this dataframe to an interactive table.\"\n",
              "              style=\"display:none;\">\n",
              "        \n",
              "  <svg xmlns=\"http://www.w3.org/2000/svg\" height=\"24px\"viewBox=\"0 0 24 24\"\n",
              "       width=\"24px\">\n",
              "    <path d=\"M0 0h24v24H0V0z\" fill=\"none\"/>\n",
              "    <path d=\"M18.56 5.44l.94 2.06.94-2.06 2.06-.94-2.06-.94-.94-2.06-.94 2.06-2.06.94zm-11 1L8.5 8.5l.94-2.06 2.06-.94-2.06-.94L8.5 2.5l-.94 2.06-2.06.94zm10 10l.94 2.06.94-2.06 2.06-.94-2.06-.94-.94-2.06-.94 2.06-2.06.94z\"/><path d=\"M17.41 7.96l-1.37-1.37c-.4-.4-.92-.59-1.43-.59-.52 0-1.04.2-1.43.59L10.3 9.45l-7.72 7.72c-.78.78-.78 2.05 0 2.83L4 21.41c.39.39.9.59 1.41.59.51 0 1.02-.2 1.41-.59l7.78-7.78 2.81-2.81c.8-.78.8-2.07 0-2.86zM5.41 20L4 18.59l7.72-7.72 1.47 1.35L5.41 20z\"/>\n",
              "  </svg>\n",
              "      </button>\n",
              "      \n",
              "  <style>\n",
              "    .colab-df-container {\n",
              "      display:flex;\n",
              "      flex-wrap:wrap;\n",
              "      gap: 12px;\n",
              "    }\n",
              "\n",
              "    .colab-df-convert {\n",
              "      background-color: #E8F0FE;\n",
              "      border: none;\n",
              "      border-radius: 50%;\n",
              "      cursor: pointer;\n",
              "      display: none;\n",
              "      fill: #1967D2;\n",
              "      height: 32px;\n",
              "      padding: 0 0 0 0;\n",
              "      width: 32px;\n",
              "    }\n",
              "\n",
              "    .colab-df-convert:hover {\n",
              "      background-color: #E2EBFA;\n",
              "      box-shadow: 0px 1px 2px rgba(60, 64, 67, 0.3), 0px 1px 3px 1px rgba(60, 64, 67, 0.15);\n",
              "      fill: #174EA6;\n",
              "    }\n",
              "\n",
              "    [theme=dark] .colab-df-convert {\n",
              "      background-color: #3B4455;\n",
              "      fill: #D2E3FC;\n",
              "    }\n",
              "\n",
              "    [theme=dark] .colab-df-convert:hover {\n",
              "      background-color: #434B5C;\n",
              "      box-shadow: 0px 1px 3px 1px rgba(0, 0, 0, 0.15);\n",
              "      filter: drop-shadow(0px 1px 2px rgba(0, 0, 0, 0.3));\n",
              "      fill: #FFFFFF;\n",
              "    }\n",
              "  </style>\n",
              "\n",
              "      <script>\n",
              "        const buttonEl =\n",
              "          document.querySelector('#df-a90af996-8226-45b3-ae4a-cb60f3e2c2e5 button.colab-df-convert');\n",
              "        buttonEl.style.display =\n",
              "          google.colab.kernel.accessAllowed ? 'block' : 'none';\n",
              "\n",
              "        async function convertToInteractive(key) {\n",
              "          const element = document.querySelector('#df-a90af996-8226-45b3-ae4a-cb60f3e2c2e5');\n",
              "          const dataTable =\n",
              "            await google.colab.kernel.invokeFunction('convertToInteractive',\n",
              "                                                     [key], {});\n",
              "          if (!dataTable) return;\n",
              "\n",
              "          const docLinkHtml = 'Like what you see? Visit the ' +\n",
              "            '<a target=\"_blank\" href=https://colab.research.google.com/notebooks/data_table.ipynb>data table notebook</a>'\n",
              "            + ' to learn more about interactive tables.';\n",
              "          element.innerHTML = '';\n",
              "          dataTable['output_type'] = 'display_data';\n",
              "          await google.colab.output.renderOutput(dataTable, element);\n",
              "          const docLink = document.createElement('div');\n",
              "          docLink.innerHTML = docLinkHtml;\n",
              "          element.appendChild(docLink);\n",
              "        }\n",
              "      </script>\n",
              "    </div>\n",
              "  </div>\n",
              "  "
            ]
          },
          "metadata": {},
          "execution_count": 9
        }
      ]
    },
    {
      "cell_type": "markdown",
      "source": [
        "Statistics for each column of trip data"
      ],
      "metadata": {
        "id": "0RCg0372llOw"
      }
    },
    {
      "cell_type": "code",
      "source": [
        "df.describe()"
      ],
      "metadata": {
        "execution": {
          "iopub.status.busy": "2022-11-05T15:35:19.171935Z",
          "iopub.execute_input": "2022-11-05T15:35:19.172306Z",
          "iopub.status.idle": "2022-11-05T15:35:27.594223Z",
          "shell.execute_reply.started": "2022-11-05T15:35:19.172270Z",
          "shell.execute_reply": "2022-11-05T15:35:27.593193Z"
        },
        "trusted": true,
        "colab": {
          "base_uri": "https://localhost:8080/",
          "height": 364
        },
        "id": "llfBP6oAllOw",
        "outputId": "33dd52a0-55ed-427c-8a2a-9775b8024101"
      },
      "execution_count": 10,
      "outputs": [
        {
          "output_type": "execute_result",
          "data": {
            "text/plain": [
              "       PULocationID  DOLocationID    trip_miles     trip_time  \\\n",
              "count  1.778008e+07  1.778008e+07  1.778008e+07  1.778008e+07   \n",
              "mean   1.390083e+02  1.429608e+02  5.169061e+00  1.216133e+03   \n",
              "std    7.492537e+01  7.802175e+01  6.058429e+00  8.924502e+02   \n",
              "min    2.000000e+00  1.000000e+00  0.000000e+00  0.000000e+00   \n",
              "25%    7.500000e+01  7.600000e+01  1.660000e+00  6.180000e+02   \n",
              "50%    1.400000e+02  1.420000e+02  3.119000e+00  9.840000e+02   \n",
              "75%    2.110000e+02  2.200000e+02  6.420000e+00  1.544000e+03   \n",
              "max    2.650000e+02  2.650000e+02  6.259600e+02  4.230900e+04   \n",
              "\n",
              "       base_passenger_fare         tolls           bcf     sales_tax  \\\n",
              "count         1.778008e+07  1.778008e+07  1.778008e+07  1.778008e+07   \n",
              "mean          2.507782e+01  1.194475e+00  7.946835e-01  2.124014e+00   \n",
              "std           2.111751e+01  3.975068e+00  7.077042e-01  1.757838e+00   \n",
              "min          -1.055700e+02  0.000000e+00  0.000000e+00  0.000000e+00   \n",
              "25%           1.191000e+01  0.000000e+00  3.600000e-01  1.000000e+00   \n",
              "50%           1.922000e+01  0.000000e+00  5.800000e-01  1.640000e+00   \n",
              "75%           3.084000e+01  0.000000e+00  9.700000e-01  2.670000e+00   \n",
              "max           2.409230e+03  2.262000e+02  7.291000e+01  2.156800e+02   \n",
              "\n",
              "       congestion_surcharge   airport_fee          tips    driver_pay  \n",
              "count          1.778008e+07  1.778008e+07  1.778008e+07  1.778008e+07  \n",
              "mean           1.160395e+00  2.122203e-01  1.164189e+00  1.992252e+01  \n",
              "std            1.366686e+00  7.030242e-01  3.247914e+00  1.629283e+01  \n",
              "min            0.000000e+00  0.000000e+00  0.000000e+00 -1.300000e+02  \n",
              "25%            0.000000e+00  0.000000e+00  0.000000e+00  9.570000e+00  \n",
              "50%            0.000000e+00  0.000000e+00  0.000000e+00  1.536000e+01  \n",
              "75%            2.750000e+00  0.000000e+00  0.000000e+00  2.477000e+01  \n",
              "max            1.100000e+01  6.900000e+00  1.500000e+02  9.933100e+02  "
            ],
            "text/html": [
              "\n",
              "  <div id=\"df-e0be9aa7-51fd-4768-8fbb-8c2b6332fc64\">\n",
              "    <div class=\"colab-df-container\">\n",
              "      <div>\n",
              "<style scoped>\n",
              "    .dataframe tbody tr th:only-of-type {\n",
              "        vertical-align: middle;\n",
              "    }\n",
              "\n",
              "    .dataframe tbody tr th {\n",
              "        vertical-align: top;\n",
              "    }\n",
              "\n",
              "    .dataframe thead th {\n",
              "        text-align: right;\n",
              "    }\n",
              "</style>\n",
              "<table border=\"1\" class=\"dataframe\">\n",
              "  <thead>\n",
              "    <tr style=\"text-align: right;\">\n",
              "      <th></th>\n",
              "      <th>PULocationID</th>\n",
              "      <th>DOLocationID</th>\n",
              "      <th>trip_miles</th>\n",
              "      <th>trip_time</th>\n",
              "      <th>base_passenger_fare</th>\n",
              "      <th>tolls</th>\n",
              "      <th>bcf</th>\n",
              "      <th>sales_tax</th>\n",
              "      <th>congestion_surcharge</th>\n",
              "      <th>airport_fee</th>\n",
              "      <th>tips</th>\n",
              "      <th>driver_pay</th>\n",
              "    </tr>\n",
              "  </thead>\n",
              "  <tbody>\n",
              "    <tr>\n",
              "      <th>count</th>\n",
              "      <td>1.778008e+07</td>\n",
              "      <td>1.778008e+07</td>\n",
              "      <td>1.778008e+07</td>\n",
              "      <td>1.778008e+07</td>\n",
              "      <td>1.778008e+07</td>\n",
              "      <td>1.778008e+07</td>\n",
              "      <td>1.778008e+07</td>\n",
              "      <td>1.778008e+07</td>\n",
              "      <td>1.778008e+07</td>\n",
              "      <td>1.778008e+07</td>\n",
              "      <td>1.778008e+07</td>\n",
              "      <td>1.778008e+07</td>\n",
              "    </tr>\n",
              "    <tr>\n",
              "      <th>mean</th>\n",
              "      <td>1.390083e+02</td>\n",
              "      <td>1.429608e+02</td>\n",
              "      <td>5.169061e+00</td>\n",
              "      <td>1.216133e+03</td>\n",
              "      <td>2.507782e+01</td>\n",
              "      <td>1.194475e+00</td>\n",
              "      <td>7.946835e-01</td>\n",
              "      <td>2.124014e+00</td>\n",
              "      <td>1.160395e+00</td>\n",
              "      <td>2.122203e-01</td>\n",
              "      <td>1.164189e+00</td>\n",
              "      <td>1.992252e+01</td>\n",
              "    </tr>\n",
              "    <tr>\n",
              "      <th>std</th>\n",
              "      <td>7.492537e+01</td>\n",
              "      <td>7.802175e+01</td>\n",
              "      <td>6.058429e+00</td>\n",
              "      <td>8.924502e+02</td>\n",
              "      <td>2.111751e+01</td>\n",
              "      <td>3.975068e+00</td>\n",
              "      <td>7.077042e-01</td>\n",
              "      <td>1.757838e+00</td>\n",
              "      <td>1.366686e+00</td>\n",
              "      <td>7.030242e-01</td>\n",
              "      <td>3.247914e+00</td>\n",
              "      <td>1.629283e+01</td>\n",
              "    </tr>\n",
              "    <tr>\n",
              "      <th>min</th>\n",
              "      <td>2.000000e+00</td>\n",
              "      <td>1.000000e+00</td>\n",
              "      <td>0.000000e+00</td>\n",
              "      <td>0.000000e+00</td>\n",
              "      <td>-1.055700e+02</td>\n",
              "      <td>0.000000e+00</td>\n",
              "      <td>0.000000e+00</td>\n",
              "      <td>0.000000e+00</td>\n",
              "      <td>0.000000e+00</td>\n",
              "      <td>0.000000e+00</td>\n",
              "      <td>0.000000e+00</td>\n",
              "      <td>-1.300000e+02</td>\n",
              "    </tr>\n",
              "    <tr>\n",
              "      <th>25%</th>\n",
              "      <td>7.500000e+01</td>\n",
              "      <td>7.600000e+01</td>\n",
              "      <td>1.660000e+00</td>\n",
              "      <td>6.180000e+02</td>\n",
              "      <td>1.191000e+01</td>\n",
              "      <td>0.000000e+00</td>\n",
              "      <td>3.600000e-01</td>\n",
              "      <td>1.000000e+00</td>\n",
              "      <td>0.000000e+00</td>\n",
              "      <td>0.000000e+00</td>\n",
              "      <td>0.000000e+00</td>\n",
              "      <td>9.570000e+00</td>\n",
              "    </tr>\n",
              "    <tr>\n",
              "      <th>50%</th>\n",
              "      <td>1.400000e+02</td>\n",
              "      <td>1.420000e+02</td>\n",
              "      <td>3.119000e+00</td>\n",
              "      <td>9.840000e+02</td>\n",
              "      <td>1.922000e+01</td>\n",
              "      <td>0.000000e+00</td>\n",
              "      <td>5.800000e-01</td>\n",
              "      <td>1.640000e+00</td>\n",
              "      <td>0.000000e+00</td>\n",
              "      <td>0.000000e+00</td>\n",
              "      <td>0.000000e+00</td>\n",
              "      <td>1.536000e+01</td>\n",
              "    </tr>\n",
              "    <tr>\n",
              "      <th>75%</th>\n",
              "      <td>2.110000e+02</td>\n",
              "      <td>2.200000e+02</td>\n",
              "      <td>6.420000e+00</td>\n",
              "      <td>1.544000e+03</td>\n",
              "      <td>3.084000e+01</td>\n",
              "      <td>0.000000e+00</td>\n",
              "      <td>9.700000e-01</td>\n",
              "      <td>2.670000e+00</td>\n",
              "      <td>2.750000e+00</td>\n",
              "      <td>0.000000e+00</td>\n",
              "      <td>0.000000e+00</td>\n",
              "      <td>2.477000e+01</td>\n",
              "    </tr>\n",
              "    <tr>\n",
              "      <th>max</th>\n",
              "      <td>2.650000e+02</td>\n",
              "      <td>2.650000e+02</td>\n",
              "      <td>6.259600e+02</td>\n",
              "      <td>4.230900e+04</td>\n",
              "      <td>2.409230e+03</td>\n",
              "      <td>2.262000e+02</td>\n",
              "      <td>7.291000e+01</td>\n",
              "      <td>2.156800e+02</td>\n",
              "      <td>1.100000e+01</td>\n",
              "      <td>6.900000e+00</td>\n",
              "      <td>1.500000e+02</td>\n",
              "      <td>9.933100e+02</td>\n",
              "    </tr>\n",
              "  </tbody>\n",
              "</table>\n",
              "</div>\n",
              "      <button class=\"colab-df-convert\" onclick=\"convertToInteractive('df-e0be9aa7-51fd-4768-8fbb-8c2b6332fc64')\"\n",
              "              title=\"Convert this dataframe to an interactive table.\"\n",
              "              style=\"display:none;\">\n",
              "        \n",
              "  <svg xmlns=\"http://www.w3.org/2000/svg\" height=\"24px\"viewBox=\"0 0 24 24\"\n",
              "       width=\"24px\">\n",
              "    <path d=\"M0 0h24v24H0V0z\" fill=\"none\"/>\n",
              "    <path d=\"M18.56 5.44l.94 2.06.94-2.06 2.06-.94-2.06-.94-.94-2.06-.94 2.06-2.06.94zm-11 1L8.5 8.5l.94-2.06 2.06-.94-2.06-.94L8.5 2.5l-.94 2.06-2.06.94zm10 10l.94 2.06.94-2.06 2.06-.94-2.06-.94-.94-2.06-.94 2.06-2.06.94z\"/><path d=\"M17.41 7.96l-1.37-1.37c-.4-.4-.92-.59-1.43-.59-.52 0-1.04.2-1.43.59L10.3 9.45l-7.72 7.72c-.78.78-.78 2.05 0 2.83L4 21.41c.39.39.9.59 1.41.59.51 0 1.02-.2 1.41-.59l7.78-7.78 2.81-2.81c.8-.78.8-2.07 0-2.86zM5.41 20L4 18.59l7.72-7.72 1.47 1.35L5.41 20z\"/>\n",
              "  </svg>\n",
              "      </button>\n",
              "      \n",
              "  <style>\n",
              "    .colab-df-container {\n",
              "      display:flex;\n",
              "      flex-wrap:wrap;\n",
              "      gap: 12px;\n",
              "    }\n",
              "\n",
              "    .colab-df-convert {\n",
              "      background-color: #E8F0FE;\n",
              "      border: none;\n",
              "      border-radius: 50%;\n",
              "      cursor: pointer;\n",
              "      display: none;\n",
              "      fill: #1967D2;\n",
              "      height: 32px;\n",
              "      padding: 0 0 0 0;\n",
              "      width: 32px;\n",
              "    }\n",
              "\n",
              "    .colab-df-convert:hover {\n",
              "      background-color: #E2EBFA;\n",
              "      box-shadow: 0px 1px 2px rgba(60, 64, 67, 0.3), 0px 1px 3px 1px rgba(60, 64, 67, 0.15);\n",
              "      fill: #174EA6;\n",
              "    }\n",
              "\n",
              "    [theme=dark] .colab-df-convert {\n",
              "      background-color: #3B4455;\n",
              "      fill: #D2E3FC;\n",
              "    }\n",
              "\n",
              "    [theme=dark] .colab-df-convert:hover {\n",
              "      background-color: #434B5C;\n",
              "      box-shadow: 0px 1px 3px 1px rgba(0, 0, 0, 0.15);\n",
              "      filter: drop-shadow(0px 1px 2px rgba(0, 0, 0, 0.3));\n",
              "      fill: #FFFFFF;\n",
              "    }\n",
              "  </style>\n",
              "\n",
              "      <script>\n",
              "        const buttonEl =\n",
              "          document.querySelector('#df-e0be9aa7-51fd-4768-8fbb-8c2b6332fc64 button.colab-df-convert');\n",
              "        buttonEl.style.display =\n",
              "          google.colab.kernel.accessAllowed ? 'block' : 'none';\n",
              "\n",
              "        async function convertToInteractive(key) {\n",
              "          const element = document.querySelector('#df-e0be9aa7-51fd-4768-8fbb-8c2b6332fc64');\n",
              "          const dataTable =\n",
              "            await google.colab.kernel.invokeFunction('convertToInteractive',\n",
              "                                                     [key], {});\n",
              "          if (!dataTable) return;\n",
              "\n",
              "          const docLinkHtml = 'Like what you see? Visit the ' +\n",
              "            '<a target=\"_blank\" href=https://colab.research.google.com/notebooks/data_table.ipynb>data table notebook</a>'\n",
              "            + ' to learn more about interactive tables.';\n",
              "          element.innerHTML = '';\n",
              "          dataTable['output_type'] = 'display_data';\n",
              "          await google.colab.output.renderOutput(dataTable, element);\n",
              "          const docLink = document.createElement('div');\n",
              "          docLink.innerHTML = docLinkHtml;\n",
              "          element.appendChild(docLink);\n",
              "        }\n",
              "      </script>\n",
              "    </div>\n",
              "  </div>\n",
              "  "
            ]
          },
          "metadata": {},
          "execution_count": 10
        }
      ]
    },
    {
      "cell_type": "markdown",
      "source": [
        "Column description for this data - [https://www1.nyc.gov/assets/tlc/downloads/pdf/data_dictionary_trip_records_hvfhs.pdf](https://www1.nyc.gov/assets/tlc/downloads/pdf/data_dictionary_trip_records_hvfhs.pdf)"
      ],
      "metadata": {
        "id": "vWPPwulBllOw"
      }
    },
    {
      "cell_type": "markdown",
      "source": [
        "### Data Cleaning/Processing - 1\n",
        "- Remove unnecessary columns not relevant to our problem statement"
      ],
      "metadata": {
        "id": "VwhuF_V3llOw"
      }
    },
    {
      "cell_type": "code",
      "source": [
        "df.drop(columns=['dispatching_base_num',\n",
        "                 'originating_base_num',\n",
        "                 'on_scene_datetime',\n",
        "                 'tolls',\n",
        "                 'bcf',\n",
        "                 'sales_tax',\n",
        "                 'congestion_surcharge',\n",
        "                 'airport_fee',\n",
        "                 'shared_request_flag',\n",
        "                 'shared_match_flag',\n",
        "                 'access_a_ride_flag',\n",
        "                 'wav_request_flag',\n",
        "                 'wav_match_flag'],\n",
        "        inplace=True)"
      ],
      "metadata": {
        "execution": {
          "iopub.status.busy": "2022-11-05T15:35:27.598416Z",
          "iopub.execute_input": "2022-11-05T15:35:27.599661Z",
          "iopub.status.idle": "2022-11-05T15:35:28.729618Z",
          "shell.execute_reply.started": "2022-11-05T15:35:27.599616Z",
          "shell.execute_reply": "2022-11-05T15:35:28.728576Z"
        },
        "trusted": true,
        "id": "VhAkDcwxllOw"
      },
      "execution_count": 11,
      "outputs": []
    },
    {
      "cell_type": "code",
      "source": [
        "df"
      ],
      "metadata": {
        "execution": {
          "iopub.status.busy": "2022-11-05T15:35:28.731155Z",
          "iopub.execute_input": "2022-11-05T15:35:28.731550Z",
          "iopub.status.idle": "2022-11-05T15:35:28.771436Z",
          "shell.execute_reply.started": "2022-11-05T15:35:28.731510Z",
          "shell.execute_reply": "2022-11-05T15:35:28.770419Z"
        },
        "trusted": true,
        "colab": {
          "base_uri": "https://localhost:8080/",
          "height": 661
        },
        "id": "KpmAjr4bllOw",
        "outputId": "2aadaff5-5d30-4717-dc09-bd68d3be1be7"
      },
      "execution_count": 12,
      "outputs": [
        {
          "output_type": "execute_result",
          "data": {
            "text/plain": [
              "         hvfhs_license_num    request_datetime     pickup_datetime  \\\n",
              "0                   HV0003 2022-06-01 00:15:35 2022-06-01 00:17:41   \n",
              "1                   HV0003 2022-06-01 00:39:04 2022-06-01 00:42:37   \n",
              "2                   HV0003 2022-06-01 00:27:53 2022-06-01 00:36:22   \n",
              "3                   HV0003 2022-06-01 00:48:15 2022-06-01 00:51:18   \n",
              "4                   HV0005 2022-06-01 00:04:51 2022-06-01 00:13:33   \n",
              "...                    ...                 ...                 ...   \n",
              "17780070            HV0003 2022-06-30 23:20:49 2022-06-30 23:24:43   \n",
              "17780071            HV0003 2022-06-30 23:36:13 2022-06-30 23:39:20   \n",
              "17780072            HV0003 2022-06-30 23:50:50 2022-06-30 23:57:12   \n",
              "17780073            HV0003 2022-06-30 23:02:40 2022-06-30 23:06:44   \n",
              "17780074            HV0005 2022-06-30 23:00:28 2022-06-30 23:03:06   \n",
              "\n",
              "            dropoff_datetime  PULocationID  DOLocationID  trip_miles  \\\n",
              "0        2022-06-01 00:25:41           234           114       1.500   \n",
              "1        2022-06-01 00:56:32           161           151       4.180   \n",
              "2        2022-06-01 00:45:31           231            87       2.910   \n",
              "3        2022-06-01 01:11:15            87           225       5.450   \n",
              "4        2022-06-01 00:17:27           137           162       1.069   \n",
              "...                      ...           ...           ...         ...   \n",
              "17780070 2022-06-30 23:38:19            74           224       6.070   \n",
              "17780071 2022-06-30 23:51:10           224            13       4.900   \n",
              "17780072 2022-07-01 00:07:07           231           231       0.530   \n",
              "17780073 2022-06-30 23:26:28           234            48       2.850   \n",
              "17780074 2022-06-30 23:18:13           244           242       6.207   \n",
              "\n",
              "          trip_time  base_passenger_fare  tips  driver_pay  \n",
              "0               480                 7.68  1.00        9.36  \n",
              "1               835                20.40  4.82       15.61  \n",
              "2               549                12.29  1.00        8.22  \n",
              "3              1197                24.70  0.00       16.88  \n",
              "4               234                 8.23  0.00        5.47  \n",
              "...             ...                  ...   ...         ...  \n",
              "17780070        816                17.60  2.24       16.23  \n",
              "17780071        710                17.93  0.00       13.94  \n",
              "17780072        595                11.98  3.00       18.46  \n",
              "17780073       1184                31.47  1.00       27.27  \n",
              "17780074        907                20.28  0.00       15.26  \n",
              "\n",
              "[17780075 rows x 11 columns]"
            ],
            "text/html": [
              "\n",
              "  <div id=\"df-d694351c-0ad8-4f3d-8884-c58575af1c62\">\n",
              "    <div class=\"colab-df-container\">\n",
              "      <div>\n",
              "<style scoped>\n",
              "    .dataframe tbody tr th:only-of-type {\n",
              "        vertical-align: middle;\n",
              "    }\n",
              "\n",
              "    .dataframe tbody tr th {\n",
              "        vertical-align: top;\n",
              "    }\n",
              "\n",
              "    .dataframe thead th {\n",
              "        text-align: right;\n",
              "    }\n",
              "</style>\n",
              "<table border=\"1\" class=\"dataframe\">\n",
              "  <thead>\n",
              "    <tr style=\"text-align: right;\">\n",
              "      <th></th>\n",
              "      <th>hvfhs_license_num</th>\n",
              "      <th>request_datetime</th>\n",
              "      <th>pickup_datetime</th>\n",
              "      <th>dropoff_datetime</th>\n",
              "      <th>PULocationID</th>\n",
              "      <th>DOLocationID</th>\n",
              "      <th>trip_miles</th>\n",
              "      <th>trip_time</th>\n",
              "      <th>base_passenger_fare</th>\n",
              "      <th>tips</th>\n",
              "      <th>driver_pay</th>\n",
              "    </tr>\n",
              "  </thead>\n",
              "  <tbody>\n",
              "    <tr>\n",
              "      <th>0</th>\n",
              "      <td>HV0003</td>\n",
              "      <td>2022-06-01 00:15:35</td>\n",
              "      <td>2022-06-01 00:17:41</td>\n",
              "      <td>2022-06-01 00:25:41</td>\n",
              "      <td>234</td>\n",
              "      <td>114</td>\n",
              "      <td>1.500</td>\n",
              "      <td>480</td>\n",
              "      <td>7.68</td>\n",
              "      <td>1.00</td>\n",
              "      <td>9.36</td>\n",
              "    </tr>\n",
              "    <tr>\n",
              "      <th>1</th>\n",
              "      <td>HV0003</td>\n",
              "      <td>2022-06-01 00:39:04</td>\n",
              "      <td>2022-06-01 00:42:37</td>\n",
              "      <td>2022-06-01 00:56:32</td>\n",
              "      <td>161</td>\n",
              "      <td>151</td>\n",
              "      <td>4.180</td>\n",
              "      <td>835</td>\n",
              "      <td>20.40</td>\n",
              "      <td>4.82</td>\n",
              "      <td>15.61</td>\n",
              "    </tr>\n",
              "    <tr>\n",
              "      <th>2</th>\n",
              "      <td>HV0003</td>\n",
              "      <td>2022-06-01 00:27:53</td>\n",
              "      <td>2022-06-01 00:36:22</td>\n",
              "      <td>2022-06-01 00:45:31</td>\n",
              "      <td>231</td>\n",
              "      <td>87</td>\n",
              "      <td>2.910</td>\n",
              "      <td>549</td>\n",
              "      <td>12.29</td>\n",
              "      <td>1.00</td>\n",
              "      <td>8.22</td>\n",
              "    </tr>\n",
              "    <tr>\n",
              "      <th>3</th>\n",
              "      <td>HV0003</td>\n",
              "      <td>2022-06-01 00:48:15</td>\n",
              "      <td>2022-06-01 00:51:18</td>\n",
              "      <td>2022-06-01 01:11:15</td>\n",
              "      <td>87</td>\n",
              "      <td>225</td>\n",
              "      <td>5.450</td>\n",
              "      <td>1197</td>\n",
              "      <td>24.70</td>\n",
              "      <td>0.00</td>\n",
              "      <td>16.88</td>\n",
              "    </tr>\n",
              "    <tr>\n",
              "      <th>4</th>\n",
              "      <td>HV0005</td>\n",
              "      <td>2022-06-01 00:04:51</td>\n",
              "      <td>2022-06-01 00:13:33</td>\n",
              "      <td>2022-06-01 00:17:27</td>\n",
              "      <td>137</td>\n",
              "      <td>162</td>\n",
              "      <td>1.069</td>\n",
              "      <td>234</td>\n",
              "      <td>8.23</td>\n",
              "      <td>0.00</td>\n",
              "      <td>5.47</td>\n",
              "    </tr>\n",
              "    <tr>\n",
              "      <th>...</th>\n",
              "      <td>...</td>\n",
              "      <td>...</td>\n",
              "      <td>...</td>\n",
              "      <td>...</td>\n",
              "      <td>...</td>\n",
              "      <td>...</td>\n",
              "      <td>...</td>\n",
              "      <td>...</td>\n",
              "      <td>...</td>\n",
              "      <td>...</td>\n",
              "      <td>...</td>\n",
              "    </tr>\n",
              "    <tr>\n",
              "      <th>17780070</th>\n",
              "      <td>HV0003</td>\n",
              "      <td>2022-06-30 23:20:49</td>\n",
              "      <td>2022-06-30 23:24:43</td>\n",
              "      <td>2022-06-30 23:38:19</td>\n",
              "      <td>74</td>\n",
              "      <td>224</td>\n",
              "      <td>6.070</td>\n",
              "      <td>816</td>\n",
              "      <td>17.60</td>\n",
              "      <td>2.24</td>\n",
              "      <td>16.23</td>\n",
              "    </tr>\n",
              "    <tr>\n",
              "      <th>17780071</th>\n",
              "      <td>HV0003</td>\n",
              "      <td>2022-06-30 23:36:13</td>\n",
              "      <td>2022-06-30 23:39:20</td>\n",
              "      <td>2022-06-30 23:51:10</td>\n",
              "      <td>224</td>\n",
              "      <td>13</td>\n",
              "      <td>4.900</td>\n",
              "      <td>710</td>\n",
              "      <td>17.93</td>\n",
              "      <td>0.00</td>\n",
              "      <td>13.94</td>\n",
              "    </tr>\n",
              "    <tr>\n",
              "      <th>17780072</th>\n",
              "      <td>HV0003</td>\n",
              "      <td>2022-06-30 23:50:50</td>\n",
              "      <td>2022-06-30 23:57:12</td>\n",
              "      <td>2022-07-01 00:07:07</td>\n",
              "      <td>231</td>\n",
              "      <td>231</td>\n",
              "      <td>0.530</td>\n",
              "      <td>595</td>\n",
              "      <td>11.98</td>\n",
              "      <td>3.00</td>\n",
              "      <td>18.46</td>\n",
              "    </tr>\n",
              "    <tr>\n",
              "      <th>17780073</th>\n",
              "      <td>HV0003</td>\n",
              "      <td>2022-06-30 23:02:40</td>\n",
              "      <td>2022-06-30 23:06:44</td>\n",
              "      <td>2022-06-30 23:26:28</td>\n",
              "      <td>234</td>\n",
              "      <td>48</td>\n",
              "      <td>2.850</td>\n",
              "      <td>1184</td>\n",
              "      <td>31.47</td>\n",
              "      <td>1.00</td>\n",
              "      <td>27.27</td>\n",
              "    </tr>\n",
              "    <tr>\n",
              "      <th>17780074</th>\n",
              "      <td>HV0005</td>\n",
              "      <td>2022-06-30 23:00:28</td>\n",
              "      <td>2022-06-30 23:03:06</td>\n",
              "      <td>2022-06-30 23:18:13</td>\n",
              "      <td>244</td>\n",
              "      <td>242</td>\n",
              "      <td>6.207</td>\n",
              "      <td>907</td>\n",
              "      <td>20.28</td>\n",
              "      <td>0.00</td>\n",
              "      <td>15.26</td>\n",
              "    </tr>\n",
              "  </tbody>\n",
              "</table>\n",
              "<p>17780075 rows × 11 columns</p>\n",
              "</div>\n",
              "      <button class=\"colab-df-convert\" onclick=\"convertToInteractive('df-d694351c-0ad8-4f3d-8884-c58575af1c62')\"\n",
              "              title=\"Convert this dataframe to an interactive table.\"\n",
              "              style=\"display:none;\">\n",
              "        \n",
              "  <svg xmlns=\"http://www.w3.org/2000/svg\" height=\"24px\"viewBox=\"0 0 24 24\"\n",
              "       width=\"24px\">\n",
              "    <path d=\"M0 0h24v24H0V0z\" fill=\"none\"/>\n",
              "    <path d=\"M18.56 5.44l.94 2.06.94-2.06 2.06-.94-2.06-.94-.94-2.06-.94 2.06-2.06.94zm-11 1L8.5 8.5l.94-2.06 2.06-.94-2.06-.94L8.5 2.5l-.94 2.06-2.06.94zm10 10l.94 2.06.94-2.06 2.06-.94-2.06-.94-.94-2.06-.94 2.06-2.06.94z\"/><path d=\"M17.41 7.96l-1.37-1.37c-.4-.4-.92-.59-1.43-.59-.52 0-1.04.2-1.43.59L10.3 9.45l-7.72 7.72c-.78.78-.78 2.05 0 2.83L4 21.41c.39.39.9.59 1.41.59.51 0 1.02-.2 1.41-.59l7.78-7.78 2.81-2.81c.8-.78.8-2.07 0-2.86zM5.41 20L4 18.59l7.72-7.72 1.47 1.35L5.41 20z\"/>\n",
              "  </svg>\n",
              "      </button>\n",
              "      \n",
              "  <style>\n",
              "    .colab-df-container {\n",
              "      display:flex;\n",
              "      flex-wrap:wrap;\n",
              "      gap: 12px;\n",
              "    }\n",
              "\n",
              "    .colab-df-convert {\n",
              "      background-color: #E8F0FE;\n",
              "      border: none;\n",
              "      border-radius: 50%;\n",
              "      cursor: pointer;\n",
              "      display: none;\n",
              "      fill: #1967D2;\n",
              "      height: 32px;\n",
              "      padding: 0 0 0 0;\n",
              "      width: 32px;\n",
              "    }\n",
              "\n",
              "    .colab-df-convert:hover {\n",
              "      background-color: #E2EBFA;\n",
              "      box-shadow: 0px 1px 2px rgba(60, 64, 67, 0.3), 0px 1px 3px 1px rgba(60, 64, 67, 0.15);\n",
              "      fill: #174EA6;\n",
              "    }\n",
              "\n",
              "    [theme=dark] .colab-df-convert {\n",
              "      background-color: #3B4455;\n",
              "      fill: #D2E3FC;\n",
              "    }\n",
              "\n",
              "    [theme=dark] .colab-df-convert:hover {\n",
              "      background-color: #434B5C;\n",
              "      box-shadow: 0px 1px 3px 1px rgba(0, 0, 0, 0.15);\n",
              "      filter: drop-shadow(0px 1px 2px rgba(0, 0, 0, 0.3));\n",
              "      fill: #FFFFFF;\n",
              "    }\n",
              "  </style>\n",
              "\n",
              "      <script>\n",
              "        const buttonEl =\n",
              "          document.querySelector('#df-d694351c-0ad8-4f3d-8884-c58575af1c62 button.colab-df-convert');\n",
              "        buttonEl.style.display =\n",
              "          google.colab.kernel.accessAllowed ? 'block' : 'none';\n",
              "\n",
              "        async function convertToInteractive(key) {\n",
              "          const element = document.querySelector('#df-d694351c-0ad8-4f3d-8884-c58575af1c62');\n",
              "          const dataTable =\n",
              "            await google.colab.kernel.invokeFunction('convertToInteractive',\n",
              "                                                     [key], {});\n",
              "          if (!dataTable) return;\n",
              "\n",
              "          const docLinkHtml = 'Like what you see? Visit the ' +\n",
              "            '<a target=\"_blank\" href=https://colab.research.google.com/notebooks/data_table.ipynb>data table notebook</a>'\n",
              "            + ' to learn more about interactive tables.';\n",
              "          element.innerHTML = '';\n",
              "          dataTable['output_type'] = 'display_data';\n",
              "          await google.colab.output.renderOutput(dataTable, element);\n",
              "          const docLink = document.createElement('div');\n",
              "          docLink.innerHTML = docLinkHtml;\n",
              "          element.appendChild(docLink);\n",
              "        }\n",
              "      </script>\n",
              "    </div>\n",
              "  </div>\n",
              "  "
            ]
          },
          "metadata": {},
          "execution_count": 12
        }
      ]
    },
    {
      "cell_type": "markdown",
      "source": [
        "### Data Cleaning/Processing - 2\n",
        "- Drop NA values"
      ],
      "metadata": {
        "id": "c6hbLSL4llOw"
      }
    },
    {
      "cell_type": "code",
      "source": [
        "df.dropna(inplace=True)"
      ],
      "metadata": {
        "execution": {
          "iopub.status.busy": "2022-11-05T15:35:28.776723Z",
          "iopub.execute_input": "2022-11-05T15:35:28.779579Z",
          "iopub.status.idle": "2022-11-05T15:35:31.882486Z",
          "shell.execute_reply.started": "2022-11-05T15:35:28.779535Z",
          "shell.execute_reply": "2022-11-05T15:35:31.881432Z"
        },
        "trusted": true,
        "id": "0iu-ECnFllOw"
      },
      "execution_count": 13,
      "outputs": []
    },
    {
      "cell_type": "markdown",
      "source": [
        "### Data Cleaning/Processing - 3\n",
        "- Rename Columns and map the taxi company code to taxi name like Uber, Lyft"
      ],
      "metadata": {
        "id": "bFWpFi5AllOx"
      }
    },
    {
      "cell_type": "markdown",
      "source": [
        "Actual codes\n",
        "- HV0002: Juno\n",
        "- HV0003: Uber\n",
        "- HV0004: Via\n",
        "- HV0005: Lyft"
      ],
      "metadata": {
        "id": "kt-IA_d_llOx"
      }
    },
    {
      "cell_type": "code",
      "source": [
        "df.rename(columns={\n",
        "    'hvfhs_license_num': 'taxi_company',\n",
        "    'PULocationID': 'PULocation',\n",
        "    'DOLocationID': 'DOLocation'\n",
        "}, inplace=True)"
      ],
      "metadata": {
        "execution": {
          "iopub.status.busy": "2022-11-05T15:35:31.883870Z",
          "iopub.execute_input": "2022-11-05T15:35:31.884256Z",
          "iopub.status.idle": "2022-11-05T15:35:31.890533Z",
          "shell.execute_reply.started": "2022-11-05T15:35:31.884217Z",
          "shell.execute_reply": "2022-11-05T15:35:31.889270Z"
        },
        "trusted": true,
        "id": "eDUtiN-_llOx"
      },
      "execution_count": 14,
      "outputs": []
    },
    {
      "cell_type": "code",
      "source": [
        "def license_company_map(lic):\n",
        "    if lic == 'HV0003':\n",
        "        return 'Uber'\n",
        "    elif lic == 'HV0005':\n",
        "        return 'Lyft'\n",
        "    return lic"
      ],
      "metadata": {
        "execution": {
          "iopub.status.busy": "2022-11-05T15:35:31.892111Z",
          "iopub.execute_input": "2022-11-05T15:35:31.892832Z",
          "iopub.status.idle": "2022-11-05T15:35:31.902141Z",
          "shell.execute_reply.started": "2022-11-05T15:35:31.892790Z",
          "shell.execute_reply": "2022-11-05T15:35:31.901019Z"
        },
        "trusted": true,
        "id": "zMITzwhXllOx"
      },
      "execution_count": 15,
      "outputs": []
    },
    {
      "cell_type": "code",
      "source": [
        "df['taxi_company'] = pd.factorize(df['taxi_company'])[0]"
      ],
      "metadata": {
        "execution": {
          "iopub.status.busy": "2022-11-05T15:35:31.903732Z",
          "iopub.execute_input": "2022-11-05T15:35:31.904073Z",
          "iopub.status.idle": "2022-11-05T15:35:33.308256Z",
          "shell.execute_reply.started": "2022-11-05T15:35:31.904039Z",
          "shell.execute_reply": "2022-11-05T15:35:33.307185Z"
        },
        "trusted": true,
        "id": "2EsAA-o8llOx"
      },
      "execution_count": 16,
      "outputs": []
    },
    {
      "cell_type": "code",
      "source": [
        "df['taxi_company_name'] = df['taxi_company'].map(license_company_map)"
      ],
      "metadata": {
        "execution": {
          "iopub.status.busy": "2022-11-05T15:35:33.309830Z",
          "iopub.execute_input": "2022-11-05T15:35:33.310233Z",
          "iopub.status.idle": "2022-11-05T15:35:39.852838Z",
          "shell.execute_reply.started": "2022-11-05T15:35:33.310192Z",
          "shell.execute_reply": "2022-11-05T15:35:39.851769Z"
        },
        "trusted": true,
        "id": "yAd9ctDollOx"
      },
      "execution_count": 17,
      "outputs": []
    },
    {
      "cell_type": "markdown",
      "source": [
        "### Data Cleaning/Processing - 4\n",
        "- Now there are some unknown locations in Pickup and Dropoff which we know by analysing Zone dataframe\n",
        "- Remove the rows containing unknown locations in \"df\""
      ],
      "metadata": {
        "id": "c7O3DjcyllOx"
      }
    },
    {
      "cell_type": "code",
      "source": [
        "zone_df"
      ],
      "metadata": {
        "execution": {
          "iopub.status.busy": "2022-11-05T15:35:39.854322Z",
          "iopub.execute_input": "2022-11-05T15:35:39.854700Z",
          "iopub.status.idle": "2022-11-05T15:35:39.869646Z",
          "shell.execute_reply.started": "2022-11-05T15:35:39.854644Z",
          "shell.execute_reply": "2022-11-05T15:35:39.868504Z"
        },
        "trusted": true,
        "colab": {
          "base_uri": "https://localhost:8080/",
          "height": 0
        },
        "id": "OVFEmHyHllOx",
        "outputId": "db91fdc0-4c47-4e0e-d1bf-2cff2f40d963"
      },
      "execution_count": 18,
      "outputs": [
        {
          "output_type": "execute_result",
          "data": {
            "text/plain": [
              "     LocationID        Borough                     Zone service_zone\n",
              "0             1            EWR           Newark Airport          EWR\n",
              "1             2         Queens              Jamaica Bay    Boro Zone\n",
              "2             3          Bronx  Allerton/Pelham Gardens    Boro Zone\n",
              "3             4      Manhattan            Alphabet City  Yellow Zone\n",
              "4             5  Staten Island            Arden Heights    Boro Zone\n",
              "..          ...            ...                      ...          ...\n",
              "260         261      Manhattan       World Trade Center  Yellow Zone\n",
              "261         262      Manhattan           Yorkville East  Yellow Zone\n",
              "262         263      Manhattan           Yorkville West  Yellow Zone\n",
              "263         264        Unknown                       NV          NaN\n",
              "264         265        Unknown                      NaN          NaN\n",
              "\n",
              "[265 rows x 4 columns]"
            ],
            "text/html": [
              "\n",
              "  <div id=\"df-c14b3df6-70d1-4132-a3cf-a3c5f7fbd518\">\n",
              "    <div class=\"colab-df-container\">\n",
              "      <div>\n",
              "<style scoped>\n",
              "    .dataframe tbody tr th:only-of-type {\n",
              "        vertical-align: middle;\n",
              "    }\n",
              "\n",
              "    .dataframe tbody tr th {\n",
              "        vertical-align: top;\n",
              "    }\n",
              "\n",
              "    .dataframe thead th {\n",
              "        text-align: right;\n",
              "    }\n",
              "</style>\n",
              "<table border=\"1\" class=\"dataframe\">\n",
              "  <thead>\n",
              "    <tr style=\"text-align: right;\">\n",
              "      <th></th>\n",
              "      <th>LocationID</th>\n",
              "      <th>Borough</th>\n",
              "      <th>Zone</th>\n",
              "      <th>service_zone</th>\n",
              "    </tr>\n",
              "  </thead>\n",
              "  <tbody>\n",
              "    <tr>\n",
              "      <th>0</th>\n",
              "      <td>1</td>\n",
              "      <td>EWR</td>\n",
              "      <td>Newark Airport</td>\n",
              "      <td>EWR</td>\n",
              "    </tr>\n",
              "    <tr>\n",
              "      <th>1</th>\n",
              "      <td>2</td>\n",
              "      <td>Queens</td>\n",
              "      <td>Jamaica Bay</td>\n",
              "      <td>Boro Zone</td>\n",
              "    </tr>\n",
              "    <tr>\n",
              "      <th>2</th>\n",
              "      <td>3</td>\n",
              "      <td>Bronx</td>\n",
              "      <td>Allerton/Pelham Gardens</td>\n",
              "      <td>Boro Zone</td>\n",
              "    </tr>\n",
              "    <tr>\n",
              "      <th>3</th>\n",
              "      <td>4</td>\n",
              "      <td>Manhattan</td>\n",
              "      <td>Alphabet City</td>\n",
              "      <td>Yellow Zone</td>\n",
              "    </tr>\n",
              "    <tr>\n",
              "      <th>4</th>\n",
              "      <td>5</td>\n",
              "      <td>Staten Island</td>\n",
              "      <td>Arden Heights</td>\n",
              "      <td>Boro Zone</td>\n",
              "    </tr>\n",
              "    <tr>\n",
              "      <th>...</th>\n",
              "      <td>...</td>\n",
              "      <td>...</td>\n",
              "      <td>...</td>\n",
              "      <td>...</td>\n",
              "    </tr>\n",
              "    <tr>\n",
              "      <th>260</th>\n",
              "      <td>261</td>\n",
              "      <td>Manhattan</td>\n",
              "      <td>World Trade Center</td>\n",
              "      <td>Yellow Zone</td>\n",
              "    </tr>\n",
              "    <tr>\n",
              "      <th>261</th>\n",
              "      <td>262</td>\n",
              "      <td>Manhattan</td>\n",
              "      <td>Yorkville East</td>\n",
              "      <td>Yellow Zone</td>\n",
              "    </tr>\n",
              "    <tr>\n",
              "      <th>262</th>\n",
              "      <td>263</td>\n",
              "      <td>Manhattan</td>\n",
              "      <td>Yorkville West</td>\n",
              "      <td>Yellow Zone</td>\n",
              "    </tr>\n",
              "    <tr>\n",
              "      <th>263</th>\n",
              "      <td>264</td>\n",
              "      <td>Unknown</td>\n",
              "      <td>NV</td>\n",
              "      <td>NaN</td>\n",
              "    </tr>\n",
              "    <tr>\n",
              "      <th>264</th>\n",
              "      <td>265</td>\n",
              "      <td>Unknown</td>\n",
              "      <td>NaN</td>\n",
              "      <td>NaN</td>\n",
              "    </tr>\n",
              "  </tbody>\n",
              "</table>\n",
              "<p>265 rows × 4 columns</p>\n",
              "</div>\n",
              "      <button class=\"colab-df-convert\" onclick=\"convertToInteractive('df-c14b3df6-70d1-4132-a3cf-a3c5f7fbd518')\"\n",
              "              title=\"Convert this dataframe to an interactive table.\"\n",
              "              style=\"display:none;\">\n",
              "        \n",
              "  <svg xmlns=\"http://www.w3.org/2000/svg\" height=\"24px\"viewBox=\"0 0 24 24\"\n",
              "       width=\"24px\">\n",
              "    <path d=\"M0 0h24v24H0V0z\" fill=\"none\"/>\n",
              "    <path d=\"M18.56 5.44l.94 2.06.94-2.06 2.06-.94-2.06-.94-.94-2.06-.94 2.06-2.06.94zm-11 1L8.5 8.5l.94-2.06 2.06-.94-2.06-.94L8.5 2.5l-.94 2.06-2.06.94zm10 10l.94 2.06.94-2.06 2.06-.94-2.06-.94-.94-2.06-.94 2.06-2.06.94z\"/><path d=\"M17.41 7.96l-1.37-1.37c-.4-.4-.92-.59-1.43-.59-.52 0-1.04.2-1.43.59L10.3 9.45l-7.72 7.72c-.78.78-.78 2.05 0 2.83L4 21.41c.39.39.9.59 1.41.59.51 0 1.02-.2 1.41-.59l7.78-7.78 2.81-2.81c.8-.78.8-2.07 0-2.86zM5.41 20L4 18.59l7.72-7.72 1.47 1.35L5.41 20z\"/>\n",
              "  </svg>\n",
              "      </button>\n",
              "      \n",
              "  <style>\n",
              "    .colab-df-container {\n",
              "      display:flex;\n",
              "      flex-wrap:wrap;\n",
              "      gap: 12px;\n",
              "    }\n",
              "\n",
              "    .colab-df-convert {\n",
              "      background-color: #E8F0FE;\n",
              "      border: none;\n",
              "      border-radius: 50%;\n",
              "      cursor: pointer;\n",
              "      display: none;\n",
              "      fill: #1967D2;\n",
              "      height: 32px;\n",
              "      padding: 0 0 0 0;\n",
              "      width: 32px;\n",
              "    }\n",
              "\n",
              "    .colab-df-convert:hover {\n",
              "      background-color: #E2EBFA;\n",
              "      box-shadow: 0px 1px 2px rgba(60, 64, 67, 0.3), 0px 1px 3px 1px rgba(60, 64, 67, 0.15);\n",
              "      fill: #174EA6;\n",
              "    }\n",
              "\n",
              "    [theme=dark] .colab-df-convert {\n",
              "      background-color: #3B4455;\n",
              "      fill: #D2E3FC;\n",
              "    }\n",
              "\n",
              "    [theme=dark] .colab-df-convert:hover {\n",
              "      background-color: #434B5C;\n",
              "      box-shadow: 0px 1px 3px 1px rgba(0, 0, 0, 0.15);\n",
              "      filter: drop-shadow(0px 1px 2px rgba(0, 0, 0, 0.3));\n",
              "      fill: #FFFFFF;\n",
              "    }\n",
              "  </style>\n",
              "\n",
              "      <script>\n",
              "        const buttonEl =\n",
              "          document.querySelector('#df-c14b3df6-70d1-4132-a3cf-a3c5f7fbd518 button.colab-df-convert');\n",
              "        buttonEl.style.display =\n",
              "          google.colab.kernel.accessAllowed ? 'block' : 'none';\n",
              "\n",
              "        async function convertToInteractive(key) {\n",
              "          const element = document.querySelector('#df-c14b3df6-70d1-4132-a3cf-a3c5f7fbd518');\n",
              "          const dataTable =\n",
              "            await google.colab.kernel.invokeFunction('convertToInteractive',\n",
              "                                                     [key], {});\n",
              "          if (!dataTable) return;\n",
              "\n",
              "          const docLinkHtml = 'Like what you see? Visit the ' +\n",
              "            '<a target=\"_blank\" href=https://colab.research.google.com/notebooks/data_table.ipynb>data table notebook</a>'\n",
              "            + ' to learn more about interactive tables.';\n",
              "          element.innerHTML = '';\n",
              "          dataTable['output_type'] = 'display_data';\n",
              "          await google.colab.output.renderOutput(dataTable, element);\n",
              "          const docLink = document.createElement('div');\n",
              "          docLink.innerHTML = docLinkHtml;\n",
              "          element.appendChild(docLink);\n",
              "        }\n",
              "      </script>\n",
              "    </div>\n",
              "  </div>\n",
              "  "
            ]
          },
          "metadata": {},
          "execution_count": 18
        }
      ]
    },
    {
      "cell_type": "code",
      "source": [
        "df"
      ],
      "metadata": {
        "execution": {
          "iopub.status.busy": "2022-11-05T15:35:39.871970Z",
          "iopub.execute_input": "2022-11-05T15:35:39.872649Z",
          "iopub.status.idle": "2022-11-05T15:35:39.897236Z",
          "shell.execute_reply.started": "2022-11-05T15:35:39.872611Z",
          "shell.execute_reply": "2022-11-05T15:35:39.896162Z"
        },
        "trusted": true,
        "colab": {
          "base_uri": "https://localhost:8080/",
          "height": 0
        },
        "id": "77sNYz-allOx",
        "outputId": "eeb8b3c2-3ea0-4859-bf44-6c95569d9456"
      },
      "execution_count": 19,
      "outputs": [
        {
          "output_type": "execute_result",
          "data": {
            "text/plain": [
              "          taxi_company    request_datetime     pickup_datetime  \\\n",
              "0                    0 2022-06-01 00:15:35 2022-06-01 00:17:41   \n",
              "1                    0 2022-06-01 00:39:04 2022-06-01 00:42:37   \n",
              "2                    0 2022-06-01 00:27:53 2022-06-01 00:36:22   \n",
              "3                    0 2022-06-01 00:48:15 2022-06-01 00:51:18   \n",
              "4                    1 2022-06-01 00:04:51 2022-06-01 00:13:33   \n",
              "...                ...                 ...                 ...   \n",
              "17780070             0 2022-06-30 23:20:49 2022-06-30 23:24:43   \n",
              "17780071             0 2022-06-30 23:36:13 2022-06-30 23:39:20   \n",
              "17780072             0 2022-06-30 23:50:50 2022-06-30 23:57:12   \n",
              "17780073             0 2022-06-30 23:02:40 2022-06-30 23:06:44   \n",
              "17780074             1 2022-06-30 23:00:28 2022-06-30 23:03:06   \n",
              "\n",
              "            dropoff_datetime  PULocation  DOLocation  trip_miles  trip_time  \\\n",
              "0        2022-06-01 00:25:41         234         114       1.500        480   \n",
              "1        2022-06-01 00:56:32         161         151       4.180        835   \n",
              "2        2022-06-01 00:45:31         231          87       2.910        549   \n",
              "3        2022-06-01 01:11:15          87         225       5.450       1197   \n",
              "4        2022-06-01 00:17:27         137         162       1.069        234   \n",
              "...                      ...         ...         ...         ...        ...   \n",
              "17780070 2022-06-30 23:38:19          74         224       6.070        816   \n",
              "17780071 2022-06-30 23:51:10         224          13       4.900        710   \n",
              "17780072 2022-07-01 00:07:07         231         231       0.530        595   \n",
              "17780073 2022-06-30 23:26:28         234          48       2.850       1184   \n",
              "17780074 2022-06-30 23:18:13         244         242       6.207        907   \n",
              "\n",
              "          base_passenger_fare  tips  driver_pay  taxi_company_name  \n",
              "0                        7.68  1.00        9.36                  0  \n",
              "1                       20.40  4.82       15.61                  0  \n",
              "2                       12.29  1.00        8.22                  0  \n",
              "3                       24.70  0.00       16.88                  0  \n",
              "4                        8.23  0.00        5.47                  1  \n",
              "...                       ...   ...         ...                ...  \n",
              "17780070                17.60  2.24       16.23                  0  \n",
              "17780071                17.93  0.00       13.94                  0  \n",
              "17780072                11.98  3.00       18.46                  0  \n",
              "17780073                31.47  1.00       27.27                  0  \n",
              "17780074                20.28  0.00       15.26                  1  \n",
              "\n",
              "[17780075 rows x 12 columns]"
            ],
            "text/html": [
              "\n",
              "  <div id=\"df-b68e7a83-11e9-426b-b3f0-2534f6541d16\">\n",
              "    <div class=\"colab-df-container\">\n",
              "      <div>\n",
              "<style scoped>\n",
              "    .dataframe tbody tr th:only-of-type {\n",
              "        vertical-align: middle;\n",
              "    }\n",
              "\n",
              "    .dataframe tbody tr th {\n",
              "        vertical-align: top;\n",
              "    }\n",
              "\n",
              "    .dataframe thead th {\n",
              "        text-align: right;\n",
              "    }\n",
              "</style>\n",
              "<table border=\"1\" class=\"dataframe\">\n",
              "  <thead>\n",
              "    <tr style=\"text-align: right;\">\n",
              "      <th></th>\n",
              "      <th>taxi_company</th>\n",
              "      <th>request_datetime</th>\n",
              "      <th>pickup_datetime</th>\n",
              "      <th>dropoff_datetime</th>\n",
              "      <th>PULocation</th>\n",
              "      <th>DOLocation</th>\n",
              "      <th>trip_miles</th>\n",
              "      <th>trip_time</th>\n",
              "      <th>base_passenger_fare</th>\n",
              "      <th>tips</th>\n",
              "      <th>driver_pay</th>\n",
              "      <th>taxi_company_name</th>\n",
              "    </tr>\n",
              "  </thead>\n",
              "  <tbody>\n",
              "    <tr>\n",
              "      <th>0</th>\n",
              "      <td>0</td>\n",
              "      <td>2022-06-01 00:15:35</td>\n",
              "      <td>2022-06-01 00:17:41</td>\n",
              "      <td>2022-06-01 00:25:41</td>\n",
              "      <td>234</td>\n",
              "      <td>114</td>\n",
              "      <td>1.500</td>\n",
              "      <td>480</td>\n",
              "      <td>7.68</td>\n",
              "      <td>1.00</td>\n",
              "      <td>9.36</td>\n",
              "      <td>0</td>\n",
              "    </tr>\n",
              "    <tr>\n",
              "      <th>1</th>\n",
              "      <td>0</td>\n",
              "      <td>2022-06-01 00:39:04</td>\n",
              "      <td>2022-06-01 00:42:37</td>\n",
              "      <td>2022-06-01 00:56:32</td>\n",
              "      <td>161</td>\n",
              "      <td>151</td>\n",
              "      <td>4.180</td>\n",
              "      <td>835</td>\n",
              "      <td>20.40</td>\n",
              "      <td>4.82</td>\n",
              "      <td>15.61</td>\n",
              "      <td>0</td>\n",
              "    </tr>\n",
              "    <tr>\n",
              "      <th>2</th>\n",
              "      <td>0</td>\n",
              "      <td>2022-06-01 00:27:53</td>\n",
              "      <td>2022-06-01 00:36:22</td>\n",
              "      <td>2022-06-01 00:45:31</td>\n",
              "      <td>231</td>\n",
              "      <td>87</td>\n",
              "      <td>2.910</td>\n",
              "      <td>549</td>\n",
              "      <td>12.29</td>\n",
              "      <td>1.00</td>\n",
              "      <td>8.22</td>\n",
              "      <td>0</td>\n",
              "    </tr>\n",
              "    <tr>\n",
              "      <th>3</th>\n",
              "      <td>0</td>\n",
              "      <td>2022-06-01 00:48:15</td>\n",
              "      <td>2022-06-01 00:51:18</td>\n",
              "      <td>2022-06-01 01:11:15</td>\n",
              "      <td>87</td>\n",
              "      <td>225</td>\n",
              "      <td>5.450</td>\n",
              "      <td>1197</td>\n",
              "      <td>24.70</td>\n",
              "      <td>0.00</td>\n",
              "      <td>16.88</td>\n",
              "      <td>0</td>\n",
              "    </tr>\n",
              "    <tr>\n",
              "      <th>4</th>\n",
              "      <td>1</td>\n",
              "      <td>2022-06-01 00:04:51</td>\n",
              "      <td>2022-06-01 00:13:33</td>\n",
              "      <td>2022-06-01 00:17:27</td>\n",
              "      <td>137</td>\n",
              "      <td>162</td>\n",
              "      <td>1.069</td>\n",
              "      <td>234</td>\n",
              "      <td>8.23</td>\n",
              "      <td>0.00</td>\n",
              "      <td>5.47</td>\n",
              "      <td>1</td>\n",
              "    </tr>\n",
              "    <tr>\n",
              "      <th>...</th>\n",
              "      <td>...</td>\n",
              "      <td>...</td>\n",
              "      <td>...</td>\n",
              "      <td>...</td>\n",
              "      <td>...</td>\n",
              "      <td>...</td>\n",
              "      <td>...</td>\n",
              "      <td>...</td>\n",
              "      <td>...</td>\n",
              "      <td>...</td>\n",
              "      <td>...</td>\n",
              "      <td>...</td>\n",
              "    </tr>\n",
              "    <tr>\n",
              "      <th>17780070</th>\n",
              "      <td>0</td>\n",
              "      <td>2022-06-30 23:20:49</td>\n",
              "      <td>2022-06-30 23:24:43</td>\n",
              "      <td>2022-06-30 23:38:19</td>\n",
              "      <td>74</td>\n",
              "      <td>224</td>\n",
              "      <td>6.070</td>\n",
              "      <td>816</td>\n",
              "      <td>17.60</td>\n",
              "      <td>2.24</td>\n",
              "      <td>16.23</td>\n",
              "      <td>0</td>\n",
              "    </tr>\n",
              "    <tr>\n",
              "      <th>17780071</th>\n",
              "      <td>0</td>\n",
              "      <td>2022-06-30 23:36:13</td>\n",
              "      <td>2022-06-30 23:39:20</td>\n",
              "      <td>2022-06-30 23:51:10</td>\n",
              "      <td>224</td>\n",
              "      <td>13</td>\n",
              "      <td>4.900</td>\n",
              "      <td>710</td>\n",
              "      <td>17.93</td>\n",
              "      <td>0.00</td>\n",
              "      <td>13.94</td>\n",
              "      <td>0</td>\n",
              "    </tr>\n",
              "    <tr>\n",
              "      <th>17780072</th>\n",
              "      <td>0</td>\n",
              "      <td>2022-06-30 23:50:50</td>\n",
              "      <td>2022-06-30 23:57:12</td>\n",
              "      <td>2022-07-01 00:07:07</td>\n",
              "      <td>231</td>\n",
              "      <td>231</td>\n",
              "      <td>0.530</td>\n",
              "      <td>595</td>\n",
              "      <td>11.98</td>\n",
              "      <td>3.00</td>\n",
              "      <td>18.46</td>\n",
              "      <td>0</td>\n",
              "    </tr>\n",
              "    <tr>\n",
              "      <th>17780073</th>\n",
              "      <td>0</td>\n",
              "      <td>2022-06-30 23:02:40</td>\n",
              "      <td>2022-06-30 23:06:44</td>\n",
              "      <td>2022-06-30 23:26:28</td>\n",
              "      <td>234</td>\n",
              "      <td>48</td>\n",
              "      <td>2.850</td>\n",
              "      <td>1184</td>\n",
              "      <td>31.47</td>\n",
              "      <td>1.00</td>\n",
              "      <td>27.27</td>\n",
              "      <td>0</td>\n",
              "    </tr>\n",
              "    <tr>\n",
              "      <th>17780074</th>\n",
              "      <td>1</td>\n",
              "      <td>2022-06-30 23:00:28</td>\n",
              "      <td>2022-06-30 23:03:06</td>\n",
              "      <td>2022-06-30 23:18:13</td>\n",
              "      <td>244</td>\n",
              "      <td>242</td>\n",
              "      <td>6.207</td>\n",
              "      <td>907</td>\n",
              "      <td>20.28</td>\n",
              "      <td>0.00</td>\n",
              "      <td>15.26</td>\n",
              "      <td>1</td>\n",
              "    </tr>\n",
              "  </tbody>\n",
              "</table>\n",
              "<p>17780075 rows × 12 columns</p>\n",
              "</div>\n",
              "      <button class=\"colab-df-convert\" onclick=\"convertToInteractive('df-b68e7a83-11e9-426b-b3f0-2534f6541d16')\"\n",
              "              title=\"Convert this dataframe to an interactive table.\"\n",
              "              style=\"display:none;\">\n",
              "        \n",
              "  <svg xmlns=\"http://www.w3.org/2000/svg\" height=\"24px\"viewBox=\"0 0 24 24\"\n",
              "       width=\"24px\">\n",
              "    <path d=\"M0 0h24v24H0V0z\" fill=\"none\"/>\n",
              "    <path d=\"M18.56 5.44l.94 2.06.94-2.06 2.06-.94-2.06-.94-.94-2.06-.94 2.06-2.06.94zm-11 1L8.5 8.5l.94-2.06 2.06-.94-2.06-.94L8.5 2.5l-.94 2.06-2.06.94zm10 10l.94 2.06.94-2.06 2.06-.94-2.06-.94-.94-2.06-.94 2.06-2.06.94z\"/><path d=\"M17.41 7.96l-1.37-1.37c-.4-.4-.92-.59-1.43-.59-.52 0-1.04.2-1.43.59L10.3 9.45l-7.72 7.72c-.78.78-.78 2.05 0 2.83L4 21.41c.39.39.9.59 1.41.59.51 0 1.02-.2 1.41-.59l7.78-7.78 2.81-2.81c.8-.78.8-2.07 0-2.86zM5.41 20L4 18.59l7.72-7.72 1.47 1.35L5.41 20z\"/>\n",
              "  </svg>\n",
              "      </button>\n",
              "      \n",
              "  <style>\n",
              "    .colab-df-container {\n",
              "      display:flex;\n",
              "      flex-wrap:wrap;\n",
              "      gap: 12px;\n",
              "    }\n",
              "\n",
              "    .colab-df-convert {\n",
              "      background-color: #E8F0FE;\n",
              "      border: none;\n",
              "      border-radius: 50%;\n",
              "      cursor: pointer;\n",
              "      display: none;\n",
              "      fill: #1967D2;\n",
              "      height: 32px;\n",
              "      padding: 0 0 0 0;\n",
              "      width: 32px;\n",
              "    }\n",
              "\n",
              "    .colab-df-convert:hover {\n",
              "      background-color: #E2EBFA;\n",
              "      box-shadow: 0px 1px 2px rgba(60, 64, 67, 0.3), 0px 1px 3px 1px rgba(60, 64, 67, 0.15);\n",
              "      fill: #174EA6;\n",
              "    }\n",
              "\n",
              "    [theme=dark] .colab-df-convert {\n",
              "      background-color: #3B4455;\n",
              "      fill: #D2E3FC;\n",
              "    }\n",
              "\n",
              "    [theme=dark] .colab-df-convert:hover {\n",
              "      background-color: #434B5C;\n",
              "      box-shadow: 0px 1px 3px 1px rgba(0, 0, 0, 0.15);\n",
              "      filter: drop-shadow(0px 1px 2px rgba(0, 0, 0, 0.3));\n",
              "      fill: #FFFFFF;\n",
              "    }\n",
              "  </style>\n",
              "\n",
              "      <script>\n",
              "        const buttonEl =\n",
              "          document.querySelector('#df-b68e7a83-11e9-426b-b3f0-2534f6541d16 button.colab-df-convert');\n",
              "        buttonEl.style.display =\n",
              "          google.colab.kernel.accessAllowed ? 'block' : 'none';\n",
              "\n",
              "        async function convertToInteractive(key) {\n",
              "          const element = document.querySelector('#df-b68e7a83-11e9-426b-b3f0-2534f6541d16');\n",
              "          const dataTable =\n",
              "            await google.colab.kernel.invokeFunction('convertToInteractive',\n",
              "                                                     [key], {});\n",
              "          if (!dataTable) return;\n",
              "\n",
              "          const docLinkHtml = 'Like what you see? Visit the ' +\n",
              "            '<a target=\"_blank\" href=https://colab.research.google.com/notebooks/data_table.ipynb>data table notebook</a>'\n",
              "            + ' to learn more about interactive tables.';\n",
              "          element.innerHTML = '';\n",
              "          dataTable['output_type'] = 'display_data';\n",
              "          await google.colab.output.renderOutput(dataTable, element);\n",
              "          const docLink = document.createElement('div');\n",
              "          docLink.innerHTML = docLinkHtml;\n",
              "          element.appendChild(docLink);\n",
              "        }\n",
              "      </script>\n",
              "    </div>\n",
              "  </div>\n",
              "  "
            ]
          },
          "metadata": {},
          "execution_count": 19
        }
      ]
    },
    {
      "cell_type": "code",
      "source": [
        "def unknown_locations(id):\n",
        "    if id == 264 or id == 265:\n",
        "        return True\n",
        "    return False"
      ],
      "metadata": {
        "execution": {
          "iopub.status.busy": "2022-11-05T15:35:39.898738Z",
          "iopub.execute_input": "2022-11-05T15:35:39.899154Z",
          "iopub.status.idle": "2022-11-05T15:35:39.905357Z",
          "shell.execute_reply.started": "2022-11-05T15:35:39.899096Z",
          "shell.execute_reply": "2022-11-05T15:35:39.903351Z"
        },
        "trusted": true,
        "id": "dQ9aLKSZllOx"
      },
      "execution_count": 20,
      "outputs": []
    },
    {
      "cell_type": "code",
      "source": [
        "df[\n",
        "    df.PULocation.map(unknown_locations)\n",
        "].index"
      ],
      "metadata": {
        "execution": {
          "iopub.status.busy": "2022-11-05T15:35:39.906842Z",
          "iopub.execute_input": "2022-11-05T15:35:39.907898Z",
          "iopub.status.idle": "2022-11-05T15:35:44.753528Z",
          "shell.execute_reply.started": "2022-11-05T15:35:39.907857Z",
          "shell.execute_reply": "2022-11-05T15:35:44.752157Z"
        },
        "trusted": true,
        "colab": {
          "base_uri": "https://localhost:8080/"
        },
        "id": "OmLka-6jllOy",
        "outputId": "e5fa9d19-015f-4c4b-bae4-f14afb48aac2"
      },
      "execution_count": 21,
      "outputs": [
        {
          "output_type": "execute_result",
          "data": {
            "text/plain": [
              "Int64Index([   13254,    64649,    70100,    75130,    86298,    99255,\n",
              "              106944,   129350,   147399,   183654,\n",
              "            ...\n",
              "            17479230, 17500961, 17516820, 17545267, 17573284, 17618911,\n",
              "            17700506, 17772055, 17773057, 17776276],\n",
              "           dtype='int64', length=900)"
            ]
          },
          "metadata": {},
          "execution_count": 21
        }
      ]
    },
    {
      "cell_type": "code",
      "source": [
        "df.drop(df[\n",
        "    df.PULocation.map(unknown_locations)\n",
        "].index, inplace=True)"
      ],
      "metadata": {
        "execution": {
          "iopub.status.busy": "2022-11-05T15:35:44.754890Z",
          "iopub.execute_input": "2022-11-05T15:35:44.755356Z",
          "iopub.status.idle": "2022-11-05T15:35:52.544562Z",
          "shell.execute_reply.started": "2022-11-05T15:35:44.755318Z",
          "shell.execute_reply": "2022-11-05T15:35:52.543454Z"
        },
        "trusted": true,
        "id": "ZX6AcjYallOy"
      },
      "execution_count": 22,
      "outputs": []
    },
    {
      "cell_type": "code",
      "source": [
        "df[\n",
        "    df.DOLocation.map(unknown_locations)\n",
        "].index"
      ],
      "metadata": {
        "execution": {
          "iopub.status.busy": "2022-11-05T15:35:52.546088Z",
          "iopub.execute_input": "2022-11-05T15:35:52.547081Z",
          "iopub.status.idle": "2022-11-05T15:35:56.887649Z",
          "shell.execute_reply.started": "2022-11-05T15:35:52.547050Z",
          "shell.execute_reply": "2022-11-05T15:35:56.886494Z"
        },
        "trusted": true,
        "colab": {
          "base_uri": "https://localhost:8080/"
        },
        "id": "2O91tzchllOy",
        "outputId": "7d9b1452-2ac5-4ce7-c225-69758ca759ac"
      },
      "execution_count": 23,
      "outputs": [
        {
          "output_type": "execute_result",
          "data": {
            "text/plain": [
              "Int64Index([      23,       26,       44,       68,       80,      138,\n",
              "                 150,      168,      192,      240,\n",
              "            ...\n",
              "            17779915, 17779930, 17779977, 17779986, 17779990, 17779999,\n",
              "            17780016, 17780024, 17780036, 17780049],\n",
              "           dtype='int64', length=767811)"
            ]
          },
          "metadata": {},
          "execution_count": 23
        }
      ]
    },
    {
      "cell_type": "code",
      "source": [
        "df.drop(df[\n",
        "    df.DOLocation.map(unknown_locations)\n",
        "].index, inplace=True)"
      ],
      "metadata": {
        "execution": {
          "iopub.status.busy": "2022-11-05T15:35:56.889173Z",
          "iopub.execute_input": "2022-11-05T15:35:56.889740Z",
          "iopub.status.idle": "2022-11-05T15:36:05.339803Z",
          "shell.execute_reply.started": "2022-11-05T15:35:56.889701Z",
          "shell.execute_reply": "2022-11-05T15:36:05.338759Z"
        },
        "trusted": true,
        "id": "sXkhDwuSllOy"
      },
      "execution_count": 24,
      "outputs": []
    },
    {
      "cell_type": "markdown",
      "source": [
        "### Data Cleaning/Processing - 5\n",
        "- There are some trips either having 0 miles as trip_miles or 0 seconds as time_time\n",
        "- Remove those trips"
      ],
      "metadata": {
        "id": "_kSRQcPIllOy"
      }
    },
    {
      "cell_type": "code",
      "source": [
        "def zero_trip(trip_ms):\n",
        "    if trip_ms == 0:\n",
        "        return True\n",
        "    return False"
      ],
      "metadata": {
        "execution": {
          "iopub.status.busy": "2022-11-05T15:36:05.341462Z",
          "iopub.execute_input": "2022-11-05T15:36:05.341858Z",
          "iopub.status.idle": "2022-11-05T15:36:05.347421Z",
          "shell.execute_reply.started": "2022-11-05T15:36:05.341819Z",
          "shell.execute_reply": "2022-11-05T15:36:05.346079Z"
        },
        "trusted": true,
        "id": "oKfIW3vFllOy"
      },
      "execution_count": 25,
      "outputs": []
    },
    {
      "cell_type": "code",
      "source": [
        "df.drop(df[\n",
        "    df.trip_miles.map(zero_trip)\n",
        "].index, inplace=True)"
      ],
      "metadata": {
        "execution": {
          "iopub.status.busy": "2022-11-05T15:36:05.349194Z",
          "iopub.execute_input": "2022-11-05T15:36:05.349585Z",
          "iopub.status.idle": "2022-11-05T15:36:12.701626Z",
          "shell.execute_reply.started": "2022-11-05T15:36:05.349549Z",
          "shell.execute_reply": "2022-11-05T15:36:12.700489Z"
        },
        "trusted": true,
        "id": "Z_x0cxrUllOy"
      },
      "execution_count": 26,
      "outputs": []
    },
    {
      "cell_type": "code",
      "source": [
        "df.drop(df[\n",
        "    df.trip_time.map(zero_trip)\n",
        "].index, inplace=True)"
      ],
      "metadata": {
        "execution": {
          "iopub.status.busy": "2022-11-05T15:36:12.703197Z",
          "iopub.execute_input": "2022-11-05T15:36:12.703575Z",
          "iopub.status.idle": "2022-11-05T15:36:22.125405Z",
          "shell.execute_reply.started": "2022-11-05T15:36:12.703534Z",
          "shell.execute_reply": "2022-11-05T15:36:22.124295Z"
        },
        "trusted": true,
        "id": "EOSUfNYDllOy"
      },
      "execution_count": 27,
      "outputs": []
    },
    {
      "cell_type": "code",
      "source": [
        "df"
      ],
      "metadata": {
        "execution": {
          "iopub.status.busy": "2022-11-05T15:36:22.126990Z",
          "iopub.execute_input": "2022-11-05T15:36:22.127386Z",
          "iopub.status.idle": "2022-11-05T15:36:22.152935Z",
          "shell.execute_reply.started": "2022-11-05T15:36:22.127346Z",
          "shell.execute_reply": "2022-11-05T15:36:22.152006Z"
        },
        "trusted": true,
        "colab": {
          "base_uri": "https://localhost:8080/",
          "height": 0
        },
        "id": "qgPzaRWillOy",
        "outputId": "2ce0e2ac-e48a-4298-dca4-424d4e6c26ec"
      },
      "execution_count": 28,
      "outputs": [
        {
          "output_type": "execute_result",
          "data": {
            "text/plain": [
              "          taxi_company    request_datetime     pickup_datetime  \\\n",
              "0                    0 2022-06-01 00:15:35 2022-06-01 00:17:41   \n",
              "1                    0 2022-06-01 00:39:04 2022-06-01 00:42:37   \n",
              "2                    0 2022-06-01 00:27:53 2022-06-01 00:36:22   \n",
              "3                    0 2022-06-01 00:48:15 2022-06-01 00:51:18   \n",
              "4                    1 2022-06-01 00:04:51 2022-06-01 00:13:33   \n",
              "...                ...                 ...                 ...   \n",
              "17780070             0 2022-06-30 23:20:49 2022-06-30 23:24:43   \n",
              "17780071             0 2022-06-30 23:36:13 2022-06-30 23:39:20   \n",
              "17780072             0 2022-06-30 23:50:50 2022-06-30 23:57:12   \n",
              "17780073             0 2022-06-30 23:02:40 2022-06-30 23:06:44   \n",
              "17780074             1 2022-06-30 23:00:28 2022-06-30 23:03:06   \n",
              "\n",
              "            dropoff_datetime  PULocation  DOLocation  trip_miles  trip_time  \\\n",
              "0        2022-06-01 00:25:41         234         114       1.500        480   \n",
              "1        2022-06-01 00:56:32         161         151       4.180        835   \n",
              "2        2022-06-01 00:45:31         231          87       2.910        549   \n",
              "3        2022-06-01 01:11:15          87         225       5.450       1197   \n",
              "4        2022-06-01 00:17:27         137         162       1.069        234   \n",
              "...                      ...         ...         ...         ...        ...   \n",
              "17780070 2022-06-30 23:38:19          74         224       6.070        816   \n",
              "17780071 2022-06-30 23:51:10         224          13       4.900        710   \n",
              "17780072 2022-07-01 00:07:07         231         231       0.530        595   \n",
              "17780073 2022-06-30 23:26:28         234          48       2.850       1184   \n",
              "17780074 2022-06-30 23:18:13         244         242       6.207        907   \n",
              "\n",
              "          base_passenger_fare  tips  driver_pay  taxi_company_name  \n",
              "0                        7.68  1.00        9.36                  0  \n",
              "1                       20.40  4.82       15.61                  0  \n",
              "2                       12.29  1.00        8.22                  0  \n",
              "3                       24.70  0.00       16.88                  0  \n",
              "4                        8.23  0.00        5.47                  1  \n",
              "...                       ...   ...         ...                ...  \n",
              "17780070                17.60  2.24       16.23                  0  \n",
              "17780071                17.93  0.00       13.94                  0  \n",
              "17780072                11.98  3.00       18.46                  0  \n",
              "17780073                31.47  1.00       27.27                  0  \n",
              "17780074                20.28  0.00       15.26                  1  \n",
              "\n",
              "[17007449 rows x 12 columns]"
            ],
            "text/html": [
              "\n",
              "  <div id=\"df-59f1ac33-0ee1-4b7b-a228-4f0d134e8678\">\n",
              "    <div class=\"colab-df-container\">\n",
              "      <div>\n",
              "<style scoped>\n",
              "    .dataframe tbody tr th:only-of-type {\n",
              "        vertical-align: middle;\n",
              "    }\n",
              "\n",
              "    .dataframe tbody tr th {\n",
              "        vertical-align: top;\n",
              "    }\n",
              "\n",
              "    .dataframe thead th {\n",
              "        text-align: right;\n",
              "    }\n",
              "</style>\n",
              "<table border=\"1\" class=\"dataframe\">\n",
              "  <thead>\n",
              "    <tr style=\"text-align: right;\">\n",
              "      <th></th>\n",
              "      <th>taxi_company</th>\n",
              "      <th>request_datetime</th>\n",
              "      <th>pickup_datetime</th>\n",
              "      <th>dropoff_datetime</th>\n",
              "      <th>PULocation</th>\n",
              "      <th>DOLocation</th>\n",
              "      <th>trip_miles</th>\n",
              "      <th>trip_time</th>\n",
              "      <th>base_passenger_fare</th>\n",
              "      <th>tips</th>\n",
              "      <th>driver_pay</th>\n",
              "      <th>taxi_company_name</th>\n",
              "    </tr>\n",
              "  </thead>\n",
              "  <tbody>\n",
              "    <tr>\n",
              "      <th>0</th>\n",
              "      <td>0</td>\n",
              "      <td>2022-06-01 00:15:35</td>\n",
              "      <td>2022-06-01 00:17:41</td>\n",
              "      <td>2022-06-01 00:25:41</td>\n",
              "      <td>234</td>\n",
              "      <td>114</td>\n",
              "      <td>1.500</td>\n",
              "      <td>480</td>\n",
              "      <td>7.68</td>\n",
              "      <td>1.00</td>\n",
              "      <td>9.36</td>\n",
              "      <td>0</td>\n",
              "    </tr>\n",
              "    <tr>\n",
              "      <th>1</th>\n",
              "      <td>0</td>\n",
              "      <td>2022-06-01 00:39:04</td>\n",
              "      <td>2022-06-01 00:42:37</td>\n",
              "      <td>2022-06-01 00:56:32</td>\n",
              "      <td>161</td>\n",
              "      <td>151</td>\n",
              "      <td>4.180</td>\n",
              "      <td>835</td>\n",
              "      <td>20.40</td>\n",
              "      <td>4.82</td>\n",
              "      <td>15.61</td>\n",
              "      <td>0</td>\n",
              "    </tr>\n",
              "    <tr>\n",
              "      <th>2</th>\n",
              "      <td>0</td>\n",
              "      <td>2022-06-01 00:27:53</td>\n",
              "      <td>2022-06-01 00:36:22</td>\n",
              "      <td>2022-06-01 00:45:31</td>\n",
              "      <td>231</td>\n",
              "      <td>87</td>\n",
              "      <td>2.910</td>\n",
              "      <td>549</td>\n",
              "      <td>12.29</td>\n",
              "      <td>1.00</td>\n",
              "      <td>8.22</td>\n",
              "      <td>0</td>\n",
              "    </tr>\n",
              "    <tr>\n",
              "      <th>3</th>\n",
              "      <td>0</td>\n",
              "      <td>2022-06-01 00:48:15</td>\n",
              "      <td>2022-06-01 00:51:18</td>\n",
              "      <td>2022-06-01 01:11:15</td>\n",
              "      <td>87</td>\n",
              "      <td>225</td>\n",
              "      <td>5.450</td>\n",
              "      <td>1197</td>\n",
              "      <td>24.70</td>\n",
              "      <td>0.00</td>\n",
              "      <td>16.88</td>\n",
              "      <td>0</td>\n",
              "    </tr>\n",
              "    <tr>\n",
              "      <th>4</th>\n",
              "      <td>1</td>\n",
              "      <td>2022-06-01 00:04:51</td>\n",
              "      <td>2022-06-01 00:13:33</td>\n",
              "      <td>2022-06-01 00:17:27</td>\n",
              "      <td>137</td>\n",
              "      <td>162</td>\n",
              "      <td>1.069</td>\n",
              "      <td>234</td>\n",
              "      <td>8.23</td>\n",
              "      <td>0.00</td>\n",
              "      <td>5.47</td>\n",
              "      <td>1</td>\n",
              "    </tr>\n",
              "    <tr>\n",
              "      <th>...</th>\n",
              "      <td>...</td>\n",
              "      <td>...</td>\n",
              "      <td>...</td>\n",
              "      <td>...</td>\n",
              "      <td>...</td>\n",
              "      <td>...</td>\n",
              "      <td>...</td>\n",
              "      <td>...</td>\n",
              "      <td>...</td>\n",
              "      <td>...</td>\n",
              "      <td>...</td>\n",
              "      <td>...</td>\n",
              "    </tr>\n",
              "    <tr>\n",
              "      <th>17780070</th>\n",
              "      <td>0</td>\n",
              "      <td>2022-06-30 23:20:49</td>\n",
              "      <td>2022-06-30 23:24:43</td>\n",
              "      <td>2022-06-30 23:38:19</td>\n",
              "      <td>74</td>\n",
              "      <td>224</td>\n",
              "      <td>6.070</td>\n",
              "      <td>816</td>\n",
              "      <td>17.60</td>\n",
              "      <td>2.24</td>\n",
              "      <td>16.23</td>\n",
              "      <td>0</td>\n",
              "    </tr>\n",
              "    <tr>\n",
              "      <th>17780071</th>\n",
              "      <td>0</td>\n",
              "      <td>2022-06-30 23:36:13</td>\n",
              "      <td>2022-06-30 23:39:20</td>\n",
              "      <td>2022-06-30 23:51:10</td>\n",
              "      <td>224</td>\n",
              "      <td>13</td>\n",
              "      <td>4.900</td>\n",
              "      <td>710</td>\n",
              "      <td>17.93</td>\n",
              "      <td>0.00</td>\n",
              "      <td>13.94</td>\n",
              "      <td>0</td>\n",
              "    </tr>\n",
              "    <tr>\n",
              "      <th>17780072</th>\n",
              "      <td>0</td>\n",
              "      <td>2022-06-30 23:50:50</td>\n",
              "      <td>2022-06-30 23:57:12</td>\n",
              "      <td>2022-07-01 00:07:07</td>\n",
              "      <td>231</td>\n",
              "      <td>231</td>\n",
              "      <td>0.530</td>\n",
              "      <td>595</td>\n",
              "      <td>11.98</td>\n",
              "      <td>3.00</td>\n",
              "      <td>18.46</td>\n",
              "      <td>0</td>\n",
              "    </tr>\n",
              "    <tr>\n",
              "      <th>17780073</th>\n",
              "      <td>0</td>\n",
              "      <td>2022-06-30 23:02:40</td>\n",
              "      <td>2022-06-30 23:06:44</td>\n",
              "      <td>2022-06-30 23:26:28</td>\n",
              "      <td>234</td>\n",
              "      <td>48</td>\n",
              "      <td>2.850</td>\n",
              "      <td>1184</td>\n",
              "      <td>31.47</td>\n",
              "      <td>1.00</td>\n",
              "      <td>27.27</td>\n",
              "      <td>0</td>\n",
              "    </tr>\n",
              "    <tr>\n",
              "      <th>17780074</th>\n",
              "      <td>1</td>\n",
              "      <td>2022-06-30 23:00:28</td>\n",
              "      <td>2022-06-30 23:03:06</td>\n",
              "      <td>2022-06-30 23:18:13</td>\n",
              "      <td>244</td>\n",
              "      <td>242</td>\n",
              "      <td>6.207</td>\n",
              "      <td>907</td>\n",
              "      <td>20.28</td>\n",
              "      <td>0.00</td>\n",
              "      <td>15.26</td>\n",
              "      <td>1</td>\n",
              "    </tr>\n",
              "  </tbody>\n",
              "</table>\n",
              "<p>17007449 rows × 12 columns</p>\n",
              "</div>\n",
              "      <button class=\"colab-df-convert\" onclick=\"convertToInteractive('df-59f1ac33-0ee1-4b7b-a228-4f0d134e8678')\"\n",
              "              title=\"Convert this dataframe to an interactive table.\"\n",
              "              style=\"display:none;\">\n",
              "        \n",
              "  <svg xmlns=\"http://www.w3.org/2000/svg\" height=\"24px\"viewBox=\"0 0 24 24\"\n",
              "       width=\"24px\">\n",
              "    <path d=\"M0 0h24v24H0V0z\" fill=\"none\"/>\n",
              "    <path d=\"M18.56 5.44l.94 2.06.94-2.06 2.06-.94-2.06-.94-.94-2.06-.94 2.06-2.06.94zm-11 1L8.5 8.5l.94-2.06 2.06-.94-2.06-.94L8.5 2.5l-.94 2.06-2.06.94zm10 10l.94 2.06.94-2.06 2.06-.94-2.06-.94-.94-2.06-.94 2.06-2.06.94z\"/><path d=\"M17.41 7.96l-1.37-1.37c-.4-.4-.92-.59-1.43-.59-.52 0-1.04.2-1.43.59L10.3 9.45l-7.72 7.72c-.78.78-.78 2.05 0 2.83L4 21.41c.39.39.9.59 1.41.59.51 0 1.02-.2 1.41-.59l7.78-7.78 2.81-2.81c.8-.78.8-2.07 0-2.86zM5.41 20L4 18.59l7.72-7.72 1.47 1.35L5.41 20z\"/>\n",
              "  </svg>\n",
              "      </button>\n",
              "      \n",
              "  <style>\n",
              "    .colab-df-container {\n",
              "      display:flex;\n",
              "      flex-wrap:wrap;\n",
              "      gap: 12px;\n",
              "    }\n",
              "\n",
              "    .colab-df-convert {\n",
              "      background-color: #E8F0FE;\n",
              "      border: none;\n",
              "      border-radius: 50%;\n",
              "      cursor: pointer;\n",
              "      display: none;\n",
              "      fill: #1967D2;\n",
              "      height: 32px;\n",
              "      padding: 0 0 0 0;\n",
              "      width: 32px;\n",
              "    }\n",
              "\n",
              "    .colab-df-convert:hover {\n",
              "      background-color: #E2EBFA;\n",
              "      box-shadow: 0px 1px 2px rgba(60, 64, 67, 0.3), 0px 1px 3px 1px rgba(60, 64, 67, 0.15);\n",
              "      fill: #174EA6;\n",
              "    }\n",
              "\n",
              "    [theme=dark] .colab-df-convert {\n",
              "      background-color: #3B4455;\n",
              "      fill: #D2E3FC;\n",
              "    }\n",
              "\n",
              "    [theme=dark] .colab-df-convert:hover {\n",
              "      background-color: #434B5C;\n",
              "      box-shadow: 0px 1px 3px 1px rgba(0, 0, 0, 0.15);\n",
              "      filter: drop-shadow(0px 1px 2px rgba(0, 0, 0, 0.3));\n",
              "      fill: #FFFFFF;\n",
              "    }\n",
              "  </style>\n",
              "\n",
              "      <script>\n",
              "        const buttonEl =\n",
              "          document.querySelector('#df-59f1ac33-0ee1-4b7b-a228-4f0d134e8678 button.colab-df-convert');\n",
              "        buttonEl.style.display =\n",
              "          google.colab.kernel.accessAllowed ? 'block' : 'none';\n",
              "\n",
              "        async function convertToInteractive(key) {\n",
              "          const element = document.querySelector('#df-59f1ac33-0ee1-4b7b-a228-4f0d134e8678');\n",
              "          const dataTable =\n",
              "            await google.colab.kernel.invokeFunction('convertToInteractive',\n",
              "                                                     [key], {});\n",
              "          if (!dataTable) return;\n",
              "\n",
              "          const docLinkHtml = 'Like what you see? Visit the ' +\n",
              "            '<a target=\"_blank\" href=https://colab.research.google.com/notebooks/data_table.ipynb>data table notebook</a>'\n",
              "            + ' to learn more about interactive tables.';\n",
              "          element.innerHTML = '';\n",
              "          dataTable['output_type'] = 'display_data';\n",
              "          await google.colab.output.renderOutput(dataTable, element);\n",
              "          const docLink = document.createElement('div');\n",
              "          docLink.innerHTML = docLinkHtml;\n",
              "          element.appendChild(docLink);\n",
              "        }\n",
              "      </script>\n",
              "    </div>\n",
              "  </div>\n",
              "  "
            ]
          },
          "metadata": {},
          "execution_count": 28
        }
      ]
    },
    {
      "cell_type": "code",
      "source": [
        "zone_df"
      ],
      "metadata": {
        "execution": {
          "iopub.status.busy": "2022-11-05T15:36:22.160372Z",
          "iopub.execute_input": "2022-11-05T15:36:22.160637Z",
          "iopub.status.idle": "2022-11-05T15:36:22.175942Z",
          "shell.execute_reply.started": "2022-11-05T15:36:22.160612Z",
          "shell.execute_reply": "2022-11-05T15:36:22.175062Z"
        },
        "trusted": true,
        "colab": {
          "base_uri": "https://localhost:8080/",
          "height": 0
        },
        "id": "6Cyq3TIDllOy",
        "outputId": "f624a095-2fb5-4ce7-c83a-232d244432c5"
      },
      "execution_count": 29,
      "outputs": [
        {
          "output_type": "execute_result",
          "data": {
            "text/plain": [
              "     LocationID        Borough                     Zone service_zone\n",
              "0             1            EWR           Newark Airport          EWR\n",
              "1             2         Queens              Jamaica Bay    Boro Zone\n",
              "2             3          Bronx  Allerton/Pelham Gardens    Boro Zone\n",
              "3             4      Manhattan            Alphabet City  Yellow Zone\n",
              "4             5  Staten Island            Arden Heights    Boro Zone\n",
              "..          ...            ...                      ...          ...\n",
              "260         261      Manhattan       World Trade Center  Yellow Zone\n",
              "261         262      Manhattan           Yorkville East  Yellow Zone\n",
              "262         263      Manhattan           Yorkville West  Yellow Zone\n",
              "263         264        Unknown                       NV          NaN\n",
              "264         265        Unknown                      NaN          NaN\n",
              "\n",
              "[265 rows x 4 columns]"
            ],
            "text/html": [
              "\n",
              "  <div id=\"df-0801f1c2-34fa-46f8-a291-3adae724a5d6\">\n",
              "    <div class=\"colab-df-container\">\n",
              "      <div>\n",
              "<style scoped>\n",
              "    .dataframe tbody tr th:only-of-type {\n",
              "        vertical-align: middle;\n",
              "    }\n",
              "\n",
              "    .dataframe tbody tr th {\n",
              "        vertical-align: top;\n",
              "    }\n",
              "\n",
              "    .dataframe thead th {\n",
              "        text-align: right;\n",
              "    }\n",
              "</style>\n",
              "<table border=\"1\" class=\"dataframe\">\n",
              "  <thead>\n",
              "    <tr style=\"text-align: right;\">\n",
              "      <th></th>\n",
              "      <th>LocationID</th>\n",
              "      <th>Borough</th>\n",
              "      <th>Zone</th>\n",
              "      <th>service_zone</th>\n",
              "    </tr>\n",
              "  </thead>\n",
              "  <tbody>\n",
              "    <tr>\n",
              "      <th>0</th>\n",
              "      <td>1</td>\n",
              "      <td>EWR</td>\n",
              "      <td>Newark Airport</td>\n",
              "      <td>EWR</td>\n",
              "    </tr>\n",
              "    <tr>\n",
              "      <th>1</th>\n",
              "      <td>2</td>\n",
              "      <td>Queens</td>\n",
              "      <td>Jamaica Bay</td>\n",
              "      <td>Boro Zone</td>\n",
              "    </tr>\n",
              "    <tr>\n",
              "      <th>2</th>\n",
              "      <td>3</td>\n",
              "      <td>Bronx</td>\n",
              "      <td>Allerton/Pelham Gardens</td>\n",
              "      <td>Boro Zone</td>\n",
              "    </tr>\n",
              "    <tr>\n",
              "      <th>3</th>\n",
              "      <td>4</td>\n",
              "      <td>Manhattan</td>\n",
              "      <td>Alphabet City</td>\n",
              "      <td>Yellow Zone</td>\n",
              "    </tr>\n",
              "    <tr>\n",
              "      <th>4</th>\n",
              "      <td>5</td>\n",
              "      <td>Staten Island</td>\n",
              "      <td>Arden Heights</td>\n",
              "      <td>Boro Zone</td>\n",
              "    </tr>\n",
              "    <tr>\n",
              "      <th>...</th>\n",
              "      <td>...</td>\n",
              "      <td>...</td>\n",
              "      <td>...</td>\n",
              "      <td>...</td>\n",
              "    </tr>\n",
              "    <tr>\n",
              "      <th>260</th>\n",
              "      <td>261</td>\n",
              "      <td>Manhattan</td>\n",
              "      <td>World Trade Center</td>\n",
              "      <td>Yellow Zone</td>\n",
              "    </tr>\n",
              "    <tr>\n",
              "      <th>261</th>\n",
              "      <td>262</td>\n",
              "      <td>Manhattan</td>\n",
              "      <td>Yorkville East</td>\n",
              "      <td>Yellow Zone</td>\n",
              "    </tr>\n",
              "    <tr>\n",
              "      <th>262</th>\n",
              "      <td>263</td>\n",
              "      <td>Manhattan</td>\n",
              "      <td>Yorkville West</td>\n",
              "      <td>Yellow Zone</td>\n",
              "    </tr>\n",
              "    <tr>\n",
              "      <th>263</th>\n",
              "      <td>264</td>\n",
              "      <td>Unknown</td>\n",
              "      <td>NV</td>\n",
              "      <td>NaN</td>\n",
              "    </tr>\n",
              "    <tr>\n",
              "      <th>264</th>\n",
              "      <td>265</td>\n",
              "      <td>Unknown</td>\n",
              "      <td>NaN</td>\n",
              "      <td>NaN</td>\n",
              "    </tr>\n",
              "  </tbody>\n",
              "</table>\n",
              "<p>265 rows × 4 columns</p>\n",
              "</div>\n",
              "      <button class=\"colab-df-convert\" onclick=\"convertToInteractive('df-0801f1c2-34fa-46f8-a291-3adae724a5d6')\"\n",
              "              title=\"Convert this dataframe to an interactive table.\"\n",
              "              style=\"display:none;\">\n",
              "        \n",
              "  <svg xmlns=\"http://www.w3.org/2000/svg\" height=\"24px\"viewBox=\"0 0 24 24\"\n",
              "       width=\"24px\">\n",
              "    <path d=\"M0 0h24v24H0V0z\" fill=\"none\"/>\n",
              "    <path d=\"M18.56 5.44l.94 2.06.94-2.06 2.06-.94-2.06-.94-.94-2.06-.94 2.06-2.06.94zm-11 1L8.5 8.5l.94-2.06 2.06-.94-2.06-.94L8.5 2.5l-.94 2.06-2.06.94zm10 10l.94 2.06.94-2.06 2.06-.94-2.06-.94-.94-2.06-.94 2.06-2.06.94z\"/><path d=\"M17.41 7.96l-1.37-1.37c-.4-.4-.92-.59-1.43-.59-.52 0-1.04.2-1.43.59L10.3 9.45l-7.72 7.72c-.78.78-.78 2.05 0 2.83L4 21.41c.39.39.9.59 1.41.59.51 0 1.02-.2 1.41-.59l7.78-7.78 2.81-2.81c.8-.78.8-2.07 0-2.86zM5.41 20L4 18.59l7.72-7.72 1.47 1.35L5.41 20z\"/>\n",
              "  </svg>\n",
              "      </button>\n",
              "      \n",
              "  <style>\n",
              "    .colab-df-container {\n",
              "      display:flex;\n",
              "      flex-wrap:wrap;\n",
              "      gap: 12px;\n",
              "    }\n",
              "\n",
              "    .colab-df-convert {\n",
              "      background-color: #E8F0FE;\n",
              "      border: none;\n",
              "      border-radius: 50%;\n",
              "      cursor: pointer;\n",
              "      display: none;\n",
              "      fill: #1967D2;\n",
              "      height: 32px;\n",
              "      padding: 0 0 0 0;\n",
              "      width: 32px;\n",
              "    }\n",
              "\n",
              "    .colab-df-convert:hover {\n",
              "      background-color: #E2EBFA;\n",
              "      box-shadow: 0px 1px 2px rgba(60, 64, 67, 0.3), 0px 1px 3px 1px rgba(60, 64, 67, 0.15);\n",
              "      fill: #174EA6;\n",
              "    }\n",
              "\n",
              "    [theme=dark] .colab-df-convert {\n",
              "      background-color: #3B4455;\n",
              "      fill: #D2E3FC;\n",
              "    }\n",
              "\n",
              "    [theme=dark] .colab-df-convert:hover {\n",
              "      background-color: #434B5C;\n",
              "      box-shadow: 0px 1px 3px 1px rgba(0, 0, 0, 0.15);\n",
              "      filter: drop-shadow(0px 1px 2px rgba(0, 0, 0, 0.3));\n",
              "      fill: #FFFFFF;\n",
              "    }\n",
              "  </style>\n",
              "\n",
              "      <script>\n",
              "        const buttonEl =\n",
              "          document.querySelector('#df-0801f1c2-34fa-46f8-a291-3adae724a5d6 button.colab-df-convert');\n",
              "        buttonEl.style.display =\n",
              "          google.colab.kernel.accessAllowed ? 'block' : 'none';\n",
              "\n",
              "        async function convertToInteractive(key) {\n",
              "          const element = document.querySelector('#df-0801f1c2-34fa-46f8-a291-3adae724a5d6');\n",
              "          const dataTable =\n",
              "            await google.colab.kernel.invokeFunction('convertToInteractive',\n",
              "                                                     [key], {});\n",
              "          if (!dataTable) return;\n",
              "\n",
              "          const docLinkHtml = 'Like what you see? Visit the ' +\n",
              "            '<a target=\"_blank\" href=https://colab.research.google.com/notebooks/data_table.ipynb>data table notebook</a>'\n",
              "            + ' to learn more about interactive tables.';\n",
              "          element.innerHTML = '';\n",
              "          dataTable['output_type'] = 'display_data';\n",
              "          await google.colab.output.renderOutput(dataTable, element);\n",
              "          const docLink = document.createElement('div');\n",
              "          docLink.innerHTML = docLinkHtml;\n",
              "          element.appendChild(docLink);\n",
              "        }\n",
              "      </script>\n",
              "    </div>\n",
              "  </div>\n",
              "  "
            ]
          },
          "metadata": {},
          "execution_count": 29
        }
      ]
    },
    {
      "cell_type": "markdown",
      "source": [
        "### Data Cleaning/Processing - 6\n",
        "- Expand the pickup and dropoff column to contain location names instead of location code\n",
        "- This is used in later phases to lookup addresses and estimate distance"
      ],
      "metadata": {
        "id": "EBnvhNNFllOy"
      }
    },
    {
      "cell_type": "code",
      "source": [
        "zone_df['LocationName'] = zone_df['Zone'] + \", \" + zone_df['Borough']"
      ],
      "metadata": {
        "execution": {
          "iopub.status.busy": "2022-11-05T15:36:22.177440Z",
          "iopub.execute_input": "2022-11-05T15:36:22.177779Z",
          "iopub.status.idle": "2022-11-05T15:36:22.183952Z",
          "shell.execute_reply.started": "2022-11-05T15:36:22.177744Z",
          "shell.execute_reply": "2022-11-05T15:36:22.182941Z"
        },
        "trusted": true,
        "id": "S7H1MtivllOz"
      },
      "execution_count": 30,
      "outputs": []
    },
    {
      "cell_type": "code",
      "source": [
        "zone_df"
      ],
      "metadata": {
        "execution": {
          "iopub.status.busy": "2022-11-05T15:36:22.185556Z",
          "iopub.execute_input": "2022-11-05T15:36:22.186202Z",
          "iopub.status.idle": "2022-11-05T15:36:22.206283Z",
          "shell.execute_reply.started": "2022-11-05T15:36:22.186165Z",
          "shell.execute_reply": "2022-11-05T15:36:22.205166Z"
        },
        "trusted": true,
        "colab": {
          "base_uri": "https://localhost:8080/",
          "height": 0
        },
        "id": "hEtPQTDZllOz",
        "outputId": "2648a280-a2cb-4834-c59e-719cc8aef3c6"
      },
      "execution_count": 31,
      "outputs": [
        {
          "output_type": "execute_result",
          "data": {
            "text/plain": [
              "     LocationID        Borough                     Zone service_zone  \\\n",
              "0             1            EWR           Newark Airport          EWR   \n",
              "1             2         Queens              Jamaica Bay    Boro Zone   \n",
              "2             3          Bronx  Allerton/Pelham Gardens    Boro Zone   \n",
              "3             4      Manhattan            Alphabet City  Yellow Zone   \n",
              "4             5  Staten Island            Arden Heights    Boro Zone   \n",
              "..          ...            ...                      ...          ...   \n",
              "260         261      Manhattan       World Trade Center  Yellow Zone   \n",
              "261         262      Manhattan           Yorkville East  Yellow Zone   \n",
              "262         263      Manhattan           Yorkville West  Yellow Zone   \n",
              "263         264        Unknown                       NV          NaN   \n",
              "264         265        Unknown                      NaN          NaN   \n",
              "\n",
              "                       LocationName  \n",
              "0               Newark Airport, EWR  \n",
              "1               Jamaica Bay, Queens  \n",
              "2    Allerton/Pelham Gardens, Bronx  \n",
              "3          Alphabet City, Manhattan  \n",
              "4      Arden Heights, Staten Island  \n",
              "..                              ...  \n",
              "260   World Trade Center, Manhattan  \n",
              "261       Yorkville East, Manhattan  \n",
              "262       Yorkville West, Manhattan  \n",
              "263                     NV, Unknown  \n",
              "264                             NaN  \n",
              "\n",
              "[265 rows x 5 columns]"
            ],
            "text/html": [
              "\n",
              "  <div id=\"df-d9ad225f-dc82-49fc-ae5e-07f7775db758\">\n",
              "    <div class=\"colab-df-container\">\n",
              "      <div>\n",
              "<style scoped>\n",
              "    .dataframe tbody tr th:only-of-type {\n",
              "        vertical-align: middle;\n",
              "    }\n",
              "\n",
              "    .dataframe tbody tr th {\n",
              "        vertical-align: top;\n",
              "    }\n",
              "\n",
              "    .dataframe thead th {\n",
              "        text-align: right;\n",
              "    }\n",
              "</style>\n",
              "<table border=\"1\" class=\"dataframe\">\n",
              "  <thead>\n",
              "    <tr style=\"text-align: right;\">\n",
              "      <th></th>\n",
              "      <th>LocationID</th>\n",
              "      <th>Borough</th>\n",
              "      <th>Zone</th>\n",
              "      <th>service_zone</th>\n",
              "      <th>LocationName</th>\n",
              "    </tr>\n",
              "  </thead>\n",
              "  <tbody>\n",
              "    <tr>\n",
              "      <th>0</th>\n",
              "      <td>1</td>\n",
              "      <td>EWR</td>\n",
              "      <td>Newark Airport</td>\n",
              "      <td>EWR</td>\n",
              "      <td>Newark Airport, EWR</td>\n",
              "    </tr>\n",
              "    <tr>\n",
              "      <th>1</th>\n",
              "      <td>2</td>\n",
              "      <td>Queens</td>\n",
              "      <td>Jamaica Bay</td>\n",
              "      <td>Boro Zone</td>\n",
              "      <td>Jamaica Bay, Queens</td>\n",
              "    </tr>\n",
              "    <tr>\n",
              "      <th>2</th>\n",
              "      <td>3</td>\n",
              "      <td>Bronx</td>\n",
              "      <td>Allerton/Pelham Gardens</td>\n",
              "      <td>Boro Zone</td>\n",
              "      <td>Allerton/Pelham Gardens, Bronx</td>\n",
              "    </tr>\n",
              "    <tr>\n",
              "      <th>3</th>\n",
              "      <td>4</td>\n",
              "      <td>Manhattan</td>\n",
              "      <td>Alphabet City</td>\n",
              "      <td>Yellow Zone</td>\n",
              "      <td>Alphabet City, Manhattan</td>\n",
              "    </tr>\n",
              "    <tr>\n",
              "      <th>4</th>\n",
              "      <td>5</td>\n",
              "      <td>Staten Island</td>\n",
              "      <td>Arden Heights</td>\n",
              "      <td>Boro Zone</td>\n",
              "      <td>Arden Heights, Staten Island</td>\n",
              "    </tr>\n",
              "    <tr>\n",
              "      <th>...</th>\n",
              "      <td>...</td>\n",
              "      <td>...</td>\n",
              "      <td>...</td>\n",
              "      <td>...</td>\n",
              "      <td>...</td>\n",
              "    </tr>\n",
              "    <tr>\n",
              "      <th>260</th>\n",
              "      <td>261</td>\n",
              "      <td>Manhattan</td>\n",
              "      <td>World Trade Center</td>\n",
              "      <td>Yellow Zone</td>\n",
              "      <td>World Trade Center, Manhattan</td>\n",
              "    </tr>\n",
              "    <tr>\n",
              "      <th>261</th>\n",
              "      <td>262</td>\n",
              "      <td>Manhattan</td>\n",
              "      <td>Yorkville East</td>\n",
              "      <td>Yellow Zone</td>\n",
              "      <td>Yorkville East, Manhattan</td>\n",
              "    </tr>\n",
              "    <tr>\n",
              "      <th>262</th>\n",
              "      <td>263</td>\n",
              "      <td>Manhattan</td>\n",
              "      <td>Yorkville West</td>\n",
              "      <td>Yellow Zone</td>\n",
              "      <td>Yorkville West, Manhattan</td>\n",
              "    </tr>\n",
              "    <tr>\n",
              "      <th>263</th>\n",
              "      <td>264</td>\n",
              "      <td>Unknown</td>\n",
              "      <td>NV</td>\n",
              "      <td>NaN</td>\n",
              "      <td>NV, Unknown</td>\n",
              "    </tr>\n",
              "    <tr>\n",
              "      <th>264</th>\n",
              "      <td>265</td>\n",
              "      <td>Unknown</td>\n",
              "      <td>NaN</td>\n",
              "      <td>NaN</td>\n",
              "      <td>NaN</td>\n",
              "    </tr>\n",
              "  </tbody>\n",
              "</table>\n",
              "<p>265 rows × 5 columns</p>\n",
              "</div>\n",
              "      <button class=\"colab-df-convert\" onclick=\"convertToInteractive('df-d9ad225f-dc82-49fc-ae5e-07f7775db758')\"\n",
              "              title=\"Convert this dataframe to an interactive table.\"\n",
              "              style=\"display:none;\">\n",
              "        \n",
              "  <svg xmlns=\"http://www.w3.org/2000/svg\" height=\"24px\"viewBox=\"0 0 24 24\"\n",
              "       width=\"24px\">\n",
              "    <path d=\"M0 0h24v24H0V0z\" fill=\"none\"/>\n",
              "    <path d=\"M18.56 5.44l.94 2.06.94-2.06 2.06-.94-2.06-.94-.94-2.06-.94 2.06-2.06.94zm-11 1L8.5 8.5l.94-2.06 2.06-.94-2.06-.94L8.5 2.5l-.94 2.06-2.06.94zm10 10l.94 2.06.94-2.06 2.06-.94-2.06-.94-.94-2.06-.94 2.06-2.06.94z\"/><path d=\"M17.41 7.96l-1.37-1.37c-.4-.4-.92-.59-1.43-.59-.52 0-1.04.2-1.43.59L10.3 9.45l-7.72 7.72c-.78.78-.78 2.05 0 2.83L4 21.41c.39.39.9.59 1.41.59.51 0 1.02-.2 1.41-.59l7.78-7.78 2.81-2.81c.8-.78.8-2.07 0-2.86zM5.41 20L4 18.59l7.72-7.72 1.47 1.35L5.41 20z\"/>\n",
              "  </svg>\n",
              "      </button>\n",
              "      \n",
              "  <style>\n",
              "    .colab-df-container {\n",
              "      display:flex;\n",
              "      flex-wrap:wrap;\n",
              "      gap: 12px;\n",
              "    }\n",
              "\n",
              "    .colab-df-convert {\n",
              "      background-color: #E8F0FE;\n",
              "      border: none;\n",
              "      border-radius: 50%;\n",
              "      cursor: pointer;\n",
              "      display: none;\n",
              "      fill: #1967D2;\n",
              "      height: 32px;\n",
              "      padding: 0 0 0 0;\n",
              "      width: 32px;\n",
              "    }\n",
              "\n",
              "    .colab-df-convert:hover {\n",
              "      background-color: #E2EBFA;\n",
              "      box-shadow: 0px 1px 2px rgba(60, 64, 67, 0.3), 0px 1px 3px 1px rgba(60, 64, 67, 0.15);\n",
              "      fill: #174EA6;\n",
              "    }\n",
              "\n",
              "    [theme=dark] .colab-df-convert {\n",
              "      background-color: #3B4455;\n",
              "      fill: #D2E3FC;\n",
              "    }\n",
              "\n",
              "    [theme=dark] .colab-df-convert:hover {\n",
              "      background-color: #434B5C;\n",
              "      box-shadow: 0px 1px 3px 1px rgba(0, 0, 0, 0.15);\n",
              "      filter: drop-shadow(0px 1px 2px rgba(0, 0, 0, 0.3));\n",
              "      fill: #FFFFFF;\n",
              "    }\n",
              "  </style>\n",
              "\n",
              "      <script>\n",
              "        const buttonEl =\n",
              "          document.querySelector('#df-d9ad225f-dc82-49fc-ae5e-07f7775db758 button.colab-df-convert');\n",
              "        buttonEl.style.display =\n",
              "          google.colab.kernel.accessAllowed ? 'block' : 'none';\n",
              "\n",
              "        async function convertToInteractive(key) {\n",
              "          const element = document.querySelector('#df-d9ad225f-dc82-49fc-ae5e-07f7775db758');\n",
              "          const dataTable =\n",
              "            await google.colab.kernel.invokeFunction('convertToInteractive',\n",
              "                                                     [key], {});\n",
              "          if (!dataTable) return;\n",
              "\n",
              "          const docLinkHtml = 'Like what you see? Visit the ' +\n",
              "            '<a target=\"_blank\" href=https://colab.research.google.com/notebooks/data_table.ipynb>data table notebook</a>'\n",
              "            + ' to learn more about interactive tables.';\n",
              "          element.innerHTML = '';\n",
              "          dataTable['output_type'] = 'display_data';\n",
              "          await google.colab.output.renderOutput(dataTable, element);\n",
              "          const docLink = document.createElement('div');\n",
              "          docLink.innerHTML = docLinkHtml;\n",
              "          element.appendChild(docLink);\n",
              "        }\n",
              "      </script>\n",
              "    </div>\n",
              "  </div>\n",
              "  "
            ]
          },
          "metadata": {},
          "execution_count": 31
        }
      ]
    },
    {
      "cell_type": "code",
      "source": [
        "zone_df.set_index('LocationID', inplace=True)"
      ],
      "metadata": {
        "execution": {
          "iopub.status.busy": "2022-11-05T15:36:22.207829Z",
          "iopub.execute_input": "2022-11-05T15:36:22.208275Z",
          "iopub.status.idle": "2022-11-05T15:36:22.215881Z",
          "shell.execute_reply.started": "2022-11-05T15:36:22.208239Z",
          "shell.execute_reply": "2022-11-05T15:36:22.214874Z"
        },
        "trusted": true,
        "id": "e0wDYgV2llOz"
      },
      "execution_count": 32,
      "outputs": []
    },
    {
      "cell_type": "code",
      "source": [
        "id_location_map = zone_df['LocationName'].T.to_dict()"
      ],
      "metadata": {
        "execution": {
          "iopub.status.busy": "2022-11-05T15:36:22.218596Z",
          "iopub.execute_input": "2022-11-05T15:36:22.219234Z",
          "iopub.status.idle": "2022-11-05T15:36:22.225955Z",
          "shell.execute_reply.started": "2022-11-05T15:36:22.219198Z",
          "shell.execute_reply": "2022-11-05T15:36:22.224597Z"
        },
        "trusted": true,
        "id": "dlpeYXn-llOz"
      },
      "execution_count": 33,
      "outputs": []
    },
    {
      "cell_type": "code",
      "source": [
        "df['PULocationName'] = df['PULocation'].map(id_location_map)"
      ],
      "metadata": {
        "execution": {
          "iopub.status.busy": "2022-11-05T15:36:22.227636Z",
          "iopub.execute_input": "2022-11-05T15:36:22.227984Z",
          "iopub.status.idle": "2022-11-05T15:36:22.842498Z",
          "shell.execute_reply.started": "2022-11-05T15:36:22.227949Z",
          "shell.execute_reply": "2022-11-05T15:36:22.841460Z"
        },
        "trusted": true,
        "id": "fdiJWxAbllOz"
      },
      "execution_count": 34,
      "outputs": []
    },
    {
      "cell_type": "code",
      "source": [
        "df['DOLocationName'] = df['DOLocation'].map(id_location_map)"
      ],
      "metadata": {
        "execution": {
          "iopub.status.busy": "2022-11-05T15:36:22.843795Z",
          "iopub.execute_input": "2022-11-05T15:36:22.844191Z",
          "iopub.status.idle": "2022-11-05T15:36:23.421755Z",
          "shell.execute_reply.started": "2022-11-05T15:36:22.844152Z",
          "shell.execute_reply": "2022-11-05T15:36:23.420706Z"
        },
        "trusted": true,
        "id": "5QJr2-8qllOz"
      },
      "execution_count": 35,
      "outputs": []
    },
    {
      "cell_type": "code",
      "source": [
        "df"
      ],
      "metadata": {
        "execution": {
          "iopub.status.busy": "2022-11-05T15:36:23.423046Z",
          "iopub.execute_input": "2022-11-05T15:36:23.423436Z",
          "iopub.status.idle": "2022-11-05T15:36:23.452211Z",
          "shell.execute_reply.started": "2022-11-05T15:36:23.423399Z",
          "shell.execute_reply": "2022-11-05T15:36:23.451175Z"
        },
        "trusted": true,
        "colab": {
          "base_uri": "https://localhost:8080/",
          "height": 0
        },
        "id": "KrQKQfclllOz",
        "outputId": "ec33c043-3fe2-4c3a-98f2-f1a73fdb1e2f"
      },
      "execution_count": 36,
      "outputs": [
        {
          "output_type": "execute_result",
          "data": {
            "text/plain": [
              "          taxi_company    request_datetime     pickup_datetime  \\\n",
              "0                    0 2022-06-01 00:15:35 2022-06-01 00:17:41   \n",
              "1                    0 2022-06-01 00:39:04 2022-06-01 00:42:37   \n",
              "2                    0 2022-06-01 00:27:53 2022-06-01 00:36:22   \n",
              "3                    0 2022-06-01 00:48:15 2022-06-01 00:51:18   \n",
              "4                    1 2022-06-01 00:04:51 2022-06-01 00:13:33   \n",
              "...                ...                 ...                 ...   \n",
              "17780070             0 2022-06-30 23:20:49 2022-06-30 23:24:43   \n",
              "17780071             0 2022-06-30 23:36:13 2022-06-30 23:39:20   \n",
              "17780072             0 2022-06-30 23:50:50 2022-06-30 23:57:12   \n",
              "17780073             0 2022-06-30 23:02:40 2022-06-30 23:06:44   \n",
              "17780074             1 2022-06-30 23:00:28 2022-06-30 23:03:06   \n",
              "\n",
              "            dropoff_datetime  PULocation  DOLocation  trip_miles  trip_time  \\\n",
              "0        2022-06-01 00:25:41         234         114       1.500        480   \n",
              "1        2022-06-01 00:56:32         161         151       4.180        835   \n",
              "2        2022-06-01 00:45:31         231          87       2.910        549   \n",
              "3        2022-06-01 01:11:15          87         225       5.450       1197   \n",
              "4        2022-06-01 00:17:27         137         162       1.069        234   \n",
              "...                      ...         ...         ...         ...        ...   \n",
              "17780070 2022-06-30 23:38:19          74         224       6.070        816   \n",
              "17780071 2022-06-30 23:51:10         224          13       4.900        710   \n",
              "17780072 2022-07-01 00:07:07         231         231       0.530        595   \n",
              "17780073 2022-06-30 23:26:28         234          48       2.850       1184   \n",
              "17780074 2022-06-30 23:18:13         244         242       6.207        907   \n",
              "\n",
              "          base_passenger_fare  tips  driver_pay  taxi_company_name  \\\n",
              "0                        7.68  1.00        9.36                  0   \n",
              "1                       20.40  4.82       15.61                  0   \n",
              "2                       12.29  1.00        8.22                  0   \n",
              "3                       24.70  0.00       16.88                  0   \n",
              "4                        8.23  0.00        5.47                  1   \n",
              "...                       ...   ...         ...                ...   \n",
              "17780070                17.60  2.24       16.23                  0   \n",
              "17780071                17.93  0.00       13.94                  0   \n",
              "17780072                11.98  3.00       18.46                  0   \n",
              "17780073                31.47  1.00       27.27                  0   \n",
              "17780074                20.28  0.00       15.26                  1   \n",
              "\n",
              "                                     PULocationName  \\\n",
              "0                               Union Sq, Manhattan   \n",
              "1                         Midtown Center, Manhattan   \n",
              "2                   TriBeCa/Civic Center, Manhattan   \n",
              "3               Financial District North, Manhattan   \n",
              "4                               Kips Bay, Manhattan   \n",
              "...                                             ...   \n",
              "17780070               East Harlem North, Manhattan   \n",
              "17780071  Stuy Town/Peter Cooper Village, Manhattan   \n",
              "17780072            TriBeCa/Civic Center, Manhattan   \n",
              "17780073                        Union Sq, Manhattan   \n",
              "17780074        Washington Heights South, Manhattan   \n",
              "\n",
              "                                     DOLocationName  \n",
              "0                Greenwich Village South, Manhattan  \n",
              "1                       Manhattan Valley, Manhattan  \n",
              "2               Financial District North, Manhattan  \n",
              "3                      Stuyvesant Heights, Brooklyn  \n",
              "4                           Midtown East, Manhattan  \n",
              "...                                             ...  \n",
              "17780070  Stuy Town/Peter Cooper Village, Manhattan  \n",
              "17780071               Battery Park City, Manhattan  \n",
              "17780072            TriBeCa/Civic Center, Manhattan  \n",
              "17780073                    Clinton East, Manhattan  \n",
              "17780074                Van Nest/Morris Park, Bronx  \n",
              "\n",
              "[17007449 rows x 14 columns]"
            ],
            "text/html": [
              "\n",
              "  <div id=\"df-d7ddc15c-2eb8-494e-9a86-e43a88cc69ad\">\n",
              "    <div class=\"colab-df-container\">\n",
              "      <div>\n",
              "<style scoped>\n",
              "    .dataframe tbody tr th:only-of-type {\n",
              "        vertical-align: middle;\n",
              "    }\n",
              "\n",
              "    .dataframe tbody tr th {\n",
              "        vertical-align: top;\n",
              "    }\n",
              "\n",
              "    .dataframe thead th {\n",
              "        text-align: right;\n",
              "    }\n",
              "</style>\n",
              "<table border=\"1\" class=\"dataframe\">\n",
              "  <thead>\n",
              "    <tr style=\"text-align: right;\">\n",
              "      <th></th>\n",
              "      <th>taxi_company</th>\n",
              "      <th>request_datetime</th>\n",
              "      <th>pickup_datetime</th>\n",
              "      <th>dropoff_datetime</th>\n",
              "      <th>PULocation</th>\n",
              "      <th>DOLocation</th>\n",
              "      <th>trip_miles</th>\n",
              "      <th>trip_time</th>\n",
              "      <th>base_passenger_fare</th>\n",
              "      <th>tips</th>\n",
              "      <th>driver_pay</th>\n",
              "      <th>taxi_company_name</th>\n",
              "      <th>PULocationName</th>\n",
              "      <th>DOLocationName</th>\n",
              "    </tr>\n",
              "  </thead>\n",
              "  <tbody>\n",
              "    <tr>\n",
              "      <th>0</th>\n",
              "      <td>0</td>\n",
              "      <td>2022-06-01 00:15:35</td>\n",
              "      <td>2022-06-01 00:17:41</td>\n",
              "      <td>2022-06-01 00:25:41</td>\n",
              "      <td>234</td>\n",
              "      <td>114</td>\n",
              "      <td>1.500</td>\n",
              "      <td>480</td>\n",
              "      <td>7.68</td>\n",
              "      <td>1.00</td>\n",
              "      <td>9.36</td>\n",
              "      <td>0</td>\n",
              "      <td>Union Sq, Manhattan</td>\n",
              "      <td>Greenwich Village South, Manhattan</td>\n",
              "    </tr>\n",
              "    <tr>\n",
              "      <th>1</th>\n",
              "      <td>0</td>\n",
              "      <td>2022-06-01 00:39:04</td>\n",
              "      <td>2022-06-01 00:42:37</td>\n",
              "      <td>2022-06-01 00:56:32</td>\n",
              "      <td>161</td>\n",
              "      <td>151</td>\n",
              "      <td>4.180</td>\n",
              "      <td>835</td>\n",
              "      <td>20.40</td>\n",
              "      <td>4.82</td>\n",
              "      <td>15.61</td>\n",
              "      <td>0</td>\n",
              "      <td>Midtown Center, Manhattan</td>\n",
              "      <td>Manhattan Valley, Manhattan</td>\n",
              "    </tr>\n",
              "    <tr>\n",
              "      <th>2</th>\n",
              "      <td>0</td>\n",
              "      <td>2022-06-01 00:27:53</td>\n",
              "      <td>2022-06-01 00:36:22</td>\n",
              "      <td>2022-06-01 00:45:31</td>\n",
              "      <td>231</td>\n",
              "      <td>87</td>\n",
              "      <td>2.910</td>\n",
              "      <td>549</td>\n",
              "      <td>12.29</td>\n",
              "      <td>1.00</td>\n",
              "      <td>8.22</td>\n",
              "      <td>0</td>\n",
              "      <td>TriBeCa/Civic Center, Manhattan</td>\n",
              "      <td>Financial District North, Manhattan</td>\n",
              "    </tr>\n",
              "    <tr>\n",
              "      <th>3</th>\n",
              "      <td>0</td>\n",
              "      <td>2022-06-01 00:48:15</td>\n",
              "      <td>2022-06-01 00:51:18</td>\n",
              "      <td>2022-06-01 01:11:15</td>\n",
              "      <td>87</td>\n",
              "      <td>225</td>\n",
              "      <td>5.450</td>\n",
              "      <td>1197</td>\n",
              "      <td>24.70</td>\n",
              "      <td>0.00</td>\n",
              "      <td>16.88</td>\n",
              "      <td>0</td>\n",
              "      <td>Financial District North, Manhattan</td>\n",
              "      <td>Stuyvesant Heights, Brooklyn</td>\n",
              "    </tr>\n",
              "    <tr>\n",
              "      <th>4</th>\n",
              "      <td>1</td>\n",
              "      <td>2022-06-01 00:04:51</td>\n",
              "      <td>2022-06-01 00:13:33</td>\n",
              "      <td>2022-06-01 00:17:27</td>\n",
              "      <td>137</td>\n",
              "      <td>162</td>\n",
              "      <td>1.069</td>\n",
              "      <td>234</td>\n",
              "      <td>8.23</td>\n",
              "      <td>0.00</td>\n",
              "      <td>5.47</td>\n",
              "      <td>1</td>\n",
              "      <td>Kips Bay, Manhattan</td>\n",
              "      <td>Midtown East, Manhattan</td>\n",
              "    </tr>\n",
              "    <tr>\n",
              "      <th>...</th>\n",
              "      <td>...</td>\n",
              "      <td>...</td>\n",
              "      <td>...</td>\n",
              "      <td>...</td>\n",
              "      <td>...</td>\n",
              "      <td>...</td>\n",
              "      <td>...</td>\n",
              "      <td>...</td>\n",
              "      <td>...</td>\n",
              "      <td>...</td>\n",
              "      <td>...</td>\n",
              "      <td>...</td>\n",
              "      <td>...</td>\n",
              "      <td>...</td>\n",
              "    </tr>\n",
              "    <tr>\n",
              "      <th>17780070</th>\n",
              "      <td>0</td>\n",
              "      <td>2022-06-30 23:20:49</td>\n",
              "      <td>2022-06-30 23:24:43</td>\n",
              "      <td>2022-06-30 23:38:19</td>\n",
              "      <td>74</td>\n",
              "      <td>224</td>\n",
              "      <td>6.070</td>\n",
              "      <td>816</td>\n",
              "      <td>17.60</td>\n",
              "      <td>2.24</td>\n",
              "      <td>16.23</td>\n",
              "      <td>0</td>\n",
              "      <td>East Harlem North, Manhattan</td>\n",
              "      <td>Stuy Town/Peter Cooper Village, Manhattan</td>\n",
              "    </tr>\n",
              "    <tr>\n",
              "      <th>17780071</th>\n",
              "      <td>0</td>\n",
              "      <td>2022-06-30 23:36:13</td>\n",
              "      <td>2022-06-30 23:39:20</td>\n",
              "      <td>2022-06-30 23:51:10</td>\n",
              "      <td>224</td>\n",
              "      <td>13</td>\n",
              "      <td>4.900</td>\n",
              "      <td>710</td>\n",
              "      <td>17.93</td>\n",
              "      <td>0.00</td>\n",
              "      <td>13.94</td>\n",
              "      <td>0</td>\n",
              "      <td>Stuy Town/Peter Cooper Village, Manhattan</td>\n",
              "      <td>Battery Park City, Manhattan</td>\n",
              "    </tr>\n",
              "    <tr>\n",
              "      <th>17780072</th>\n",
              "      <td>0</td>\n",
              "      <td>2022-06-30 23:50:50</td>\n",
              "      <td>2022-06-30 23:57:12</td>\n",
              "      <td>2022-07-01 00:07:07</td>\n",
              "      <td>231</td>\n",
              "      <td>231</td>\n",
              "      <td>0.530</td>\n",
              "      <td>595</td>\n",
              "      <td>11.98</td>\n",
              "      <td>3.00</td>\n",
              "      <td>18.46</td>\n",
              "      <td>0</td>\n",
              "      <td>TriBeCa/Civic Center, Manhattan</td>\n",
              "      <td>TriBeCa/Civic Center, Manhattan</td>\n",
              "    </tr>\n",
              "    <tr>\n",
              "      <th>17780073</th>\n",
              "      <td>0</td>\n",
              "      <td>2022-06-30 23:02:40</td>\n",
              "      <td>2022-06-30 23:06:44</td>\n",
              "      <td>2022-06-30 23:26:28</td>\n",
              "      <td>234</td>\n",
              "      <td>48</td>\n",
              "      <td>2.850</td>\n",
              "      <td>1184</td>\n",
              "      <td>31.47</td>\n",
              "      <td>1.00</td>\n",
              "      <td>27.27</td>\n",
              "      <td>0</td>\n",
              "      <td>Union Sq, Manhattan</td>\n",
              "      <td>Clinton East, Manhattan</td>\n",
              "    </tr>\n",
              "    <tr>\n",
              "      <th>17780074</th>\n",
              "      <td>1</td>\n",
              "      <td>2022-06-30 23:00:28</td>\n",
              "      <td>2022-06-30 23:03:06</td>\n",
              "      <td>2022-06-30 23:18:13</td>\n",
              "      <td>244</td>\n",
              "      <td>242</td>\n",
              "      <td>6.207</td>\n",
              "      <td>907</td>\n",
              "      <td>20.28</td>\n",
              "      <td>0.00</td>\n",
              "      <td>15.26</td>\n",
              "      <td>1</td>\n",
              "      <td>Washington Heights South, Manhattan</td>\n",
              "      <td>Van Nest/Morris Park, Bronx</td>\n",
              "    </tr>\n",
              "  </tbody>\n",
              "</table>\n",
              "<p>17007449 rows × 14 columns</p>\n",
              "</div>\n",
              "      <button class=\"colab-df-convert\" onclick=\"convertToInteractive('df-d7ddc15c-2eb8-494e-9a86-e43a88cc69ad')\"\n",
              "              title=\"Convert this dataframe to an interactive table.\"\n",
              "              style=\"display:none;\">\n",
              "        \n",
              "  <svg xmlns=\"http://www.w3.org/2000/svg\" height=\"24px\"viewBox=\"0 0 24 24\"\n",
              "       width=\"24px\">\n",
              "    <path d=\"M0 0h24v24H0V0z\" fill=\"none\"/>\n",
              "    <path d=\"M18.56 5.44l.94 2.06.94-2.06 2.06-.94-2.06-.94-.94-2.06-.94 2.06-2.06.94zm-11 1L8.5 8.5l.94-2.06 2.06-.94-2.06-.94L8.5 2.5l-.94 2.06-2.06.94zm10 10l.94 2.06.94-2.06 2.06-.94-2.06-.94-.94-2.06-.94 2.06-2.06.94z\"/><path d=\"M17.41 7.96l-1.37-1.37c-.4-.4-.92-.59-1.43-.59-.52 0-1.04.2-1.43.59L10.3 9.45l-7.72 7.72c-.78.78-.78 2.05 0 2.83L4 21.41c.39.39.9.59 1.41.59.51 0 1.02-.2 1.41-.59l7.78-7.78 2.81-2.81c.8-.78.8-2.07 0-2.86zM5.41 20L4 18.59l7.72-7.72 1.47 1.35L5.41 20z\"/>\n",
              "  </svg>\n",
              "      </button>\n",
              "      \n",
              "  <style>\n",
              "    .colab-df-container {\n",
              "      display:flex;\n",
              "      flex-wrap:wrap;\n",
              "      gap: 12px;\n",
              "    }\n",
              "\n",
              "    .colab-df-convert {\n",
              "      background-color: #E8F0FE;\n",
              "      border: none;\n",
              "      border-radius: 50%;\n",
              "      cursor: pointer;\n",
              "      display: none;\n",
              "      fill: #1967D2;\n",
              "      height: 32px;\n",
              "      padding: 0 0 0 0;\n",
              "      width: 32px;\n",
              "    }\n",
              "\n",
              "    .colab-df-convert:hover {\n",
              "      background-color: #E2EBFA;\n",
              "      box-shadow: 0px 1px 2px rgba(60, 64, 67, 0.3), 0px 1px 3px 1px rgba(60, 64, 67, 0.15);\n",
              "      fill: #174EA6;\n",
              "    }\n",
              "\n",
              "    [theme=dark] .colab-df-convert {\n",
              "      background-color: #3B4455;\n",
              "      fill: #D2E3FC;\n",
              "    }\n",
              "\n",
              "    [theme=dark] .colab-df-convert:hover {\n",
              "      background-color: #434B5C;\n",
              "      box-shadow: 0px 1px 3px 1px rgba(0, 0, 0, 0.15);\n",
              "      filter: drop-shadow(0px 1px 2px rgba(0, 0, 0, 0.3));\n",
              "      fill: #FFFFFF;\n",
              "    }\n",
              "  </style>\n",
              "\n",
              "      <script>\n",
              "        const buttonEl =\n",
              "          document.querySelector('#df-d7ddc15c-2eb8-494e-9a86-e43a88cc69ad button.colab-df-convert');\n",
              "        buttonEl.style.display =\n",
              "          google.colab.kernel.accessAllowed ? 'block' : 'none';\n",
              "\n",
              "        async function convertToInteractive(key) {\n",
              "          const element = document.querySelector('#df-d7ddc15c-2eb8-494e-9a86-e43a88cc69ad');\n",
              "          const dataTable =\n",
              "            await google.colab.kernel.invokeFunction('convertToInteractive',\n",
              "                                                     [key], {});\n",
              "          if (!dataTable) return;\n",
              "\n",
              "          const docLinkHtml = 'Like what you see? Visit the ' +\n",
              "            '<a target=\"_blank\" href=https://colab.research.google.com/notebooks/data_table.ipynb>data table notebook</a>'\n",
              "            + ' to learn more about interactive tables.';\n",
              "          element.innerHTML = '';\n",
              "          dataTable['output_type'] = 'display_data';\n",
              "          await google.colab.output.renderOutput(dataTable, element);\n",
              "          const docLink = document.createElement('div');\n",
              "          docLink.innerHTML = docLinkHtml;\n",
              "          element.appendChild(docLink);\n",
              "        }\n",
              "      </script>\n",
              "    </div>\n",
              "  </div>\n",
              "  "
            ]
          },
          "metadata": {},
          "execution_count": 36
        }
      ]
    },
    {
      "cell_type": "markdown",
      "source": [
        "### Data Cleaning/Processing - 7\n",
        "- Each trip has different number of miles, time taken and the final price\n",
        "- To compare the prices among different trips, a new column called \"fare_per_mile_per_second\" is created which is obtained by dividing the \"base_passenger_fare\" by the \"trip_miles\" and \"trip_time\""
      ],
      "metadata": {
        "id": "G6ns_y0tllOz"
      }
    },
    {
      "cell_type": "code",
      "source": [
        "df['fare_per_mile_per_second'] = df['base_passenger_fare']/(df['trip_miles']*df['trip_time'])"
      ],
      "metadata": {
        "execution": {
          "iopub.status.busy": "2022-11-05T15:36:23.453691Z",
          "iopub.execute_input": "2022-11-05T15:36:23.454188Z",
          "iopub.status.idle": "2022-11-05T15:36:23.615040Z",
          "shell.execute_reply.started": "2022-11-05T15:36:23.454149Z",
          "shell.execute_reply": "2022-11-05T15:36:23.614005Z"
        },
        "trusted": true,
        "id": "p-PVYbGtllOz"
      },
      "execution_count": 37,
      "outputs": []
    },
    {
      "cell_type": "markdown",
      "source": [
        "### Data Cleaning/Processing - 8\n",
        "- Create a new dataframe grouped by \"taxi_company\".\n",
        "- This will be used to perform various analysis and compare results between different taxi companies. (Uber and Lyft)"
      ],
      "metadata": {
        "id": "AyMsAPd5llOz"
      }
    },
    {
      "cell_type": "code",
      "source": [
        "taxi_grp_df = df.groupby(['taxi_company'])"
      ],
      "metadata": {
        "execution": {
          "iopub.status.busy": "2022-11-05T15:36:23.616331Z",
          "iopub.execute_input": "2022-11-05T15:36:23.616698Z",
          "iopub.status.idle": "2022-11-05T15:36:23.622929Z",
          "shell.execute_reply.started": "2022-11-05T15:36:23.616646Z",
          "shell.execute_reply": "2022-11-05T15:36:23.621939Z"
        },
        "trusted": true,
        "id": "k9i0AsSfllOz"
      },
      "execution_count": 38,
      "outputs": []
    },
    {
      "cell_type": "markdown",
      "source": [
        "\"plot_bar\" function to plot bar chart"
      ],
      "metadata": {
        "id": "adZp7ZwpllOz"
      }
    },
    {
      "cell_type": "code",
      "source": [
        "def plot_bar(obj):\n",
        "    obj.plot(kind='bar', title=obj.name, legend=True)"
      ],
      "metadata": {
        "execution": {
          "iopub.status.busy": "2022-11-05T15:36:23.624404Z",
          "iopub.execute_input": "2022-11-05T15:36:23.625047Z",
          "iopub.status.idle": "2022-11-05T15:36:23.633881Z",
          "shell.execute_reply.started": "2022-11-05T15:36:23.625008Z",
          "shell.execute_reply": "2022-11-05T15:36:23.632864Z"
        },
        "trusted": true,
        "id": "UjnoekiOllOz"
      },
      "execution_count": 39,
      "outputs": []
    },
    {
      "cell_type": "markdown",
      "source": [
        "### Data Cleaning/Processing - 9\n",
        "- Extract the hour from the given date time column for Request, Pickup and Dropoff\n",
        "- This is used to analyse the trips during different times of day"
      ],
      "metadata": {
        "id": "RFFL-6LWllOz"
      }
    },
    {
      "cell_type": "code",
      "source": [
        "df['request_hour'] = df['request_datetime'].dt.hour\n",
        "df['pickup_hour'] = df['pickup_datetime'].dt.hour\n",
        "df['dropoff_hour'] = df['dropoff_datetime'].dt.hour"
      ],
      "metadata": {
        "scrolled": true,
        "execution": {
          "iopub.status.busy": "2022-11-05T15:36:23.635314Z",
          "iopub.execute_input": "2022-11-05T15:36:23.635674Z",
          "iopub.status.idle": "2022-11-05T15:36:27.962073Z",
          "shell.execute_reply.started": "2022-11-05T15:36:23.635639Z",
          "shell.execute_reply": "2022-11-05T15:36:27.961081Z"
        },
        "trusted": true,
        "id": "ogC9zwx0llOz"
      },
      "execution_count": 40,
      "outputs": []
    },
    {
      "cell_type": "code",
      "source": [
        "def plot_hist(df, series, remove_extremes=True):\n",
        "    max_value = df[series].quantile(0.99)\n",
        "    if remove_extremes:\n",
        "        df = df[df[series] < max_value]\n",
        "        df = df[df[series] > 0]\n",
        "    df[series].hist(bins=range(int(max_value)), legend=True)"
      ],
      "metadata": {
        "execution": {
          "iopub.status.busy": "2022-11-05T15:36:27.963447Z",
          "iopub.execute_input": "2022-11-05T15:36:27.963822Z",
          "iopub.status.idle": "2022-11-05T15:36:27.971027Z",
          "shell.execute_reply.started": "2022-11-05T15:36:27.963785Z",
          "shell.execute_reply": "2022-11-05T15:36:27.969840Z"
        },
        "trusted": true,
        "id": "3ZLeXHgYllO0"
      },
      "execution_count": 41,
      "outputs": []
    },
    {
      "cell_type": "markdown",
      "source": [
        "### Data Cleaning/Processing - 10\n",
        "- Create a new column \"driver_percent_in_fare\" to analyse the driver's pay as a percentage of the \"base_passenger_fare\"\n",
        "- This is used later to understand how much of a profit margin Taxi companies are targetting to achieve. This profit margin directly effects the price passengers pay."
      ],
      "metadata": {
        "id": "DRUeHlkdllO0"
      }
    },
    {
      "cell_type": "code",
      "source": [
        "df['driver_percent_in_fare'] = df['driver_pay']/df['base_passenger_fare']*100"
      ],
      "metadata": {
        "execution": {
          "iopub.status.busy": "2022-11-05T15:36:27.972835Z",
          "iopub.execute_input": "2022-11-05T15:36:27.973273Z",
          "iopub.status.idle": "2022-11-05T15:36:28.120461Z",
          "shell.execute_reply.started": "2022-11-05T15:36:27.973235Z",
          "shell.execute_reply": "2022-11-05T15:36:28.119430Z"
        },
        "trusted": true,
        "id": "Cs56qTXRllO0"
      },
      "execution_count": 42,
      "outputs": []
    },
    {
      "cell_type": "markdown",
      "source": [
        "Seaborn plot utility functions for histogram and bar charts (Used for plotting grouped by data)"
      ],
      "metadata": {
        "id": "E9l5aDo0llO0"
      }
    },
    {
      "cell_type": "code",
      "source": [
        "def plot_sns_grp_hist(grp_df, x, hue):\n",
        "    ax = sns.histplot(grp_df, x=x, hue=hue, multiple='stack')\n",
        "    ax.set(xlim=(0, grp_df[x].quantile(0.99)))"
      ],
      "metadata": {
        "execution": {
          "iopub.status.busy": "2022-11-05T15:36:28.123174Z",
          "iopub.execute_input": "2022-11-05T15:36:28.123915Z",
          "iopub.status.idle": "2022-11-05T15:36:28.129778Z",
          "shell.execute_reply.started": "2022-11-05T15:36:28.123874Z",
          "shell.execute_reply": "2022-11-05T15:36:28.128513Z"
        },
        "trusted": true,
        "id": "Q-lCcdAmllO0"
      },
      "execution_count": 43,
      "outputs": []
    },
    {
      "cell_type": "code",
      "source": [
        "def plot_sns_grp_bar(grp_df, x, hue):\n",
        "    ax = sns.barplot(grp_df, x=x, hue=hue, multiple='stack')\n",
        "    ax.set(xlim=(0, grp_df[x].quantile(0.99)))"
      ],
      "metadata": {
        "execution": {
          "iopub.status.busy": "2022-11-05T15:36:28.131449Z",
          "iopub.execute_input": "2022-11-05T15:36:28.131853Z",
          "iopub.status.idle": "2022-11-05T15:36:28.140122Z",
          "shell.execute_reply.started": "2022-11-05T15:36:28.131776Z",
          "shell.execute_reply": "2022-11-05T15:36:28.139085Z"
        },
        "trusted": true,
        "id": "zfycDZHellO0"
      },
      "execution_count": 44,
      "outputs": []
    },
    {
      "cell_type": "markdown",
      "source": [
        "Utility functions to remove outliers, normalize column data using mean-std.dev or min-max procedures"
      ],
      "metadata": {
        "id": "8RTo0h6fllO0"
      }
    },
    {
      "cell_type": "code",
      "source": [
        "def remove_outliers(df, column):\n",
        "    min_value = df[column].quantile(0.01)\n",
        "    max_value = df[column].quantile(0.99)\n",
        "    df = df[df[column] < max_value]\n",
        "    df = df[df[column] > min_value]"
      ],
      "metadata": {
        "execution": {
          "iopub.status.busy": "2022-11-05T15:36:28.141981Z",
          "iopub.execute_input": "2022-11-05T15:36:28.142470Z",
          "iopub.status.idle": "2022-11-05T15:36:28.150710Z",
          "shell.execute_reply.started": "2022-11-05T15:36:28.142432Z",
          "shell.execute_reply": "2022-11-05T15:36:28.149900Z"
        },
        "trusted": true,
        "id": "jQKTlHIBllO0"
      },
      "execution_count": 45,
      "outputs": []
    },
    {
      "cell_type": "code",
      "source": [
        "def mean_std_norm(df, column):\n",
        "    meanv = df[column].mean()\n",
        "    stdv = df[column].std()\n",
        "    df[column] = (df[column] - meanv)/stdv\n",
        "    df[column] += 1\n",
        "    df[column] /= 2"
      ],
      "metadata": {
        "execution": {
          "iopub.status.busy": "2022-11-05T15:36:28.151785Z",
          "iopub.execute_input": "2022-11-05T15:36:28.154067Z",
          "iopub.status.idle": "2022-11-05T15:36:28.160929Z",
          "shell.execute_reply.started": "2022-11-05T15:36:28.154030Z",
          "shell.execute_reply": "2022-11-05T15:36:28.160323Z"
        },
        "trusted": true,
        "id": "EmDSSJNLllO0"
      },
      "execution_count": 46,
      "outputs": []
    },
    {
      "cell_type": "code",
      "source": [
        "def min_max_norm(df, column):\n",
        "    minv = df[column].min()\n",
        "    maxv = df[column].max()\n",
        "    df[column] = 100*(df[column] - minv)/(maxv - minv)"
      ],
      "metadata": {
        "execution": {
          "iopub.status.busy": "2022-11-05T15:36:28.162149Z",
          "iopub.execute_input": "2022-11-05T15:36:28.162959Z",
          "iopub.status.idle": "2022-11-05T15:36:28.170876Z",
          "shell.execute_reply.started": "2022-11-05T15:36:28.162922Z",
          "shell.execute_reply": "2022-11-05T15:36:28.170193Z"
        },
        "trusted": true,
        "id": "ONeadfJ6llO0"
      },
      "execution_count": 47,
      "outputs": []
    },
    {
      "cell_type": "code",
      "source": [
        "# Used later\n",
        "# remove_outliers(df, 'fare_per_mile_per_second')\n",
        "# min_max_norm(df, 'fare_per_mile_per_second')"
      ],
      "metadata": {
        "execution": {
          "iopub.status.busy": "2022-11-05T15:36:28.172036Z",
          "iopub.execute_input": "2022-11-05T15:36:28.172991Z",
          "iopub.status.idle": "2022-11-05T15:36:28.179717Z",
          "shell.execute_reply.started": "2022-11-05T15:36:28.172955Z",
          "shell.execute_reply": "2022-11-05T15:36:28.179032Z"
        },
        "trusted": true,
        "id": "znhU46qqllO0"
      },
      "execution_count": 48,
      "outputs": []
    },
    {
      "cell_type": "markdown",
      "source": [
        "### Data Cleaning/Processing - 11\n",
        "- In order to understand the true cost of each trip and the driver profits after deducting their gas cost, new columns like \"driver_expenditure\", \"driver_profit\" and \"taxi_company_profit\" are created.\n",
        "- This is used in later phases to predict the base fare and how little or more the taxi company can charge the passenger and still end up in profit.\n",
        "- Average mileage and gas price for the month are hyperparameters. We can choose the value according to the car type and gas prices"
      ],
      "metadata": {
        "id": "7kKS3ovbllO0"
      }
    },
    {
      "cell_type": "code",
      "source": [
        "mpg = 20 # average miles per gallon\n",
        "pg = 5.56 # NYC gas price in June 2022\n",
        "df['driver_expenditure'] = (df['trip_miles']/mpg)*pg\n",
        "df['driver_profit'] = df['driver_pay'] - df['driver_expenditure']\n",
        "df['taxi_company_profit'] = df['base_passenger_fare'] - df['driver_pay']"
      ],
      "metadata": {
        "execution": {
          "iopub.status.busy": "2022-11-05T15:36:28.180897Z",
          "iopub.execute_input": "2022-11-05T15:36:28.181710Z",
          "iopub.status.idle": "2022-11-05T15:36:28.517841Z",
          "shell.execute_reply.started": "2022-11-05T15:36:28.181664Z",
          "shell.execute_reply": "2022-11-05T15:36:28.516825Z"
        },
        "trusted": true,
        "id": "1Vi2sXQtllO0"
      },
      "execution_count": 49,
      "outputs": []
    },
    {
      "cell_type": "markdown",
      "source": [
        "## Machine Learning models to predict fare\n",
        "(June 2022 Data, For Hire High Volume Vehicles only. Ex: Uber, Lyft)"
      ],
      "metadata": {
        "id": "rYFa_x-FllO0"
      }
    },
    {
      "cell_type": "code",
      "source": [
        "df"
      ],
      "metadata": {
        "execution": {
          "iopub.status.busy": "2022-11-05T15:36:28.521036Z",
          "iopub.execute_input": "2022-11-05T15:36:28.521866Z",
          "iopub.status.idle": "2022-11-05T15:36:34.835737Z",
          "shell.execute_reply.started": "2022-11-05T15:36:28.521835Z",
          "shell.execute_reply": "2022-11-05T15:36:34.834776Z"
        },
        "trusted": true,
        "colab": {
          "base_uri": "https://localhost:8080/",
          "height": 713
        },
        "id": "R0lke2BOllO1",
        "outputId": "ec776e8a-5289-423b-c836-fc9294715abb"
      },
      "execution_count": 50,
      "outputs": [
        {
          "output_type": "execute_result",
          "data": {
            "text/plain": [
              "          taxi_company    request_datetime     pickup_datetime  \\\n",
              "0                    0 2022-06-01 00:15:35 2022-06-01 00:17:41   \n",
              "1                    0 2022-06-01 00:39:04 2022-06-01 00:42:37   \n",
              "2                    0 2022-06-01 00:27:53 2022-06-01 00:36:22   \n",
              "3                    0 2022-06-01 00:48:15 2022-06-01 00:51:18   \n",
              "4                    1 2022-06-01 00:04:51 2022-06-01 00:13:33   \n",
              "...                ...                 ...                 ...   \n",
              "17780070             0 2022-06-30 23:20:49 2022-06-30 23:24:43   \n",
              "17780071             0 2022-06-30 23:36:13 2022-06-30 23:39:20   \n",
              "17780072             0 2022-06-30 23:50:50 2022-06-30 23:57:12   \n",
              "17780073             0 2022-06-30 23:02:40 2022-06-30 23:06:44   \n",
              "17780074             1 2022-06-30 23:00:28 2022-06-30 23:03:06   \n",
              "\n",
              "            dropoff_datetime  PULocation  DOLocation  trip_miles  trip_time  \\\n",
              "0        2022-06-01 00:25:41         234         114       1.500        480   \n",
              "1        2022-06-01 00:56:32         161         151       4.180        835   \n",
              "2        2022-06-01 00:45:31         231          87       2.910        549   \n",
              "3        2022-06-01 01:11:15          87         225       5.450       1197   \n",
              "4        2022-06-01 00:17:27         137         162       1.069        234   \n",
              "...                      ...         ...         ...         ...        ...   \n",
              "17780070 2022-06-30 23:38:19          74         224       6.070        816   \n",
              "17780071 2022-06-30 23:51:10         224          13       4.900        710   \n",
              "17780072 2022-07-01 00:07:07         231         231       0.530        595   \n",
              "17780073 2022-06-30 23:26:28         234          48       2.850       1184   \n",
              "17780074 2022-06-30 23:18:13         244         242       6.207        907   \n",
              "\n",
              "          base_passenger_fare  tips  ...  \\\n",
              "0                        7.68  1.00  ...   \n",
              "1                       20.40  4.82  ...   \n",
              "2                       12.29  1.00  ...   \n",
              "3                       24.70  0.00  ...   \n",
              "4                        8.23  0.00  ...   \n",
              "...                       ...   ...  ...   \n",
              "17780070                17.60  2.24  ...   \n",
              "17780071                17.93  0.00  ...   \n",
              "17780072                11.98  3.00  ...   \n",
              "17780073                31.47  1.00  ...   \n",
              "17780074                20.28  0.00  ...   \n",
              "\n",
              "                                     PULocationName  \\\n",
              "0                               Union Sq, Manhattan   \n",
              "1                         Midtown Center, Manhattan   \n",
              "2                   TriBeCa/Civic Center, Manhattan   \n",
              "3               Financial District North, Manhattan   \n",
              "4                               Kips Bay, Manhattan   \n",
              "...                                             ...   \n",
              "17780070               East Harlem North, Manhattan   \n",
              "17780071  Stuy Town/Peter Cooper Village, Manhattan   \n",
              "17780072            TriBeCa/Civic Center, Manhattan   \n",
              "17780073                        Union Sq, Manhattan   \n",
              "17780074        Washington Heights South, Manhattan   \n",
              "\n",
              "                                     DOLocationName fare_per_mile_per_second  \\\n",
              "0                Greenwich Village South, Manhattan                 0.010667   \n",
              "1                       Manhattan Valley, Manhattan                 0.005845   \n",
              "2               Financial District North, Manhattan                 0.007693   \n",
              "3                      Stuyvesant Heights, Brooklyn                 0.003786   \n",
              "4                           Midtown East, Manhattan                 0.032901   \n",
              "...                                             ...                      ...   \n",
              "17780070  Stuy Town/Peter Cooper Village, Manhattan                 0.003553   \n",
              "17780071               Battery Park City, Manhattan                 0.005154   \n",
              "17780072            TriBeCa/Civic Center, Manhattan                 0.037990   \n",
              "17780073                    Clinton East, Manhattan                 0.009326   \n",
              "17780074                Van Nest/Morris Park, Bronx                 0.003602   \n",
              "\n",
              "         request_hour  pickup_hour  dropoff_hour  driver_percent_in_fare  \\\n",
              "0                   0            0             0              121.875000   \n",
              "1                   0            0             0               76.519608   \n",
              "2                   0            0             0               66.883645   \n",
              "3                   0            0             1               68.340081   \n",
              "4                   0            0             0               66.464156   \n",
              "...               ...          ...           ...                     ...   \n",
              "17780070           23           23            23               92.215909   \n",
              "17780071           23           23            23               77.746793   \n",
              "17780072           23           23             0              154.090150   \n",
              "17780073           23           23            23               86.653956   \n",
              "17780074           23           23            23               75.246548   \n",
              "\n",
              "          driver_expenditure  driver_profit  taxi_company_profit  \n",
              "0                   0.417000       8.943000                -1.68  \n",
              "1                   1.162040      14.447960                 4.79  \n",
              "2                   0.808980       7.411020                 4.07  \n",
              "3                   1.515100      15.364900                 7.82  \n",
              "4                   0.297182       5.172818                 2.76  \n",
              "...                      ...            ...                  ...  \n",
              "17780070            1.687460      14.542540                 1.37  \n",
              "17780071            1.362200      12.577800                 3.99  \n",
              "17780072            0.147340      18.312660                -6.48  \n",
              "17780073            0.792300      26.477700                 4.20  \n",
              "17780074            1.725546      13.534454                 5.02  \n",
              "\n",
              "[17007449 rows x 22 columns]"
            ],
            "text/html": [
              "\n",
              "  <div id=\"df-c760469b-13dd-47fd-b235-ae96cebaf880\">\n",
              "    <div class=\"colab-df-container\">\n",
              "      <div>\n",
              "<style scoped>\n",
              "    .dataframe tbody tr th:only-of-type {\n",
              "        vertical-align: middle;\n",
              "    }\n",
              "\n",
              "    .dataframe tbody tr th {\n",
              "        vertical-align: top;\n",
              "    }\n",
              "\n",
              "    .dataframe thead th {\n",
              "        text-align: right;\n",
              "    }\n",
              "</style>\n",
              "<table border=\"1\" class=\"dataframe\">\n",
              "  <thead>\n",
              "    <tr style=\"text-align: right;\">\n",
              "      <th></th>\n",
              "      <th>taxi_company</th>\n",
              "      <th>request_datetime</th>\n",
              "      <th>pickup_datetime</th>\n",
              "      <th>dropoff_datetime</th>\n",
              "      <th>PULocation</th>\n",
              "      <th>DOLocation</th>\n",
              "      <th>trip_miles</th>\n",
              "      <th>trip_time</th>\n",
              "      <th>base_passenger_fare</th>\n",
              "      <th>tips</th>\n",
              "      <th>...</th>\n",
              "      <th>PULocationName</th>\n",
              "      <th>DOLocationName</th>\n",
              "      <th>fare_per_mile_per_second</th>\n",
              "      <th>request_hour</th>\n",
              "      <th>pickup_hour</th>\n",
              "      <th>dropoff_hour</th>\n",
              "      <th>driver_percent_in_fare</th>\n",
              "      <th>driver_expenditure</th>\n",
              "      <th>driver_profit</th>\n",
              "      <th>taxi_company_profit</th>\n",
              "    </tr>\n",
              "  </thead>\n",
              "  <tbody>\n",
              "    <tr>\n",
              "      <th>0</th>\n",
              "      <td>0</td>\n",
              "      <td>2022-06-01 00:15:35</td>\n",
              "      <td>2022-06-01 00:17:41</td>\n",
              "      <td>2022-06-01 00:25:41</td>\n",
              "      <td>234</td>\n",
              "      <td>114</td>\n",
              "      <td>1.500</td>\n",
              "      <td>480</td>\n",
              "      <td>7.68</td>\n",
              "      <td>1.00</td>\n",
              "      <td>...</td>\n",
              "      <td>Union Sq, Manhattan</td>\n",
              "      <td>Greenwich Village South, Manhattan</td>\n",
              "      <td>0.010667</td>\n",
              "      <td>0</td>\n",
              "      <td>0</td>\n",
              "      <td>0</td>\n",
              "      <td>121.875000</td>\n",
              "      <td>0.417000</td>\n",
              "      <td>8.943000</td>\n",
              "      <td>-1.68</td>\n",
              "    </tr>\n",
              "    <tr>\n",
              "      <th>1</th>\n",
              "      <td>0</td>\n",
              "      <td>2022-06-01 00:39:04</td>\n",
              "      <td>2022-06-01 00:42:37</td>\n",
              "      <td>2022-06-01 00:56:32</td>\n",
              "      <td>161</td>\n",
              "      <td>151</td>\n",
              "      <td>4.180</td>\n",
              "      <td>835</td>\n",
              "      <td>20.40</td>\n",
              "      <td>4.82</td>\n",
              "      <td>...</td>\n",
              "      <td>Midtown Center, Manhattan</td>\n",
              "      <td>Manhattan Valley, Manhattan</td>\n",
              "      <td>0.005845</td>\n",
              "      <td>0</td>\n",
              "      <td>0</td>\n",
              "      <td>0</td>\n",
              "      <td>76.519608</td>\n",
              "      <td>1.162040</td>\n",
              "      <td>14.447960</td>\n",
              "      <td>4.79</td>\n",
              "    </tr>\n",
              "    <tr>\n",
              "      <th>2</th>\n",
              "      <td>0</td>\n",
              "      <td>2022-06-01 00:27:53</td>\n",
              "      <td>2022-06-01 00:36:22</td>\n",
              "      <td>2022-06-01 00:45:31</td>\n",
              "      <td>231</td>\n",
              "      <td>87</td>\n",
              "      <td>2.910</td>\n",
              "      <td>549</td>\n",
              "      <td>12.29</td>\n",
              "      <td>1.00</td>\n",
              "      <td>...</td>\n",
              "      <td>TriBeCa/Civic Center, Manhattan</td>\n",
              "      <td>Financial District North, Manhattan</td>\n",
              "      <td>0.007693</td>\n",
              "      <td>0</td>\n",
              "      <td>0</td>\n",
              "      <td>0</td>\n",
              "      <td>66.883645</td>\n",
              "      <td>0.808980</td>\n",
              "      <td>7.411020</td>\n",
              "      <td>4.07</td>\n",
              "    </tr>\n",
              "    <tr>\n",
              "      <th>3</th>\n",
              "      <td>0</td>\n",
              "      <td>2022-06-01 00:48:15</td>\n",
              "      <td>2022-06-01 00:51:18</td>\n",
              "      <td>2022-06-01 01:11:15</td>\n",
              "      <td>87</td>\n",
              "      <td>225</td>\n",
              "      <td>5.450</td>\n",
              "      <td>1197</td>\n",
              "      <td>24.70</td>\n",
              "      <td>0.00</td>\n",
              "      <td>...</td>\n",
              "      <td>Financial District North, Manhattan</td>\n",
              "      <td>Stuyvesant Heights, Brooklyn</td>\n",
              "      <td>0.003786</td>\n",
              "      <td>0</td>\n",
              "      <td>0</td>\n",
              "      <td>1</td>\n",
              "      <td>68.340081</td>\n",
              "      <td>1.515100</td>\n",
              "      <td>15.364900</td>\n",
              "      <td>7.82</td>\n",
              "    </tr>\n",
              "    <tr>\n",
              "      <th>4</th>\n",
              "      <td>1</td>\n",
              "      <td>2022-06-01 00:04:51</td>\n",
              "      <td>2022-06-01 00:13:33</td>\n",
              "      <td>2022-06-01 00:17:27</td>\n",
              "      <td>137</td>\n",
              "      <td>162</td>\n",
              "      <td>1.069</td>\n",
              "      <td>234</td>\n",
              "      <td>8.23</td>\n",
              "      <td>0.00</td>\n",
              "      <td>...</td>\n",
              "      <td>Kips Bay, Manhattan</td>\n",
              "      <td>Midtown East, Manhattan</td>\n",
              "      <td>0.032901</td>\n",
              "      <td>0</td>\n",
              "      <td>0</td>\n",
              "      <td>0</td>\n",
              "      <td>66.464156</td>\n",
              "      <td>0.297182</td>\n",
              "      <td>5.172818</td>\n",
              "      <td>2.76</td>\n",
              "    </tr>\n",
              "    <tr>\n",
              "      <th>...</th>\n",
              "      <td>...</td>\n",
              "      <td>...</td>\n",
              "      <td>...</td>\n",
              "      <td>...</td>\n",
              "      <td>...</td>\n",
              "      <td>...</td>\n",
              "      <td>...</td>\n",
              "      <td>...</td>\n",
              "      <td>...</td>\n",
              "      <td>...</td>\n",
              "      <td>...</td>\n",
              "      <td>...</td>\n",
              "      <td>...</td>\n",
              "      <td>...</td>\n",
              "      <td>...</td>\n",
              "      <td>...</td>\n",
              "      <td>...</td>\n",
              "      <td>...</td>\n",
              "      <td>...</td>\n",
              "      <td>...</td>\n",
              "      <td>...</td>\n",
              "    </tr>\n",
              "    <tr>\n",
              "      <th>17780070</th>\n",
              "      <td>0</td>\n",
              "      <td>2022-06-30 23:20:49</td>\n",
              "      <td>2022-06-30 23:24:43</td>\n",
              "      <td>2022-06-30 23:38:19</td>\n",
              "      <td>74</td>\n",
              "      <td>224</td>\n",
              "      <td>6.070</td>\n",
              "      <td>816</td>\n",
              "      <td>17.60</td>\n",
              "      <td>2.24</td>\n",
              "      <td>...</td>\n",
              "      <td>East Harlem North, Manhattan</td>\n",
              "      <td>Stuy Town/Peter Cooper Village, Manhattan</td>\n",
              "      <td>0.003553</td>\n",
              "      <td>23</td>\n",
              "      <td>23</td>\n",
              "      <td>23</td>\n",
              "      <td>92.215909</td>\n",
              "      <td>1.687460</td>\n",
              "      <td>14.542540</td>\n",
              "      <td>1.37</td>\n",
              "    </tr>\n",
              "    <tr>\n",
              "      <th>17780071</th>\n",
              "      <td>0</td>\n",
              "      <td>2022-06-30 23:36:13</td>\n",
              "      <td>2022-06-30 23:39:20</td>\n",
              "      <td>2022-06-30 23:51:10</td>\n",
              "      <td>224</td>\n",
              "      <td>13</td>\n",
              "      <td>4.900</td>\n",
              "      <td>710</td>\n",
              "      <td>17.93</td>\n",
              "      <td>0.00</td>\n",
              "      <td>...</td>\n",
              "      <td>Stuy Town/Peter Cooper Village, Manhattan</td>\n",
              "      <td>Battery Park City, Manhattan</td>\n",
              "      <td>0.005154</td>\n",
              "      <td>23</td>\n",
              "      <td>23</td>\n",
              "      <td>23</td>\n",
              "      <td>77.746793</td>\n",
              "      <td>1.362200</td>\n",
              "      <td>12.577800</td>\n",
              "      <td>3.99</td>\n",
              "    </tr>\n",
              "    <tr>\n",
              "      <th>17780072</th>\n",
              "      <td>0</td>\n",
              "      <td>2022-06-30 23:50:50</td>\n",
              "      <td>2022-06-30 23:57:12</td>\n",
              "      <td>2022-07-01 00:07:07</td>\n",
              "      <td>231</td>\n",
              "      <td>231</td>\n",
              "      <td>0.530</td>\n",
              "      <td>595</td>\n",
              "      <td>11.98</td>\n",
              "      <td>3.00</td>\n",
              "      <td>...</td>\n",
              "      <td>TriBeCa/Civic Center, Manhattan</td>\n",
              "      <td>TriBeCa/Civic Center, Manhattan</td>\n",
              "      <td>0.037990</td>\n",
              "      <td>23</td>\n",
              "      <td>23</td>\n",
              "      <td>0</td>\n",
              "      <td>154.090150</td>\n",
              "      <td>0.147340</td>\n",
              "      <td>18.312660</td>\n",
              "      <td>-6.48</td>\n",
              "    </tr>\n",
              "    <tr>\n",
              "      <th>17780073</th>\n",
              "      <td>0</td>\n",
              "      <td>2022-06-30 23:02:40</td>\n",
              "      <td>2022-06-30 23:06:44</td>\n",
              "      <td>2022-06-30 23:26:28</td>\n",
              "      <td>234</td>\n",
              "      <td>48</td>\n",
              "      <td>2.850</td>\n",
              "      <td>1184</td>\n",
              "      <td>31.47</td>\n",
              "      <td>1.00</td>\n",
              "      <td>...</td>\n",
              "      <td>Union Sq, Manhattan</td>\n",
              "      <td>Clinton East, Manhattan</td>\n",
              "      <td>0.009326</td>\n",
              "      <td>23</td>\n",
              "      <td>23</td>\n",
              "      <td>23</td>\n",
              "      <td>86.653956</td>\n",
              "      <td>0.792300</td>\n",
              "      <td>26.477700</td>\n",
              "      <td>4.20</td>\n",
              "    </tr>\n",
              "    <tr>\n",
              "      <th>17780074</th>\n",
              "      <td>1</td>\n",
              "      <td>2022-06-30 23:00:28</td>\n",
              "      <td>2022-06-30 23:03:06</td>\n",
              "      <td>2022-06-30 23:18:13</td>\n",
              "      <td>244</td>\n",
              "      <td>242</td>\n",
              "      <td>6.207</td>\n",
              "      <td>907</td>\n",
              "      <td>20.28</td>\n",
              "      <td>0.00</td>\n",
              "      <td>...</td>\n",
              "      <td>Washington Heights South, Manhattan</td>\n",
              "      <td>Van Nest/Morris Park, Bronx</td>\n",
              "      <td>0.003602</td>\n",
              "      <td>23</td>\n",
              "      <td>23</td>\n",
              "      <td>23</td>\n",
              "      <td>75.246548</td>\n",
              "      <td>1.725546</td>\n",
              "      <td>13.534454</td>\n",
              "      <td>5.02</td>\n",
              "    </tr>\n",
              "  </tbody>\n",
              "</table>\n",
              "<p>17007449 rows × 22 columns</p>\n",
              "</div>\n",
              "      <button class=\"colab-df-convert\" onclick=\"convertToInteractive('df-c760469b-13dd-47fd-b235-ae96cebaf880')\"\n",
              "              title=\"Convert this dataframe to an interactive table.\"\n",
              "              style=\"display:none;\">\n",
              "        \n",
              "  <svg xmlns=\"http://www.w3.org/2000/svg\" height=\"24px\"viewBox=\"0 0 24 24\"\n",
              "       width=\"24px\">\n",
              "    <path d=\"M0 0h24v24H0V0z\" fill=\"none\"/>\n",
              "    <path d=\"M18.56 5.44l.94 2.06.94-2.06 2.06-.94-2.06-.94-.94-2.06-.94 2.06-2.06.94zm-11 1L8.5 8.5l.94-2.06 2.06-.94-2.06-.94L8.5 2.5l-.94 2.06-2.06.94zm10 10l.94 2.06.94-2.06 2.06-.94-2.06-.94-.94-2.06-.94 2.06-2.06.94z\"/><path d=\"M17.41 7.96l-1.37-1.37c-.4-.4-.92-.59-1.43-.59-.52 0-1.04.2-1.43.59L10.3 9.45l-7.72 7.72c-.78.78-.78 2.05 0 2.83L4 21.41c.39.39.9.59 1.41.59.51 0 1.02-.2 1.41-.59l7.78-7.78 2.81-2.81c.8-.78.8-2.07 0-2.86zM5.41 20L4 18.59l7.72-7.72 1.47 1.35L5.41 20z\"/>\n",
              "  </svg>\n",
              "      </button>\n",
              "      \n",
              "  <style>\n",
              "    .colab-df-container {\n",
              "      display:flex;\n",
              "      flex-wrap:wrap;\n",
              "      gap: 12px;\n",
              "    }\n",
              "\n",
              "    .colab-df-convert {\n",
              "      background-color: #E8F0FE;\n",
              "      border: none;\n",
              "      border-radius: 50%;\n",
              "      cursor: pointer;\n",
              "      display: none;\n",
              "      fill: #1967D2;\n",
              "      height: 32px;\n",
              "      padding: 0 0 0 0;\n",
              "      width: 32px;\n",
              "    }\n",
              "\n",
              "    .colab-df-convert:hover {\n",
              "      background-color: #E2EBFA;\n",
              "      box-shadow: 0px 1px 2px rgba(60, 64, 67, 0.3), 0px 1px 3px 1px rgba(60, 64, 67, 0.15);\n",
              "      fill: #174EA6;\n",
              "    }\n",
              "\n",
              "    [theme=dark] .colab-df-convert {\n",
              "      background-color: #3B4455;\n",
              "      fill: #D2E3FC;\n",
              "    }\n",
              "\n",
              "    [theme=dark] .colab-df-convert:hover {\n",
              "      background-color: #434B5C;\n",
              "      box-shadow: 0px 1px 3px 1px rgba(0, 0, 0, 0.15);\n",
              "      filter: drop-shadow(0px 1px 2px rgba(0, 0, 0, 0.3));\n",
              "      fill: #FFFFFF;\n",
              "    }\n",
              "  </style>\n",
              "\n",
              "      <script>\n",
              "        const buttonEl =\n",
              "          document.querySelector('#df-c760469b-13dd-47fd-b235-ae96cebaf880 button.colab-df-convert');\n",
              "        buttonEl.style.display =\n",
              "          google.colab.kernel.accessAllowed ? 'block' : 'none';\n",
              "\n",
              "        async function convertToInteractive(key) {\n",
              "          const element = document.querySelector('#df-c760469b-13dd-47fd-b235-ae96cebaf880');\n",
              "          const dataTable =\n",
              "            await google.colab.kernel.invokeFunction('convertToInteractive',\n",
              "                                                     [key], {});\n",
              "          if (!dataTable) return;\n",
              "\n",
              "          const docLinkHtml = 'Like what you see? Visit the ' +\n",
              "            '<a target=\"_blank\" href=https://colab.research.google.com/notebooks/data_table.ipynb>data table notebook</a>'\n",
              "            + ' to learn more about interactive tables.';\n",
              "          element.innerHTML = '';\n",
              "          dataTable['output_type'] = 'display_data';\n",
              "          await google.colab.output.renderOutput(dataTable, element);\n",
              "          const docLink = document.createElement('div');\n",
              "          docLink.innerHTML = docLinkHtml;\n",
              "          element.appendChild(docLink);\n",
              "        }\n",
              "      </script>\n",
              "    </div>\n",
              "  </div>\n",
              "  "
            ]
          },
          "metadata": {},
          "execution_count": 50
        }
      ]
    },
    {
      "cell_type": "markdown",
      "source": [
        "- For the purpose of training, only 10k records are used.\n",
        "- For validation and testing, remaining 10k records are used for each.\n",
        "- In general, we get good results with more data (we have 17 million records for June 2022 alone.)"
      ],
      "metadata": {
        "id": "ZIcm8Y7KllO1"
      }
    },
    {
      "cell_type": "code",
      "source": [
        "X = df[['trip_miles', 'trip_time']][:10000]\n",
        "y = df[['base_passenger_fare']][:10000]\n",
        "X_validation = df[['trip_miles', 'trip_time']][10000:20000]\n",
        "y_validation = df[['base_passenger_fare']][10000:20000]\n",
        "X_test = df[['trip_miles', 'trip_time']][20000:30000]\n",
        "y_test = df[['base_passenger_fare']][20000:30000]"
      ],
      "metadata": {
        "execution": {
          "iopub.status.busy": "2022-11-05T15:36:34.837389Z",
          "iopub.execute_input": "2022-11-05T15:36:34.837759Z",
          "iopub.status.idle": "2022-11-05T15:36:38.035561Z",
          "shell.execute_reply.started": "2022-11-05T15:36:34.837721Z",
          "shell.execute_reply": "2022-11-05T15:36:38.034474Z"
        },
        "trusted": true,
        "id": "TLVHCKvwllO1"
      },
      "execution_count": 51,
      "outputs": []
    },
    {
      "cell_type": "code",
      "source": [
        "def get_model_results(model_name, model):\n",
        "    print(f'Validation and Test loss for {model_name}')\n",
        "    print(f'Validation Loss: {model.score(X_validation, y_validation)}')\n",
        "    print(f'Test Loss: {model.score(X_test, y_test)}')"
      ],
      "metadata": {
        "execution": {
          "iopub.status.busy": "2022-11-05T15:36:38.037286Z",
          "iopub.execute_input": "2022-11-05T15:36:38.037669Z",
          "iopub.status.idle": "2022-11-05T15:36:38.045760Z",
          "shell.execute_reply.started": "2022-11-05T15:36:38.037631Z",
          "shell.execute_reply": "2022-11-05T15:36:38.044794Z"
        },
        "trusted": true,
        "id": "hL1tsfWLllO1"
      },
      "execution_count": 52,
      "outputs": []
    },
    {
      "cell_type": "code",
      "source": [
        "from sklearn.linear_model import LinearRegression\n",
        "\n",
        "lr = LinearRegression()\n",
        "lr.fit(X, y)"
      ],
      "metadata": {
        "execution": {
          "iopub.status.busy": "2022-11-05T15:36:38.047241Z",
          "iopub.execute_input": "2022-11-05T15:36:38.047669Z",
          "iopub.status.idle": "2022-11-05T15:36:38.282247Z",
          "shell.execute_reply.started": "2022-11-05T15:36:38.047632Z",
          "shell.execute_reply": "2022-11-05T15:36:38.280818Z"
        },
        "trusted": true,
        "colab": {
          "base_uri": "https://localhost:8080/"
        },
        "id": "i6HDQxxillO1",
        "outputId": "6772b34c-2fd5-442f-de9c-97afa3e46199"
      },
      "execution_count": 53,
      "outputs": [
        {
          "output_type": "execute_result",
          "data": {
            "text/plain": [
              "LinearRegression()"
            ]
          },
          "metadata": {},
          "execution_count": 53
        }
      ]
    },
    {
      "cell_type": "code",
      "source": [
        "get_model_results(\"Linear Regression\", lr)"
      ],
      "metadata": {
        "scrolled": true,
        "execution": {
          "iopub.status.busy": "2022-11-05T15:36:38.288897Z",
          "iopub.execute_input": "2022-11-05T15:36:38.292562Z",
          "iopub.status.idle": "2022-11-05T15:36:38.327247Z",
          "shell.execute_reply.started": "2022-11-05T15:36:38.292485Z",
          "shell.execute_reply": "2022-11-05T15:36:38.325889Z"
        },
        "trusted": true,
        "colab": {
          "base_uri": "https://localhost:8080/"
        },
        "id": "ganTOdilllO1",
        "outputId": "5fbbfd15-f99f-455b-c8cb-31a104d316a3"
      },
      "execution_count": 54,
      "outputs": [
        {
          "output_type": "stream",
          "name": "stdout",
          "text": [
            "Validation and Test loss for Linear Regression\n",
            "Validation Loss: 0.8285758053068852\n",
            "Test Loss: 0.805411127760353\n"
          ]
        }
      ]
    },
    {
      "cell_type": "code",
      "source": [
        "from sklearn.neighbors import KNeighborsRegressor\n",
        "\n",
        "knn = KNeighborsRegressor(n_neighbors=100)\n",
        "knn.fit(X, y)"
      ],
      "metadata": {
        "execution": {
          "iopub.status.busy": "2022-11-05T15:36:38.332808Z",
          "iopub.execute_input": "2022-11-05T15:36:38.336052Z",
          "iopub.status.idle": "2022-11-05T15:36:38.413099Z",
          "shell.execute_reply.started": "2022-11-05T15:36:38.336000Z",
          "shell.execute_reply": "2022-11-05T15:36:38.411734Z"
        },
        "trusted": true,
        "colab": {
          "base_uri": "https://localhost:8080/"
        },
        "id": "ujp8FVWkllO1",
        "outputId": "27092585-7e10-4d6c-f3fd-fce3de79301d"
      },
      "execution_count": 55,
      "outputs": [
        {
          "output_type": "execute_result",
          "data": {
            "text/plain": [
              "KNeighborsRegressor(n_neighbors=100)"
            ]
          },
          "metadata": {},
          "execution_count": 55
        }
      ]
    },
    {
      "cell_type": "code",
      "source": [
        "get_model_results(\"k Nearest Neighbours\", knn)"
      ],
      "metadata": {
        "execution": {
          "iopub.status.busy": "2022-11-05T15:36:38.419651Z",
          "iopub.execute_input": "2022-11-05T15:36:38.423354Z",
          "iopub.status.idle": "2022-11-05T15:36:38.644964Z",
          "shell.execute_reply.started": "2022-11-05T15:36:38.423281Z",
          "shell.execute_reply": "2022-11-05T15:36:38.643879Z"
        },
        "trusted": true,
        "colab": {
          "base_uri": "https://localhost:8080/"
        },
        "id": "bWxaeQS4llO1",
        "outputId": "8c072527-cdb4-4055-b970-7c44918abbd9"
      },
      "execution_count": 56,
      "outputs": [
        {
          "output_type": "stream",
          "name": "stdout",
          "text": [
            "Validation and Test loss for k Nearest Neighbours\n",
            "Validation Loss: 0.7483164239149491\n",
            "Test Loss: 0.7125385379422504\n"
          ]
        }
      ]
    },
    {
      "cell_type": "code",
      "source": [
        "from sklearn.tree import DecisionTreeRegressor\n",
        "\n",
        "dtree = DecisionTreeRegressor()\n",
        "dtree.fit(X, y)"
      ],
      "metadata": {
        "execution": {
          "iopub.status.busy": "2022-11-05T15:36:38.646417Z",
          "iopub.execute_input": "2022-11-05T15:36:38.647014Z",
          "iopub.status.idle": "2022-11-05T15:36:38.701929Z",
          "shell.execute_reply.started": "2022-11-05T15:36:38.646974Z",
          "shell.execute_reply": "2022-11-05T15:36:38.700890Z"
        },
        "trusted": true,
        "colab": {
          "base_uri": "https://localhost:8080/"
        },
        "id": "tloZcEMRllO1",
        "outputId": "0d192eb8-2df6-4148-e387-048c91ba69c1"
      },
      "execution_count": 57,
      "outputs": [
        {
          "output_type": "execute_result",
          "data": {
            "text/plain": [
              "DecisionTreeRegressor()"
            ]
          },
          "metadata": {},
          "execution_count": 57
        }
      ]
    },
    {
      "cell_type": "code",
      "source": [
        "get_model_results(\"Decision Tree Regressor\", dtree)"
      ],
      "metadata": {
        "execution": {
          "iopub.status.busy": "2022-11-05T15:36:38.703287Z",
          "iopub.execute_input": "2022-11-05T15:36:38.703729Z",
          "iopub.status.idle": "2022-11-05T15:36:38.721556Z",
          "shell.execute_reply.started": "2022-11-05T15:36:38.703690Z",
          "shell.execute_reply": "2022-11-05T15:36:38.720487Z"
        },
        "trusted": true,
        "colab": {
          "base_uri": "https://localhost:8080/"
        },
        "id": "frRda0YbllO1",
        "outputId": "ea9fca74-8010-4d69-cd8a-fef75a2dca34"
      },
      "execution_count": 58,
      "outputs": [
        {
          "output_type": "stream",
          "name": "stdout",
          "text": [
            "Validation and Test loss for Decision Tree Regressor\n",
            "Validation Loss: 0.6317531278222832\n",
            "Test Loss: 0.6325165694065118\n"
          ]
        }
      ]
    },
    {
      "cell_type": "code",
      "source": [
        "from sklearn.neural_network import MLPRegressor\n",
        "\n",
        "mlp = MLPRegressor(hidden_layer_sizes=(10, 10, 10))\n",
        "mlp.fit(X, y)"
      ],
      "metadata": {
        "execution": {
          "iopub.status.busy": "2022-11-05T15:36:38.722638Z",
          "iopub.execute_input": "2022-11-05T15:36:38.722939Z",
          "iopub.status.idle": "2022-11-05T15:36:41.406611Z",
          "shell.execute_reply.started": "2022-11-05T15:36:38.722910Z",
          "shell.execute_reply": "2022-11-05T15:36:41.405615Z"
        },
        "trusted": true,
        "colab": {
          "base_uri": "https://localhost:8080/"
        },
        "id": "OD9LwLF2llO2",
        "outputId": "a02f19f7-686a-497e-b042-68fb2d156afd"
      },
      "execution_count": 59,
      "outputs": [
        {
          "output_type": "stream",
          "name": "stderr",
          "text": [
            "/usr/local/lib/python3.7/dist-packages/sklearn/neural_network/_multilayer_perceptron.py:1599: DataConversionWarning: A column-vector y was passed when a 1d array was expected. Please change the shape of y to (n_samples, ), for example using ravel().\n",
            "  y = column_or_1d(y, warn=True)\n"
          ]
        },
        {
          "output_type": "execute_result",
          "data": {
            "text/plain": [
              "MLPRegressor(hidden_layer_sizes=(10, 10, 10))"
            ]
          },
          "metadata": {},
          "execution_count": 59
        }
      ]
    },
    {
      "cell_type": "code",
      "source": [
        "get_model_results(\"Multi Layer Perceptron\", mlp)"
      ],
      "metadata": {
        "execution": {
          "iopub.status.busy": "2022-11-05T15:36:41.407931Z",
          "iopub.execute_input": "2022-11-05T15:36:41.408788Z",
          "iopub.status.idle": "2022-11-05T15:36:41.433222Z",
          "shell.execute_reply.started": "2022-11-05T15:36:41.408746Z",
          "shell.execute_reply": "2022-11-05T15:36:41.432086Z"
        },
        "trusted": true,
        "colab": {
          "base_uri": "https://localhost:8080/"
        },
        "id": "oRwrYV_hllO2",
        "outputId": "0f664f01-49b4-4933-dc75-f245214d1f84"
      },
      "execution_count": 60,
      "outputs": [
        {
          "output_type": "stream",
          "name": "stdout",
          "text": [
            "Validation and Test loss for Multi Layer Perceptron\n",
            "Validation Loss: 0.8037099247000543\n",
            "Test Loss: 0.779368562730809\n"
          ]
        }
      ]
    },
    {
      "cell_type": "code",
      "source": [
        "from lightgbm import LGBMRegressor\n",
        "\n",
        "lgbm = LGBMRegressor()\n",
        "lgbm.fit(X, y)"
      ],
      "metadata": {
        "execution": {
          "iopub.status.busy": "2022-11-05T15:36:41.434539Z",
          "iopub.execute_input": "2022-11-05T15:36:41.435077Z",
          "iopub.status.idle": "2022-11-05T15:36:43.305900Z",
          "shell.execute_reply.started": "2022-11-05T15:36:41.435041Z",
          "shell.execute_reply": "2022-11-05T15:36:43.305100Z"
        },
        "trusted": true,
        "colab": {
          "base_uri": "https://localhost:8080/"
        },
        "id": "bj_s234hllO2",
        "outputId": "9873620a-751b-435a-bb79-d8edb56c0c1d"
      },
      "execution_count": 61,
      "outputs": [
        {
          "output_type": "execute_result",
          "data": {
            "text/plain": [
              "LGBMRegressor()"
            ]
          },
          "metadata": {},
          "execution_count": 61
        }
      ]
    },
    {
      "cell_type": "code",
      "source": [
        "get_model_results(\"LightGBM Regressor\", lgbm)"
      ],
      "metadata": {
        "execution": {
          "iopub.status.busy": "2022-11-05T15:36:43.309528Z",
          "iopub.execute_input": "2022-11-05T15:36:43.311356Z",
          "iopub.status.idle": "2022-11-05T15:36:43.390158Z",
          "shell.execute_reply.started": "2022-11-05T15:36:43.311323Z",
          "shell.execute_reply": "2022-11-05T15:36:43.389456Z"
        },
        "trusted": true,
        "colab": {
          "base_uri": "https://localhost:8080/"
        },
        "id": "GPT6xFvTllO2",
        "outputId": "a47b3162-a6a6-4d75-c103-caba0750b068"
      },
      "execution_count": 62,
      "outputs": [
        {
          "output_type": "stream",
          "name": "stdout",
          "text": [
            "Validation and Test loss for LightGBM Regressor\n",
            "Validation Loss: 0.8185645973029746\n",
            "Test Loss: 0.7913484681367595\n"
          ]
        }
      ]
    },
    {
      "cell_type": "markdown",
      "source": [
        "### Deep Learning Model"
      ],
      "metadata": {
        "id": "LFx1-XSMllO2"
      }
    },
    {
      "cell_type": "markdown",
      "source": [
        "For training the Deep Learning Model, we are using all 17 Million records."
      ],
      "metadata": {
        "id": "0DUz4eayllO2"
      }
    },
    {
      "cell_type": "code",
      "source": [
        "from sklearn.model_selection import train_test_split\n",
        "\n",
        "X_train, X_test, y_train, y_test = train_test_split(df[['trip_miles', 'trip_time']], df[['base_passenger_fare']], test_size=0.3)"
      ],
      "metadata": {
        "execution": {
          "iopub.status.busy": "2022-11-05T15:36:43.393429Z",
          "iopub.execute_input": "2022-11-05T15:36:43.395189Z",
          "iopub.status.idle": "2022-11-05T15:36:46.328614Z",
          "shell.execute_reply.started": "2022-11-05T15:36:43.395158Z",
          "shell.execute_reply": "2022-11-05T15:36:46.327375Z"
        },
        "trusted": true,
        "id": "bdvqBSESllO2"
      },
      "execution_count": 63,
      "outputs": []
    },
    {
      "cell_type": "code",
      "source": [
        "from tensorflow.keras.layers import Dense\n",
        "from tensorflow.keras import Sequential, Input\n",
        "\n",
        "dl = Sequential(\n",
        "    [\n",
        "        Input(shape=X_train.shape[1:]),\n",
        "        Dense(10, activation='relu', name='layer1'),\n",
        "        Dense(25, activation='relu', name='layer2'),\n",
        "        Dense(10, activation='relu', name='layer3'),\n",
        "        Dense(1, activation='relu', name='output')\n",
        "    ]\n",
        ")\n",
        "\n",
        "dl.summary()"
      ],
      "metadata": {
        "execution": {
          "iopub.status.busy": "2022-11-05T15:36:46.333798Z",
          "iopub.execute_input": "2022-11-05T15:36:46.336266Z",
          "iopub.status.idle": "2022-11-05T15:36:53.275394Z",
          "shell.execute_reply.started": "2022-11-05T15:36:46.336224Z",
          "shell.execute_reply": "2022-11-05T15:36:53.274304Z"
        },
        "trusted": true,
        "colab": {
          "base_uri": "https://localhost:8080/"
        },
        "id": "eXrEmPPQllO2",
        "outputId": "4c62c8b4-0368-4588-a7bd-9ea640724221"
      },
      "execution_count": 64,
      "outputs": [
        {
          "output_type": "stream",
          "name": "stdout",
          "text": [
            "Model: \"sequential\"\n",
            "_________________________________________________________________\n",
            " Layer (type)                Output Shape              Param #   \n",
            "=================================================================\n",
            " layer1 (Dense)              (None, 10)                30        \n",
            "                                                                 \n",
            " layer2 (Dense)              (None, 25)                275       \n",
            "                                                                 \n",
            " layer3 (Dense)              (None, 10)                260       \n",
            "                                                                 \n",
            " output (Dense)              (None, 1)                 11        \n",
            "                                                                 \n",
            "=================================================================\n",
            "Total params: 576\n",
            "Trainable params: 576\n",
            "Non-trainable params: 0\n",
            "_________________________________________________________________\n"
          ]
        }
      ]
    },
    {
      "cell_type": "code",
      "source": [
        "dl.compile(optimizer='adam', loss='mse', metrics=['mse'])\n",
        "history = dl.fit(X_train, y_train, validation_split=0.2, epochs=5, batch_size=2048)"
      ],
      "metadata": {
        "execution": {
          "iopub.status.busy": "2022-11-05T15:36:53.277170Z",
          "iopub.execute_input": "2022-11-05T15:36:53.278233Z",
          "iopub.status.idle": "2022-11-05T15:37:02.602750Z",
          "shell.execute_reply.started": "2022-11-05T15:36:53.278190Z",
          "shell.execute_reply": "2022-11-05T15:37:02.600082Z"
        },
        "trusted": true,
        "colab": {
          "base_uri": "https://localhost:8080/"
        },
        "id": "KIL5z_mfllO2",
        "outputId": "5936cb1a-3e64-42f3-8e26-ae1214cb0fa6"
      },
      "execution_count": 65,
      "outputs": [
        {
          "output_type": "stream",
          "name": "stdout",
          "text": [
            "Epoch 1/5\n",
            "4651/4651 [==============================] - 16s 3ms/step - loss: 823.9382 - mse: 823.9382 - val_loss: 826.3700 - val_mse: 826.3700\n",
            "Epoch 2/5\n",
            "4651/4651 [==============================] - 13s 3ms/step - loss: 823.9381 - mse: 823.9381 - val_loss: 826.3700 - val_mse: 826.3700\n",
            "Epoch 3/5\n",
            "4651/4651 [==============================] - 13s 3ms/step - loss: 823.9367 - mse: 823.9367 - val_loss: 826.3700 - val_mse: 826.3700\n",
            "Epoch 4/5\n",
            "4651/4651 [==============================] - 13s 3ms/step - loss: 823.9382 - mse: 823.9382 - val_loss: 826.3700 - val_mse: 826.3700\n",
            "Epoch 5/5\n",
            "4651/4651 [==============================] - 13s 3ms/step - loss: 823.9374 - mse: 823.9374 - val_loss: 826.3700 - val_mse: 826.3700\n"
          ]
        }
      ]
    },
    {
      "cell_type": "code",
      "source": [
        "# test the deep learning model 1 on the test set\n",
        "dl.evaluate(X_test, y_test)"
      ],
      "metadata": {
        "execution": {
          "iopub.status.busy": "2022-11-05T15:37:02.603953Z",
          "iopub.status.idle": "2022-11-05T15:37:02.604690Z",
          "shell.execute_reply.started": "2022-11-05T15:37:02.604404Z",
          "shell.execute_reply": "2022-11-05T15:37:02.604436Z"
        },
        "trusted": true,
        "id": "kUjvDjFdllO2",
        "colab": {
          "base_uri": "https://localhost:8080/"
        },
        "outputId": "70b37247-7376-4481-8078-26571619a749"
      },
      "execution_count": 66,
      "outputs": [
        {
          "output_type": "stream",
          "name": "stdout",
          "text": [
            "159445/159445 [==============================] - 294s 2ms/step - loss: 823.8100 - mse: 823.8100\n"
          ]
        },
        {
          "output_type": "execute_result",
          "data": {
            "text/plain": [
              "[823.8099975585938, 823.8099975585938]"
            ]
          },
          "metadata": {},
          "execution_count": 66
        }
      ]
    },
    {
      "cell_type": "markdown",
      "source": [
        "This Deep Learning model doesn't seem to give good results because the validation loss isn't decreasing. We have to change our model."
      ],
      "metadata": {
        "id": "NTKpGI--llO2"
      }
    },
    {
      "cell_type": "markdown",
      "source": [
        "### Deep Learning Model 2"
      ],
      "metadata": {
        "id": "DCjBCQ5vllO2"
      }
    },
    {
      "cell_type": "code",
      "source": [
        "X_train, X_test, y_train, y_test = train_test_split(\n",
        "    df[['trip_miles', 'trip_time', 'pickup_hour', 'dropoff_hour', 'PULocation', 'DOLocation', 'taxi_company']],\n",
        "    df[['base_passenger_fare']],\n",
        "    test_size=0.3\n",
        ")"
      ],
      "metadata": {
        "execution": {
          "iopub.status.busy": "2022-11-05T15:37:02.606694Z",
          "iopub.status.idle": "2022-11-05T15:37:02.607209Z",
          "shell.execute_reply.started": "2022-11-05T15:37:02.606932Z",
          "shell.execute_reply": "2022-11-05T15:37:02.606955Z"
        },
        "trusted": true,
        "id": "Iimb6anullO2"
      },
      "execution_count": 67,
      "outputs": []
    },
    {
      "cell_type": "code",
      "source": [
        "dl2 = Sequential(\n",
        "    [\n",
        "        Input(shape=X_train.shape[1:]),\n",
        "        Dense(10, activation='relu', name='layer1'),\n",
        "        Dense(25, activation='relu', name='layer2'),\n",
        "        Dense(10, activation='relu', name='layer3'),\n",
        "        Dense(1, activation='relu', name='output')\n",
        "    ]\n",
        ")\n",
        "\n",
        "dl2.summary()"
      ],
      "metadata": {
        "execution": {
          "iopub.status.busy": "2022-11-05T15:37:02.608901Z",
          "iopub.status.idle": "2022-11-05T15:37:02.609402Z",
          "shell.execute_reply.started": "2022-11-05T15:37:02.609152Z",
          "shell.execute_reply": "2022-11-05T15:37:02.609177Z"
        },
        "trusted": true,
        "id": "0suBNoPallO3",
        "colab": {
          "base_uri": "https://localhost:8080/"
        },
        "outputId": "be472f40-1a44-4072-8648-9f414cf85646"
      },
      "execution_count": 68,
      "outputs": [
        {
          "output_type": "stream",
          "name": "stdout",
          "text": [
            "Model: \"sequential_1\"\n",
            "_________________________________________________________________\n",
            " Layer (type)                Output Shape              Param #   \n",
            "=================================================================\n",
            " layer1 (Dense)              (None, 10)                80        \n",
            "                                                                 \n",
            " layer2 (Dense)              (None, 25)                275       \n",
            "                                                                 \n",
            " layer3 (Dense)              (None, 10)                260       \n",
            "                                                                 \n",
            " output (Dense)              (None, 1)                 11        \n",
            "                                                                 \n",
            "=================================================================\n",
            "Total params: 626\n",
            "Trainable params: 626\n",
            "Non-trainable params: 0\n",
            "_________________________________________________________________\n"
          ]
        }
      ]
    },
    {
      "cell_type": "code",
      "source": [
        "dl2.compile(optimizer='adam', loss='mse', metrics=['mse'])\n",
        "history = dl2.fit(X_train, y_train, validation_split=0.2, epochs=10, batch_size=2048)"
      ],
      "metadata": {
        "execution": {
          "iopub.status.busy": "2022-11-05T15:37:02.612356Z",
          "iopub.status.idle": "2022-11-05T15:37:02.613175Z",
          "shell.execute_reply.started": "2022-11-05T15:37:02.612889Z",
          "shell.execute_reply": "2022-11-05T15:37:02.612915Z"
        },
        "trusted": true,
        "id": "VBRqMptJllO3",
        "colab": {
          "base_uri": "https://localhost:8080/"
        },
        "outputId": "1cf7ecfb-08ca-4780-cc60-8dab0314730f"
      },
      "execution_count": 69,
      "outputs": [
        {
          "output_type": "stream",
          "name": "stdout",
          "text": [
            "Epoch 1/10\n",
            "4651/4651 [==============================] - 14s 3ms/step - loss: 81.8749 - mse: 81.8749 - val_loss: 69.6780 - val_mse: 69.6780\n",
            "Epoch 2/10\n",
            "4651/4651 [==============================] - 13s 3ms/step - loss: 71.1045 - mse: 71.1045 - val_loss: 69.1983 - val_mse: 69.1983\n",
            "Epoch 3/10\n",
            "4651/4651 [==============================] - 13s 3ms/step - loss: 70.5821 - mse: 70.5821 - val_loss: 69.4760 - val_mse: 69.4760\n",
            "Epoch 4/10\n",
            "4651/4651 [==============================] - 13s 3ms/step - loss: 70.4217 - mse: 70.4217 - val_loss: 70.9723 - val_mse: 70.9723\n",
            "Epoch 5/10\n",
            "4651/4651 [==============================] - 14s 3ms/step - loss: 70.1842 - mse: 70.1842 - val_loss: 72.2482 - val_mse: 72.2482\n",
            "Epoch 6/10\n",
            "4651/4651 [==============================] - 13s 3ms/step - loss: 69.7990 - mse: 69.7990 - val_loss: 69.9131 - val_mse: 69.9131\n",
            "Epoch 7/10\n",
            "4651/4651 [==============================] - 13s 3ms/step - loss: 69.6715 - mse: 69.6715 - val_loss: 68.8369 - val_mse: 68.8369\n",
            "Epoch 8/10\n",
            "4651/4651 [==============================] - 13s 3ms/step - loss: 69.5026 - mse: 69.5026 - val_loss: 69.7579 - val_mse: 69.7579\n",
            "Epoch 9/10\n",
            "4651/4651 [==============================] - 13s 3ms/step - loss: 69.4026 - mse: 69.4026 - val_loss: 71.7940 - val_mse: 71.7940\n",
            "Epoch 10/10\n",
            "4651/4651 [==============================] - 13s 3ms/step - loss: 69.1902 - mse: 69.1902 - val_loss: 68.8582 - val_mse: 68.8582\n"
          ]
        }
      ]
    },
    {
      "cell_type": "markdown",
      "source": [
        "Much better results than previous deep learning model. A very good improvement."
      ],
      "metadata": {
        "id": "KXufuHk2llO3"
      }
    },
    {
      "cell_type": "code",
      "source": [
        "# test the deep learning model 2 on the test set\n",
        "dl2.evaluate(X_test, y_test)"
      ],
      "metadata": {
        "execution": {
          "iopub.status.busy": "2022-11-05T15:37:02.614460Z",
          "iopub.status.idle": "2022-11-05T15:37:02.615274Z",
          "shell.execute_reply.started": "2022-11-05T15:37:02.614984Z",
          "shell.execute_reply": "2022-11-05T15:37:02.615009Z"
        },
        "trusted": true,
        "id": "FjKYKF8TllO3",
        "colab": {
          "base_uri": "https://localhost:8080/"
        },
        "outputId": "441d6c71-2127-470c-8cb8-fdb3cf30bdac"
      },
      "execution_count": 70,
      "outputs": [
        {
          "output_type": "stream",
          "name": "stdout",
          "text": [
            "159445/159445 [==============================] - 288s 2ms/step - loss: 69.6916 - mse: 69.6916\n"
          ]
        },
        {
          "output_type": "execute_result",
          "data": {
            "text/plain": [
              "[69.69161987304688, 69.69161987304688]"
            ]
          },
          "metadata": {},
          "execution_count": 70
        }
      ]
    },
    {
      "cell_type": "markdown",
      "source": [
        "Good results on test set as well and achieved similar loss compared to train and validation data"
      ],
      "metadata": {
        "id": "rrzxxeZBllO3"
      }
    },
    {
      "cell_type": "markdown",
      "source": [
        "### Deep Learning Model 3"
      ],
      "metadata": {
        "id": "HnVZ0TC3llO3"
      }
    },
    {
      "cell_type": "code",
      "source": [
        "dl3 = Sequential(\n",
        "    [\n",
        "        Input(shape=X_train.shape[1:]),\n",
        "        Dense(64, activation='relu', name='layer1'),\n",
        "        Dense(128, activation='relu', name='layer2'),\n",
        "        Dense(128, activation='relu', name='layer3'),\n",
        "        Dense(512, activation='relu', name='layer4'),\n",
        "        Dense(256, activation='relu', name='layer5'),\n",
        "        Dense(128, activation='relu', name='layer6'),\n",
        "        Dense(64, activation='relu', name='layer7'),\n",
        "        Dense(16, activation='relu', name='layer8'),\n",
        "        Dense(1, activation='relu', name='output')\n",
        "    ]\n",
        ")\n",
        "\n",
        "dl3.summary()"
      ],
      "metadata": {
        "execution": {
          "iopub.status.busy": "2022-11-05T15:37:02.616843Z",
          "iopub.status.idle": "2022-11-05T15:37:02.617722Z",
          "shell.execute_reply.started": "2022-11-05T15:37:02.617457Z",
          "shell.execute_reply": "2022-11-05T15:37:02.617482Z"
        },
        "trusted": true,
        "id": "IqCDZBzEllO3",
        "colab": {
          "base_uri": "https://localhost:8080/"
        },
        "outputId": "a0d7f2b2-f183-4b9a-b347-067db1b58f43"
      },
      "execution_count": 71,
      "outputs": [
        {
          "output_type": "stream",
          "name": "stdout",
          "text": [
            "Model: \"sequential_2\"\n",
            "_________________________________________________________________\n",
            " Layer (type)                Output Shape              Param #   \n",
            "=================================================================\n",
            " layer1 (Dense)              (None, 64)                512       \n",
            "                                                                 \n",
            " layer2 (Dense)              (None, 128)               8320      \n",
            "                                                                 \n",
            " layer3 (Dense)              (None, 128)               16512     \n",
            "                                                                 \n",
            " layer4 (Dense)              (None, 512)               66048     \n",
            "                                                                 \n",
            " layer5 (Dense)              (None, 256)               131328    \n",
            "                                                                 \n",
            " layer6 (Dense)              (None, 128)               32896     \n",
            "                                                                 \n",
            " layer7 (Dense)              (None, 64)                8256      \n",
            "                                                                 \n",
            " layer8 (Dense)              (None, 16)                1040      \n",
            "                                                                 \n",
            " output (Dense)              (None, 1)                 17        \n",
            "                                                                 \n",
            "=================================================================\n",
            "Total params: 264,929\n",
            "Trainable params: 264,929\n",
            "Non-trainable params: 0\n",
            "_________________________________________________________________\n"
          ]
        }
      ]
    },
    {
      "cell_type": "code",
      "source": [
        "dl3.compile(optimizer='adam', loss='mse', metrics=['mse'])\n",
        "history = dl3.fit(X_train, y_train, validation_split=0.2, epochs=10, batch_size=2048)"
      ],
      "metadata": {
        "execution": {
          "iopub.status.busy": "2022-11-05T15:37:02.619352Z",
          "iopub.status.idle": "2022-11-05T15:37:02.620233Z",
          "shell.execute_reply.started": "2022-11-05T15:37:02.619943Z",
          "shell.execute_reply": "2022-11-05T15:37:02.619968Z"
        },
        "trusted": true,
        "id": "rGyZCcKmllO3",
        "colab": {
          "base_uri": "https://localhost:8080/"
        },
        "outputId": "5bde1b83-c667-4e66-f0fa-03a332c05435"
      },
      "execution_count": 72,
      "outputs": [
        {
          "output_type": "stream",
          "name": "stdout",
          "text": [
            "Epoch 1/10\n",
            "4651/4651 [==============================] - 21s 4ms/step - loss: 824.3151 - mse: 824.3151 - val_loss: 824.4276 - val_mse: 824.4276\n",
            "Epoch 2/10\n",
            "4651/4651 [==============================] - 20s 4ms/step - loss: 824.3153 - mse: 824.3153 - val_loss: 824.4276 - val_mse: 824.4276\n",
            "Epoch 3/10\n",
            "4651/4651 [==============================] - 19s 4ms/step - loss: 824.3134 - mse: 824.3134 - val_loss: 824.4276 - val_mse: 824.4276\n",
            "Epoch 4/10\n",
            "4651/4651 [==============================] - 19s 4ms/step - loss: 824.3143 - mse: 824.3143 - val_loss: 824.4276 - val_mse: 824.4276\n",
            "Epoch 5/10\n",
            "4651/4651 [==============================] - 19s 4ms/step - loss: 824.3167 - mse: 824.3167 - val_loss: 824.4276 - val_mse: 824.4276\n",
            "Epoch 6/10\n",
            "4651/4651 [==============================] - 19s 4ms/step - loss: 824.3157 - mse: 824.3157 - val_loss: 824.4276 - val_mse: 824.4276\n",
            "Epoch 7/10\n",
            "4651/4651 [==============================] - 20s 4ms/step - loss: 824.3157 - mse: 824.3157 - val_loss: 824.4276 - val_mse: 824.4276\n",
            "Epoch 8/10\n",
            "4651/4651 [==============================] - 20s 4ms/step - loss: 824.3145 - mse: 824.3145 - val_loss: 824.4276 - val_mse: 824.4276\n",
            "Epoch 9/10\n",
            "4651/4651 [==============================] - 19s 4ms/step - loss: 824.3152 - mse: 824.3152 - val_loss: 824.4276 - val_mse: 824.4276\n",
            "Epoch 10/10\n",
            "4651/4651 [==============================] - 19s 4ms/step - loss: 824.3160 - mse: 824.3160 - val_loss: 824.4276 - val_mse: 824.4276\n"
          ]
        }
      ]
    },
    {
      "cell_type": "code",
      "source": [
        "# test the deep learning model 3 on the test set\n",
        "dl3.evaluate(X_test, y_test)"
      ],
      "metadata": {
        "execution": {
          "iopub.status.busy": "2022-11-05T15:37:02.621820Z",
          "iopub.status.idle": "2022-11-05T15:37:02.622692Z",
          "shell.execute_reply.started": "2022-11-05T15:37:02.622432Z",
          "shell.execute_reply": "2022-11-05T15:37:02.622456Z"
        },
        "trusted": true,
        "id": "pFrqdPmxllO3",
        "colab": {
          "base_uri": "https://localhost:8080/"
        },
        "outputId": "efae8ea6-1c07-49c9-fc0a-4f4b6323c191"
      },
      "execution_count": 73,
      "outputs": [
        {
          "output_type": "stream",
          "name": "stdout",
          "text": [
            "159445/159445 [==============================] - 340s 2ms/step - loss: 824.0177 - mse: 824.0177\n"
          ]
        },
        {
          "output_type": "execute_result",
          "data": {
            "text/plain": [
              "[824.0177001953125, 824.0177001953125]"
            ]
          },
          "metadata": {},
          "execution_count": 73
        }
      ]
    },
    {
      "cell_type": "markdown",
      "source": [
        "Very bad results compared to Deep Learning Model 2. Need to rethink our approach."
      ],
      "metadata": {
        "id": "BK27Nq4cllO3"
      }
    },
    {
      "cell_type": "markdown",
      "source": [
        "### Deep Learning Model 4"
      ],
      "metadata": {
        "id": "VtFTMTNKllO3"
      }
    },
    {
      "cell_type": "code",
      "source": [
        "dl4 = Sequential(\n",
        "    [\n",
        "        Input(shape=X_train.shape[1:]),\n",
        "        Dense(64, activation='sigmoid', name='layer1'),\n",
        "        Dense(128, activation='relu', name='layer2'),\n",
        "        Dense(128, activation='relu', name='layer3'),\n",
        "        Dense(512, activation='relu', name='layer4'),\n",
        "        Dense(256, activation='relu', name='layer5'),\n",
        "        Dense(128, activation='relu', name='layer6'),\n",
        "        Dense(64, activation='relu', name='layer7'),\n",
        "        Dense(16, activation='relu', name='layer8'),\n",
        "        Dense(1, activation='relu', name='output')\n",
        "    ]\n",
        ")\n",
        "\n",
        "dl4.summary()"
      ],
      "metadata": {
        "execution": {
          "iopub.status.busy": "2022-11-05T15:37:02.625211Z",
          "iopub.status.idle": "2022-11-05T15:37:02.626007Z",
          "shell.execute_reply.started": "2022-11-05T15:37:02.625739Z",
          "shell.execute_reply": "2022-11-05T15:37:02.625764Z"
        },
        "trusted": true,
        "id": "OGZPoGOYllO3",
        "colab": {
          "base_uri": "https://localhost:8080/"
        },
        "outputId": "85431cc0-f151-47bd-ad6a-c1ccc699f405"
      },
      "execution_count": 74,
      "outputs": [
        {
          "output_type": "stream",
          "name": "stdout",
          "text": [
            "Model: \"sequential_3\"\n",
            "_________________________________________________________________\n",
            " Layer (type)                Output Shape              Param #   \n",
            "=================================================================\n",
            " layer1 (Dense)              (None, 64)                512       \n",
            "                                                                 \n",
            " layer2 (Dense)              (None, 128)               8320      \n",
            "                                                                 \n",
            " layer3 (Dense)              (None, 128)               16512     \n",
            "                                                                 \n",
            " layer4 (Dense)              (None, 512)               66048     \n",
            "                                                                 \n",
            " layer5 (Dense)              (None, 256)               131328    \n",
            "                                                                 \n",
            " layer6 (Dense)              (None, 128)               32896     \n",
            "                                                                 \n",
            " layer7 (Dense)              (None, 64)                8256      \n",
            "                                                                 \n",
            " layer8 (Dense)              (None, 16)                1040      \n",
            "                                                                 \n",
            " output (Dense)              (None, 1)                 17        \n",
            "                                                                 \n",
            "=================================================================\n",
            "Total params: 264,929\n",
            "Trainable params: 264,929\n",
            "Non-trainable params: 0\n",
            "_________________________________________________________________\n"
          ]
        }
      ]
    },
    {
      "cell_type": "code",
      "source": [
        "dl4.compile(optimizer='adam', loss='mse', metrics=['mse'])\n",
        "history = dl4.fit(X_train, y_train, validation_split=0.2, epochs=10, batch_size=2048)"
      ],
      "metadata": {
        "execution": {
          "iopub.status.busy": "2022-11-05T15:37:02.627471Z",
          "iopub.status.idle": "2022-11-05T15:37:02.628289Z",
          "shell.execute_reply.started": "2022-11-05T15:37:02.628003Z",
          "shell.execute_reply": "2022-11-05T15:37:02.628028Z"
        },
        "trusted": true,
        "id": "q2FVsszullO3",
        "colab": {
          "base_uri": "https://localhost:8080/"
        },
        "outputId": "19809cb9-cdc5-4a3a-a026-2a5e92491da4"
      },
      "execution_count": 75,
      "outputs": [
        {
          "output_type": "stream",
          "name": "stdout",
          "text": [
            "Epoch 1/10\n",
            "4651/4651 [==============================] - 20s 4ms/step - loss: 78.8354 - mse: 78.8354 - val_loss: 70.8267 - val_mse: 70.8267\n",
            "Epoch 2/10\n",
            "4651/4651 [==============================] - 19s 4ms/step - loss: 72.2815 - mse: 72.2815 - val_loss: 78.5969 - val_mse: 78.5969\n",
            "Epoch 3/10\n",
            "4651/4651 [==============================] - 19s 4ms/step - loss: 71.6911 - mse: 71.6911 - val_loss: 72.5802 - val_mse: 72.5802\n",
            "Epoch 4/10\n",
            "4651/4651 [==============================] - 19s 4ms/step - loss: 71.6570 - mse: 71.6570 - val_loss: 70.1995 - val_mse: 70.1995\n",
            "Epoch 5/10\n",
            "4651/4651 [==============================] - 19s 4ms/step - loss: 71.7274 - mse: 71.7274 - val_loss: 72.5567 - val_mse: 72.5567\n",
            "Epoch 6/10\n",
            "4651/4651 [==============================] - 19s 4ms/step - loss: 71.3357 - mse: 71.3357 - val_loss: 69.9592 - val_mse: 69.9592\n",
            "Epoch 7/10\n",
            "4651/4651 [==============================] - 19s 4ms/step - loss: 70.9414 - mse: 70.9414 - val_loss: 68.8307 - val_mse: 68.8307\n",
            "Epoch 8/10\n",
            "4651/4651 [==============================] - 19s 4ms/step - loss: 71.5874 - mse: 71.5874 - val_loss: 70.5412 - val_mse: 70.5412\n",
            "Epoch 9/10\n",
            "4651/4651 [==============================] - 19s 4ms/step - loss: 71.0145 - mse: 71.0145 - val_loss: 70.1905 - val_mse: 70.1905\n",
            "Epoch 10/10\n",
            "4651/4651 [==============================] - 19s 4ms/step - loss: 71.1483 - mse: 71.1483 - val_loss: 69.3557 - val_mse: 69.3557\n"
          ]
        }
      ]
    },
    {
      "cell_type": "code",
      "source": [
        "# test the deep learning model 4 on the test set\n",
        "dl4.evaluate(X_test, y_test)"
      ],
      "metadata": {
        "execution": {
          "iopub.status.busy": "2022-11-05T15:37:02.629734Z",
          "iopub.status.idle": "2022-11-05T15:37:02.630556Z",
          "shell.execute_reply.started": "2022-11-05T15:37:02.630292Z",
          "shell.execute_reply": "2022-11-05T15:37:02.630317Z"
        },
        "trusted": true,
        "id": "D-RKHTGsllO3",
        "colab": {
          "base_uri": "https://localhost:8080/"
        },
        "outputId": "e92c0202-5f45-47b3-fdad-a06a83e64e8c"
      },
      "execution_count": 76,
      "outputs": [
        {
          "output_type": "stream",
          "name": "stdout",
          "text": [
            "159445/159445 [==============================] - 338s 2ms/step - loss: 69.6457 - mse: 69.6457\n"
          ]
        },
        {
          "output_type": "execute_result",
          "data": {
            "text/plain": [
              "[69.64569854736328, 69.64569854736328]"
            ]
          },
          "metadata": {},
          "execution_count": 76
        }
      ]
    },
    {
      "cell_type": "markdown",
      "source": [
        "Similar results to Deep Learning Model 2 but more consistent."
      ],
      "metadata": {
        "id": "DJRnIN_vllO3"
      }
    },
    {
      "cell_type": "markdown",
      "source": [
        "### Deep Learning Model 5"
      ],
      "metadata": {
        "id": "7YJ8esHnllO3"
      }
    },
    {
      "cell_type": "code",
      "source": [
        "dl5 = Sequential(\n",
        "    [\n",
        "        Input(shape=X_train.shape[1:]),\n",
        "        Dense(64, activation='sigmoid', name='layer1'),\n",
        "        Dense(128, activation='relu', name='layer2'),\n",
        "        Dense(128, activation='relu', name='layer3'),\n",
        "        Dense(512, activation='relu', name='layer4'),\n",
        "        Dense(1024, activation='relu', name='layer5'),\n",
        "        Dense(1024, activation='relu', name='layer6'),\n",
        "        Dense(256, activation='relu', name='layer7'),\n",
        "        Dense(128, activation='relu', name='layer8'),\n",
        "        Dense(64, activation='relu', name='layer9'),\n",
        "        Dense(16, activation='relu', name='layer10'),\n",
        "        Dense(1, activation='relu', name='output')\n",
        "    ]\n",
        ")\n",
        "\n",
        "dl5.summary()"
      ],
      "metadata": {
        "execution": {
          "iopub.status.busy": "2022-11-05T15:37:02.632235Z",
          "iopub.status.idle": "2022-11-05T15:37:02.633054Z",
          "shell.execute_reply.started": "2022-11-05T15:37:02.632786Z",
          "shell.execute_reply": "2022-11-05T15:37:02.632813Z"
        },
        "trusted": true,
        "id": "eVUsDt7-llO4",
        "colab": {
          "base_uri": "https://localhost:8080/"
        },
        "outputId": "11da24b5-3b9a-4f85-dbc9-97b751b9f5e7"
      },
      "execution_count": 77,
      "outputs": [
        {
          "output_type": "stream",
          "name": "stdout",
          "text": [
            "Model: \"sequential_4\"\n",
            "_________________________________________________________________\n",
            " Layer (type)                Output Shape              Param #   \n",
            "=================================================================\n",
            " layer1 (Dense)              (None, 64)                512       \n",
            "                                                                 \n",
            " layer2 (Dense)              (None, 128)               8320      \n",
            "                                                                 \n",
            " layer3 (Dense)              (None, 128)               16512     \n",
            "                                                                 \n",
            " layer4 (Dense)              (None, 512)               66048     \n",
            "                                                                 \n",
            " layer5 (Dense)              (None, 1024)              525312    \n",
            "                                                                 \n",
            " layer6 (Dense)              (None, 1024)              1049600   \n",
            "                                                                 \n",
            " layer7 (Dense)              (None, 256)               262400    \n",
            "                                                                 \n",
            " layer8 (Dense)              (None, 128)               32896     \n",
            "                                                                 \n",
            " layer9 (Dense)              (None, 64)                8256      \n",
            "                                                                 \n",
            " layer10 (Dense)             (None, 16)                1040      \n",
            "                                                                 \n",
            " output (Dense)              (None, 1)                 17        \n",
            "                                                                 \n",
            "=================================================================\n",
            "Total params: 1,970,913\n",
            "Trainable params: 1,970,913\n",
            "Non-trainable params: 0\n",
            "_________________________________________________________________\n"
          ]
        }
      ]
    },
    {
      "cell_type": "code",
      "source": [
        "dl5.compile(optimizer='adam', loss='mse', metrics=['mse'])\n",
        "history = dl5.fit(X_train, y_train, validation_split=0.2, epochs=10, batch_size=4096)"
      ],
      "metadata": {
        "execution": {
          "iopub.status.busy": "2022-11-05T15:37:02.634505Z",
          "iopub.status.idle": "2022-11-05T15:37:02.635313Z",
          "shell.execute_reply.started": "2022-11-05T15:37:02.635031Z",
          "shell.execute_reply": "2022-11-05T15:37:02.635057Z"
        },
        "trusted": true,
        "id": "BRiMNslpllO4",
        "colab": {
          "base_uri": "https://localhost:8080/"
        },
        "outputId": "117ceb80-cc35-4806-f5ba-483d4a245910"
      },
      "execution_count": 78,
      "outputs": [
        {
          "output_type": "stream",
          "name": "stdout",
          "text": [
            "Epoch 1/10\n",
            "2326/2326 [==============================] - 38s 16ms/step - loss: 89.3572 - mse: 89.3572 - val_loss: 74.5422 - val_mse: 74.5422\n",
            "Epoch 2/10\n",
            "2326/2326 [==============================] - 37s 16ms/step - loss: 73.4070 - mse: 73.4070 - val_loss: 70.2633 - val_mse: 70.2633\n",
            "Epoch 3/10\n",
            "2326/2326 [==============================] - 39s 17ms/step - loss: 75.0584 - mse: 75.0584 - val_loss: 77.3719 - val_mse: 77.3719\n",
            "Epoch 4/10\n",
            "2326/2326 [==============================] - 39s 17ms/step - loss: 73.5318 - mse: 73.5318 - val_loss: 70.8106 - val_mse: 70.8106\n",
            "Epoch 5/10\n",
            "2326/2326 [==============================] - 39s 17ms/step - loss: 72.4948 - mse: 72.4948 - val_loss: 78.3055 - val_mse: 78.3055\n",
            "Epoch 6/10\n",
            "2326/2326 [==============================] - 39s 17ms/step - loss: 71.4215 - mse: 71.4215 - val_loss: 69.6527 - val_mse: 69.6527\n",
            "Epoch 7/10\n",
            "2326/2326 [==============================] - 39s 17ms/step - loss: 71.3418 - mse: 71.3418 - val_loss: 68.4037 - val_mse: 68.4037\n",
            "Epoch 8/10\n",
            "2326/2326 [==============================] - 38s 17ms/step - loss: 74.2562 - mse: 74.2562 - val_loss: 70.9643 - val_mse: 70.9643\n",
            "Epoch 9/10\n",
            "2326/2326 [==============================] - 38s 17ms/step - loss: 70.3764 - mse: 70.3764 - val_loss: 68.7480 - val_mse: 68.7480\n",
            "Epoch 10/10\n",
            "2326/2326 [==============================] - 38s 16ms/step - loss: 70.4167 - mse: 70.4167 - val_loss: 68.2631 - val_mse: 68.2631\n"
          ]
        }
      ]
    },
    {
      "cell_type": "code",
      "source": [
        "# test the deep learning model 5 on the test set\n",
        "dl5.evaluate(X_test, y_test)"
      ],
      "metadata": {
        "execution": {
          "iopub.status.busy": "2022-11-05T15:37:02.637071Z",
          "iopub.status.idle": "2022-11-05T15:37:02.637888Z",
          "shell.execute_reply.started": "2022-11-05T15:37:02.637613Z",
          "shell.execute_reply": "2022-11-05T15:37:02.637639Z"
        },
        "trusted": true,
        "id": "0rtWoUd6llO4",
        "colab": {
          "base_uri": "https://localhost:8080/"
        },
        "outputId": "346177d3-441b-460c-b990-ebf37892f10a"
      },
      "execution_count": 79,
      "outputs": [
        {
          "output_type": "stream",
          "name": "stdout",
          "text": [
            "159445/159445 [==============================] - 349s 2ms/step - loss: 68.5661 - mse: 68.5661\n"
          ]
        },
        {
          "output_type": "execute_result",
          "data": {
            "text/plain": [
              "[68.56611633300781, 68.56611633300781]"
            ]
          },
          "metadata": {},
          "execution_count": 79
        }
      ]
    },
    {
      "cell_type": "markdown",
      "source": [
        "Even after adding more layers with more neurons, the results seem to be capped at 69 and it doesn't decrease."
      ],
      "metadata": {
        "id": "3PdR5ux6llO4"
      }
    },
    {
      "cell_type": "markdown",
      "source": [
        "### Deep Learning Model 6"
      ],
      "metadata": {
        "id": "k8_CaoYg48xW"
      }
    },
    {
      "cell_type": "code",
      "source": [
        "dl6 = Sequential(\n",
        "    [\n",
        "        Input(shape=X_train.shape[1:]),\n",
        "        Dense(8, activation='relu', name='layer1'),\n",
        "        Dense(8, activation='relu', name='layer2'),\n",
        "        Dense(8, activation='relu', name='layer3'),\n",
        "        Dense(1, activation='relu', name='output')\n",
        "    ]\n",
        ")\n",
        "\n",
        "dl6.summary()"
      ],
      "metadata": {
        "execution": {
          "iopub.status.busy": "2022-11-05T15:56:14.927103Z",
          "iopub.execute_input": "2022-11-05T15:56:14.928356Z",
          "iopub.status.idle": "2022-11-05T15:56:14.970615Z",
          "shell.execute_reply.started": "2022-11-05T15:56:14.928300Z",
          "shell.execute_reply": "2022-11-05T15:56:14.969481Z"
        },
        "trusted": true,
        "id": "m0pdyDlDllO4",
        "colab": {
          "base_uri": "https://localhost:8080/"
        },
        "outputId": "9fe4ebb3-1014-450b-aed8-fceb7013ef5e"
      },
      "execution_count": 80,
      "outputs": [
        {
          "output_type": "stream",
          "name": "stdout",
          "text": [
            "Model: \"sequential_5\"\n",
            "_________________________________________________________________\n",
            " Layer (type)                Output Shape              Param #   \n",
            "=================================================================\n",
            " layer1 (Dense)              (None, 8)                 64        \n",
            "                                                                 \n",
            " layer2 (Dense)              (None, 8)                 72        \n",
            "                                                                 \n",
            " layer3 (Dense)              (None, 8)                 72        \n",
            "                                                                 \n",
            " output (Dense)              (None, 1)                 9         \n",
            "                                                                 \n",
            "=================================================================\n",
            "Total params: 217\n",
            "Trainable params: 217\n",
            "Non-trainable params: 0\n",
            "_________________________________________________________________\n"
          ]
        }
      ]
    },
    {
      "cell_type": "code",
      "source": [
        "dl6.compile(optimizer='adam', loss='mse', metrics=['mse'])\n",
        "history = dl6.fit(X_train, y_train, validation_split=0.2, epochs=10, batch_size=2048)"
      ],
      "metadata": {
        "execution": {
          "iopub.status.busy": "2022-11-05T15:56:20.214136Z",
          "iopub.execute_input": "2022-11-05T15:56:20.215309Z",
          "iopub.status.idle": "2022-11-05T15:57:09.337809Z",
          "shell.execute_reply.started": "2022-11-05T15:56:20.215259Z",
          "shell.execute_reply": "2022-11-05T15:57:09.334803Z"
        },
        "trusted": true,
        "id": "LKBF68YQllO4",
        "colab": {
          "base_uri": "https://localhost:8080/"
        },
        "outputId": "801e6566-29a9-4170-e10b-24f59caf3f06"
      },
      "execution_count": 81,
      "outputs": [
        {
          "output_type": "stream",
          "name": "stdout",
          "text": [
            "Epoch 1/10\n",
            "4651/4651 [==============================] - 14s 3ms/step - loss: 291.0714 - mse: 291.0714 - val_loss: 70.2192 - val_mse: 70.2192\n",
            "Epoch 2/10\n",
            "4651/4651 [==============================] - 13s 3ms/step - loss: 70.4575 - mse: 70.4575 - val_loss: 70.6935 - val_mse: 70.6935\n",
            "Epoch 3/10\n",
            "4651/4651 [==============================] - 13s 3ms/step - loss: 70.5316 - mse: 70.5316 - val_loss: 69.5506 - val_mse: 69.5506\n",
            "Epoch 4/10\n",
            "4651/4651 [==============================] - 13s 3ms/step - loss: 70.3118 - mse: 70.3118 - val_loss: 69.6212 - val_mse: 69.6212\n",
            "Epoch 5/10\n",
            "4651/4651 [==============================] - 13s 3ms/step - loss: 70.0993 - mse: 70.0993 - val_loss: 69.2546 - val_mse: 69.2546\n",
            "Epoch 6/10\n",
            "4651/4651 [==============================] - 13s 3ms/step - loss: 69.9908 - mse: 69.9908 - val_loss: 69.4782 - val_mse: 69.4782\n",
            "Epoch 7/10\n",
            "4651/4651 [==============================] - 13s 3ms/step - loss: 69.8919 - mse: 69.8919 - val_loss: 69.3350 - val_mse: 69.3350\n",
            "Epoch 8/10\n",
            "4651/4651 [==============================] - 13s 3ms/step - loss: 69.8000 - mse: 69.8000 - val_loss: 69.0709 - val_mse: 69.0709\n",
            "Epoch 9/10\n",
            "4651/4651 [==============================] - 13s 3ms/step - loss: 69.7532 - mse: 69.7532 - val_loss: 69.8064 - val_mse: 69.8064\n",
            "Epoch 10/10\n",
            "4651/4651 [==============================] - 13s 3ms/step - loss: 69.6359 - mse: 69.6359 - val_loss: 68.8568 - val_mse: 68.8568\n"
          ]
        }
      ]
    },
    {
      "cell_type": "code",
      "source": [
        "# test the deep learning model 6 on the test set\n",
        "dl6.evaluate(X_test, y_test)"
      ],
      "metadata": {
        "execution": {
          "iopub.status.busy": "2022-11-05T15:37:02.643875Z",
          "iopub.status.idle": "2022-11-05T15:37:02.644692Z",
          "shell.execute_reply.started": "2022-11-05T15:37:02.644414Z",
          "shell.execute_reply": "2022-11-05T15:37:02.644439Z"
        },
        "trusted": true,
        "id": "SN72upf4llO4",
        "colab": {
          "base_uri": "https://localhost:8080/"
        },
        "outputId": "a99129d4-0864-44bb-a305-ac953e5be56e"
      },
      "execution_count": 82,
      "outputs": [
        {
          "output_type": "stream",
          "name": "stdout",
          "text": [
            "159445/159445 [==============================] - 285s 2ms/step - loss: 69.5516 - mse: 69.5516\n"
          ]
        },
        {
          "output_type": "execute_result",
          "data": {
            "text/plain": [
              "[69.5516357421875, 69.5516357421875]"
            ]
          },
          "metadata": {},
          "execution_count": 82
        }
      ]
    },
    {
      "cell_type": "markdown",
      "source": [
        "Achieved similar results compared to Deep Learning Model 2."
      ],
      "metadata": {
        "id": "Mv-1qCo0llO4"
      }
    },
    {
      "cell_type": "markdown",
      "source": [
        "### Deep Learning Model 7"
      ],
      "metadata": {
        "id": "S_RqCXqb42v4"
      }
    },
    {
      "cell_type": "markdown",
      "source": [
        "Some trips have drivers' earning more than the base passenger fare. This might be due to customer promotions by the taxi companies. This leads to some outliers which show high loss when compared to base passenger fare. Removing such records."
      ],
      "metadata": {
        "id": "kyX3oFMTllO6"
      }
    },
    {
      "cell_type": "code",
      "source": [
        "df['trip_day'] = df.request_datetime.dt.day_name()"
      ],
      "metadata": {
        "execution": {
          "iopub.status.busy": "2022-11-05T15:37:15.097653Z",
          "iopub.execute_input": "2022-11-05T15:37:15.098034Z",
          "iopub.status.idle": "2022-11-05T15:37:20.100860Z",
          "shell.execute_reply.started": "2022-11-05T15:37:15.098000Z",
          "shell.execute_reply": "2022-11-05T15:37:20.099809Z"
        },
        "trusted": true,
        "id": "r9ffDSZ4llO6"
      },
      "execution_count": 83,
      "outputs": []
    },
    {
      "cell_type": "code",
      "source": [
        "df['trip_day'] = pd.factorize(df['trip_day'])[0]"
      ],
      "metadata": {
        "execution": {
          "iopub.status.busy": "2022-11-05T15:37:23.659603Z",
          "iopub.execute_input": "2022-11-05T15:37:23.659984Z",
          "iopub.status.idle": "2022-11-05T15:37:25.269148Z",
          "shell.execute_reply.started": "2022-11-05T15:37:23.659951Z",
          "shell.execute_reply": "2022-11-05T15:37:25.267660Z"
        },
        "trusted": true,
        "id": "P3DxtelZllO7"
      },
      "execution_count": 84,
      "outputs": []
    },
    {
      "cell_type": "code",
      "source": [
        "X_train, X_test, y_train, y_test = train_test_split(\n",
        "    df[['trip_miles', 'trip_time', 'request_hour', 'pickup_hour', 'dropoff_hour', 'PULocation', 'DOLocation', 'taxi_company', 'trip_day']],\n",
        "    df[['base_passenger_fare']],\n",
        "    test_size=0.3\n",
        ")"
      ],
      "metadata": {
        "execution": {
          "iopub.status.busy": "2022-11-05T15:37:48.174228Z",
          "iopub.execute_input": "2022-11-05T15:37:48.174625Z",
          "iopub.status.idle": "2022-11-05T15:37:54.030161Z",
          "shell.execute_reply.started": "2022-11-05T15:37:48.174592Z",
          "shell.execute_reply": "2022-11-05T15:37:54.029060Z"
        },
        "trusted": true,
        "id": "exWWeKMGllO7"
      },
      "execution_count": 85,
      "outputs": []
    },
    {
      "cell_type": "code",
      "source": [
        "from tensorflow.keras.layers import BatchNormalization"
      ],
      "metadata": {
        "execution": {
          "iopub.status.busy": "2022-11-05T15:38:12.929148Z",
          "iopub.execute_input": "2022-11-05T15:38:12.930268Z",
          "iopub.status.idle": "2022-11-05T15:38:12.935723Z",
          "shell.execute_reply.started": "2022-11-05T15:38:12.930214Z",
          "shell.execute_reply": "2022-11-05T15:38:12.934320Z"
        },
        "trusted": true,
        "id": "0mt3xy28llO7"
      },
      "execution_count": 86,
      "outputs": []
    },
    {
      "cell_type": "code",
      "source": [
        "dl7 = Sequential(\n",
        "    [\n",
        "        Input(shape=X_train.shape[1:]),\n",
        "        BatchNormalization(),\n",
        "        Dense(64, activation='relu', name='layer1'),\n",
        "        Dense(128, activation='relu', name='layer2'),\n",
        "        Dense(128, activation='relu', name='layer3'),\n",
        "        Dense(512, activation='relu', name='layer4'),\n",
        "        Dense(1024, activation='relu', name='layer5'),\n",
        "        Dense(1024, activation='relu', name='layer6'),\n",
        "        Dense(256, activation='relu', name='layer7'),\n",
        "        Dense(128, activation='relu', name='layer8'),\n",
        "        Dense(64, activation='relu', name='layer9'),\n",
        "        Dense(16, activation='relu', name='layer10'),\n",
        "        Dense(1, activation='relu', name='output')\n",
        "    ]\n",
        ")\n",
        "\n",
        "dl7.summary()"
      ],
      "metadata": {
        "execution": {
          "iopub.status.busy": "2022-11-05T15:57:25.694491Z",
          "iopub.execute_input": "2022-11-05T15:57:25.695669Z",
          "iopub.status.idle": "2022-11-05T15:57:25.792595Z",
          "shell.execute_reply.started": "2022-11-05T15:57:25.695619Z",
          "shell.execute_reply": "2022-11-05T15:57:25.791573Z"
        },
        "trusted": true,
        "colab": {
          "base_uri": "https://localhost:8080/"
        },
        "id": "81Sqm4FJllO7",
        "outputId": "a4ebbb59-e69f-4fd6-e2cb-9caabb18ba9d"
      },
      "execution_count": 87,
      "outputs": [
        {
          "output_type": "stream",
          "name": "stdout",
          "text": [
            "Model: \"sequential_6\"\n",
            "_________________________________________________________________\n",
            " Layer (type)                Output Shape              Param #   \n",
            "=================================================================\n",
            " batch_normalization (BatchN  (None, 9)                36        \n",
            " ormalization)                                                   \n",
            "                                                                 \n",
            " layer1 (Dense)              (None, 64)                640       \n",
            "                                                                 \n",
            " layer2 (Dense)              (None, 128)               8320      \n",
            "                                                                 \n",
            " layer3 (Dense)              (None, 128)               16512     \n",
            "                                                                 \n",
            " layer4 (Dense)              (None, 512)               66048     \n",
            "                                                                 \n",
            " layer5 (Dense)              (None, 1024)              525312    \n",
            "                                                                 \n",
            " layer6 (Dense)              (None, 1024)              1049600   \n",
            "                                                                 \n",
            " layer7 (Dense)              (None, 256)               262400    \n",
            "                                                                 \n",
            " layer8 (Dense)              (None, 128)               32896     \n",
            "                                                                 \n",
            " layer9 (Dense)              (None, 64)                8256      \n",
            "                                                                 \n",
            " layer10 (Dense)             (None, 16)                1040      \n",
            "                                                                 \n",
            " output (Dense)              (None, 1)                 17        \n",
            "                                                                 \n",
            "=================================================================\n",
            "Total params: 1,971,077\n",
            "Trainable params: 1,971,059\n",
            "Non-trainable params: 18\n",
            "_________________________________________________________________\n"
          ]
        }
      ]
    },
    {
      "cell_type": "code",
      "source": [
        "dl7.compile(optimizer='adam', loss='mse', metrics=['mse'])\n",
        "history = dl7.fit(X_train, y_train, validation_split=0.2, epochs=10, batch_size=2048)"
      ],
      "metadata": {
        "execution": {
          "iopub.status.busy": "2022-11-05T15:58:29.645060Z",
          "iopub.execute_input": "2022-11-05T15:58:29.645477Z"
        },
        "trusted": true,
        "colab": {
          "base_uri": "https://localhost:8080/"
        },
        "id": "3nIXFT_jllO7",
        "outputId": "ce16072f-0380-48f6-ae8d-9d3ebf590ce8"
      },
      "execution_count": 88,
      "outputs": [
        {
          "output_type": "stream",
          "name": "stdout",
          "text": [
            "Epoch 1/10\n",
            "4651/4651 [==============================] - 45s 9ms/step - loss: 69.2039 - mse: 69.2039 - val_loss: 62.7177 - val_mse: 62.7177\n",
            "Epoch 2/10\n",
            "4651/4651 [==============================] - 44s 9ms/step - loss: 64.2857 - mse: 64.2857 - val_loss: 62.0997 - val_mse: 62.0997\n",
            "Epoch 3/10\n",
            "4651/4651 [==============================] - 44s 9ms/step - loss: 62.7765 - mse: 62.7765 - val_loss: 60.3505 - val_mse: 60.3505\n",
            "Epoch 4/10\n",
            "4651/4651 [==============================] - 45s 10ms/step - loss: 61.8439 - mse: 61.8439 - val_loss: 60.4492 - val_mse: 60.4492\n",
            "Epoch 5/10\n",
            "4651/4651 [==============================] - 45s 10ms/step - loss: 61.1926 - mse: 61.1926 - val_loss: 58.6104 - val_mse: 58.6104\n",
            "Epoch 6/10\n",
            "4651/4651 [==============================] - 45s 10ms/step - loss: 60.7646 - mse: 60.7646 - val_loss: 61.4603 - val_mse: 61.4603\n",
            "Epoch 7/10\n",
            "4651/4651 [==============================] - 45s 10ms/step - loss: 60.3862 - mse: 60.3862 - val_loss: 58.2084 - val_mse: 58.2084\n",
            "Epoch 8/10\n",
            "4651/4651 [==============================] - 45s 10ms/step - loss: 59.9896 - mse: 59.9896 - val_loss: 58.2981 - val_mse: 58.2981\n",
            "Epoch 9/10\n",
            "4651/4651 [==============================] - 45s 10ms/step - loss: 59.8424 - mse: 59.8424 - val_loss: 58.0713 - val_mse: 58.0713\n",
            "Epoch 10/10\n",
            "4651/4651 [==============================] - 45s 10ms/step - loss: 59.5654 - mse: 59.5654 - val_loss: 58.1833 - val_mse: 58.1833\n"
          ]
        }
      ]
    },
    {
      "cell_type": "code",
      "source": [
        "# test the deep learning model 7 on the test set\n",
        "dl7.evaluate(X_test, y_test)"
      ],
      "metadata": {
        "execution": {
          "iopub.status.busy": "2022-11-05T15:37:02.669107Z",
          "iopub.status.idle": "2022-11-05T15:37:02.669928Z",
          "shell.execute_reply.started": "2022-11-05T15:37:02.669646Z",
          "shell.execute_reply": "2022-11-05T15:37:02.669671Z"
        },
        "trusted": true,
        "id": "Mrg_AEyollO7",
        "colab": {
          "base_uri": "https://localhost:8080/"
        },
        "outputId": "535666f7-d34b-4d60-b28b-475a8a3550f6"
      },
      "execution_count": 89,
      "outputs": [
        {
          "output_type": "stream",
          "name": "stdout",
          "text": [
            "159445/159445 [==============================] - 360s 2ms/step - loss: 59.1331 - mse: 59.1331\n"
          ]
        },
        {
          "output_type": "execute_result",
          "data": {
            "text/plain": [
              "[59.133113861083984, 59.133113861083984]"
            ]
          },
          "metadata": {},
          "execution_count": 89
        }
      ]
    },
    {
      "cell_type": "markdown",
      "source": [
        "With the addition of two new features \"trip_day\" and \"request_hour\", the model performed better with significantly improved results. "
      ],
      "metadata": {
        "id": "lDAK1f8jllO7"
      }
    },
    {
      "cell_type": "markdown",
      "source": [
        "## Conclusion\n",
        "- In this notebook, Machine Learning algorithms are applied to predict the pricing\n",
        "- Decision Tree Regression gave best results among the various Machine Learning algorithms\n",
        "- Seven deep learning models are applied to the problem resulting in even better results.\n",
        "- We will be using the Decision Tree Regression model and the better Deep Learning model for inference in Phase 3"
      ],
      "metadata": {
        "id": "zTMIoFh_llO7"
      }
    },
    {
      "cell_type": "markdown",
      "source": [
        "## References\n",
        "- https://www1.nyc.gov/site/tlc/about/tlc-trip-record-data.page\n",
        "- https://registry.opendata.aws/nyc-tlc-trip-records-pds/\n",
        "- Seaborn, Pandas, Numpy documentation\n",
        "- https://machinelearningmastery.com/adam-optimization-algorithm-for-deep-learning/\n",
        "- https://stats.stackexchange.com/questions/181/how-to-choose-the-number-of-hidden-layers-and-nodes-in-a-feedforward-neural-netw\n",
        "- http://www.faqs.org/faqs/ai-faq/neural-nets/part3/section-9.html\n",
        "- https://hagan.okstate.edu/NNDesign.pdf#page=469"
      ],
      "metadata": {
        "id": "7hu-JZEyllO7"
      }
    }
  ]
}