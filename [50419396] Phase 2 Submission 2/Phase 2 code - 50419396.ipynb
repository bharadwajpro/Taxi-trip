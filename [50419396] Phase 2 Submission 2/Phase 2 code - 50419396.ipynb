{
  "cells": [
    {
      "cell_type": "markdown",
      "metadata": {
        "id": "Wa8joS5lllOo"
      },
      "source": [
        "# Price analysis, Profitability and Affordability of Taxi trips in New York City"
      ]
    },
    {
      "cell_type": "markdown",
      "metadata": {
        "id": "q3X5ebP4llOr"
      },
      "source": [
        "## Name: Venkata Krishna Bharadwaj Boinepally\n",
        "## UB ID: 50419396\n",
        "## UB Email: vboinepa@buffalo.edu\n",
        "## Course: CSE 587: Data Intensive Computing\n",
        "## Term: Fall 2022\n",
        "## Project Name: [Phase 2] Prediction of Taxi Trip Fare for given distance and time"
      ]
    },
    {
      "cell_type": "markdown",
      "metadata": {
        "id": "7FtPoshFllOr"
      },
      "source": [
        "## Data Processing\n",
        "(Same as Phase 1. For more details, refer Phase 1)\n",
        "\n",
        "Data Processing steps are being repeated here. These are the same steps as Phase 1. Since I am downloading the data again, I am including the Data Processing that is required. Scroll down to the \"Machine Learning models to predict fare\" section for the actual Phase 2 code."
      ]
    },
    {
      "cell_type": "markdown",
      "metadata": {
        "id": "3peAFcQxllOs"
      },
      "source": [
        "Import numpy, pandas, matplotlib, seaborn"
      ]
    },
    {
      "cell_type": "code",
      "execution_count": 1,
      "metadata": {
        "id": "YAN4TOwpllOs"
      },
      "outputs": [],
      "source": [
        "import numpy as np\n",
        "import pandas as pd\n",
        "import matplotlib.pyplot as plt"
      ]
    },
    {
      "cell_type": "code",
      "execution_count": 2,
      "metadata": {
        "id": "kY_vYX6gllOt"
      },
      "outputs": [],
      "source": [
        "import seaborn as sns"
      ]
    },
    {
      "cell_type": "markdown",
      "metadata": {
        "id": "cHSV4HzLllOt"
      },
      "source": [
        "Source of dataset [https://www1.nyc.gov/site/tlc/about/tlc-trip-record-data.page](https://www1.nyc.gov/site/tlc/about/tlc-trip-record-data.page)"
      ]
    },
    {
      "cell_type": "code",
      "execution_count": 3,
      "metadata": {
        "colab": {
          "base_uri": "https://localhost:8080/"
        },
        "id": "DfuI76qellOt",
        "outputId": "f2bbe234-7716-4167-a30a-31a22d70a09a"
      },
      "outputs": [
        {
          "output_type": "stream",
          "name": "stdout",
          "text": [
            "--2022-11-14 20:33:03--  https://d37ci6vzurychx.cloudfront.net/trip-data/fhvhv_tripdata_2022-06.parquet\n",
            "Resolving d37ci6vzurychx.cloudfront.net (d37ci6vzurychx.cloudfront.net)... 18.65.40.156, 18.65.40.85, 18.65.40.229, ...\n",
            "Connecting to d37ci6vzurychx.cloudfront.net (d37ci6vzurychx.cloudfront.net)|18.65.40.156|:443... connected.\n",
            "HTTP request sent, awaiting response... 200 OK\n",
            "Length: 458193119 (437M) [application/x-www-form-urlencoded]\n",
            "Saving to: ‘fhvhv_tripdata_2022-06.parquet’\n",
            "\n",
            "fhvhv_tripdata_2022 100%[===================>] 436.97M   234MB/s    in 1.9s    \n",
            "\n",
            "2022-11-14 20:33:05 (234 MB/s) - ‘fhvhv_tripdata_2022-06.parquet’ saved [458193119/458193119]\n",
            "\n"
          ]
        }
      ],
      "source": [
        "# trip data\n",
        "!wget https://d37ci6vzurychx.cloudfront.net/trip-data/fhvhv_tripdata_2022-06.parquet"
      ]
    },
    {
      "cell_type": "code",
      "execution_count": 4,
      "metadata": {
        "colab": {
          "base_uri": "https://localhost:8080/"
        },
        "id": "sD9yicnZllOu",
        "outputId": "2d23904e-e1ee-4e5a-a196-795d48ec9d55",
        "scrolled": true
      },
      "outputs": [
        {
          "output_type": "stream",
          "name": "stdout",
          "text": [
            "--2022-11-14 20:33:06--  https://d37ci6vzurychx.cloudfront.net/misc/taxi+_zone_lookup.csv\n",
            "Resolving d37ci6vzurychx.cloudfront.net (d37ci6vzurychx.cloudfront.net)... 52.222.137.46, 52.222.137.56, 52.222.137.206, ...\n",
            "Connecting to d37ci6vzurychx.cloudfront.net (d37ci6vzurychx.cloudfront.net)|52.222.137.46|:443... connected.\n",
            "HTTP request sent, awaiting response... 200 OK\n",
            "Length: 12322 (12K) [text/csv]\n",
            "Saving to: ‘taxi+_zone_lookup.csv’\n",
            "\n",
            "\rtaxi+_zone_lookup.c   0%[                    ]       0  --.-KB/s               \rtaxi+_zone_lookup.c 100%[===================>]  12.03K  --.-KB/s    in 0s      \n",
            "\n",
            "2022-11-14 20:33:06 (74.5 MB/s) - ‘taxi+_zone_lookup.csv’ saved [12322/12322]\n",
            "\n"
          ]
        }
      ],
      "source": [
        "# zone data\n",
        "!wget https://d37ci6vzurychx.cloudfront.net/misc/taxi+_zone_lookup.csv"
      ]
    },
    {
      "cell_type": "markdown",
      "metadata": {
        "id": "21LpsR3CllOu"
      },
      "source": [
        "Do\n",
        "1. pip install pyarrow\n",
        "2. pip install fastparquet\n",
        "\n",
        "For reading parquet files"
      ]
    },
    {
      "cell_type": "markdown",
      "metadata": {
        "id": "3YmYfkp4llOv"
      },
      "source": [
        "Read trip data for June 2022"
      ]
    },
    {
      "cell_type": "code",
      "execution_count": 5,
      "metadata": {
        "id": "S_C-TJ4xllOv"
      },
      "outputs": [],
      "source": [
        "df = pd.read_parquet('fhvhv_tripdata_2022-06.parquet')"
      ]
    },
    {
      "cell_type": "code",
      "execution_count": 6,
      "metadata": {
        "colab": {
          "base_uri": "https://localhost:8080/",
          "height": 661
        },
        "id": "A1AV6cxkllOv",
        "outputId": "469d8c5a-537b-4d0c-ae9c-eeb1fc78c6f5"
      },
      "outputs": [
        {
          "output_type": "execute_result",
          "data": {
            "text/plain": [
              "         hvfhs_license_num dispatching_base_num originating_base_num  \\\n",
              "0                   HV0003               B03404               B03404   \n",
              "1                   HV0003               B03404               B03404   \n",
              "2                   HV0003               B03404               B03404   \n",
              "3                   HV0003               B03404               B03404   \n",
              "4                   HV0005               B03406                 None   \n",
              "...                    ...                  ...                  ...   \n",
              "17780070            HV0003               B03404               B03404   \n",
              "17780071            HV0003               B03404               B03404   \n",
              "17780072            HV0003               B03404               B03404   \n",
              "17780073            HV0003               B03404               B03404   \n",
              "17780074            HV0005               B03406                 None   \n",
              "\n",
              "            request_datetime   on_scene_datetime     pickup_datetime  \\\n",
              "0        2022-06-01 00:15:35 2022-06-01 00:17:20 2022-06-01 00:17:41   \n",
              "1        2022-06-01 00:39:04 2022-06-01 00:40:36 2022-06-01 00:42:37   \n",
              "2        2022-06-01 00:27:53 2022-06-01 00:31:34 2022-06-01 00:36:22   \n",
              "3        2022-06-01 00:48:15 2022-06-01 00:49:38 2022-06-01 00:51:18   \n",
              "4        2022-06-01 00:04:51                 NaT 2022-06-01 00:13:33   \n",
              "...                      ...                 ...                 ...   \n",
              "17780070 2022-06-30 23:20:49 2022-06-30 23:24:23 2022-06-30 23:24:43   \n",
              "17780071 2022-06-30 23:36:13 2022-06-30 23:39:12 2022-06-30 23:39:20   \n",
              "17780072 2022-06-30 23:50:50 2022-06-30 23:55:11 2022-06-30 23:57:12   \n",
              "17780073 2022-06-30 23:02:40 2022-06-30 23:04:58 2022-06-30 23:06:44   \n",
              "17780074 2022-06-30 23:00:28                 NaT 2022-06-30 23:03:06   \n",
              "\n",
              "            dropoff_datetime  PULocationID  DOLocationID  trip_miles  ...  \\\n",
              "0        2022-06-01 00:25:41           234           114       1.500  ...   \n",
              "1        2022-06-01 00:56:32           161           151       4.180  ...   \n",
              "2        2022-06-01 00:45:31           231            87       2.910  ...   \n",
              "3        2022-06-01 01:11:15            87           225       5.450  ...   \n",
              "4        2022-06-01 00:17:27           137           162       1.069  ...   \n",
              "...                      ...           ...           ...         ...  ...   \n",
              "17780070 2022-06-30 23:38:19            74           224       6.070  ...   \n",
              "17780071 2022-06-30 23:51:10           224            13       4.900  ...   \n",
              "17780072 2022-07-01 00:07:07           231           231       0.530  ...   \n",
              "17780073 2022-06-30 23:26:28           234            48       2.850  ...   \n",
              "17780074 2022-06-30 23:18:13           244           242       6.207  ...   \n",
              "\n",
              "          sales_tax  congestion_surcharge  airport_fee  tips  driver_pay  \\\n",
              "0              0.68                  2.75          0.0  1.00        9.36   \n",
              "1              1.81                  2.75          0.0  4.82       15.61   \n",
              "2              1.09                  2.75          0.0  1.00        8.22   \n",
              "3              2.19                  2.75          0.0  0.00       16.88   \n",
              "4              0.73                  2.75          0.0  0.00        5.47   \n",
              "...             ...                   ...          ...   ...         ...   \n",
              "17780070       1.56                  2.75          0.0  2.24       16.23   \n",
              "17780071       1.59                  2.75          0.0  0.00       13.94   \n",
              "17780072       1.06                  2.75          0.0  3.00       18.46   \n",
              "17780073       2.79                  2.75          0.0  1.00       27.27   \n",
              "17780074       1.80                  0.00          0.0  0.00       15.26   \n",
              "\n",
              "          shared_request_flag  shared_match_flag  access_a_ride_flag  \\\n",
              "0                           N                  N                       \n",
              "1                           N                  N                       \n",
              "2                           N                  N                       \n",
              "3                           N                  N                       \n",
              "4                           N                  N                   N   \n",
              "...                       ...                ...                 ...   \n",
              "17780070                    N                  N                       \n",
              "17780071                    N                  N                       \n",
              "17780072                    N                  N                       \n",
              "17780073                    N                  N                       \n",
              "17780074                    N                  N                   N   \n",
              "\n",
              "          wav_request_flag wav_match_flag  \n",
              "0                        N              N  \n",
              "1                        N              N  \n",
              "2                        N              N  \n",
              "3                        N              N  \n",
              "4                        N              N  \n",
              "...                    ...            ...  \n",
              "17780070                 N              N  \n",
              "17780071                 N              N  \n",
              "17780072                 N              N  \n",
              "17780073                 N              N  \n",
              "17780074                 N              N  \n",
              "\n",
              "[17780075 rows x 24 columns]"
            ],
            "text/html": [
              "\n",
              "  <div id=\"df-f2b78487-b6a2-491c-8336-d9ec179a30b8\">\n",
              "    <div class=\"colab-df-container\">\n",
              "      <div>\n",
              "<style scoped>\n",
              "    .dataframe tbody tr th:only-of-type {\n",
              "        vertical-align: middle;\n",
              "    }\n",
              "\n",
              "    .dataframe tbody tr th {\n",
              "        vertical-align: top;\n",
              "    }\n",
              "\n",
              "    .dataframe thead th {\n",
              "        text-align: right;\n",
              "    }\n",
              "</style>\n",
              "<table border=\"1\" class=\"dataframe\">\n",
              "  <thead>\n",
              "    <tr style=\"text-align: right;\">\n",
              "      <th></th>\n",
              "      <th>hvfhs_license_num</th>\n",
              "      <th>dispatching_base_num</th>\n",
              "      <th>originating_base_num</th>\n",
              "      <th>request_datetime</th>\n",
              "      <th>on_scene_datetime</th>\n",
              "      <th>pickup_datetime</th>\n",
              "      <th>dropoff_datetime</th>\n",
              "      <th>PULocationID</th>\n",
              "      <th>DOLocationID</th>\n",
              "      <th>trip_miles</th>\n",
              "      <th>...</th>\n",
              "      <th>sales_tax</th>\n",
              "      <th>congestion_surcharge</th>\n",
              "      <th>airport_fee</th>\n",
              "      <th>tips</th>\n",
              "      <th>driver_pay</th>\n",
              "      <th>shared_request_flag</th>\n",
              "      <th>shared_match_flag</th>\n",
              "      <th>access_a_ride_flag</th>\n",
              "      <th>wav_request_flag</th>\n",
              "      <th>wav_match_flag</th>\n",
              "    </tr>\n",
              "  </thead>\n",
              "  <tbody>\n",
              "    <tr>\n",
              "      <th>0</th>\n",
              "      <td>HV0003</td>\n",
              "      <td>B03404</td>\n",
              "      <td>B03404</td>\n",
              "      <td>2022-06-01 00:15:35</td>\n",
              "      <td>2022-06-01 00:17:20</td>\n",
              "      <td>2022-06-01 00:17:41</td>\n",
              "      <td>2022-06-01 00:25:41</td>\n",
              "      <td>234</td>\n",
              "      <td>114</td>\n",
              "      <td>1.500</td>\n",
              "      <td>...</td>\n",
              "      <td>0.68</td>\n",
              "      <td>2.75</td>\n",
              "      <td>0.0</td>\n",
              "      <td>1.00</td>\n",
              "      <td>9.36</td>\n",
              "      <td>N</td>\n",
              "      <td>N</td>\n",
              "      <td></td>\n",
              "      <td>N</td>\n",
              "      <td>N</td>\n",
              "    </tr>\n",
              "    <tr>\n",
              "      <th>1</th>\n",
              "      <td>HV0003</td>\n",
              "      <td>B03404</td>\n",
              "      <td>B03404</td>\n",
              "      <td>2022-06-01 00:39:04</td>\n",
              "      <td>2022-06-01 00:40:36</td>\n",
              "      <td>2022-06-01 00:42:37</td>\n",
              "      <td>2022-06-01 00:56:32</td>\n",
              "      <td>161</td>\n",
              "      <td>151</td>\n",
              "      <td>4.180</td>\n",
              "      <td>...</td>\n",
              "      <td>1.81</td>\n",
              "      <td>2.75</td>\n",
              "      <td>0.0</td>\n",
              "      <td>4.82</td>\n",
              "      <td>15.61</td>\n",
              "      <td>N</td>\n",
              "      <td>N</td>\n",
              "      <td></td>\n",
              "      <td>N</td>\n",
              "      <td>N</td>\n",
              "    </tr>\n",
              "    <tr>\n",
              "      <th>2</th>\n",
              "      <td>HV0003</td>\n",
              "      <td>B03404</td>\n",
              "      <td>B03404</td>\n",
              "      <td>2022-06-01 00:27:53</td>\n",
              "      <td>2022-06-01 00:31:34</td>\n",
              "      <td>2022-06-01 00:36:22</td>\n",
              "      <td>2022-06-01 00:45:31</td>\n",
              "      <td>231</td>\n",
              "      <td>87</td>\n",
              "      <td>2.910</td>\n",
              "      <td>...</td>\n",
              "      <td>1.09</td>\n",
              "      <td>2.75</td>\n",
              "      <td>0.0</td>\n",
              "      <td>1.00</td>\n",
              "      <td>8.22</td>\n",
              "      <td>N</td>\n",
              "      <td>N</td>\n",
              "      <td></td>\n",
              "      <td>N</td>\n",
              "      <td>N</td>\n",
              "    </tr>\n",
              "    <tr>\n",
              "      <th>3</th>\n",
              "      <td>HV0003</td>\n",
              "      <td>B03404</td>\n",
              "      <td>B03404</td>\n",
              "      <td>2022-06-01 00:48:15</td>\n",
              "      <td>2022-06-01 00:49:38</td>\n",
              "      <td>2022-06-01 00:51:18</td>\n",
              "      <td>2022-06-01 01:11:15</td>\n",
              "      <td>87</td>\n",
              "      <td>225</td>\n",
              "      <td>5.450</td>\n",
              "      <td>...</td>\n",
              "      <td>2.19</td>\n",
              "      <td>2.75</td>\n",
              "      <td>0.0</td>\n",
              "      <td>0.00</td>\n",
              "      <td>16.88</td>\n",
              "      <td>N</td>\n",
              "      <td>N</td>\n",
              "      <td></td>\n",
              "      <td>N</td>\n",
              "      <td>N</td>\n",
              "    </tr>\n",
              "    <tr>\n",
              "      <th>4</th>\n",
              "      <td>HV0005</td>\n",
              "      <td>B03406</td>\n",
              "      <td>None</td>\n",
              "      <td>2022-06-01 00:04:51</td>\n",
              "      <td>NaT</td>\n",
              "      <td>2022-06-01 00:13:33</td>\n",
              "      <td>2022-06-01 00:17:27</td>\n",
              "      <td>137</td>\n",
              "      <td>162</td>\n",
              "      <td>1.069</td>\n",
              "      <td>...</td>\n",
              "      <td>0.73</td>\n",
              "      <td>2.75</td>\n",
              "      <td>0.0</td>\n",
              "      <td>0.00</td>\n",
              "      <td>5.47</td>\n",
              "      <td>N</td>\n",
              "      <td>N</td>\n",
              "      <td>N</td>\n",
              "      <td>N</td>\n",
              "      <td>N</td>\n",
              "    </tr>\n",
              "    <tr>\n",
              "      <th>...</th>\n",
              "      <td>...</td>\n",
              "      <td>...</td>\n",
              "      <td>...</td>\n",
              "      <td>...</td>\n",
              "      <td>...</td>\n",
              "      <td>...</td>\n",
              "      <td>...</td>\n",
              "      <td>...</td>\n",
              "      <td>...</td>\n",
              "      <td>...</td>\n",
              "      <td>...</td>\n",
              "      <td>...</td>\n",
              "      <td>...</td>\n",
              "      <td>...</td>\n",
              "      <td>...</td>\n",
              "      <td>...</td>\n",
              "      <td>...</td>\n",
              "      <td>...</td>\n",
              "      <td>...</td>\n",
              "      <td>...</td>\n",
              "      <td>...</td>\n",
              "    </tr>\n",
              "    <tr>\n",
              "      <th>17780070</th>\n",
              "      <td>HV0003</td>\n",
              "      <td>B03404</td>\n",
              "      <td>B03404</td>\n",
              "      <td>2022-06-30 23:20:49</td>\n",
              "      <td>2022-06-30 23:24:23</td>\n",
              "      <td>2022-06-30 23:24:43</td>\n",
              "      <td>2022-06-30 23:38:19</td>\n",
              "      <td>74</td>\n",
              "      <td>224</td>\n",
              "      <td>6.070</td>\n",
              "      <td>...</td>\n",
              "      <td>1.56</td>\n",
              "      <td>2.75</td>\n",
              "      <td>0.0</td>\n",
              "      <td>2.24</td>\n",
              "      <td>16.23</td>\n",
              "      <td>N</td>\n",
              "      <td>N</td>\n",
              "      <td></td>\n",
              "      <td>N</td>\n",
              "      <td>N</td>\n",
              "    </tr>\n",
              "    <tr>\n",
              "      <th>17780071</th>\n",
              "      <td>HV0003</td>\n",
              "      <td>B03404</td>\n",
              "      <td>B03404</td>\n",
              "      <td>2022-06-30 23:36:13</td>\n",
              "      <td>2022-06-30 23:39:12</td>\n",
              "      <td>2022-06-30 23:39:20</td>\n",
              "      <td>2022-06-30 23:51:10</td>\n",
              "      <td>224</td>\n",
              "      <td>13</td>\n",
              "      <td>4.900</td>\n",
              "      <td>...</td>\n",
              "      <td>1.59</td>\n",
              "      <td>2.75</td>\n",
              "      <td>0.0</td>\n",
              "      <td>0.00</td>\n",
              "      <td>13.94</td>\n",
              "      <td>N</td>\n",
              "      <td>N</td>\n",
              "      <td></td>\n",
              "      <td>N</td>\n",
              "      <td>N</td>\n",
              "    </tr>\n",
              "    <tr>\n",
              "      <th>17780072</th>\n",
              "      <td>HV0003</td>\n",
              "      <td>B03404</td>\n",
              "      <td>B03404</td>\n",
              "      <td>2022-06-30 23:50:50</td>\n",
              "      <td>2022-06-30 23:55:11</td>\n",
              "      <td>2022-06-30 23:57:12</td>\n",
              "      <td>2022-07-01 00:07:07</td>\n",
              "      <td>231</td>\n",
              "      <td>231</td>\n",
              "      <td>0.530</td>\n",
              "      <td>...</td>\n",
              "      <td>1.06</td>\n",
              "      <td>2.75</td>\n",
              "      <td>0.0</td>\n",
              "      <td>3.00</td>\n",
              "      <td>18.46</td>\n",
              "      <td>N</td>\n",
              "      <td>N</td>\n",
              "      <td></td>\n",
              "      <td>N</td>\n",
              "      <td>N</td>\n",
              "    </tr>\n",
              "    <tr>\n",
              "      <th>17780073</th>\n",
              "      <td>HV0003</td>\n",
              "      <td>B03404</td>\n",
              "      <td>B03404</td>\n",
              "      <td>2022-06-30 23:02:40</td>\n",
              "      <td>2022-06-30 23:04:58</td>\n",
              "      <td>2022-06-30 23:06:44</td>\n",
              "      <td>2022-06-30 23:26:28</td>\n",
              "      <td>234</td>\n",
              "      <td>48</td>\n",
              "      <td>2.850</td>\n",
              "      <td>...</td>\n",
              "      <td>2.79</td>\n",
              "      <td>2.75</td>\n",
              "      <td>0.0</td>\n",
              "      <td>1.00</td>\n",
              "      <td>27.27</td>\n",
              "      <td>N</td>\n",
              "      <td>N</td>\n",
              "      <td></td>\n",
              "      <td>N</td>\n",
              "      <td>N</td>\n",
              "    </tr>\n",
              "    <tr>\n",
              "      <th>17780074</th>\n",
              "      <td>HV0005</td>\n",
              "      <td>B03406</td>\n",
              "      <td>None</td>\n",
              "      <td>2022-06-30 23:00:28</td>\n",
              "      <td>NaT</td>\n",
              "      <td>2022-06-30 23:03:06</td>\n",
              "      <td>2022-06-30 23:18:13</td>\n",
              "      <td>244</td>\n",
              "      <td>242</td>\n",
              "      <td>6.207</td>\n",
              "      <td>...</td>\n",
              "      <td>1.80</td>\n",
              "      <td>0.00</td>\n",
              "      <td>0.0</td>\n",
              "      <td>0.00</td>\n",
              "      <td>15.26</td>\n",
              "      <td>N</td>\n",
              "      <td>N</td>\n",
              "      <td>N</td>\n",
              "      <td>N</td>\n",
              "      <td>N</td>\n",
              "    </tr>\n",
              "  </tbody>\n",
              "</table>\n",
              "<p>17780075 rows × 24 columns</p>\n",
              "</div>\n",
              "      <button class=\"colab-df-convert\" onclick=\"convertToInteractive('df-f2b78487-b6a2-491c-8336-d9ec179a30b8')\"\n",
              "              title=\"Convert this dataframe to an interactive table.\"\n",
              "              style=\"display:none;\">\n",
              "        \n",
              "  <svg xmlns=\"http://www.w3.org/2000/svg\" height=\"24px\"viewBox=\"0 0 24 24\"\n",
              "       width=\"24px\">\n",
              "    <path d=\"M0 0h24v24H0V0z\" fill=\"none\"/>\n",
              "    <path d=\"M18.56 5.44l.94 2.06.94-2.06 2.06-.94-2.06-.94-.94-2.06-.94 2.06-2.06.94zm-11 1L8.5 8.5l.94-2.06 2.06-.94-2.06-.94L8.5 2.5l-.94 2.06-2.06.94zm10 10l.94 2.06.94-2.06 2.06-.94-2.06-.94-.94-2.06-.94 2.06-2.06.94z\"/><path d=\"M17.41 7.96l-1.37-1.37c-.4-.4-.92-.59-1.43-.59-.52 0-1.04.2-1.43.59L10.3 9.45l-7.72 7.72c-.78.78-.78 2.05 0 2.83L4 21.41c.39.39.9.59 1.41.59.51 0 1.02-.2 1.41-.59l7.78-7.78 2.81-2.81c.8-.78.8-2.07 0-2.86zM5.41 20L4 18.59l7.72-7.72 1.47 1.35L5.41 20z\"/>\n",
              "  </svg>\n",
              "      </button>\n",
              "      \n",
              "  <style>\n",
              "    .colab-df-container {\n",
              "      display:flex;\n",
              "      flex-wrap:wrap;\n",
              "      gap: 12px;\n",
              "    }\n",
              "\n",
              "    .colab-df-convert {\n",
              "      background-color: #E8F0FE;\n",
              "      border: none;\n",
              "      border-radius: 50%;\n",
              "      cursor: pointer;\n",
              "      display: none;\n",
              "      fill: #1967D2;\n",
              "      height: 32px;\n",
              "      padding: 0 0 0 0;\n",
              "      width: 32px;\n",
              "    }\n",
              "\n",
              "    .colab-df-convert:hover {\n",
              "      background-color: #E2EBFA;\n",
              "      box-shadow: 0px 1px 2px rgba(60, 64, 67, 0.3), 0px 1px 3px 1px rgba(60, 64, 67, 0.15);\n",
              "      fill: #174EA6;\n",
              "    }\n",
              "\n",
              "    [theme=dark] .colab-df-convert {\n",
              "      background-color: #3B4455;\n",
              "      fill: #D2E3FC;\n",
              "    }\n",
              "\n",
              "    [theme=dark] .colab-df-convert:hover {\n",
              "      background-color: #434B5C;\n",
              "      box-shadow: 0px 1px 3px 1px rgba(0, 0, 0, 0.15);\n",
              "      filter: drop-shadow(0px 1px 2px rgba(0, 0, 0, 0.3));\n",
              "      fill: #FFFFFF;\n",
              "    }\n",
              "  </style>\n",
              "\n",
              "      <script>\n",
              "        const buttonEl =\n",
              "          document.querySelector('#df-f2b78487-b6a2-491c-8336-d9ec179a30b8 button.colab-df-convert');\n",
              "        buttonEl.style.display =\n",
              "          google.colab.kernel.accessAllowed ? 'block' : 'none';\n",
              "\n",
              "        async function convertToInteractive(key) {\n",
              "          const element = document.querySelector('#df-f2b78487-b6a2-491c-8336-d9ec179a30b8');\n",
              "          const dataTable =\n",
              "            await google.colab.kernel.invokeFunction('convertToInteractive',\n",
              "                                                     [key], {});\n",
              "          if (!dataTable) return;\n",
              "\n",
              "          const docLinkHtml = 'Like what you see? Visit the ' +\n",
              "            '<a target=\"_blank\" href=https://colab.research.google.com/notebooks/data_table.ipynb>data table notebook</a>'\n",
              "            + ' to learn more about interactive tables.';\n",
              "          element.innerHTML = '';\n",
              "          dataTable['output_type'] = 'display_data';\n",
              "          await google.colab.output.renderOutput(dataTable, element);\n",
              "          const docLink = document.createElement('div');\n",
              "          docLink.innerHTML = docLinkHtml;\n",
              "          element.appendChild(docLink);\n",
              "        }\n",
              "      </script>\n",
              "    </div>\n",
              "  </div>\n",
              "  "
            ]
          },
          "metadata": {},
          "execution_count": 6
        }
      ],
      "source": [
        "df"
      ]
    },
    {
      "cell_type": "markdown",
      "metadata": {
        "id": "X4NflEjtllOv"
      },
      "source": [
        "Read zone data"
      ]
    },
    {
      "cell_type": "code",
      "execution_count": 7,
      "metadata": {
        "id": "h0bFq7UkllOv"
      },
      "outputs": [],
      "source": [
        "zone_df = pd.read_csv('taxi+_zone_lookup.csv')"
      ]
    },
    {
      "cell_type": "code",
      "execution_count": 8,
      "metadata": {
        "colab": {
          "base_uri": "https://localhost:8080/",
          "height": 424
        },
        "id": "LAeqxE91llOv",
        "outputId": "90641d54-9e76-4286-cc11-e055e027c93c"
      },
      "outputs": [
        {
          "output_type": "execute_result",
          "data": {
            "text/plain": [
              "     LocationID        Borough                     Zone service_zone\n",
              "0             1            EWR           Newark Airport          EWR\n",
              "1             2         Queens              Jamaica Bay    Boro Zone\n",
              "2             3          Bronx  Allerton/Pelham Gardens    Boro Zone\n",
              "3             4      Manhattan            Alphabet City  Yellow Zone\n",
              "4             5  Staten Island            Arden Heights    Boro Zone\n",
              "..          ...            ...                      ...          ...\n",
              "260         261      Manhattan       World Trade Center  Yellow Zone\n",
              "261         262      Manhattan           Yorkville East  Yellow Zone\n",
              "262         263      Manhattan           Yorkville West  Yellow Zone\n",
              "263         264        Unknown                       NV          NaN\n",
              "264         265        Unknown                      NaN          NaN\n",
              "\n",
              "[265 rows x 4 columns]"
            ],
            "text/html": [
              "\n",
              "  <div id=\"df-18c1c989-3dc3-47a1-9de6-58b58a6e1ca7\">\n",
              "    <div class=\"colab-df-container\">\n",
              "      <div>\n",
              "<style scoped>\n",
              "    .dataframe tbody tr th:only-of-type {\n",
              "        vertical-align: middle;\n",
              "    }\n",
              "\n",
              "    .dataframe tbody tr th {\n",
              "        vertical-align: top;\n",
              "    }\n",
              "\n",
              "    .dataframe thead th {\n",
              "        text-align: right;\n",
              "    }\n",
              "</style>\n",
              "<table border=\"1\" class=\"dataframe\">\n",
              "  <thead>\n",
              "    <tr style=\"text-align: right;\">\n",
              "      <th></th>\n",
              "      <th>LocationID</th>\n",
              "      <th>Borough</th>\n",
              "      <th>Zone</th>\n",
              "      <th>service_zone</th>\n",
              "    </tr>\n",
              "  </thead>\n",
              "  <tbody>\n",
              "    <tr>\n",
              "      <th>0</th>\n",
              "      <td>1</td>\n",
              "      <td>EWR</td>\n",
              "      <td>Newark Airport</td>\n",
              "      <td>EWR</td>\n",
              "    </tr>\n",
              "    <tr>\n",
              "      <th>1</th>\n",
              "      <td>2</td>\n",
              "      <td>Queens</td>\n",
              "      <td>Jamaica Bay</td>\n",
              "      <td>Boro Zone</td>\n",
              "    </tr>\n",
              "    <tr>\n",
              "      <th>2</th>\n",
              "      <td>3</td>\n",
              "      <td>Bronx</td>\n",
              "      <td>Allerton/Pelham Gardens</td>\n",
              "      <td>Boro Zone</td>\n",
              "    </tr>\n",
              "    <tr>\n",
              "      <th>3</th>\n",
              "      <td>4</td>\n",
              "      <td>Manhattan</td>\n",
              "      <td>Alphabet City</td>\n",
              "      <td>Yellow Zone</td>\n",
              "    </tr>\n",
              "    <tr>\n",
              "      <th>4</th>\n",
              "      <td>5</td>\n",
              "      <td>Staten Island</td>\n",
              "      <td>Arden Heights</td>\n",
              "      <td>Boro Zone</td>\n",
              "    </tr>\n",
              "    <tr>\n",
              "      <th>...</th>\n",
              "      <td>...</td>\n",
              "      <td>...</td>\n",
              "      <td>...</td>\n",
              "      <td>...</td>\n",
              "    </tr>\n",
              "    <tr>\n",
              "      <th>260</th>\n",
              "      <td>261</td>\n",
              "      <td>Manhattan</td>\n",
              "      <td>World Trade Center</td>\n",
              "      <td>Yellow Zone</td>\n",
              "    </tr>\n",
              "    <tr>\n",
              "      <th>261</th>\n",
              "      <td>262</td>\n",
              "      <td>Manhattan</td>\n",
              "      <td>Yorkville East</td>\n",
              "      <td>Yellow Zone</td>\n",
              "    </tr>\n",
              "    <tr>\n",
              "      <th>262</th>\n",
              "      <td>263</td>\n",
              "      <td>Manhattan</td>\n",
              "      <td>Yorkville West</td>\n",
              "      <td>Yellow Zone</td>\n",
              "    </tr>\n",
              "    <tr>\n",
              "      <th>263</th>\n",
              "      <td>264</td>\n",
              "      <td>Unknown</td>\n",
              "      <td>NV</td>\n",
              "      <td>NaN</td>\n",
              "    </tr>\n",
              "    <tr>\n",
              "      <th>264</th>\n",
              "      <td>265</td>\n",
              "      <td>Unknown</td>\n",
              "      <td>NaN</td>\n",
              "      <td>NaN</td>\n",
              "    </tr>\n",
              "  </tbody>\n",
              "</table>\n",
              "<p>265 rows × 4 columns</p>\n",
              "</div>\n",
              "      <button class=\"colab-df-convert\" onclick=\"convertToInteractive('df-18c1c989-3dc3-47a1-9de6-58b58a6e1ca7')\"\n",
              "              title=\"Convert this dataframe to an interactive table.\"\n",
              "              style=\"display:none;\">\n",
              "        \n",
              "  <svg xmlns=\"http://www.w3.org/2000/svg\" height=\"24px\"viewBox=\"0 0 24 24\"\n",
              "       width=\"24px\">\n",
              "    <path d=\"M0 0h24v24H0V0z\" fill=\"none\"/>\n",
              "    <path d=\"M18.56 5.44l.94 2.06.94-2.06 2.06-.94-2.06-.94-.94-2.06-.94 2.06-2.06.94zm-11 1L8.5 8.5l.94-2.06 2.06-.94-2.06-.94L8.5 2.5l-.94 2.06-2.06.94zm10 10l.94 2.06.94-2.06 2.06-.94-2.06-.94-.94-2.06-.94 2.06-2.06.94z\"/><path d=\"M17.41 7.96l-1.37-1.37c-.4-.4-.92-.59-1.43-.59-.52 0-1.04.2-1.43.59L10.3 9.45l-7.72 7.72c-.78.78-.78 2.05 0 2.83L4 21.41c.39.39.9.59 1.41.59.51 0 1.02-.2 1.41-.59l7.78-7.78 2.81-2.81c.8-.78.8-2.07 0-2.86zM5.41 20L4 18.59l7.72-7.72 1.47 1.35L5.41 20z\"/>\n",
              "  </svg>\n",
              "      </button>\n",
              "      \n",
              "  <style>\n",
              "    .colab-df-container {\n",
              "      display:flex;\n",
              "      flex-wrap:wrap;\n",
              "      gap: 12px;\n",
              "    }\n",
              "\n",
              "    .colab-df-convert {\n",
              "      background-color: #E8F0FE;\n",
              "      border: none;\n",
              "      border-radius: 50%;\n",
              "      cursor: pointer;\n",
              "      display: none;\n",
              "      fill: #1967D2;\n",
              "      height: 32px;\n",
              "      padding: 0 0 0 0;\n",
              "      width: 32px;\n",
              "    }\n",
              "\n",
              "    .colab-df-convert:hover {\n",
              "      background-color: #E2EBFA;\n",
              "      box-shadow: 0px 1px 2px rgba(60, 64, 67, 0.3), 0px 1px 3px 1px rgba(60, 64, 67, 0.15);\n",
              "      fill: #174EA6;\n",
              "    }\n",
              "\n",
              "    [theme=dark] .colab-df-convert {\n",
              "      background-color: #3B4455;\n",
              "      fill: #D2E3FC;\n",
              "    }\n",
              "\n",
              "    [theme=dark] .colab-df-convert:hover {\n",
              "      background-color: #434B5C;\n",
              "      box-shadow: 0px 1px 3px 1px rgba(0, 0, 0, 0.15);\n",
              "      filter: drop-shadow(0px 1px 2px rgba(0, 0, 0, 0.3));\n",
              "      fill: #FFFFFF;\n",
              "    }\n",
              "  </style>\n",
              "\n",
              "      <script>\n",
              "        const buttonEl =\n",
              "          document.querySelector('#df-18c1c989-3dc3-47a1-9de6-58b58a6e1ca7 button.colab-df-convert');\n",
              "        buttonEl.style.display =\n",
              "          google.colab.kernel.accessAllowed ? 'block' : 'none';\n",
              "\n",
              "        async function convertToInteractive(key) {\n",
              "          const element = document.querySelector('#df-18c1c989-3dc3-47a1-9de6-58b58a6e1ca7');\n",
              "          const dataTable =\n",
              "            await google.colab.kernel.invokeFunction('convertToInteractive',\n",
              "                                                     [key], {});\n",
              "          if (!dataTable) return;\n",
              "\n",
              "          const docLinkHtml = 'Like what you see? Visit the ' +\n",
              "            '<a target=\"_blank\" href=https://colab.research.google.com/notebooks/data_table.ipynb>data table notebook</a>'\n",
              "            + ' to learn more about interactive tables.';\n",
              "          element.innerHTML = '';\n",
              "          dataTable['output_type'] = 'display_data';\n",
              "          await google.colab.output.renderOutput(dataTable, element);\n",
              "          const docLink = document.createElement('div');\n",
              "          docLink.innerHTML = docLinkHtml;\n",
              "          element.appendChild(docLink);\n",
              "        }\n",
              "      </script>\n",
              "    </div>\n",
              "  </div>\n",
              "  "
            ]
          },
          "metadata": {},
          "execution_count": 8
        }
      ],
      "source": [
        "zone_df"
      ]
    },
    {
      "cell_type": "markdown",
      "metadata": {
        "id": "0RCg0372llOw"
      },
      "source": [
        "Statistics for each column of trip data"
      ]
    },
    {
      "cell_type": "code",
      "execution_count": 9,
      "metadata": {
        "colab": {
          "base_uri": "https://localhost:8080/",
          "height": 364
        },
        "id": "llfBP6oAllOw",
        "outputId": "8eee9ba6-adf5-41c2-ab0b-9d99ec3597e1"
      },
      "outputs": [
        {
          "output_type": "execute_result",
          "data": {
            "text/plain": [
              "       PULocationID  DOLocationID    trip_miles     trip_time  \\\n",
              "count  1.778008e+07  1.778008e+07  1.778008e+07  1.778008e+07   \n",
              "mean   1.390083e+02  1.429608e+02  5.169061e+00  1.216133e+03   \n",
              "std    7.492537e+01  7.802175e+01  6.058429e+00  8.924502e+02   \n",
              "min    2.000000e+00  1.000000e+00  0.000000e+00  0.000000e+00   \n",
              "25%    7.500000e+01  7.600000e+01  1.660000e+00  6.180000e+02   \n",
              "50%    1.400000e+02  1.420000e+02  3.119000e+00  9.840000e+02   \n",
              "75%    2.110000e+02  2.200000e+02  6.420000e+00  1.544000e+03   \n",
              "max    2.650000e+02  2.650000e+02  6.259600e+02  4.230900e+04   \n",
              "\n",
              "       base_passenger_fare         tolls           bcf     sales_tax  \\\n",
              "count         1.778008e+07  1.778008e+07  1.778008e+07  1.778008e+07   \n",
              "mean          2.507782e+01  1.194475e+00  7.946835e-01  2.124014e+00   \n",
              "std           2.111751e+01  3.975068e+00  7.077042e-01  1.757838e+00   \n",
              "min          -1.055700e+02  0.000000e+00  0.000000e+00  0.000000e+00   \n",
              "25%           1.191000e+01  0.000000e+00  3.600000e-01  1.000000e+00   \n",
              "50%           1.922000e+01  0.000000e+00  5.800000e-01  1.640000e+00   \n",
              "75%           3.084000e+01  0.000000e+00  9.700000e-01  2.670000e+00   \n",
              "max           2.409230e+03  2.262000e+02  7.291000e+01  2.156800e+02   \n",
              "\n",
              "       congestion_surcharge   airport_fee          tips    driver_pay  \n",
              "count          1.778008e+07  1.778008e+07  1.778008e+07  1.778008e+07  \n",
              "mean           1.160395e+00  2.122203e-01  1.164189e+00  1.992252e+01  \n",
              "std            1.366686e+00  7.030242e-01  3.247914e+00  1.629283e+01  \n",
              "min            0.000000e+00  0.000000e+00  0.000000e+00 -1.300000e+02  \n",
              "25%            0.000000e+00  0.000000e+00  0.000000e+00  9.570000e+00  \n",
              "50%            0.000000e+00  0.000000e+00  0.000000e+00  1.536000e+01  \n",
              "75%            2.750000e+00  0.000000e+00  0.000000e+00  2.477000e+01  \n",
              "max            1.100000e+01  6.900000e+00  1.500000e+02  9.933100e+02  "
            ],
            "text/html": [
              "\n",
              "  <div id=\"df-d67cf36d-1a60-4749-9ed3-0cc83a227d3d\">\n",
              "    <div class=\"colab-df-container\">\n",
              "      <div>\n",
              "<style scoped>\n",
              "    .dataframe tbody tr th:only-of-type {\n",
              "        vertical-align: middle;\n",
              "    }\n",
              "\n",
              "    .dataframe tbody tr th {\n",
              "        vertical-align: top;\n",
              "    }\n",
              "\n",
              "    .dataframe thead th {\n",
              "        text-align: right;\n",
              "    }\n",
              "</style>\n",
              "<table border=\"1\" class=\"dataframe\">\n",
              "  <thead>\n",
              "    <tr style=\"text-align: right;\">\n",
              "      <th></th>\n",
              "      <th>PULocationID</th>\n",
              "      <th>DOLocationID</th>\n",
              "      <th>trip_miles</th>\n",
              "      <th>trip_time</th>\n",
              "      <th>base_passenger_fare</th>\n",
              "      <th>tolls</th>\n",
              "      <th>bcf</th>\n",
              "      <th>sales_tax</th>\n",
              "      <th>congestion_surcharge</th>\n",
              "      <th>airport_fee</th>\n",
              "      <th>tips</th>\n",
              "      <th>driver_pay</th>\n",
              "    </tr>\n",
              "  </thead>\n",
              "  <tbody>\n",
              "    <tr>\n",
              "      <th>count</th>\n",
              "      <td>1.778008e+07</td>\n",
              "      <td>1.778008e+07</td>\n",
              "      <td>1.778008e+07</td>\n",
              "      <td>1.778008e+07</td>\n",
              "      <td>1.778008e+07</td>\n",
              "      <td>1.778008e+07</td>\n",
              "      <td>1.778008e+07</td>\n",
              "      <td>1.778008e+07</td>\n",
              "      <td>1.778008e+07</td>\n",
              "      <td>1.778008e+07</td>\n",
              "      <td>1.778008e+07</td>\n",
              "      <td>1.778008e+07</td>\n",
              "    </tr>\n",
              "    <tr>\n",
              "      <th>mean</th>\n",
              "      <td>1.390083e+02</td>\n",
              "      <td>1.429608e+02</td>\n",
              "      <td>5.169061e+00</td>\n",
              "      <td>1.216133e+03</td>\n",
              "      <td>2.507782e+01</td>\n",
              "      <td>1.194475e+00</td>\n",
              "      <td>7.946835e-01</td>\n",
              "      <td>2.124014e+00</td>\n",
              "      <td>1.160395e+00</td>\n",
              "      <td>2.122203e-01</td>\n",
              "      <td>1.164189e+00</td>\n",
              "      <td>1.992252e+01</td>\n",
              "    </tr>\n",
              "    <tr>\n",
              "      <th>std</th>\n",
              "      <td>7.492537e+01</td>\n",
              "      <td>7.802175e+01</td>\n",
              "      <td>6.058429e+00</td>\n",
              "      <td>8.924502e+02</td>\n",
              "      <td>2.111751e+01</td>\n",
              "      <td>3.975068e+00</td>\n",
              "      <td>7.077042e-01</td>\n",
              "      <td>1.757838e+00</td>\n",
              "      <td>1.366686e+00</td>\n",
              "      <td>7.030242e-01</td>\n",
              "      <td>3.247914e+00</td>\n",
              "      <td>1.629283e+01</td>\n",
              "    </tr>\n",
              "    <tr>\n",
              "      <th>min</th>\n",
              "      <td>2.000000e+00</td>\n",
              "      <td>1.000000e+00</td>\n",
              "      <td>0.000000e+00</td>\n",
              "      <td>0.000000e+00</td>\n",
              "      <td>-1.055700e+02</td>\n",
              "      <td>0.000000e+00</td>\n",
              "      <td>0.000000e+00</td>\n",
              "      <td>0.000000e+00</td>\n",
              "      <td>0.000000e+00</td>\n",
              "      <td>0.000000e+00</td>\n",
              "      <td>0.000000e+00</td>\n",
              "      <td>-1.300000e+02</td>\n",
              "    </tr>\n",
              "    <tr>\n",
              "      <th>25%</th>\n",
              "      <td>7.500000e+01</td>\n",
              "      <td>7.600000e+01</td>\n",
              "      <td>1.660000e+00</td>\n",
              "      <td>6.180000e+02</td>\n",
              "      <td>1.191000e+01</td>\n",
              "      <td>0.000000e+00</td>\n",
              "      <td>3.600000e-01</td>\n",
              "      <td>1.000000e+00</td>\n",
              "      <td>0.000000e+00</td>\n",
              "      <td>0.000000e+00</td>\n",
              "      <td>0.000000e+00</td>\n",
              "      <td>9.570000e+00</td>\n",
              "    </tr>\n",
              "    <tr>\n",
              "      <th>50%</th>\n",
              "      <td>1.400000e+02</td>\n",
              "      <td>1.420000e+02</td>\n",
              "      <td>3.119000e+00</td>\n",
              "      <td>9.840000e+02</td>\n",
              "      <td>1.922000e+01</td>\n",
              "      <td>0.000000e+00</td>\n",
              "      <td>5.800000e-01</td>\n",
              "      <td>1.640000e+00</td>\n",
              "      <td>0.000000e+00</td>\n",
              "      <td>0.000000e+00</td>\n",
              "      <td>0.000000e+00</td>\n",
              "      <td>1.536000e+01</td>\n",
              "    </tr>\n",
              "    <tr>\n",
              "      <th>75%</th>\n",
              "      <td>2.110000e+02</td>\n",
              "      <td>2.200000e+02</td>\n",
              "      <td>6.420000e+00</td>\n",
              "      <td>1.544000e+03</td>\n",
              "      <td>3.084000e+01</td>\n",
              "      <td>0.000000e+00</td>\n",
              "      <td>9.700000e-01</td>\n",
              "      <td>2.670000e+00</td>\n",
              "      <td>2.750000e+00</td>\n",
              "      <td>0.000000e+00</td>\n",
              "      <td>0.000000e+00</td>\n",
              "      <td>2.477000e+01</td>\n",
              "    </tr>\n",
              "    <tr>\n",
              "      <th>max</th>\n",
              "      <td>2.650000e+02</td>\n",
              "      <td>2.650000e+02</td>\n",
              "      <td>6.259600e+02</td>\n",
              "      <td>4.230900e+04</td>\n",
              "      <td>2.409230e+03</td>\n",
              "      <td>2.262000e+02</td>\n",
              "      <td>7.291000e+01</td>\n",
              "      <td>2.156800e+02</td>\n",
              "      <td>1.100000e+01</td>\n",
              "      <td>6.900000e+00</td>\n",
              "      <td>1.500000e+02</td>\n",
              "      <td>9.933100e+02</td>\n",
              "    </tr>\n",
              "  </tbody>\n",
              "</table>\n",
              "</div>\n",
              "      <button class=\"colab-df-convert\" onclick=\"convertToInteractive('df-d67cf36d-1a60-4749-9ed3-0cc83a227d3d')\"\n",
              "              title=\"Convert this dataframe to an interactive table.\"\n",
              "              style=\"display:none;\">\n",
              "        \n",
              "  <svg xmlns=\"http://www.w3.org/2000/svg\" height=\"24px\"viewBox=\"0 0 24 24\"\n",
              "       width=\"24px\">\n",
              "    <path d=\"M0 0h24v24H0V0z\" fill=\"none\"/>\n",
              "    <path d=\"M18.56 5.44l.94 2.06.94-2.06 2.06-.94-2.06-.94-.94-2.06-.94 2.06-2.06.94zm-11 1L8.5 8.5l.94-2.06 2.06-.94-2.06-.94L8.5 2.5l-.94 2.06-2.06.94zm10 10l.94 2.06.94-2.06 2.06-.94-2.06-.94-.94-2.06-.94 2.06-2.06.94z\"/><path d=\"M17.41 7.96l-1.37-1.37c-.4-.4-.92-.59-1.43-.59-.52 0-1.04.2-1.43.59L10.3 9.45l-7.72 7.72c-.78.78-.78 2.05 0 2.83L4 21.41c.39.39.9.59 1.41.59.51 0 1.02-.2 1.41-.59l7.78-7.78 2.81-2.81c.8-.78.8-2.07 0-2.86zM5.41 20L4 18.59l7.72-7.72 1.47 1.35L5.41 20z\"/>\n",
              "  </svg>\n",
              "      </button>\n",
              "      \n",
              "  <style>\n",
              "    .colab-df-container {\n",
              "      display:flex;\n",
              "      flex-wrap:wrap;\n",
              "      gap: 12px;\n",
              "    }\n",
              "\n",
              "    .colab-df-convert {\n",
              "      background-color: #E8F0FE;\n",
              "      border: none;\n",
              "      border-radius: 50%;\n",
              "      cursor: pointer;\n",
              "      display: none;\n",
              "      fill: #1967D2;\n",
              "      height: 32px;\n",
              "      padding: 0 0 0 0;\n",
              "      width: 32px;\n",
              "    }\n",
              "\n",
              "    .colab-df-convert:hover {\n",
              "      background-color: #E2EBFA;\n",
              "      box-shadow: 0px 1px 2px rgba(60, 64, 67, 0.3), 0px 1px 3px 1px rgba(60, 64, 67, 0.15);\n",
              "      fill: #174EA6;\n",
              "    }\n",
              "\n",
              "    [theme=dark] .colab-df-convert {\n",
              "      background-color: #3B4455;\n",
              "      fill: #D2E3FC;\n",
              "    }\n",
              "\n",
              "    [theme=dark] .colab-df-convert:hover {\n",
              "      background-color: #434B5C;\n",
              "      box-shadow: 0px 1px 3px 1px rgba(0, 0, 0, 0.15);\n",
              "      filter: drop-shadow(0px 1px 2px rgba(0, 0, 0, 0.3));\n",
              "      fill: #FFFFFF;\n",
              "    }\n",
              "  </style>\n",
              "\n",
              "      <script>\n",
              "        const buttonEl =\n",
              "          document.querySelector('#df-d67cf36d-1a60-4749-9ed3-0cc83a227d3d button.colab-df-convert');\n",
              "        buttonEl.style.display =\n",
              "          google.colab.kernel.accessAllowed ? 'block' : 'none';\n",
              "\n",
              "        async function convertToInteractive(key) {\n",
              "          const element = document.querySelector('#df-d67cf36d-1a60-4749-9ed3-0cc83a227d3d');\n",
              "          const dataTable =\n",
              "            await google.colab.kernel.invokeFunction('convertToInteractive',\n",
              "                                                     [key], {});\n",
              "          if (!dataTable) return;\n",
              "\n",
              "          const docLinkHtml = 'Like what you see? Visit the ' +\n",
              "            '<a target=\"_blank\" href=https://colab.research.google.com/notebooks/data_table.ipynb>data table notebook</a>'\n",
              "            + ' to learn more about interactive tables.';\n",
              "          element.innerHTML = '';\n",
              "          dataTable['output_type'] = 'display_data';\n",
              "          await google.colab.output.renderOutput(dataTable, element);\n",
              "          const docLink = document.createElement('div');\n",
              "          docLink.innerHTML = docLinkHtml;\n",
              "          element.appendChild(docLink);\n",
              "        }\n",
              "      </script>\n",
              "    </div>\n",
              "  </div>\n",
              "  "
            ]
          },
          "metadata": {},
          "execution_count": 9
        }
      ],
      "source": [
        "df.describe()"
      ]
    },
    {
      "cell_type": "markdown",
      "metadata": {
        "id": "vWPPwulBllOw"
      },
      "source": [
        "Column description for this data - [https://www1.nyc.gov/assets/tlc/downloads/pdf/data_dictionary_trip_records_hvfhs.pdf](https://www1.nyc.gov/assets/tlc/downloads/pdf/data_dictionary_trip_records_hvfhs.pdf)"
      ]
    },
    {
      "cell_type": "markdown",
      "metadata": {
        "id": "VwhuF_V3llOw"
      },
      "source": [
        "### Data Cleaning/Processing - 1\n",
        "- Remove unnecessary columns not relevant to our problem statement"
      ]
    },
    {
      "cell_type": "code",
      "execution_count": 10,
      "metadata": {
        "id": "VhAkDcwxllOw"
      },
      "outputs": [],
      "source": [
        "df.drop(columns=['dispatching_base_num',\n",
        "                 'originating_base_num',\n",
        "                 'on_scene_datetime',\n",
        "                 'tolls',\n",
        "                 'bcf',\n",
        "                 'sales_tax',\n",
        "                 'congestion_surcharge',\n",
        "                 'airport_fee',\n",
        "                 'shared_request_flag',\n",
        "                 'shared_match_flag',\n",
        "                 'access_a_ride_flag',\n",
        "                 'wav_request_flag',\n",
        "                 'wav_match_flag'],\n",
        "        inplace=True)"
      ]
    },
    {
      "cell_type": "code",
      "execution_count": 11,
      "metadata": {
        "colab": {
          "base_uri": "https://localhost:8080/",
          "height": 661
        },
        "id": "KpmAjr4bllOw",
        "outputId": "611c45ea-2ee6-4a61-f7f6-d726b916f854"
      },
      "outputs": [
        {
          "output_type": "execute_result",
          "data": {
            "text/plain": [
              "         hvfhs_license_num    request_datetime     pickup_datetime  \\\n",
              "0                   HV0003 2022-06-01 00:15:35 2022-06-01 00:17:41   \n",
              "1                   HV0003 2022-06-01 00:39:04 2022-06-01 00:42:37   \n",
              "2                   HV0003 2022-06-01 00:27:53 2022-06-01 00:36:22   \n",
              "3                   HV0003 2022-06-01 00:48:15 2022-06-01 00:51:18   \n",
              "4                   HV0005 2022-06-01 00:04:51 2022-06-01 00:13:33   \n",
              "...                    ...                 ...                 ...   \n",
              "17780070            HV0003 2022-06-30 23:20:49 2022-06-30 23:24:43   \n",
              "17780071            HV0003 2022-06-30 23:36:13 2022-06-30 23:39:20   \n",
              "17780072            HV0003 2022-06-30 23:50:50 2022-06-30 23:57:12   \n",
              "17780073            HV0003 2022-06-30 23:02:40 2022-06-30 23:06:44   \n",
              "17780074            HV0005 2022-06-30 23:00:28 2022-06-30 23:03:06   \n",
              "\n",
              "            dropoff_datetime  PULocationID  DOLocationID  trip_miles  \\\n",
              "0        2022-06-01 00:25:41           234           114       1.500   \n",
              "1        2022-06-01 00:56:32           161           151       4.180   \n",
              "2        2022-06-01 00:45:31           231            87       2.910   \n",
              "3        2022-06-01 01:11:15            87           225       5.450   \n",
              "4        2022-06-01 00:17:27           137           162       1.069   \n",
              "...                      ...           ...           ...         ...   \n",
              "17780070 2022-06-30 23:38:19            74           224       6.070   \n",
              "17780071 2022-06-30 23:51:10           224            13       4.900   \n",
              "17780072 2022-07-01 00:07:07           231           231       0.530   \n",
              "17780073 2022-06-30 23:26:28           234            48       2.850   \n",
              "17780074 2022-06-30 23:18:13           244           242       6.207   \n",
              "\n",
              "          trip_time  base_passenger_fare  tips  driver_pay  \n",
              "0               480                 7.68  1.00        9.36  \n",
              "1               835                20.40  4.82       15.61  \n",
              "2               549                12.29  1.00        8.22  \n",
              "3              1197                24.70  0.00       16.88  \n",
              "4               234                 8.23  0.00        5.47  \n",
              "...             ...                  ...   ...         ...  \n",
              "17780070        816                17.60  2.24       16.23  \n",
              "17780071        710                17.93  0.00       13.94  \n",
              "17780072        595                11.98  3.00       18.46  \n",
              "17780073       1184                31.47  1.00       27.27  \n",
              "17780074        907                20.28  0.00       15.26  \n",
              "\n",
              "[17780075 rows x 11 columns]"
            ],
            "text/html": [
              "\n",
              "  <div id=\"df-f5decfd0-636d-48b5-a082-3486dc5a7412\">\n",
              "    <div class=\"colab-df-container\">\n",
              "      <div>\n",
              "<style scoped>\n",
              "    .dataframe tbody tr th:only-of-type {\n",
              "        vertical-align: middle;\n",
              "    }\n",
              "\n",
              "    .dataframe tbody tr th {\n",
              "        vertical-align: top;\n",
              "    }\n",
              "\n",
              "    .dataframe thead th {\n",
              "        text-align: right;\n",
              "    }\n",
              "</style>\n",
              "<table border=\"1\" class=\"dataframe\">\n",
              "  <thead>\n",
              "    <tr style=\"text-align: right;\">\n",
              "      <th></th>\n",
              "      <th>hvfhs_license_num</th>\n",
              "      <th>request_datetime</th>\n",
              "      <th>pickup_datetime</th>\n",
              "      <th>dropoff_datetime</th>\n",
              "      <th>PULocationID</th>\n",
              "      <th>DOLocationID</th>\n",
              "      <th>trip_miles</th>\n",
              "      <th>trip_time</th>\n",
              "      <th>base_passenger_fare</th>\n",
              "      <th>tips</th>\n",
              "      <th>driver_pay</th>\n",
              "    </tr>\n",
              "  </thead>\n",
              "  <tbody>\n",
              "    <tr>\n",
              "      <th>0</th>\n",
              "      <td>HV0003</td>\n",
              "      <td>2022-06-01 00:15:35</td>\n",
              "      <td>2022-06-01 00:17:41</td>\n",
              "      <td>2022-06-01 00:25:41</td>\n",
              "      <td>234</td>\n",
              "      <td>114</td>\n",
              "      <td>1.500</td>\n",
              "      <td>480</td>\n",
              "      <td>7.68</td>\n",
              "      <td>1.00</td>\n",
              "      <td>9.36</td>\n",
              "    </tr>\n",
              "    <tr>\n",
              "      <th>1</th>\n",
              "      <td>HV0003</td>\n",
              "      <td>2022-06-01 00:39:04</td>\n",
              "      <td>2022-06-01 00:42:37</td>\n",
              "      <td>2022-06-01 00:56:32</td>\n",
              "      <td>161</td>\n",
              "      <td>151</td>\n",
              "      <td>4.180</td>\n",
              "      <td>835</td>\n",
              "      <td>20.40</td>\n",
              "      <td>4.82</td>\n",
              "      <td>15.61</td>\n",
              "    </tr>\n",
              "    <tr>\n",
              "      <th>2</th>\n",
              "      <td>HV0003</td>\n",
              "      <td>2022-06-01 00:27:53</td>\n",
              "      <td>2022-06-01 00:36:22</td>\n",
              "      <td>2022-06-01 00:45:31</td>\n",
              "      <td>231</td>\n",
              "      <td>87</td>\n",
              "      <td>2.910</td>\n",
              "      <td>549</td>\n",
              "      <td>12.29</td>\n",
              "      <td>1.00</td>\n",
              "      <td>8.22</td>\n",
              "    </tr>\n",
              "    <tr>\n",
              "      <th>3</th>\n",
              "      <td>HV0003</td>\n",
              "      <td>2022-06-01 00:48:15</td>\n",
              "      <td>2022-06-01 00:51:18</td>\n",
              "      <td>2022-06-01 01:11:15</td>\n",
              "      <td>87</td>\n",
              "      <td>225</td>\n",
              "      <td>5.450</td>\n",
              "      <td>1197</td>\n",
              "      <td>24.70</td>\n",
              "      <td>0.00</td>\n",
              "      <td>16.88</td>\n",
              "    </tr>\n",
              "    <tr>\n",
              "      <th>4</th>\n",
              "      <td>HV0005</td>\n",
              "      <td>2022-06-01 00:04:51</td>\n",
              "      <td>2022-06-01 00:13:33</td>\n",
              "      <td>2022-06-01 00:17:27</td>\n",
              "      <td>137</td>\n",
              "      <td>162</td>\n",
              "      <td>1.069</td>\n",
              "      <td>234</td>\n",
              "      <td>8.23</td>\n",
              "      <td>0.00</td>\n",
              "      <td>5.47</td>\n",
              "    </tr>\n",
              "    <tr>\n",
              "      <th>...</th>\n",
              "      <td>...</td>\n",
              "      <td>...</td>\n",
              "      <td>...</td>\n",
              "      <td>...</td>\n",
              "      <td>...</td>\n",
              "      <td>...</td>\n",
              "      <td>...</td>\n",
              "      <td>...</td>\n",
              "      <td>...</td>\n",
              "      <td>...</td>\n",
              "      <td>...</td>\n",
              "    </tr>\n",
              "    <tr>\n",
              "      <th>17780070</th>\n",
              "      <td>HV0003</td>\n",
              "      <td>2022-06-30 23:20:49</td>\n",
              "      <td>2022-06-30 23:24:43</td>\n",
              "      <td>2022-06-30 23:38:19</td>\n",
              "      <td>74</td>\n",
              "      <td>224</td>\n",
              "      <td>6.070</td>\n",
              "      <td>816</td>\n",
              "      <td>17.60</td>\n",
              "      <td>2.24</td>\n",
              "      <td>16.23</td>\n",
              "    </tr>\n",
              "    <tr>\n",
              "      <th>17780071</th>\n",
              "      <td>HV0003</td>\n",
              "      <td>2022-06-30 23:36:13</td>\n",
              "      <td>2022-06-30 23:39:20</td>\n",
              "      <td>2022-06-30 23:51:10</td>\n",
              "      <td>224</td>\n",
              "      <td>13</td>\n",
              "      <td>4.900</td>\n",
              "      <td>710</td>\n",
              "      <td>17.93</td>\n",
              "      <td>0.00</td>\n",
              "      <td>13.94</td>\n",
              "    </tr>\n",
              "    <tr>\n",
              "      <th>17780072</th>\n",
              "      <td>HV0003</td>\n",
              "      <td>2022-06-30 23:50:50</td>\n",
              "      <td>2022-06-30 23:57:12</td>\n",
              "      <td>2022-07-01 00:07:07</td>\n",
              "      <td>231</td>\n",
              "      <td>231</td>\n",
              "      <td>0.530</td>\n",
              "      <td>595</td>\n",
              "      <td>11.98</td>\n",
              "      <td>3.00</td>\n",
              "      <td>18.46</td>\n",
              "    </tr>\n",
              "    <tr>\n",
              "      <th>17780073</th>\n",
              "      <td>HV0003</td>\n",
              "      <td>2022-06-30 23:02:40</td>\n",
              "      <td>2022-06-30 23:06:44</td>\n",
              "      <td>2022-06-30 23:26:28</td>\n",
              "      <td>234</td>\n",
              "      <td>48</td>\n",
              "      <td>2.850</td>\n",
              "      <td>1184</td>\n",
              "      <td>31.47</td>\n",
              "      <td>1.00</td>\n",
              "      <td>27.27</td>\n",
              "    </tr>\n",
              "    <tr>\n",
              "      <th>17780074</th>\n",
              "      <td>HV0005</td>\n",
              "      <td>2022-06-30 23:00:28</td>\n",
              "      <td>2022-06-30 23:03:06</td>\n",
              "      <td>2022-06-30 23:18:13</td>\n",
              "      <td>244</td>\n",
              "      <td>242</td>\n",
              "      <td>6.207</td>\n",
              "      <td>907</td>\n",
              "      <td>20.28</td>\n",
              "      <td>0.00</td>\n",
              "      <td>15.26</td>\n",
              "    </tr>\n",
              "  </tbody>\n",
              "</table>\n",
              "<p>17780075 rows × 11 columns</p>\n",
              "</div>\n",
              "      <button class=\"colab-df-convert\" onclick=\"convertToInteractive('df-f5decfd0-636d-48b5-a082-3486dc5a7412')\"\n",
              "              title=\"Convert this dataframe to an interactive table.\"\n",
              "              style=\"display:none;\">\n",
              "        \n",
              "  <svg xmlns=\"http://www.w3.org/2000/svg\" height=\"24px\"viewBox=\"0 0 24 24\"\n",
              "       width=\"24px\">\n",
              "    <path d=\"M0 0h24v24H0V0z\" fill=\"none\"/>\n",
              "    <path d=\"M18.56 5.44l.94 2.06.94-2.06 2.06-.94-2.06-.94-.94-2.06-.94 2.06-2.06.94zm-11 1L8.5 8.5l.94-2.06 2.06-.94-2.06-.94L8.5 2.5l-.94 2.06-2.06.94zm10 10l.94 2.06.94-2.06 2.06-.94-2.06-.94-.94-2.06-.94 2.06-2.06.94z\"/><path d=\"M17.41 7.96l-1.37-1.37c-.4-.4-.92-.59-1.43-.59-.52 0-1.04.2-1.43.59L10.3 9.45l-7.72 7.72c-.78.78-.78 2.05 0 2.83L4 21.41c.39.39.9.59 1.41.59.51 0 1.02-.2 1.41-.59l7.78-7.78 2.81-2.81c.8-.78.8-2.07 0-2.86zM5.41 20L4 18.59l7.72-7.72 1.47 1.35L5.41 20z\"/>\n",
              "  </svg>\n",
              "      </button>\n",
              "      \n",
              "  <style>\n",
              "    .colab-df-container {\n",
              "      display:flex;\n",
              "      flex-wrap:wrap;\n",
              "      gap: 12px;\n",
              "    }\n",
              "\n",
              "    .colab-df-convert {\n",
              "      background-color: #E8F0FE;\n",
              "      border: none;\n",
              "      border-radius: 50%;\n",
              "      cursor: pointer;\n",
              "      display: none;\n",
              "      fill: #1967D2;\n",
              "      height: 32px;\n",
              "      padding: 0 0 0 0;\n",
              "      width: 32px;\n",
              "    }\n",
              "\n",
              "    .colab-df-convert:hover {\n",
              "      background-color: #E2EBFA;\n",
              "      box-shadow: 0px 1px 2px rgba(60, 64, 67, 0.3), 0px 1px 3px 1px rgba(60, 64, 67, 0.15);\n",
              "      fill: #174EA6;\n",
              "    }\n",
              "\n",
              "    [theme=dark] .colab-df-convert {\n",
              "      background-color: #3B4455;\n",
              "      fill: #D2E3FC;\n",
              "    }\n",
              "\n",
              "    [theme=dark] .colab-df-convert:hover {\n",
              "      background-color: #434B5C;\n",
              "      box-shadow: 0px 1px 3px 1px rgba(0, 0, 0, 0.15);\n",
              "      filter: drop-shadow(0px 1px 2px rgba(0, 0, 0, 0.3));\n",
              "      fill: #FFFFFF;\n",
              "    }\n",
              "  </style>\n",
              "\n",
              "      <script>\n",
              "        const buttonEl =\n",
              "          document.querySelector('#df-f5decfd0-636d-48b5-a082-3486dc5a7412 button.colab-df-convert');\n",
              "        buttonEl.style.display =\n",
              "          google.colab.kernel.accessAllowed ? 'block' : 'none';\n",
              "\n",
              "        async function convertToInteractive(key) {\n",
              "          const element = document.querySelector('#df-f5decfd0-636d-48b5-a082-3486dc5a7412');\n",
              "          const dataTable =\n",
              "            await google.colab.kernel.invokeFunction('convertToInteractive',\n",
              "                                                     [key], {});\n",
              "          if (!dataTable) return;\n",
              "\n",
              "          const docLinkHtml = 'Like what you see? Visit the ' +\n",
              "            '<a target=\"_blank\" href=https://colab.research.google.com/notebooks/data_table.ipynb>data table notebook</a>'\n",
              "            + ' to learn more about interactive tables.';\n",
              "          element.innerHTML = '';\n",
              "          dataTable['output_type'] = 'display_data';\n",
              "          await google.colab.output.renderOutput(dataTable, element);\n",
              "          const docLink = document.createElement('div');\n",
              "          docLink.innerHTML = docLinkHtml;\n",
              "          element.appendChild(docLink);\n",
              "        }\n",
              "      </script>\n",
              "    </div>\n",
              "  </div>\n",
              "  "
            ]
          },
          "metadata": {},
          "execution_count": 11
        }
      ],
      "source": [
        "df"
      ]
    },
    {
      "cell_type": "markdown",
      "metadata": {
        "id": "c6hbLSL4llOw"
      },
      "source": [
        "### Data Cleaning/Processing - 2\n",
        "- Drop NA values"
      ]
    },
    {
      "cell_type": "code",
      "execution_count": 12,
      "metadata": {
        "id": "0iu-ECnFllOw"
      },
      "outputs": [],
      "source": [
        "df.dropna(inplace=True)"
      ]
    },
    {
      "cell_type": "markdown",
      "metadata": {
        "id": "bFWpFi5AllOx"
      },
      "source": [
        "### Data Cleaning/Processing - 3\n",
        "- Rename Columns and map the taxi company code to taxi name like Uber, Lyft"
      ]
    },
    {
      "cell_type": "markdown",
      "metadata": {
        "id": "kt-IA_d_llOx"
      },
      "source": [
        "Actual codes\n",
        "- HV0002: Juno\n",
        "- HV0003: Uber\n",
        "- HV0004: Via\n",
        "- HV0005: Lyft"
      ]
    },
    {
      "cell_type": "code",
      "execution_count": 13,
      "metadata": {
        "id": "eDUtiN-_llOx"
      },
      "outputs": [],
      "source": [
        "df.rename(columns={\n",
        "    'hvfhs_license_num': 'taxi_company',\n",
        "    'PULocationID': 'PULocation',\n",
        "    'DOLocationID': 'DOLocation'\n",
        "}, inplace=True)"
      ]
    },
    {
      "cell_type": "code",
      "execution_count": 14,
      "metadata": {
        "id": "zMITzwhXllOx"
      },
      "outputs": [],
      "source": [
        "def license_company_map(lic):\n",
        "    if lic == 'HV0003':\n",
        "        return 'Uber'\n",
        "    elif lic == 'HV0005':\n",
        "        return 'Lyft'\n",
        "    return lic"
      ]
    },
    {
      "cell_type": "code",
      "execution_count": 15,
      "metadata": {
        "id": "2EsAA-o8llOx"
      },
      "outputs": [],
      "source": [
        "df['taxi_company'] = pd.factorize(df['taxi_company'])[0]"
      ]
    },
    {
      "cell_type": "code",
      "execution_count": 16,
      "metadata": {
        "id": "yAd9ctDollOx"
      },
      "outputs": [],
      "source": [
        "df['taxi_company_name'] = df['taxi_company'].map(license_company_map)"
      ]
    },
    {
      "cell_type": "markdown",
      "metadata": {
        "id": "c7O3DjcyllOx"
      },
      "source": [
        "### Data Cleaning/Processing - 4\n",
        "- Now there are some unknown locations in Pickup and Dropoff which we know by analysing Zone dataframe\n",
        "- Remove the rows containing unknown locations in \"df\""
      ]
    },
    {
      "cell_type": "code",
      "execution_count": 17,
      "metadata": {
        "colab": {
          "base_uri": "https://localhost:8080/",
          "height": 0
        },
        "id": "OVFEmHyHllOx",
        "outputId": "67a4bf3f-1c45-4146-cf66-f6a865f6c7f4"
      },
      "outputs": [
        {
          "output_type": "execute_result",
          "data": {
            "text/plain": [
              "     LocationID        Borough                     Zone service_zone\n",
              "0             1            EWR           Newark Airport          EWR\n",
              "1             2         Queens              Jamaica Bay    Boro Zone\n",
              "2             3          Bronx  Allerton/Pelham Gardens    Boro Zone\n",
              "3             4      Manhattan            Alphabet City  Yellow Zone\n",
              "4             5  Staten Island            Arden Heights    Boro Zone\n",
              "..          ...            ...                      ...          ...\n",
              "260         261      Manhattan       World Trade Center  Yellow Zone\n",
              "261         262      Manhattan           Yorkville East  Yellow Zone\n",
              "262         263      Manhattan           Yorkville West  Yellow Zone\n",
              "263         264        Unknown                       NV          NaN\n",
              "264         265        Unknown                      NaN          NaN\n",
              "\n",
              "[265 rows x 4 columns]"
            ],
            "text/html": [
              "\n",
              "  <div id=\"df-c8bd5260-8a62-4a8b-9a22-c4c735195ca4\">\n",
              "    <div class=\"colab-df-container\">\n",
              "      <div>\n",
              "<style scoped>\n",
              "    .dataframe tbody tr th:only-of-type {\n",
              "        vertical-align: middle;\n",
              "    }\n",
              "\n",
              "    .dataframe tbody tr th {\n",
              "        vertical-align: top;\n",
              "    }\n",
              "\n",
              "    .dataframe thead th {\n",
              "        text-align: right;\n",
              "    }\n",
              "</style>\n",
              "<table border=\"1\" class=\"dataframe\">\n",
              "  <thead>\n",
              "    <tr style=\"text-align: right;\">\n",
              "      <th></th>\n",
              "      <th>LocationID</th>\n",
              "      <th>Borough</th>\n",
              "      <th>Zone</th>\n",
              "      <th>service_zone</th>\n",
              "    </tr>\n",
              "  </thead>\n",
              "  <tbody>\n",
              "    <tr>\n",
              "      <th>0</th>\n",
              "      <td>1</td>\n",
              "      <td>EWR</td>\n",
              "      <td>Newark Airport</td>\n",
              "      <td>EWR</td>\n",
              "    </tr>\n",
              "    <tr>\n",
              "      <th>1</th>\n",
              "      <td>2</td>\n",
              "      <td>Queens</td>\n",
              "      <td>Jamaica Bay</td>\n",
              "      <td>Boro Zone</td>\n",
              "    </tr>\n",
              "    <tr>\n",
              "      <th>2</th>\n",
              "      <td>3</td>\n",
              "      <td>Bronx</td>\n",
              "      <td>Allerton/Pelham Gardens</td>\n",
              "      <td>Boro Zone</td>\n",
              "    </tr>\n",
              "    <tr>\n",
              "      <th>3</th>\n",
              "      <td>4</td>\n",
              "      <td>Manhattan</td>\n",
              "      <td>Alphabet City</td>\n",
              "      <td>Yellow Zone</td>\n",
              "    </tr>\n",
              "    <tr>\n",
              "      <th>4</th>\n",
              "      <td>5</td>\n",
              "      <td>Staten Island</td>\n",
              "      <td>Arden Heights</td>\n",
              "      <td>Boro Zone</td>\n",
              "    </tr>\n",
              "    <tr>\n",
              "      <th>...</th>\n",
              "      <td>...</td>\n",
              "      <td>...</td>\n",
              "      <td>...</td>\n",
              "      <td>...</td>\n",
              "    </tr>\n",
              "    <tr>\n",
              "      <th>260</th>\n",
              "      <td>261</td>\n",
              "      <td>Manhattan</td>\n",
              "      <td>World Trade Center</td>\n",
              "      <td>Yellow Zone</td>\n",
              "    </tr>\n",
              "    <tr>\n",
              "      <th>261</th>\n",
              "      <td>262</td>\n",
              "      <td>Manhattan</td>\n",
              "      <td>Yorkville East</td>\n",
              "      <td>Yellow Zone</td>\n",
              "    </tr>\n",
              "    <tr>\n",
              "      <th>262</th>\n",
              "      <td>263</td>\n",
              "      <td>Manhattan</td>\n",
              "      <td>Yorkville West</td>\n",
              "      <td>Yellow Zone</td>\n",
              "    </tr>\n",
              "    <tr>\n",
              "      <th>263</th>\n",
              "      <td>264</td>\n",
              "      <td>Unknown</td>\n",
              "      <td>NV</td>\n",
              "      <td>NaN</td>\n",
              "    </tr>\n",
              "    <tr>\n",
              "      <th>264</th>\n",
              "      <td>265</td>\n",
              "      <td>Unknown</td>\n",
              "      <td>NaN</td>\n",
              "      <td>NaN</td>\n",
              "    </tr>\n",
              "  </tbody>\n",
              "</table>\n",
              "<p>265 rows × 4 columns</p>\n",
              "</div>\n",
              "      <button class=\"colab-df-convert\" onclick=\"convertToInteractive('df-c8bd5260-8a62-4a8b-9a22-c4c735195ca4')\"\n",
              "              title=\"Convert this dataframe to an interactive table.\"\n",
              "              style=\"display:none;\">\n",
              "        \n",
              "  <svg xmlns=\"http://www.w3.org/2000/svg\" height=\"24px\"viewBox=\"0 0 24 24\"\n",
              "       width=\"24px\">\n",
              "    <path d=\"M0 0h24v24H0V0z\" fill=\"none\"/>\n",
              "    <path d=\"M18.56 5.44l.94 2.06.94-2.06 2.06-.94-2.06-.94-.94-2.06-.94 2.06-2.06.94zm-11 1L8.5 8.5l.94-2.06 2.06-.94-2.06-.94L8.5 2.5l-.94 2.06-2.06.94zm10 10l.94 2.06.94-2.06 2.06-.94-2.06-.94-.94-2.06-.94 2.06-2.06.94z\"/><path d=\"M17.41 7.96l-1.37-1.37c-.4-.4-.92-.59-1.43-.59-.52 0-1.04.2-1.43.59L10.3 9.45l-7.72 7.72c-.78.78-.78 2.05 0 2.83L4 21.41c.39.39.9.59 1.41.59.51 0 1.02-.2 1.41-.59l7.78-7.78 2.81-2.81c.8-.78.8-2.07 0-2.86zM5.41 20L4 18.59l7.72-7.72 1.47 1.35L5.41 20z\"/>\n",
              "  </svg>\n",
              "      </button>\n",
              "      \n",
              "  <style>\n",
              "    .colab-df-container {\n",
              "      display:flex;\n",
              "      flex-wrap:wrap;\n",
              "      gap: 12px;\n",
              "    }\n",
              "\n",
              "    .colab-df-convert {\n",
              "      background-color: #E8F0FE;\n",
              "      border: none;\n",
              "      border-radius: 50%;\n",
              "      cursor: pointer;\n",
              "      display: none;\n",
              "      fill: #1967D2;\n",
              "      height: 32px;\n",
              "      padding: 0 0 0 0;\n",
              "      width: 32px;\n",
              "    }\n",
              "\n",
              "    .colab-df-convert:hover {\n",
              "      background-color: #E2EBFA;\n",
              "      box-shadow: 0px 1px 2px rgba(60, 64, 67, 0.3), 0px 1px 3px 1px rgba(60, 64, 67, 0.15);\n",
              "      fill: #174EA6;\n",
              "    }\n",
              "\n",
              "    [theme=dark] .colab-df-convert {\n",
              "      background-color: #3B4455;\n",
              "      fill: #D2E3FC;\n",
              "    }\n",
              "\n",
              "    [theme=dark] .colab-df-convert:hover {\n",
              "      background-color: #434B5C;\n",
              "      box-shadow: 0px 1px 3px 1px rgba(0, 0, 0, 0.15);\n",
              "      filter: drop-shadow(0px 1px 2px rgba(0, 0, 0, 0.3));\n",
              "      fill: #FFFFFF;\n",
              "    }\n",
              "  </style>\n",
              "\n",
              "      <script>\n",
              "        const buttonEl =\n",
              "          document.querySelector('#df-c8bd5260-8a62-4a8b-9a22-c4c735195ca4 button.colab-df-convert');\n",
              "        buttonEl.style.display =\n",
              "          google.colab.kernel.accessAllowed ? 'block' : 'none';\n",
              "\n",
              "        async function convertToInteractive(key) {\n",
              "          const element = document.querySelector('#df-c8bd5260-8a62-4a8b-9a22-c4c735195ca4');\n",
              "          const dataTable =\n",
              "            await google.colab.kernel.invokeFunction('convertToInteractive',\n",
              "                                                     [key], {});\n",
              "          if (!dataTable) return;\n",
              "\n",
              "          const docLinkHtml = 'Like what you see? Visit the ' +\n",
              "            '<a target=\"_blank\" href=https://colab.research.google.com/notebooks/data_table.ipynb>data table notebook</a>'\n",
              "            + ' to learn more about interactive tables.';\n",
              "          element.innerHTML = '';\n",
              "          dataTable['output_type'] = 'display_data';\n",
              "          await google.colab.output.renderOutput(dataTable, element);\n",
              "          const docLink = document.createElement('div');\n",
              "          docLink.innerHTML = docLinkHtml;\n",
              "          element.appendChild(docLink);\n",
              "        }\n",
              "      </script>\n",
              "    </div>\n",
              "  </div>\n",
              "  "
            ]
          },
          "metadata": {},
          "execution_count": 17
        }
      ],
      "source": [
        "zone_df"
      ]
    },
    {
      "cell_type": "code",
      "execution_count": 18,
      "metadata": {
        "colab": {
          "base_uri": "https://localhost:8080/",
          "height": 0
        },
        "id": "77sNYz-allOx",
        "outputId": "dd6a84b6-781d-4639-9b84-040cffaa7dd5"
      },
      "outputs": [
        {
          "output_type": "execute_result",
          "data": {
            "text/plain": [
              "          taxi_company    request_datetime     pickup_datetime  \\\n",
              "0                    0 2022-06-01 00:15:35 2022-06-01 00:17:41   \n",
              "1                    0 2022-06-01 00:39:04 2022-06-01 00:42:37   \n",
              "2                    0 2022-06-01 00:27:53 2022-06-01 00:36:22   \n",
              "3                    0 2022-06-01 00:48:15 2022-06-01 00:51:18   \n",
              "4                    1 2022-06-01 00:04:51 2022-06-01 00:13:33   \n",
              "...                ...                 ...                 ...   \n",
              "17780070             0 2022-06-30 23:20:49 2022-06-30 23:24:43   \n",
              "17780071             0 2022-06-30 23:36:13 2022-06-30 23:39:20   \n",
              "17780072             0 2022-06-30 23:50:50 2022-06-30 23:57:12   \n",
              "17780073             0 2022-06-30 23:02:40 2022-06-30 23:06:44   \n",
              "17780074             1 2022-06-30 23:00:28 2022-06-30 23:03:06   \n",
              "\n",
              "            dropoff_datetime  PULocation  DOLocation  trip_miles  trip_time  \\\n",
              "0        2022-06-01 00:25:41         234         114       1.500        480   \n",
              "1        2022-06-01 00:56:32         161         151       4.180        835   \n",
              "2        2022-06-01 00:45:31         231          87       2.910        549   \n",
              "3        2022-06-01 01:11:15          87         225       5.450       1197   \n",
              "4        2022-06-01 00:17:27         137         162       1.069        234   \n",
              "...                      ...         ...         ...         ...        ...   \n",
              "17780070 2022-06-30 23:38:19          74         224       6.070        816   \n",
              "17780071 2022-06-30 23:51:10         224          13       4.900        710   \n",
              "17780072 2022-07-01 00:07:07         231         231       0.530        595   \n",
              "17780073 2022-06-30 23:26:28         234          48       2.850       1184   \n",
              "17780074 2022-06-30 23:18:13         244         242       6.207        907   \n",
              "\n",
              "          base_passenger_fare  tips  driver_pay  taxi_company_name  \n",
              "0                        7.68  1.00        9.36                  0  \n",
              "1                       20.40  4.82       15.61                  0  \n",
              "2                       12.29  1.00        8.22                  0  \n",
              "3                       24.70  0.00       16.88                  0  \n",
              "4                        8.23  0.00        5.47                  1  \n",
              "...                       ...   ...         ...                ...  \n",
              "17780070                17.60  2.24       16.23                  0  \n",
              "17780071                17.93  0.00       13.94                  0  \n",
              "17780072                11.98  3.00       18.46                  0  \n",
              "17780073                31.47  1.00       27.27                  0  \n",
              "17780074                20.28  0.00       15.26                  1  \n",
              "\n",
              "[17780075 rows x 12 columns]"
            ],
            "text/html": [
              "\n",
              "  <div id=\"df-21b52306-330d-43a2-a9d3-04a1aa02a6e4\">\n",
              "    <div class=\"colab-df-container\">\n",
              "      <div>\n",
              "<style scoped>\n",
              "    .dataframe tbody tr th:only-of-type {\n",
              "        vertical-align: middle;\n",
              "    }\n",
              "\n",
              "    .dataframe tbody tr th {\n",
              "        vertical-align: top;\n",
              "    }\n",
              "\n",
              "    .dataframe thead th {\n",
              "        text-align: right;\n",
              "    }\n",
              "</style>\n",
              "<table border=\"1\" class=\"dataframe\">\n",
              "  <thead>\n",
              "    <tr style=\"text-align: right;\">\n",
              "      <th></th>\n",
              "      <th>taxi_company</th>\n",
              "      <th>request_datetime</th>\n",
              "      <th>pickup_datetime</th>\n",
              "      <th>dropoff_datetime</th>\n",
              "      <th>PULocation</th>\n",
              "      <th>DOLocation</th>\n",
              "      <th>trip_miles</th>\n",
              "      <th>trip_time</th>\n",
              "      <th>base_passenger_fare</th>\n",
              "      <th>tips</th>\n",
              "      <th>driver_pay</th>\n",
              "      <th>taxi_company_name</th>\n",
              "    </tr>\n",
              "  </thead>\n",
              "  <tbody>\n",
              "    <tr>\n",
              "      <th>0</th>\n",
              "      <td>0</td>\n",
              "      <td>2022-06-01 00:15:35</td>\n",
              "      <td>2022-06-01 00:17:41</td>\n",
              "      <td>2022-06-01 00:25:41</td>\n",
              "      <td>234</td>\n",
              "      <td>114</td>\n",
              "      <td>1.500</td>\n",
              "      <td>480</td>\n",
              "      <td>7.68</td>\n",
              "      <td>1.00</td>\n",
              "      <td>9.36</td>\n",
              "      <td>0</td>\n",
              "    </tr>\n",
              "    <tr>\n",
              "      <th>1</th>\n",
              "      <td>0</td>\n",
              "      <td>2022-06-01 00:39:04</td>\n",
              "      <td>2022-06-01 00:42:37</td>\n",
              "      <td>2022-06-01 00:56:32</td>\n",
              "      <td>161</td>\n",
              "      <td>151</td>\n",
              "      <td>4.180</td>\n",
              "      <td>835</td>\n",
              "      <td>20.40</td>\n",
              "      <td>4.82</td>\n",
              "      <td>15.61</td>\n",
              "      <td>0</td>\n",
              "    </tr>\n",
              "    <tr>\n",
              "      <th>2</th>\n",
              "      <td>0</td>\n",
              "      <td>2022-06-01 00:27:53</td>\n",
              "      <td>2022-06-01 00:36:22</td>\n",
              "      <td>2022-06-01 00:45:31</td>\n",
              "      <td>231</td>\n",
              "      <td>87</td>\n",
              "      <td>2.910</td>\n",
              "      <td>549</td>\n",
              "      <td>12.29</td>\n",
              "      <td>1.00</td>\n",
              "      <td>8.22</td>\n",
              "      <td>0</td>\n",
              "    </tr>\n",
              "    <tr>\n",
              "      <th>3</th>\n",
              "      <td>0</td>\n",
              "      <td>2022-06-01 00:48:15</td>\n",
              "      <td>2022-06-01 00:51:18</td>\n",
              "      <td>2022-06-01 01:11:15</td>\n",
              "      <td>87</td>\n",
              "      <td>225</td>\n",
              "      <td>5.450</td>\n",
              "      <td>1197</td>\n",
              "      <td>24.70</td>\n",
              "      <td>0.00</td>\n",
              "      <td>16.88</td>\n",
              "      <td>0</td>\n",
              "    </tr>\n",
              "    <tr>\n",
              "      <th>4</th>\n",
              "      <td>1</td>\n",
              "      <td>2022-06-01 00:04:51</td>\n",
              "      <td>2022-06-01 00:13:33</td>\n",
              "      <td>2022-06-01 00:17:27</td>\n",
              "      <td>137</td>\n",
              "      <td>162</td>\n",
              "      <td>1.069</td>\n",
              "      <td>234</td>\n",
              "      <td>8.23</td>\n",
              "      <td>0.00</td>\n",
              "      <td>5.47</td>\n",
              "      <td>1</td>\n",
              "    </tr>\n",
              "    <tr>\n",
              "      <th>...</th>\n",
              "      <td>...</td>\n",
              "      <td>...</td>\n",
              "      <td>...</td>\n",
              "      <td>...</td>\n",
              "      <td>...</td>\n",
              "      <td>...</td>\n",
              "      <td>...</td>\n",
              "      <td>...</td>\n",
              "      <td>...</td>\n",
              "      <td>...</td>\n",
              "      <td>...</td>\n",
              "      <td>...</td>\n",
              "    </tr>\n",
              "    <tr>\n",
              "      <th>17780070</th>\n",
              "      <td>0</td>\n",
              "      <td>2022-06-30 23:20:49</td>\n",
              "      <td>2022-06-30 23:24:43</td>\n",
              "      <td>2022-06-30 23:38:19</td>\n",
              "      <td>74</td>\n",
              "      <td>224</td>\n",
              "      <td>6.070</td>\n",
              "      <td>816</td>\n",
              "      <td>17.60</td>\n",
              "      <td>2.24</td>\n",
              "      <td>16.23</td>\n",
              "      <td>0</td>\n",
              "    </tr>\n",
              "    <tr>\n",
              "      <th>17780071</th>\n",
              "      <td>0</td>\n",
              "      <td>2022-06-30 23:36:13</td>\n",
              "      <td>2022-06-30 23:39:20</td>\n",
              "      <td>2022-06-30 23:51:10</td>\n",
              "      <td>224</td>\n",
              "      <td>13</td>\n",
              "      <td>4.900</td>\n",
              "      <td>710</td>\n",
              "      <td>17.93</td>\n",
              "      <td>0.00</td>\n",
              "      <td>13.94</td>\n",
              "      <td>0</td>\n",
              "    </tr>\n",
              "    <tr>\n",
              "      <th>17780072</th>\n",
              "      <td>0</td>\n",
              "      <td>2022-06-30 23:50:50</td>\n",
              "      <td>2022-06-30 23:57:12</td>\n",
              "      <td>2022-07-01 00:07:07</td>\n",
              "      <td>231</td>\n",
              "      <td>231</td>\n",
              "      <td>0.530</td>\n",
              "      <td>595</td>\n",
              "      <td>11.98</td>\n",
              "      <td>3.00</td>\n",
              "      <td>18.46</td>\n",
              "      <td>0</td>\n",
              "    </tr>\n",
              "    <tr>\n",
              "      <th>17780073</th>\n",
              "      <td>0</td>\n",
              "      <td>2022-06-30 23:02:40</td>\n",
              "      <td>2022-06-30 23:06:44</td>\n",
              "      <td>2022-06-30 23:26:28</td>\n",
              "      <td>234</td>\n",
              "      <td>48</td>\n",
              "      <td>2.850</td>\n",
              "      <td>1184</td>\n",
              "      <td>31.47</td>\n",
              "      <td>1.00</td>\n",
              "      <td>27.27</td>\n",
              "      <td>0</td>\n",
              "    </tr>\n",
              "    <tr>\n",
              "      <th>17780074</th>\n",
              "      <td>1</td>\n",
              "      <td>2022-06-30 23:00:28</td>\n",
              "      <td>2022-06-30 23:03:06</td>\n",
              "      <td>2022-06-30 23:18:13</td>\n",
              "      <td>244</td>\n",
              "      <td>242</td>\n",
              "      <td>6.207</td>\n",
              "      <td>907</td>\n",
              "      <td>20.28</td>\n",
              "      <td>0.00</td>\n",
              "      <td>15.26</td>\n",
              "      <td>1</td>\n",
              "    </tr>\n",
              "  </tbody>\n",
              "</table>\n",
              "<p>17780075 rows × 12 columns</p>\n",
              "</div>\n",
              "      <button class=\"colab-df-convert\" onclick=\"convertToInteractive('df-21b52306-330d-43a2-a9d3-04a1aa02a6e4')\"\n",
              "              title=\"Convert this dataframe to an interactive table.\"\n",
              "              style=\"display:none;\">\n",
              "        \n",
              "  <svg xmlns=\"http://www.w3.org/2000/svg\" height=\"24px\"viewBox=\"0 0 24 24\"\n",
              "       width=\"24px\">\n",
              "    <path d=\"M0 0h24v24H0V0z\" fill=\"none\"/>\n",
              "    <path d=\"M18.56 5.44l.94 2.06.94-2.06 2.06-.94-2.06-.94-.94-2.06-.94 2.06-2.06.94zm-11 1L8.5 8.5l.94-2.06 2.06-.94-2.06-.94L8.5 2.5l-.94 2.06-2.06.94zm10 10l.94 2.06.94-2.06 2.06-.94-2.06-.94-.94-2.06-.94 2.06-2.06.94z\"/><path d=\"M17.41 7.96l-1.37-1.37c-.4-.4-.92-.59-1.43-.59-.52 0-1.04.2-1.43.59L10.3 9.45l-7.72 7.72c-.78.78-.78 2.05 0 2.83L4 21.41c.39.39.9.59 1.41.59.51 0 1.02-.2 1.41-.59l7.78-7.78 2.81-2.81c.8-.78.8-2.07 0-2.86zM5.41 20L4 18.59l7.72-7.72 1.47 1.35L5.41 20z\"/>\n",
              "  </svg>\n",
              "      </button>\n",
              "      \n",
              "  <style>\n",
              "    .colab-df-container {\n",
              "      display:flex;\n",
              "      flex-wrap:wrap;\n",
              "      gap: 12px;\n",
              "    }\n",
              "\n",
              "    .colab-df-convert {\n",
              "      background-color: #E8F0FE;\n",
              "      border: none;\n",
              "      border-radius: 50%;\n",
              "      cursor: pointer;\n",
              "      display: none;\n",
              "      fill: #1967D2;\n",
              "      height: 32px;\n",
              "      padding: 0 0 0 0;\n",
              "      width: 32px;\n",
              "    }\n",
              "\n",
              "    .colab-df-convert:hover {\n",
              "      background-color: #E2EBFA;\n",
              "      box-shadow: 0px 1px 2px rgba(60, 64, 67, 0.3), 0px 1px 3px 1px rgba(60, 64, 67, 0.15);\n",
              "      fill: #174EA6;\n",
              "    }\n",
              "\n",
              "    [theme=dark] .colab-df-convert {\n",
              "      background-color: #3B4455;\n",
              "      fill: #D2E3FC;\n",
              "    }\n",
              "\n",
              "    [theme=dark] .colab-df-convert:hover {\n",
              "      background-color: #434B5C;\n",
              "      box-shadow: 0px 1px 3px 1px rgba(0, 0, 0, 0.15);\n",
              "      filter: drop-shadow(0px 1px 2px rgba(0, 0, 0, 0.3));\n",
              "      fill: #FFFFFF;\n",
              "    }\n",
              "  </style>\n",
              "\n",
              "      <script>\n",
              "        const buttonEl =\n",
              "          document.querySelector('#df-21b52306-330d-43a2-a9d3-04a1aa02a6e4 button.colab-df-convert');\n",
              "        buttonEl.style.display =\n",
              "          google.colab.kernel.accessAllowed ? 'block' : 'none';\n",
              "\n",
              "        async function convertToInteractive(key) {\n",
              "          const element = document.querySelector('#df-21b52306-330d-43a2-a9d3-04a1aa02a6e4');\n",
              "          const dataTable =\n",
              "            await google.colab.kernel.invokeFunction('convertToInteractive',\n",
              "                                                     [key], {});\n",
              "          if (!dataTable) return;\n",
              "\n",
              "          const docLinkHtml = 'Like what you see? Visit the ' +\n",
              "            '<a target=\"_blank\" href=https://colab.research.google.com/notebooks/data_table.ipynb>data table notebook</a>'\n",
              "            + ' to learn more about interactive tables.';\n",
              "          element.innerHTML = '';\n",
              "          dataTable['output_type'] = 'display_data';\n",
              "          await google.colab.output.renderOutput(dataTable, element);\n",
              "          const docLink = document.createElement('div');\n",
              "          docLink.innerHTML = docLinkHtml;\n",
              "          element.appendChild(docLink);\n",
              "        }\n",
              "      </script>\n",
              "    </div>\n",
              "  </div>\n",
              "  "
            ]
          },
          "metadata": {},
          "execution_count": 18
        }
      ],
      "source": [
        "df"
      ]
    },
    {
      "cell_type": "code",
      "execution_count": 19,
      "metadata": {
        "id": "dQ9aLKSZllOx"
      },
      "outputs": [],
      "source": [
        "def unknown_locations(id):\n",
        "    if id == 264 or id == 265:\n",
        "        return True\n",
        "    return False"
      ]
    },
    {
      "cell_type": "code",
      "execution_count": 20,
      "metadata": {
        "colab": {
          "base_uri": "https://localhost:8080/"
        },
        "id": "OmLka-6jllOy",
        "outputId": "39f62e25-d2e4-47d9-b19a-b4ed2e49c105"
      },
      "outputs": [
        {
          "output_type": "execute_result",
          "data": {
            "text/plain": [
              "Int64Index([   13254,    64649,    70100,    75130,    86298,    99255,\n",
              "              106944,   129350,   147399,   183654,\n",
              "            ...\n",
              "            17479230, 17500961, 17516820, 17545267, 17573284, 17618911,\n",
              "            17700506, 17772055, 17773057, 17776276],\n",
              "           dtype='int64', length=900)"
            ]
          },
          "metadata": {},
          "execution_count": 20
        }
      ],
      "source": [
        "df[\n",
        "    df.PULocation.map(unknown_locations)\n",
        "].index"
      ]
    },
    {
      "cell_type": "code",
      "execution_count": 21,
      "metadata": {
        "id": "ZX6AcjYallOy"
      },
      "outputs": [],
      "source": [
        "df.drop(df[\n",
        "    df.PULocation.map(unknown_locations)\n",
        "].index, inplace=True)"
      ]
    },
    {
      "cell_type": "code",
      "execution_count": 22,
      "metadata": {
        "colab": {
          "base_uri": "https://localhost:8080/"
        },
        "id": "2O91tzchllOy",
        "outputId": "686b0369-afa7-4891-ba89-09e97a72c029"
      },
      "outputs": [
        {
          "output_type": "execute_result",
          "data": {
            "text/plain": [
              "Int64Index([      23,       26,       44,       68,       80,      138,\n",
              "                 150,      168,      192,      240,\n",
              "            ...\n",
              "            17779915, 17779930, 17779977, 17779986, 17779990, 17779999,\n",
              "            17780016, 17780024, 17780036, 17780049],\n",
              "           dtype='int64', length=767811)"
            ]
          },
          "metadata": {},
          "execution_count": 22
        }
      ],
      "source": [
        "df[\n",
        "    df.DOLocation.map(unknown_locations)\n",
        "].index"
      ]
    },
    {
      "cell_type": "code",
      "execution_count": 23,
      "metadata": {
        "id": "sXkhDwuSllOy"
      },
      "outputs": [],
      "source": [
        "df.drop(df[\n",
        "    df.DOLocation.map(unknown_locations)\n",
        "].index, inplace=True)"
      ]
    },
    {
      "cell_type": "markdown",
      "metadata": {
        "id": "_kSRQcPIllOy"
      },
      "source": [
        "### Data Cleaning/Processing - 5\n",
        "- There are some trips either having 0 miles as trip_miles or 0 seconds as time_time\n",
        "- Remove those trips"
      ]
    },
    {
      "cell_type": "code",
      "execution_count": 24,
      "metadata": {
        "id": "oKfIW3vFllOy"
      },
      "outputs": [],
      "source": [
        "def zero_trip(trip_ms):\n",
        "    if trip_ms == 0:\n",
        "        return True\n",
        "    return False"
      ]
    },
    {
      "cell_type": "code",
      "execution_count": 25,
      "metadata": {
        "id": "Z_x0cxrUllOy"
      },
      "outputs": [],
      "source": [
        "df.drop(df[\n",
        "    df.trip_miles.map(zero_trip)\n",
        "].index, inplace=True)"
      ]
    },
    {
      "cell_type": "code",
      "execution_count": 26,
      "metadata": {
        "id": "EOSUfNYDllOy"
      },
      "outputs": [],
      "source": [
        "df.drop(df[\n",
        "    df.trip_time.map(zero_trip)\n",
        "].index, inplace=True)"
      ]
    },
    {
      "cell_type": "code",
      "execution_count": 27,
      "metadata": {
        "colab": {
          "base_uri": "https://localhost:8080/",
          "height": 0
        },
        "id": "qgPzaRWillOy",
        "outputId": "c2b1a4c8-3ef9-40a3-fa2e-a2cfa6b27fbb"
      },
      "outputs": [
        {
          "output_type": "execute_result",
          "data": {
            "text/plain": [
              "          taxi_company    request_datetime     pickup_datetime  \\\n",
              "0                    0 2022-06-01 00:15:35 2022-06-01 00:17:41   \n",
              "1                    0 2022-06-01 00:39:04 2022-06-01 00:42:37   \n",
              "2                    0 2022-06-01 00:27:53 2022-06-01 00:36:22   \n",
              "3                    0 2022-06-01 00:48:15 2022-06-01 00:51:18   \n",
              "4                    1 2022-06-01 00:04:51 2022-06-01 00:13:33   \n",
              "...                ...                 ...                 ...   \n",
              "17780070             0 2022-06-30 23:20:49 2022-06-30 23:24:43   \n",
              "17780071             0 2022-06-30 23:36:13 2022-06-30 23:39:20   \n",
              "17780072             0 2022-06-30 23:50:50 2022-06-30 23:57:12   \n",
              "17780073             0 2022-06-30 23:02:40 2022-06-30 23:06:44   \n",
              "17780074             1 2022-06-30 23:00:28 2022-06-30 23:03:06   \n",
              "\n",
              "            dropoff_datetime  PULocation  DOLocation  trip_miles  trip_time  \\\n",
              "0        2022-06-01 00:25:41         234         114       1.500        480   \n",
              "1        2022-06-01 00:56:32         161         151       4.180        835   \n",
              "2        2022-06-01 00:45:31         231          87       2.910        549   \n",
              "3        2022-06-01 01:11:15          87         225       5.450       1197   \n",
              "4        2022-06-01 00:17:27         137         162       1.069        234   \n",
              "...                      ...         ...         ...         ...        ...   \n",
              "17780070 2022-06-30 23:38:19          74         224       6.070        816   \n",
              "17780071 2022-06-30 23:51:10         224          13       4.900        710   \n",
              "17780072 2022-07-01 00:07:07         231         231       0.530        595   \n",
              "17780073 2022-06-30 23:26:28         234          48       2.850       1184   \n",
              "17780074 2022-06-30 23:18:13         244         242       6.207        907   \n",
              "\n",
              "          base_passenger_fare  tips  driver_pay  taxi_company_name  \n",
              "0                        7.68  1.00        9.36                  0  \n",
              "1                       20.40  4.82       15.61                  0  \n",
              "2                       12.29  1.00        8.22                  0  \n",
              "3                       24.70  0.00       16.88                  0  \n",
              "4                        8.23  0.00        5.47                  1  \n",
              "...                       ...   ...         ...                ...  \n",
              "17780070                17.60  2.24       16.23                  0  \n",
              "17780071                17.93  0.00       13.94                  0  \n",
              "17780072                11.98  3.00       18.46                  0  \n",
              "17780073                31.47  1.00       27.27                  0  \n",
              "17780074                20.28  0.00       15.26                  1  \n",
              "\n",
              "[17007449 rows x 12 columns]"
            ],
            "text/html": [
              "\n",
              "  <div id=\"df-c55d148c-ba46-4599-9b1a-1298ba084ace\">\n",
              "    <div class=\"colab-df-container\">\n",
              "      <div>\n",
              "<style scoped>\n",
              "    .dataframe tbody tr th:only-of-type {\n",
              "        vertical-align: middle;\n",
              "    }\n",
              "\n",
              "    .dataframe tbody tr th {\n",
              "        vertical-align: top;\n",
              "    }\n",
              "\n",
              "    .dataframe thead th {\n",
              "        text-align: right;\n",
              "    }\n",
              "</style>\n",
              "<table border=\"1\" class=\"dataframe\">\n",
              "  <thead>\n",
              "    <tr style=\"text-align: right;\">\n",
              "      <th></th>\n",
              "      <th>taxi_company</th>\n",
              "      <th>request_datetime</th>\n",
              "      <th>pickup_datetime</th>\n",
              "      <th>dropoff_datetime</th>\n",
              "      <th>PULocation</th>\n",
              "      <th>DOLocation</th>\n",
              "      <th>trip_miles</th>\n",
              "      <th>trip_time</th>\n",
              "      <th>base_passenger_fare</th>\n",
              "      <th>tips</th>\n",
              "      <th>driver_pay</th>\n",
              "      <th>taxi_company_name</th>\n",
              "    </tr>\n",
              "  </thead>\n",
              "  <tbody>\n",
              "    <tr>\n",
              "      <th>0</th>\n",
              "      <td>0</td>\n",
              "      <td>2022-06-01 00:15:35</td>\n",
              "      <td>2022-06-01 00:17:41</td>\n",
              "      <td>2022-06-01 00:25:41</td>\n",
              "      <td>234</td>\n",
              "      <td>114</td>\n",
              "      <td>1.500</td>\n",
              "      <td>480</td>\n",
              "      <td>7.68</td>\n",
              "      <td>1.00</td>\n",
              "      <td>9.36</td>\n",
              "      <td>0</td>\n",
              "    </tr>\n",
              "    <tr>\n",
              "      <th>1</th>\n",
              "      <td>0</td>\n",
              "      <td>2022-06-01 00:39:04</td>\n",
              "      <td>2022-06-01 00:42:37</td>\n",
              "      <td>2022-06-01 00:56:32</td>\n",
              "      <td>161</td>\n",
              "      <td>151</td>\n",
              "      <td>4.180</td>\n",
              "      <td>835</td>\n",
              "      <td>20.40</td>\n",
              "      <td>4.82</td>\n",
              "      <td>15.61</td>\n",
              "      <td>0</td>\n",
              "    </tr>\n",
              "    <tr>\n",
              "      <th>2</th>\n",
              "      <td>0</td>\n",
              "      <td>2022-06-01 00:27:53</td>\n",
              "      <td>2022-06-01 00:36:22</td>\n",
              "      <td>2022-06-01 00:45:31</td>\n",
              "      <td>231</td>\n",
              "      <td>87</td>\n",
              "      <td>2.910</td>\n",
              "      <td>549</td>\n",
              "      <td>12.29</td>\n",
              "      <td>1.00</td>\n",
              "      <td>8.22</td>\n",
              "      <td>0</td>\n",
              "    </tr>\n",
              "    <tr>\n",
              "      <th>3</th>\n",
              "      <td>0</td>\n",
              "      <td>2022-06-01 00:48:15</td>\n",
              "      <td>2022-06-01 00:51:18</td>\n",
              "      <td>2022-06-01 01:11:15</td>\n",
              "      <td>87</td>\n",
              "      <td>225</td>\n",
              "      <td>5.450</td>\n",
              "      <td>1197</td>\n",
              "      <td>24.70</td>\n",
              "      <td>0.00</td>\n",
              "      <td>16.88</td>\n",
              "      <td>0</td>\n",
              "    </tr>\n",
              "    <tr>\n",
              "      <th>4</th>\n",
              "      <td>1</td>\n",
              "      <td>2022-06-01 00:04:51</td>\n",
              "      <td>2022-06-01 00:13:33</td>\n",
              "      <td>2022-06-01 00:17:27</td>\n",
              "      <td>137</td>\n",
              "      <td>162</td>\n",
              "      <td>1.069</td>\n",
              "      <td>234</td>\n",
              "      <td>8.23</td>\n",
              "      <td>0.00</td>\n",
              "      <td>5.47</td>\n",
              "      <td>1</td>\n",
              "    </tr>\n",
              "    <tr>\n",
              "      <th>...</th>\n",
              "      <td>...</td>\n",
              "      <td>...</td>\n",
              "      <td>...</td>\n",
              "      <td>...</td>\n",
              "      <td>...</td>\n",
              "      <td>...</td>\n",
              "      <td>...</td>\n",
              "      <td>...</td>\n",
              "      <td>...</td>\n",
              "      <td>...</td>\n",
              "      <td>...</td>\n",
              "      <td>...</td>\n",
              "    </tr>\n",
              "    <tr>\n",
              "      <th>17780070</th>\n",
              "      <td>0</td>\n",
              "      <td>2022-06-30 23:20:49</td>\n",
              "      <td>2022-06-30 23:24:43</td>\n",
              "      <td>2022-06-30 23:38:19</td>\n",
              "      <td>74</td>\n",
              "      <td>224</td>\n",
              "      <td>6.070</td>\n",
              "      <td>816</td>\n",
              "      <td>17.60</td>\n",
              "      <td>2.24</td>\n",
              "      <td>16.23</td>\n",
              "      <td>0</td>\n",
              "    </tr>\n",
              "    <tr>\n",
              "      <th>17780071</th>\n",
              "      <td>0</td>\n",
              "      <td>2022-06-30 23:36:13</td>\n",
              "      <td>2022-06-30 23:39:20</td>\n",
              "      <td>2022-06-30 23:51:10</td>\n",
              "      <td>224</td>\n",
              "      <td>13</td>\n",
              "      <td>4.900</td>\n",
              "      <td>710</td>\n",
              "      <td>17.93</td>\n",
              "      <td>0.00</td>\n",
              "      <td>13.94</td>\n",
              "      <td>0</td>\n",
              "    </tr>\n",
              "    <tr>\n",
              "      <th>17780072</th>\n",
              "      <td>0</td>\n",
              "      <td>2022-06-30 23:50:50</td>\n",
              "      <td>2022-06-30 23:57:12</td>\n",
              "      <td>2022-07-01 00:07:07</td>\n",
              "      <td>231</td>\n",
              "      <td>231</td>\n",
              "      <td>0.530</td>\n",
              "      <td>595</td>\n",
              "      <td>11.98</td>\n",
              "      <td>3.00</td>\n",
              "      <td>18.46</td>\n",
              "      <td>0</td>\n",
              "    </tr>\n",
              "    <tr>\n",
              "      <th>17780073</th>\n",
              "      <td>0</td>\n",
              "      <td>2022-06-30 23:02:40</td>\n",
              "      <td>2022-06-30 23:06:44</td>\n",
              "      <td>2022-06-30 23:26:28</td>\n",
              "      <td>234</td>\n",
              "      <td>48</td>\n",
              "      <td>2.850</td>\n",
              "      <td>1184</td>\n",
              "      <td>31.47</td>\n",
              "      <td>1.00</td>\n",
              "      <td>27.27</td>\n",
              "      <td>0</td>\n",
              "    </tr>\n",
              "    <tr>\n",
              "      <th>17780074</th>\n",
              "      <td>1</td>\n",
              "      <td>2022-06-30 23:00:28</td>\n",
              "      <td>2022-06-30 23:03:06</td>\n",
              "      <td>2022-06-30 23:18:13</td>\n",
              "      <td>244</td>\n",
              "      <td>242</td>\n",
              "      <td>6.207</td>\n",
              "      <td>907</td>\n",
              "      <td>20.28</td>\n",
              "      <td>0.00</td>\n",
              "      <td>15.26</td>\n",
              "      <td>1</td>\n",
              "    </tr>\n",
              "  </tbody>\n",
              "</table>\n",
              "<p>17007449 rows × 12 columns</p>\n",
              "</div>\n",
              "      <button class=\"colab-df-convert\" onclick=\"convertToInteractive('df-c55d148c-ba46-4599-9b1a-1298ba084ace')\"\n",
              "              title=\"Convert this dataframe to an interactive table.\"\n",
              "              style=\"display:none;\">\n",
              "        \n",
              "  <svg xmlns=\"http://www.w3.org/2000/svg\" height=\"24px\"viewBox=\"0 0 24 24\"\n",
              "       width=\"24px\">\n",
              "    <path d=\"M0 0h24v24H0V0z\" fill=\"none\"/>\n",
              "    <path d=\"M18.56 5.44l.94 2.06.94-2.06 2.06-.94-2.06-.94-.94-2.06-.94 2.06-2.06.94zm-11 1L8.5 8.5l.94-2.06 2.06-.94-2.06-.94L8.5 2.5l-.94 2.06-2.06.94zm10 10l.94 2.06.94-2.06 2.06-.94-2.06-.94-.94-2.06-.94 2.06-2.06.94z\"/><path d=\"M17.41 7.96l-1.37-1.37c-.4-.4-.92-.59-1.43-.59-.52 0-1.04.2-1.43.59L10.3 9.45l-7.72 7.72c-.78.78-.78 2.05 0 2.83L4 21.41c.39.39.9.59 1.41.59.51 0 1.02-.2 1.41-.59l7.78-7.78 2.81-2.81c.8-.78.8-2.07 0-2.86zM5.41 20L4 18.59l7.72-7.72 1.47 1.35L5.41 20z\"/>\n",
              "  </svg>\n",
              "      </button>\n",
              "      \n",
              "  <style>\n",
              "    .colab-df-container {\n",
              "      display:flex;\n",
              "      flex-wrap:wrap;\n",
              "      gap: 12px;\n",
              "    }\n",
              "\n",
              "    .colab-df-convert {\n",
              "      background-color: #E8F0FE;\n",
              "      border: none;\n",
              "      border-radius: 50%;\n",
              "      cursor: pointer;\n",
              "      display: none;\n",
              "      fill: #1967D2;\n",
              "      height: 32px;\n",
              "      padding: 0 0 0 0;\n",
              "      width: 32px;\n",
              "    }\n",
              "\n",
              "    .colab-df-convert:hover {\n",
              "      background-color: #E2EBFA;\n",
              "      box-shadow: 0px 1px 2px rgba(60, 64, 67, 0.3), 0px 1px 3px 1px rgba(60, 64, 67, 0.15);\n",
              "      fill: #174EA6;\n",
              "    }\n",
              "\n",
              "    [theme=dark] .colab-df-convert {\n",
              "      background-color: #3B4455;\n",
              "      fill: #D2E3FC;\n",
              "    }\n",
              "\n",
              "    [theme=dark] .colab-df-convert:hover {\n",
              "      background-color: #434B5C;\n",
              "      box-shadow: 0px 1px 3px 1px rgba(0, 0, 0, 0.15);\n",
              "      filter: drop-shadow(0px 1px 2px rgba(0, 0, 0, 0.3));\n",
              "      fill: #FFFFFF;\n",
              "    }\n",
              "  </style>\n",
              "\n",
              "      <script>\n",
              "        const buttonEl =\n",
              "          document.querySelector('#df-c55d148c-ba46-4599-9b1a-1298ba084ace button.colab-df-convert');\n",
              "        buttonEl.style.display =\n",
              "          google.colab.kernel.accessAllowed ? 'block' : 'none';\n",
              "\n",
              "        async function convertToInteractive(key) {\n",
              "          const element = document.querySelector('#df-c55d148c-ba46-4599-9b1a-1298ba084ace');\n",
              "          const dataTable =\n",
              "            await google.colab.kernel.invokeFunction('convertToInteractive',\n",
              "                                                     [key], {});\n",
              "          if (!dataTable) return;\n",
              "\n",
              "          const docLinkHtml = 'Like what you see? Visit the ' +\n",
              "            '<a target=\"_blank\" href=https://colab.research.google.com/notebooks/data_table.ipynb>data table notebook</a>'\n",
              "            + ' to learn more about interactive tables.';\n",
              "          element.innerHTML = '';\n",
              "          dataTable['output_type'] = 'display_data';\n",
              "          await google.colab.output.renderOutput(dataTable, element);\n",
              "          const docLink = document.createElement('div');\n",
              "          docLink.innerHTML = docLinkHtml;\n",
              "          element.appendChild(docLink);\n",
              "        }\n",
              "      </script>\n",
              "    </div>\n",
              "  </div>\n",
              "  "
            ]
          },
          "metadata": {},
          "execution_count": 27
        }
      ],
      "source": [
        "df"
      ]
    },
    {
      "cell_type": "code",
      "execution_count": 28,
      "metadata": {
        "colab": {
          "base_uri": "https://localhost:8080/",
          "height": 0
        },
        "id": "6Cyq3TIDllOy",
        "outputId": "c2e1a62d-4c8d-4531-cd33-86314247c949"
      },
      "outputs": [
        {
          "output_type": "execute_result",
          "data": {
            "text/plain": [
              "     LocationID        Borough                     Zone service_zone\n",
              "0             1            EWR           Newark Airport          EWR\n",
              "1             2         Queens              Jamaica Bay    Boro Zone\n",
              "2             3          Bronx  Allerton/Pelham Gardens    Boro Zone\n",
              "3             4      Manhattan            Alphabet City  Yellow Zone\n",
              "4             5  Staten Island            Arden Heights    Boro Zone\n",
              "..          ...            ...                      ...          ...\n",
              "260         261      Manhattan       World Trade Center  Yellow Zone\n",
              "261         262      Manhattan           Yorkville East  Yellow Zone\n",
              "262         263      Manhattan           Yorkville West  Yellow Zone\n",
              "263         264        Unknown                       NV          NaN\n",
              "264         265        Unknown                      NaN          NaN\n",
              "\n",
              "[265 rows x 4 columns]"
            ],
            "text/html": [
              "\n",
              "  <div id=\"df-32c93ea8-0020-4d23-afea-48ab846e8674\">\n",
              "    <div class=\"colab-df-container\">\n",
              "      <div>\n",
              "<style scoped>\n",
              "    .dataframe tbody tr th:only-of-type {\n",
              "        vertical-align: middle;\n",
              "    }\n",
              "\n",
              "    .dataframe tbody tr th {\n",
              "        vertical-align: top;\n",
              "    }\n",
              "\n",
              "    .dataframe thead th {\n",
              "        text-align: right;\n",
              "    }\n",
              "</style>\n",
              "<table border=\"1\" class=\"dataframe\">\n",
              "  <thead>\n",
              "    <tr style=\"text-align: right;\">\n",
              "      <th></th>\n",
              "      <th>LocationID</th>\n",
              "      <th>Borough</th>\n",
              "      <th>Zone</th>\n",
              "      <th>service_zone</th>\n",
              "    </tr>\n",
              "  </thead>\n",
              "  <tbody>\n",
              "    <tr>\n",
              "      <th>0</th>\n",
              "      <td>1</td>\n",
              "      <td>EWR</td>\n",
              "      <td>Newark Airport</td>\n",
              "      <td>EWR</td>\n",
              "    </tr>\n",
              "    <tr>\n",
              "      <th>1</th>\n",
              "      <td>2</td>\n",
              "      <td>Queens</td>\n",
              "      <td>Jamaica Bay</td>\n",
              "      <td>Boro Zone</td>\n",
              "    </tr>\n",
              "    <tr>\n",
              "      <th>2</th>\n",
              "      <td>3</td>\n",
              "      <td>Bronx</td>\n",
              "      <td>Allerton/Pelham Gardens</td>\n",
              "      <td>Boro Zone</td>\n",
              "    </tr>\n",
              "    <tr>\n",
              "      <th>3</th>\n",
              "      <td>4</td>\n",
              "      <td>Manhattan</td>\n",
              "      <td>Alphabet City</td>\n",
              "      <td>Yellow Zone</td>\n",
              "    </tr>\n",
              "    <tr>\n",
              "      <th>4</th>\n",
              "      <td>5</td>\n",
              "      <td>Staten Island</td>\n",
              "      <td>Arden Heights</td>\n",
              "      <td>Boro Zone</td>\n",
              "    </tr>\n",
              "    <tr>\n",
              "      <th>...</th>\n",
              "      <td>...</td>\n",
              "      <td>...</td>\n",
              "      <td>...</td>\n",
              "      <td>...</td>\n",
              "    </tr>\n",
              "    <tr>\n",
              "      <th>260</th>\n",
              "      <td>261</td>\n",
              "      <td>Manhattan</td>\n",
              "      <td>World Trade Center</td>\n",
              "      <td>Yellow Zone</td>\n",
              "    </tr>\n",
              "    <tr>\n",
              "      <th>261</th>\n",
              "      <td>262</td>\n",
              "      <td>Manhattan</td>\n",
              "      <td>Yorkville East</td>\n",
              "      <td>Yellow Zone</td>\n",
              "    </tr>\n",
              "    <tr>\n",
              "      <th>262</th>\n",
              "      <td>263</td>\n",
              "      <td>Manhattan</td>\n",
              "      <td>Yorkville West</td>\n",
              "      <td>Yellow Zone</td>\n",
              "    </tr>\n",
              "    <tr>\n",
              "      <th>263</th>\n",
              "      <td>264</td>\n",
              "      <td>Unknown</td>\n",
              "      <td>NV</td>\n",
              "      <td>NaN</td>\n",
              "    </tr>\n",
              "    <tr>\n",
              "      <th>264</th>\n",
              "      <td>265</td>\n",
              "      <td>Unknown</td>\n",
              "      <td>NaN</td>\n",
              "      <td>NaN</td>\n",
              "    </tr>\n",
              "  </tbody>\n",
              "</table>\n",
              "<p>265 rows × 4 columns</p>\n",
              "</div>\n",
              "      <button class=\"colab-df-convert\" onclick=\"convertToInteractive('df-32c93ea8-0020-4d23-afea-48ab846e8674')\"\n",
              "              title=\"Convert this dataframe to an interactive table.\"\n",
              "              style=\"display:none;\">\n",
              "        \n",
              "  <svg xmlns=\"http://www.w3.org/2000/svg\" height=\"24px\"viewBox=\"0 0 24 24\"\n",
              "       width=\"24px\">\n",
              "    <path d=\"M0 0h24v24H0V0z\" fill=\"none\"/>\n",
              "    <path d=\"M18.56 5.44l.94 2.06.94-2.06 2.06-.94-2.06-.94-.94-2.06-.94 2.06-2.06.94zm-11 1L8.5 8.5l.94-2.06 2.06-.94-2.06-.94L8.5 2.5l-.94 2.06-2.06.94zm10 10l.94 2.06.94-2.06 2.06-.94-2.06-.94-.94-2.06-.94 2.06-2.06.94z\"/><path d=\"M17.41 7.96l-1.37-1.37c-.4-.4-.92-.59-1.43-.59-.52 0-1.04.2-1.43.59L10.3 9.45l-7.72 7.72c-.78.78-.78 2.05 0 2.83L4 21.41c.39.39.9.59 1.41.59.51 0 1.02-.2 1.41-.59l7.78-7.78 2.81-2.81c.8-.78.8-2.07 0-2.86zM5.41 20L4 18.59l7.72-7.72 1.47 1.35L5.41 20z\"/>\n",
              "  </svg>\n",
              "      </button>\n",
              "      \n",
              "  <style>\n",
              "    .colab-df-container {\n",
              "      display:flex;\n",
              "      flex-wrap:wrap;\n",
              "      gap: 12px;\n",
              "    }\n",
              "\n",
              "    .colab-df-convert {\n",
              "      background-color: #E8F0FE;\n",
              "      border: none;\n",
              "      border-radius: 50%;\n",
              "      cursor: pointer;\n",
              "      display: none;\n",
              "      fill: #1967D2;\n",
              "      height: 32px;\n",
              "      padding: 0 0 0 0;\n",
              "      width: 32px;\n",
              "    }\n",
              "\n",
              "    .colab-df-convert:hover {\n",
              "      background-color: #E2EBFA;\n",
              "      box-shadow: 0px 1px 2px rgba(60, 64, 67, 0.3), 0px 1px 3px 1px rgba(60, 64, 67, 0.15);\n",
              "      fill: #174EA6;\n",
              "    }\n",
              "\n",
              "    [theme=dark] .colab-df-convert {\n",
              "      background-color: #3B4455;\n",
              "      fill: #D2E3FC;\n",
              "    }\n",
              "\n",
              "    [theme=dark] .colab-df-convert:hover {\n",
              "      background-color: #434B5C;\n",
              "      box-shadow: 0px 1px 3px 1px rgba(0, 0, 0, 0.15);\n",
              "      filter: drop-shadow(0px 1px 2px rgba(0, 0, 0, 0.3));\n",
              "      fill: #FFFFFF;\n",
              "    }\n",
              "  </style>\n",
              "\n",
              "      <script>\n",
              "        const buttonEl =\n",
              "          document.querySelector('#df-32c93ea8-0020-4d23-afea-48ab846e8674 button.colab-df-convert');\n",
              "        buttonEl.style.display =\n",
              "          google.colab.kernel.accessAllowed ? 'block' : 'none';\n",
              "\n",
              "        async function convertToInteractive(key) {\n",
              "          const element = document.querySelector('#df-32c93ea8-0020-4d23-afea-48ab846e8674');\n",
              "          const dataTable =\n",
              "            await google.colab.kernel.invokeFunction('convertToInteractive',\n",
              "                                                     [key], {});\n",
              "          if (!dataTable) return;\n",
              "\n",
              "          const docLinkHtml = 'Like what you see? Visit the ' +\n",
              "            '<a target=\"_blank\" href=https://colab.research.google.com/notebooks/data_table.ipynb>data table notebook</a>'\n",
              "            + ' to learn more about interactive tables.';\n",
              "          element.innerHTML = '';\n",
              "          dataTable['output_type'] = 'display_data';\n",
              "          await google.colab.output.renderOutput(dataTable, element);\n",
              "          const docLink = document.createElement('div');\n",
              "          docLink.innerHTML = docLinkHtml;\n",
              "          element.appendChild(docLink);\n",
              "        }\n",
              "      </script>\n",
              "    </div>\n",
              "  </div>\n",
              "  "
            ]
          },
          "metadata": {},
          "execution_count": 28
        }
      ],
      "source": [
        "zone_df"
      ]
    },
    {
      "cell_type": "markdown",
      "metadata": {
        "id": "EBnvhNNFllOy"
      },
      "source": [
        "### Data Cleaning/Processing - 6\n",
        "- Expand the pickup and dropoff column to contain location names instead of location code\n",
        "- This is used in later phases to lookup addresses and estimate distance"
      ]
    },
    {
      "cell_type": "code",
      "execution_count": 29,
      "metadata": {
        "id": "S7H1MtivllOz"
      },
      "outputs": [],
      "source": [
        "zone_df['LocationName'] = zone_df['Zone'] + \", \" + zone_df['Borough']"
      ]
    },
    {
      "cell_type": "code",
      "execution_count": 30,
      "metadata": {
        "colab": {
          "base_uri": "https://localhost:8080/",
          "height": 0
        },
        "id": "hEtPQTDZllOz",
        "outputId": "3eedc7c8-41df-4e3e-b5ca-9a25cee12904"
      },
      "outputs": [
        {
          "output_type": "execute_result",
          "data": {
            "text/plain": [
              "     LocationID        Borough                     Zone service_zone  \\\n",
              "0             1            EWR           Newark Airport          EWR   \n",
              "1             2         Queens              Jamaica Bay    Boro Zone   \n",
              "2             3          Bronx  Allerton/Pelham Gardens    Boro Zone   \n",
              "3             4      Manhattan            Alphabet City  Yellow Zone   \n",
              "4             5  Staten Island            Arden Heights    Boro Zone   \n",
              "..          ...            ...                      ...          ...   \n",
              "260         261      Manhattan       World Trade Center  Yellow Zone   \n",
              "261         262      Manhattan           Yorkville East  Yellow Zone   \n",
              "262         263      Manhattan           Yorkville West  Yellow Zone   \n",
              "263         264        Unknown                       NV          NaN   \n",
              "264         265        Unknown                      NaN          NaN   \n",
              "\n",
              "                       LocationName  \n",
              "0               Newark Airport, EWR  \n",
              "1               Jamaica Bay, Queens  \n",
              "2    Allerton/Pelham Gardens, Bronx  \n",
              "3          Alphabet City, Manhattan  \n",
              "4      Arden Heights, Staten Island  \n",
              "..                              ...  \n",
              "260   World Trade Center, Manhattan  \n",
              "261       Yorkville East, Manhattan  \n",
              "262       Yorkville West, Manhattan  \n",
              "263                     NV, Unknown  \n",
              "264                             NaN  \n",
              "\n",
              "[265 rows x 5 columns]"
            ],
            "text/html": [
              "\n",
              "  <div id=\"df-b636255d-294d-45e3-b60f-2230b2dc527c\">\n",
              "    <div class=\"colab-df-container\">\n",
              "      <div>\n",
              "<style scoped>\n",
              "    .dataframe tbody tr th:only-of-type {\n",
              "        vertical-align: middle;\n",
              "    }\n",
              "\n",
              "    .dataframe tbody tr th {\n",
              "        vertical-align: top;\n",
              "    }\n",
              "\n",
              "    .dataframe thead th {\n",
              "        text-align: right;\n",
              "    }\n",
              "</style>\n",
              "<table border=\"1\" class=\"dataframe\">\n",
              "  <thead>\n",
              "    <tr style=\"text-align: right;\">\n",
              "      <th></th>\n",
              "      <th>LocationID</th>\n",
              "      <th>Borough</th>\n",
              "      <th>Zone</th>\n",
              "      <th>service_zone</th>\n",
              "      <th>LocationName</th>\n",
              "    </tr>\n",
              "  </thead>\n",
              "  <tbody>\n",
              "    <tr>\n",
              "      <th>0</th>\n",
              "      <td>1</td>\n",
              "      <td>EWR</td>\n",
              "      <td>Newark Airport</td>\n",
              "      <td>EWR</td>\n",
              "      <td>Newark Airport, EWR</td>\n",
              "    </tr>\n",
              "    <tr>\n",
              "      <th>1</th>\n",
              "      <td>2</td>\n",
              "      <td>Queens</td>\n",
              "      <td>Jamaica Bay</td>\n",
              "      <td>Boro Zone</td>\n",
              "      <td>Jamaica Bay, Queens</td>\n",
              "    </tr>\n",
              "    <tr>\n",
              "      <th>2</th>\n",
              "      <td>3</td>\n",
              "      <td>Bronx</td>\n",
              "      <td>Allerton/Pelham Gardens</td>\n",
              "      <td>Boro Zone</td>\n",
              "      <td>Allerton/Pelham Gardens, Bronx</td>\n",
              "    </tr>\n",
              "    <tr>\n",
              "      <th>3</th>\n",
              "      <td>4</td>\n",
              "      <td>Manhattan</td>\n",
              "      <td>Alphabet City</td>\n",
              "      <td>Yellow Zone</td>\n",
              "      <td>Alphabet City, Manhattan</td>\n",
              "    </tr>\n",
              "    <tr>\n",
              "      <th>4</th>\n",
              "      <td>5</td>\n",
              "      <td>Staten Island</td>\n",
              "      <td>Arden Heights</td>\n",
              "      <td>Boro Zone</td>\n",
              "      <td>Arden Heights, Staten Island</td>\n",
              "    </tr>\n",
              "    <tr>\n",
              "      <th>...</th>\n",
              "      <td>...</td>\n",
              "      <td>...</td>\n",
              "      <td>...</td>\n",
              "      <td>...</td>\n",
              "      <td>...</td>\n",
              "    </tr>\n",
              "    <tr>\n",
              "      <th>260</th>\n",
              "      <td>261</td>\n",
              "      <td>Manhattan</td>\n",
              "      <td>World Trade Center</td>\n",
              "      <td>Yellow Zone</td>\n",
              "      <td>World Trade Center, Manhattan</td>\n",
              "    </tr>\n",
              "    <tr>\n",
              "      <th>261</th>\n",
              "      <td>262</td>\n",
              "      <td>Manhattan</td>\n",
              "      <td>Yorkville East</td>\n",
              "      <td>Yellow Zone</td>\n",
              "      <td>Yorkville East, Manhattan</td>\n",
              "    </tr>\n",
              "    <tr>\n",
              "      <th>262</th>\n",
              "      <td>263</td>\n",
              "      <td>Manhattan</td>\n",
              "      <td>Yorkville West</td>\n",
              "      <td>Yellow Zone</td>\n",
              "      <td>Yorkville West, Manhattan</td>\n",
              "    </tr>\n",
              "    <tr>\n",
              "      <th>263</th>\n",
              "      <td>264</td>\n",
              "      <td>Unknown</td>\n",
              "      <td>NV</td>\n",
              "      <td>NaN</td>\n",
              "      <td>NV, Unknown</td>\n",
              "    </tr>\n",
              "    <tr>\n",
              "      <th>264</th>\n",
              "      <td>265</td>\n",
              "      <td>Unknown</td>\n",
              "      <td>NaN</td>\n",
              "      <td>NaN</td>\n",
              "      <td>NaN</td>\n",
              "    </tr>\n",
              "  </tbody>\n",
              "</table>\n",
              "<p>265 rows × 5 columns</p>\n",
              "</div>\n",
              "      <button class=\"colab-df-convert\" onclick=\"convertToInteractive('df-b636255d-294d-45e3-b60f-2230b2dc527c')\"\n",
              "              title=\"Convert this dataframe to an interactive table.\"\n",
              "              style=\"display:none;\">\n",
              "        \n",
              "  <svg xmlns=\"http://www.w3.org/2000/svg\" height=\"24px\"viewBox=\"0 0 24 24\"\n",
              "       width=\"24px\">\n",
              "    <path d=\"M0 0h24v24H0V0z\" fill=\"none\"/>\n",
              "    <path d=\"M18.56 5.44l.94 2.06.94-2.06 2.06-.94-2.06-.94-.94-2.06-.94 2.06-2.06.94zm-11 1L8.5 8.5l.94-2.06 2.06-.94-2.06-.94L8.5 2.5l-.94 2.06-2.06.94zm10 10l.94 2.06.94-2.06 2.06-.94-2.06-.94-.94-2.06-.94 2.06-2.06.94z\"/><path d=\"M17.41 7.96l-1.37-1.37c-.4-.4-.92-.59-1.43-.59-.52 0-1.04.2-1.43.59L10.3 9.45l-7.72 7.72c-.78.78-.78 2.05 0 2.83L4 21.41c.39.39.9.59 1.41.59.51 0 1.02-.2 1.41-.59l7.78-7.78 2.81-2.81c.8-.78.8-2.07 0-2.86zM5.41 20L4 18.59l7.72-7.72 1.47 1.35L5.41 20z\"/>\n",
              "  </svg>\n",
              "      </button>\n",
              "      \n",
              "  <style>\n",
              "    .colab-df-container {\n",
              "      display:flex;\n",
              "      flex-wrap:wrap;\n",
              "      gap: 12px;\n",
              "    }\n",
              "\n",
              "    .colab-df-convert {\n",
              "      background-color: #E8F0FE;\n",
              "      border: none;\n",
              "      border-radius: 50%;\n",
              "      cursor: pointer;\n",
              "      display: none;\n",
              "      fill: #1967D2;\n",
              "      height: 32px;\n",
              "      padding: 0 0 0 0;\n",
              "      width: 32px;\n",
              "    }\n",
              "\n",
              "    .colab-df-convert:hover {\n",
              "      background-color: #E2EBFA;\n",
              "      box-shadow: 0px 1px 2px rgba(60, 64, 67, 0.3), 0px 1px 3px 1px rgba(60, 64, 67, 0.15);\n",
              "      fill: #174EA6;\n",
              "    }\n",
              "\n",
              "    [theme=dark] .colab-df-convert {\n",
              "      background-color: #3B4455;\n",
              "      fill: #D2E3FC;\n",
              "    }\n",
              "\n",
              "    [theme=dark] .colab-df-convert:hover {\n",
              "      background-color: #434B5C;\n",
              "      box-shadow: 0px 1px 3px 1px rgba(0, 0, 0, 0.15);\n",
              "      filter: drop-shadow(0px 1px 2px rgba(0, 0, 0, 0.3));\n",
              "      fill: #FFFFFF;\n",
              "    }\n",
              "  </style>\n",
              "\n",
              "      <script>\n",
              "        const buttonEl =\n",
              "          document.querySelector('#df-b636255d-294d-45e3-b60f-2230b2dc527c button.colab-df-convert');\n",
              "        buttonEl.style.display =\n",
              "          google.colab.kernel.accessAllowed ? 'block' : 'none';\n",
              "\n",
              "        async function convertToInteractive(key) {\n",
              "          const element = document.querySelector('#df-b636255d-294d-45e3-b60f-2230b2dc527c');\n",
              "          const dataTable =\n",
              "            await google.colab.kernel.invokeFunction('convertToInteractive',\n",
              "                                                     [key], {});\n",
              "          if (!dataTable) return;\n",
              "\n",
              "          const docLinkHtml = 'Like what you see? Visit the ' +\n",
              "            '<a target=\"_blank\" href=https://colab.research.google.com/notebooks/data_table.ipynb>data table notebook</a>'\n",
              "            + ' to learn more about interactive tables.';\n",
              "          element.innerHTML = '';\n",
              "          dataTable['output_type'] = 'display_data';\n",
              "          await google.colab.output.renderOutput(dataTable, element);\n",
              "          const docLink = document.createElement('div');\n",
              "          docLink.innerHTML = docLinkHtml;\n",
              "          element.appendChild(docLink);\n",
              "        }\n",
              "      </script>\n",
              "    </div>\n",
              "  </div>\n",
              "  "
            ]
          },
          "metadata": {},
          "execution_count": 30
        }
      ],
      "source": [
        "zone_df"
      ]
    },
    {
      "cell_type": "code",
      "execution_count": 31,
      "metadata": {
        "id": "e0wDYgV2llOz"
      },
      "outputs": [],
      "source": [
        "zone_df.set_index('LocationID', inplace=True)"
      ]
    },
    {
      "cell_type": "code",
      "execution_count": 32,
      "metadata": {
        "id": "dlpeYXn-llOz"
      },
      "outputs": [],
      "source": [
        "id_location_map = zone_df['LocationName'].T.to_dict()"
      ]
    },
    {
      "cell_type": "code",
      "execution_count": 33,
      "metadata": {
        "id": "fdiJWxAbllOz"
      },
      "outputs": [],
      "source": [
        "df['PULocationName'] = df['PULocation'].map(id_location_map)"
      ]
    },
    {
      "cell_type": "code",
      "execution_count": 34,
      "metadata": {
        "id": "5QJr2-8qllOz"
      },
      "outputs": [],
      "source": [
        "df['DOLocationName'] = df['DOLocation'].map(id_location_map)"
      ]
    },
    {
      "cell_type": "code",
      "execution_count": 35,
      "metadata": {
        "colab": {
          "base_uri": "https://localhost:8080/",
          "height": 0
        },
        "id": "KrQKQfclllOz",
        "outputId": "d992b788-7252-4ed7-c498-e4b9fea82908"
      },
      "outputs": [
        {
          "output_type": "execute_result",
          "data": {
            "text/plain": [
              "          taxi_company    request_datetime     pickup_datetime  \\\n",
              "0                    0 2022-06-01 00:15:35 2022-06-01 00:17:41   \n",
              "1                    0 2022-06-01 00:39:04 2022-06-01 00:42:37   \n",
              "2                    0 2022-06-01 00:27:53 2022-06-01 00:36:22   \n",
              "3                    0 2022-06-01 00:48:15 2022-06-01 00:51:18   \n",
              "4                    1 2022-06-01 00:04:51 2022-06-01 00:13:33   \n",
              "...                ...                 ...                 ...   \n",
              "17780070             0 2022-06-30 23:20:49 2022-06-30 23:24:43   \n",
              "17780071             0 2022-06-30 23:36:13 2022-06-30 23:39:20   \n",
              "17780072             0 2022-06-30 23:50:50 2022-06-30 23:57:12   \n",
              "17780073             0 2022-06-30 23:02:40 2022-06-30 23:06:44   \n",
              "17780074             1 2022-06-30 23:00:28 2022-06-30 23:03:06   \n",
              "\n",
              "            dropoff_datetime  PULocation  DOLocation  trip_miles  trip_time  \\\n",
              "0        2022-06-01 00:25:41         234         114       1.500        480   \n",
              "1        2022-06-01 00:56:32         161         151       4.180        835   \n",
              "2        2022-06-01 00:45:31         231          87       2.910        549   \n",
              "3        2022-06-01 01:11:15          87         225       5.450       1197   \n",
              "4        2022-06-01 00:17:27         137         162       1.069        234   \n",
              "...                      ...         ...         ...         ...        ...   \n",
              "17780070 2022-06-30 23:38:19          74         224       6.070        816   \n",
              "17780071 2022-06-30 23:51:10         224          13       4.900        710   \n",
              "17780072 2022-07-01 00:07:07         231         231       0.530        595   \n",
              "17780073 2022-06-30 23:26:28         234          48       2.850       1184   \n",
              "17780074 2022-06-30 23:18:13         244         242       6.207        907   \n",
              "\n",
              "          base_passenger_fare  tips  driver_pay  taxi_company_name  \\\n",
              "0                        7.68  1.00        9.36                  0   \n",
              "1                       20.40  4.82       15.61                  0   \n",
              "2                       12.29  1.00        8.22                  0   \n",
              "3                       24.70  0.00       16.88                  0   \n",
              "4                        8.23  0.00        5.47                  1   \n",
              "...                       ...   ...         ...                ...   \n",
              "17780070                17.60  2.24       16.23                  0   \n",
              "17780071                17.93  0.00       13.94                  0   \n",
              "17780072                11.98  3.00       18.46                  0   \n",
              "17780073                31.47  1.00       27.27                  0   \n",
              "17780074                20.28  0.00       15.26                  1   \n",
              "\n",
              "                                     PULocationName  \\\n",
              "0                               Union Sq, Manhattan   \n",
              "1                         Midtown Center, Manhattan   \n",
              "2                   TriBeCa/Civic Center, Manhattan   \n",
              "3               Financial District North, Manhattan   \n",
              "4                               Kips Bay, Manhattan   \n",
              "...                                             ...   \n",
              "17780070               East Harlem North, Manhattan   \n",
              "17780071  Stuy Town/Peter Cooper Village, Manhattan   \n",
              "17780072            TriBeCa/Civic Center, Manhattan   \n",
              "17780073                        Union Sq, Manhattan   \n",
              "17780074        Washington Heights South, Manhattan   \n",
              "\n",
              "                                     DOLocationName  \n",
              "0                Greenwich Village South, Manhattan  \n",
              "1                       Manhattan Valley, Manhattan  \n",
              "2               Financial District North, Manhattan  \n",
              "3                      Stuyvesant Heights, Brooklyn  \n",
              "4                           Midtown East, Manhattan  \n",
              "...                                             ...  \n",
              "17780070  Stuy Town/Peter Cooper Village, Manhattan  \n",
              "17780071               Battery Park City, Manhattan  \n",
              "17780072            TriBeCa/Civic Center, Manhattan  \n",
              "17780073                    Clinton East, Manhattan  \n",
              "17780074                Van Nest/Morris Park, Bronx  \n",
              "\n",
              "[17007449 rows x 14 columns]"
            ],
            "text/html": [
              "\n",
              "  <div id=\"df-3e9aae86-d290-4437-a9a6-e7b7ada1adc3\">\n",
              "    <div class=\"colab-df-container\">\n",
              "      <div>\n",
              "<style scoped>\n",
              "    .dataframe tbody tr th:only-of-type {\n",
              "        vertical-align: middle;\n",
              "    }\n",
              "\n",
              "    .dataframe tbody tr th {\n",
              "        vertical-align: top;\n",
              "    }\n",
              "\n",
              "    .dataframe thead th {\n",
              "        text-align: right;\n",
              "    }\n",
              "</style>\n",
              "<table border=\"1\" class=\"dataframe\">\n",
              "  <thead>\n",
              "    <tr style=\"text-align: right;\">\n",
              "      <th></th>\n",
              "      <th>taxi_company</th>\n",
              "      <th>request_datetime</th>\n",
              "      <th>pickup_datetime</th>\n",
              "      <th>dropoff_datetime</th>\n",
              "      <th>PULocation</th>\n",
              "      <th>DOLocation</th>\n",
              "      <th>trip_miles</th>\n",
              "      <th>trip_time</th>\n",
              "      <th>base_passenger_fare</th>\n",
              "      <th>tips</th>\n",
              "      <th>driver_pay</th>\n",
              "      <th>taxi_company_name</th>\n",
              "      <th>PULocationName</th>\n",
              "      <th>DOLocationName</th>\n",
              "    </tr>\n",
              "  </thead>\n",
              "  <tbody>\n",
              "    <tr>\n",
              "      <th>0</th>\n",
              "      <td>0</td>\n",
              "      <td>2022-06-01 00:15:35</td>\n",
              "      <td>2022-06-01 00:17:41</td>\n",
              "      <td>2022-06-01 00:25:41</td>\n",
              "      <td>234</td>\n",
              "      <td>114</td>\n",
              "      <td>1.500</td>\n",
              "      <td>480</td>\n",
              "      <td>7.68</td>\n",
              "      <td>1.00</td>\n",
              "      <td>9.36</td>\n",
              "      <td>0</td>\n",
              "      <td>Union Sq, Manhattan</td>\n",
              "      <td>Greenwich Village South, Manhattan</td>\n",
              "    </tr>\n",
              "    <tr>\n",
              "      <th>1</th>\n",
              "      <td>0</td>\n",
              "      <td>2022-06-01 00:39:04</td>\n",
              "      <td>2022-06-01 00:42:37</td>\n",
              "      <td>2022-06-01 00:56:32</td>\n",
              "      <td>161</td>\n",
              "      <td>151</td>\n",
              "      <td>4.180</td>\n",
              "      <td>835</td>\n",
              "      <td>20.40</td>\n",
              "      <td>4.82</td>\n",
              "      <td>15.61</td>\n",
              "      <td>0</td>\n",
              "      <td>Midtown Center, Manhattan</td>\n",
              "      <td>Manhattan Valley, Manhattan</td>\n",
              "    </tr>\n",
              "    <tr>\n",
              "      <th>2</th>\n",
              "      <td>0</td>\n",
              "      <td>2022-06-01 00:27:53</td>\n",
              "      <td>2022-06-01 00:36:22</td>\n",
              "      <td>2022-06-01 00:45:31</td>\n",
              "      <td>231</td>\n",
              "      <td>87</td>\n",
              "      <td>2.910</td>\n",
              "      <td>549</td>\n",
              "      <td>12.29</td>\n",
              "      <td>1.00</td>\n",
              "      <td>8.22</td>\n",
              "      <td>0</td>\n",
              "      <td>TriBeCa/Civic Center, Manhattan</td>\n",
              "      <td>Financial District North, Manhattan</td>\n",
              "    </tr>\n",
              "    <tr>\n",
              "      <th>3</th>\n",
              "      <td>0</td>\n",
              "      <td>2022-06-01 00:48:15</td>\n",
              "      <td>2022-06-01 00:51:18</td>\n",
              "      <td>2022-06-01 01:11:15</td>\n",
              "      <td>87</td>\n",
              "      <td>225</td>\n",
              "      <td>5.450</td>\n",
              "      <td>1197</td>\n",
              "      <td>24.70</td>\n",
              "      <td>0.00</td>\n",
              "      <td>16.88</td>\n",
              "      <td>0</td>\n",
              "      <td>Financial District North, Manhattan</td>\n",
              "      <td>Stuyvesant Heights, Brooklyn</td>\n",
              "    </tr>\n",
              "    <tr>\n",
              "      <th>4</th>\n",
              "      <td>1</td>\n",
              "      <td>2022-06-01 00:04:51</td>\n",
              "      <td>2022-06-01 00:13:33</td>\n",
              "      <td>2022-06-01 00:17:27</td>\n",
              "      <td>137</td>\n",
              "      <td>162</td>\n",
              "      <td>1.069</td>\n",
              "      <td>234</td>\n",
              "      <td>8.23</td>\n",
              "      <td>0.00</td>\n",
              "      <td>5.47</td>\n",
              "      <td>1</td>\n",
              "      <td>Kips Bay, Manhattan</td>\n",
              "      <td>Midtown East, Manhattan</td>\n",
              "    </tr>\n",
              "    <tr>\n",
              "      <th>...</th>\n",
              "      <td>...</td>\n",
              "      <td>...</td>\n",
              "      <td>...</td>\n",
              "      <td>...</td>\n",
              "      <td>...</td>\n",
              "      <td>...</td>\n",
              "      <td>...</td>\n",
              "      <td>...</td>\n",
              "      <td>...</td>\n",
              "      <td>...</td>\n",
              "      <td>...</td>\n",
              "      <td>...</td>\n",
              "      <td>...</td>\n",
              "      <td>...</td>\n",
              "    </tr>\n",
              "    <tr>\n",
              "      <th>17780070</th>\n",
              "      <td>0</td>\n",
              "      <td>2022-06-30 23:20:49</td>\n",
              "      <td>2022-06-30 23:24:43</td>\n",
              "      <td>2022-06-30 23:38:19</td>\n",
              "      <td>74</td>\n",
              "      <td>224</td>\n",
              "      <td>6.070</td>\n",
              "      <td>816</td>\n",
              "      <td>17.60</td>\n",
              "      <td>2.24</td>\n",
              "      <td>16.23</td>\n",
              "      <td>0</td>\n",
              "      <td>East Harlem North, Manhattan</td>\n",
              "      <td>Stuy Town/Peter Cooper Village, Manhattan</td>\n",
              "    </tr>\n",
              "    <tr>\n",
              "      <th>17780071</th>\n",
              "      <td>0</td>\n",
              "      <td>2022-06-30 23:36:13</td>\n",
              "      <td>2022-06-30 23:39:20</td>\n",
              "      <td>2022-06-30 23:51:10</td>\n",
              "      <td>224</td>\n",
              "      <td>13</td>\n",
              "      <td>4.900</td>\n",
              "      <td>710</td>\n",
              "      <td>17.93</td>\n",
              "      <td>0.00</td>\n",
              "      <td>13.94</td>\n",
              "      <td>0</td>\n",
              "      <td>Stuy Town/Peter Cooper Village, Manhattan</td>\n",
              "      <td>Battery Park City, Manhattan</td>\n",
              "    </tr>\n",
              "    <tr>\n",
              "      <th>17780072</th>\n",
              "      <td>0</td>\n",
              "      <td>2022-06-30 23:50:50</td>\n",
              "      <td>2022-06-30 23:57:12</td>\n",
              "      <td>2022-07-01 00:07:07</td>\n",
              "      <td>231</td>\n",
              "      <td>231</td>\n",
              "      <td>0.530</td>\n",
              "      <td>595</td>\n",
              "      <td>11.98</td>\n",
              "      <td>3.00</td>\n",
              "      <td>18.46</td>\n",
              "      <td>0</td>\n",
              "      <td>TriBeCa/Civic Center, Manhattan</td>\n",
              "      <td>TriBeCa/Civic Center, Manhattan</td>\n",
              "    </tr>\n",
              "    <tr>\n",
              "      <th>17780073</th>\n",
              "      <td>0</td>\n",
              "      <td>2022-06-30 23:02:40</td>\n",
              "      <td>2022-06-30 23:06:44</td>\n",
              "      <td>2022-06-30 23:26:28</td>\n",
              "      <td>234</td>\n",
              "      <td>48</td>\n",
              "      <td>2.850</td>\n",
              "      <td>1184</td>\n",
              "      <td>31.47</td>\n",
              "      <td>1.00</td>\n",
              "      <td>27.27</td>\n",
              "      <td>0</td>\n",
              "      <td>Union Sq, Manhattan</td>\n",
              "      <td>Clinton East, Manhattan</td>\n",
              "    </tr>\n",
              "    <tr>\n",
              "      <th>17780074</th>\n",
              "      <td>1</td>\n",
              "      <td>2022-06-30 23:00:28</td>\n",
              "      <td>2022-06-30 23:03:06</td>\n",
              "      <td>2022-06-30 23:18:13</td>\n",
              "      <td>244</td>\n",
              "      <td>242</td>\n",
              "      <td>6.207</td>\n",
              "      <td>907</td>\n",
              "      <td>20.28</td>\n",
              "      <td>0.00</td>\n",
              "      <td>15.26</td>\n",
              "      <td>1</td>\n",
              "      <td>Washington Heights South, Manhattan</td>\n",
              "      <td>Van Nest/Morris Park, Bronx</td>\n",
              "    </tr>\n",
              "  </tbody>\n",
              "</table>\n",
              "<p>17007449 rows × 14 columns</p>\n",
              "</div>\n",
              "      <button class=\"colab-df-convert\" onclick=\"convertToInteractive('df-3e9aae86-d290-4437-a9a6-e7b7ada1adc3')\"\n",
              "              title=\"Convert this dataframe to an interactive table.\"\n",
              "              style=\"display:none;\">\n",
              "        \n",
              "  <svg xmlns=\"http://www.w3.org/2000/svg\" height=\"24px\"viewBox=\"0 0 24 24\"\n",
              "       width=\"24px\">\n",
              "    <path d=\"M0 0h24v24H0V0z\" fill=\"none\"/>\n",
              "    <path d=\"M18.56 5.44l.94 2.06.94-2.06 2.06-.94-2.06-.94-.94-2.06-.94 2.06-2.06.94zm-11 1L8.5 8.5l.94-2.06 2.06-.94-2.06-.94L8.5 2.5l-.94 2.06-2.06.94zm10 10l.94 2.06.94-2.06 2.06-.94-2.06-.94-.94-2.06-.94 2.06-2.06.94z\"/><path d=\"M17.41 7.96l-1.37-1.37c-.4-.4-.92-.59-1.43-.59-.52 0-1.04.2-1.43.59L10.3 9.45l-7.72 7.72c-.78.78-.78 2.05 0 2.83L4 21.41c.39.39.9.59 1.41.59.51 0 1.02-.2 1.41-.59l7.78-7.78 2.81-2.81c.8-.78.8-2.07 0-2.86zM5.41 20L4 18.59l7.72-7.72 1.47 1.35L5.41 20z\"/>\n",
              "  </svg>\n",
              "      </button>\n",
              "      \n",
              "  <style>\n",
              "    .colab-df-container {\n",
              "      display:flex;\n",
              "      flex-wrap:wrap;\n",
              "      gap: 12px;\n",
              "    }\n",
              "\n",
              "    .colab-df-convert {\n",
              "      background-color: #E8F0FE;\n",
              "      border: none;\n",
              "      border-radius: 50%;\n",
              "      cursor: pointer;\n",
              "      display: none;\n",
              "      fill: #1967D2;\n",
              "      height: 32px;\n",
              "      padding: 0 0 0 0;\n",
              "      width: 32px;\n",
              "    }\n",
              "\n",
              "    .colab-df-convert:hover {\n",
              "      background-color: #E2EBFA;\n",
              "      box-shadow: 0px 1px 2px rgba(60, 64, 67, 0.3), 0px 1px 3px 1px rgba(60, 64, 67, 0.15);\n",
              "      fill: #174EA6;\n",
              "    }\n",
              "\n",
              "    [theme=dark] .colab-df-convert {\n",
              "      background-color: #3B4455;\n",
              "      fill: #D2E3FC;\n",
              "    }\n",
              "\n",
              "    [theme=dark] .colab-df-convert:hover {\n",
              "      background-color: #434B5C;\n",
              "      box-shadow: 0px 1px 3px 1px rgba(0, 0, 0, 0.15);\n",
              "      filter: drop-shadow(0px 1px 2px rgba(0, 0, 0, 0.3));\n",
              "      fill: #FFFFFF;\n",
              "    }\n",
              "  </style>\n",
              "\n",
              "      <script>\n",
              "        const buttonEl =\n",
              "          document.querySelector('#df-3e9aae86-d290-4437-a9a6-e7b7ada1adc3 button.colab-df-convert');\n",
              "        buttonEl.style.display =\n",
              "          google.colab.kernel.accessAllowed ? 'block' : 'none';\n",
              "\n",
              "        async function convertToInteractive(key) {\n",
              "          const element = document.querySelector('#df-3e9aae86-d290-4437-a9a6-e7b7ada1adc3');\n",
              "          const dataTable =\n",
              "            await google.colab.kernel.invokeFunction('convertToInteractive',\n",
              "                                                     [key], {});\n",
              "          if (!dataTable) return;\n",
              "\n",
              "          const docLinkHtml = 'Like what you see? Visit the ' +\n",
              "            '<a target=\"_blank\" href=https://colab.research.google.com/notebooks/data_table.ipynb>data table notebook</a>'\n",
              "            + ' to learn more about interactive tables.';\n",
              "          element.innerHTML = '';\n",
              "          dataTable['output_type'] = 'display_data';\n",
              "          await google.colab.output.renderOutput(dataTable, element);\n",
              "          const docLink = document.createElement('div');\n",
              "          docLink.innerHTML = docLinkHtml;\n",
              "          element.appendChild(docLink);\n",
              "        }\n",
              "      </script>\n",
              "    </div>\n",
              "  </div>\n",
              "  "
            ]
          },
          "metadata": {},
          "execution_count": 35
        }
      ],
      "source": [
        "df"
      ]
    },
    {
      "cell_type": "markdown",
      "metadata": {
        "id": "G6ns_y0tllOz"
      },
      "source": [
        "### Data Cleaning/Processing - 7\n",
        "- Each trip has different number of miles, time taken and the final price\n",
        "- To compare the prices among different trips, a new column called \"fare_per_mile_per_second\" is created which is obtained by dividing the \"base_passenger_fare\" by the \"trip_miles\" and \"trip_time\""
      ]
    },
    {
      "cell_type": "code",
      "execution_count": 36,
      "metadata": {
        "id": "p-PVYbGtllOz"
      },
      "outputs": [],
      "source": [
        "df['fare_per_mile_per_second'] = df['base_passenger_fare']/(df['trip_miles']*df['trip_time'])"
      ]
    },
    {
      "cell_type": "markdown",
      "metadata": {
        "id": "AyMsAPd5llOz"
      },
      "source": [
        "### Data Cleaning/Processing - 8\n",
        "- Create a new dataframe grouped by \"taxi_company\".\n",
        "- This will be used to perform various analysis and compare results between different taxi companies. (Uber and Lyft)"
      ]
    },
    {
      "cell_type": "code",
      "execution_count": 37,
      "metadata": {
        "id": "k9i0AsSfllOz"
      },
      "outputs": [],
      "source": [
        "taxi_grp_df = df.groupby(['taxi_company'])"
      ]
    },
    {
      "cell_type": "markdown",
      "metadata": {
        "id": "adZp7ZwpllOz"
      },
      "source": [
        "\"plot_bar\" function to plot bar chart"
      ]
    },
    {
      "cell_type": "code",
      "execution_count": 38,
      "metadata": {
        "id": "UjnoekiOllOz"
      },
      "outputs": [],
      "source": [
        "def plot_bar(obj):\n",
        "    obj.plot(kind='bar', title=obj.name, legend=True)"
      ]
    },
    {
      "cell_type": "markdown",
      "metadata": {
        "id": "RFFL-6LWllOz"
      },
      "source": [
        "### Data Cleaning/Processing - 9\n",
        "- Extract the hour from the given date time column for Request, Pickup and Dropoff\n",
        "- This is used to analyse the trips during different times of day"
      ]
    },
    {
      "cell_type": "code",
      "execution_count": 39,
      "metadata": {
        "id": "ogC9zwx0llOz",
        "scrolled": true
      },
      "outputs": [],
      "source": [
        "df['request_hour'] = df['request_datetime'].dt.hour\n",
        "df['pickup_hour'] = df['pickup_datetime'].dt.hour\n",
        "df['dropoff_hour'] = df['dropoff_datetime'].dt.hour"
      ]
    },
    {
      "cell_type": "code",
      "execution_count": 40,
      "metadata": {
        "id": "3ZLeXHgYllO0"
      },
      "outputs": [],
      "source": [
        "def plot_hist(df, series, remove_extremes=True):\n",
        "    max_value = df[series].quantile(0.99)\n",
        "    if remove_extremes:\n",
        "        df = df[df[series] < max_value]\n",
        "        df = df[df[series] > 0]\n",
        "    df[series].hist(bins=range(int(max_value)), legend=True)"
      ]
    },
    {
      "cell_type": "markdown",
      "metadata": {
        "id": "DRUeHlkdllO0"
      },
      "source": [
        "### Data Cleaning/Processing - 10\n",
        "- Create a new column \"driver_percent_in_fare\" to analyse the driver's pay as a percentage of the \"base_passenger_fare\"\n",
        "- This is used later to understand how much of a profit margin Taxi companies are targetting to achieve. This profit margin directly effects the price passengers pay."
      ]
    },
    {
      "cell_type": "code",
      "execution_count": 41,
      "metadata": {
        "id": "Cs56qTXRllO0"
      },
      "outputs": [],
      "source": [
        "df['driver_percent_in_fare'] = df['driver_pay']/df['base_passenger_fare']*100"
      ]
    },
    {
      "cell_type": "markdown",
      "metadata": {
        "id": "E9l5aDo0llO0"
      },
      "source": [
        "Seaborn plot utility functions for histogram and bar charts (Used for plotting grouped by data)"
      ]
    },
    {
      "cell_type": "code",
      "execution_count": 42,
      "metadata": {
        "id": "Q-lCcdAmllO0"
      },
      "outputs": [],
      "source": [
        "def plot_sns_grp_hist(grp_df, x, hue):\n",
        "    ax = sns.histplot(grp_df, x=x, hue=hue, multiple='stack')\n",
        "    ax.set(xlim=(0, grp_df[x].quantile(0.99)))"
      ]
    },
    {
      "cell_type": "code",
      "execution_count": 43,
      "metadata": {
        "id": "zfycDZHellO0"
      },
      "outputs": [],
      "source": [
        "def plot_sns_grp_bar(grp_df, x, hue):\n",
        "    ax = sns.barplot(grp_df, x=x, hue=hue, multiple='stack')\n",
        "    ax.set(xlim=(0, grp_df[x].quantile(0.99)))"
      ]
    },
    {
      "cell_type": "markdown",
      "metadata": {
        "id": "8RTo0h6fllO0"
      },
      "source": [
        "Utility functions to remove outliers, normalize column data using mean-std.dev or min-max procedures"
      ]
    },
    {
      "cell_type": "code",
      "execution_count": 44,
      "metadata": {
        "id": "jQKTlHIBllO0"
      },
      "outputs": [],
      "source": [
        "def remove_outliers(df, column):\n",
        "    min_value = df[column].quantile(0.01)\n",
        "    max_value = df[column].quantile(0.99)\n",
        "    df = df[df[column] < max_value]\n",
        "    df = df[df[column] > min_value]"
      ]
    },
    {
      "cell_type": "code",
      "execution_count": 45,
      "metadata": {
        "id": "EmDSSJNLllO0"
      },
      "outputs": [],
      "source": [
        "def mean_std_norm(df, column):\n",
        "    meanv = df[column].mean()\n",
        "    stdv = df[column].std()\n",
        "    df[column] = (df[column] - meanv)/stdv\n",
        "    df[column] += 1\n",
        "    df[column] /= 2"
      ]
    },
    {
      "cell_type": "code",
      "execution_count": 46,
      "metadata": {
        "id": "ONeadfJ6llO0"
      },
      "outputs": [],
      "source": [
        "def min_max_norm(df, column):\n",
        "    minv = df[column].min()\n",
        "    maxv = df[column].max()\n",
        "    df[column] = 100*(df[column] - minv)/(maxv - minv)"
      ]
    },
    {
      "cell_type": "code",
      "execution_count": 47,
      "metadata": {
        "id": "znhU46qqllO0"
      },
      "outputs": [],
      "source": [
        "# Used later\n",
        "# remove_outliers(df, 'fare_per_mile_per_second')\n",
        "# min_max_norm(df, 'fare_per_mile_per_second')"
      ]
    },
    {
      "cell_type": "markdown",
      "metadata": {
        "id": "7kKS3ovbllO0"
      },
      "source": [
        "### Data Cleaning/Processing - 11\n",
        "- In order to understand the true cost of each trip and the driver profits after deducting their gas cost, new columns like \"driver_expenditure\", \"driver_profit\" and \"taxi_company_profit\" are created.\n",
        "- This is used in later phases to predict the base fare and how little or more the taxi company can charge the passenger and still end up in profit.\n",
        "- Average mileage and gas price for the month are hyperparameters. We can choose the value according to the car type and gas prices"
      ]
    },
    {
      "cell_type": "code",
      "execution_count": 48,
      "metadata": {
        "id": "1Vi2sXQtllO0"
      },
      "outputs": [],
      "source": [
        "mpg = 20 # average miles per gallon\n",
        "pg = 5.56 # NYC gas price in June 2022\n",
        "df['driver_expenditure'] = (df['trip_miles']/mpg)*pg\n",
        "df['driver_profit'] = df['driver_pay'] - df['driver_expenditure']\n",
        "df['taxi_company_profit'] = df['base_passenger_fare'] - df['driver_pay']"
      ]
    },
    {
      "cell_type": "markdown",
      "metadata": {
        "id": "RaaKZT4t-AqG"
      },
      "source": [
        "## Phase 2 begins"
      ]
    },
    {
      "cell_type": "markdown",
      "metadata": {
        "id": "rYFa_x-FllO0"
      },
      "source": [
        "## Machine Learning models to predict fare\n",
        "(June 2022 Data, For Hire High Volume Vehicles only. Ex: Uber, Lyft)"
      ]
    },
    {
      "cell_type": "code",
      "execution_count": 49,
      "metadata": {
        "colab": {
          "base_uri": "https://localhost:8080/",
          "height": 713
        },
        "id": "R0lke2BOllO1",
        "outputId": "7e546f37-dc54-4813-d5c4-1529b0dacbda"
      },
      "outputs": [
        {
          "output_type": "execute_result",
          "data": {
            "text/plain": [
              "          taxi_company    request_datetime     pickup_datetime  \\\n",
              "0                    0 2022-06-01 00:15:35 2022-06-01 00:17:41   \n",
              "1                    0 2022-06-01 00:39:04 2022-06-01 00:42:37   \n",
              "2                    0 2022-06-01 00:27:53 2022-06-01 00:36:22   \n",
              "3                    0 2022-06-01 00:48:15 2022-06-01 00:51:18   \n",
              "4                    1 2022-06-01 00:04:51 2022-06-01 00:13:33   \n",
              "...                ...                 ...                 ...   \n",
              "17780070             0 2022-06-30 23:20:49 2022-06-30 23:24:43   \n",
              "17780071             0 2022-06-30 23:36:13 2022-06-30 23:39:20   \n",
              "17780072             0 2022-06-30 23:50:50 2022-06-30 23:57:12   \n",
              "17780073             0 2022-06-30 23:02:40 2022-06-30 23:06:44   \n",
              "17780074             1 2022-06-30 23:00:28 2022-06-30 23:03:06   \n",
              "\n",
              "            dropoff_datetime  PULocation  DOLocation  trip_miles  trip_time  \\\n",
              "0        2022-06-01 00:25:41         234         114       1.500        480   \n",
              "1        2022-06-01 00:56:32         161         151       4.180        835   \n",
              "2        2022-06-01 00:45:31         231          87       2.910        549   \n",
              "3        2022-06-01 01:11:15          87         225       5.450       1197   \n",
              "4        2022-06-01 00:17:27         137         162       1.069        234   \n",
              "...                      ...         ...         ...         ...        ...   \n",
              "17780070 2022-06-30 23:38:19          74         224       6.070        816   \n",
              "17780071 2022-06-30 23:51:10         224          13       4.900        710   \n",
              "17780072 2022-07-01 00:07:07         231         231       0.530        595   \n",
              "17780073 2022-06-30 23:26:28         234          48       2.850       1184   \n",
              "17780074 2022-06-30 23:18:13         244         242       6.207        907   \n",
              "\n",
              "          base_passenger_fare  tips  ...  \\\n",
              "0                        7.68  1.00  ...   \n",
              "1                       20.40  4.82  ...   \n",
              "2                       12.29  1.00  ...   \n",
              "3                       24.70  0.00  ...   \n",
              "4                        8.23  0.00  ...   \n",
              "...                       ...   ...  ...   \n",
              "17780070                17.60  2.24  ...   \n",
              "17780071                17.93  0.00  ...   \n",
              "17780072                11.98  3.00  ...   \n",
              "17780073                31.47  1.00  ...   \n",
              "17780074                20.28  0.00  ...   \n",
              "\n",
              "                                     PULocationName  \\\n",
              "0                               Union Sq, Manhattan   \n",
              "1                         Midtown Center, Manhattan   \n",
              "2                   TriBeCa/Civic Center, Manhattan   \n",
              "3               Financial District North, Manhattan   \n",
              "4                               Kips Bay, Manhattan   \n",
              "...                                             ...   \n",
              "17780070               East Harlem North, Manhattan   \n",
              "17780071  Stuy Town/Peter Cooper Village, Manhattan   \n",
              "17780072            TriBeCa/Civic Center, Manhattan   \n",
              "17780073                        Union Sq, Manhattan   \n",
              "17780074        Washington Heights South, Manhattan   \n",
              "\n",
              "                                     DOLocationName fare_per_mile_per_second  \\\n",
              "0                Greenwich Village South, Manhattan                 0.010667   \n",
              "1                       Manhattan Valley, Manhattan                 0.005845   \n",
              "2               Financial District North, Manhattan                 0.007693   \n",
              "3                      Stuyvesant Heights, Brooklyn                 0.003786   \n",
              "4                           Midtown East, Manhattan                 0.032901   \n",
              "...                                             ...                      ...   \n",
              "17780070  Stuy Town/Peter Cooper Village, Manhattan                 0.003553   \n",
              "17780071               Battery Park City, Manhattan                 0.005154   \n",
              "17780072            TriBeCa/Civic Center, Manhattan                 0.037990   \n",
              "17780073                    Clinton East, Manhattan                 0.009326   \n",
              "17780074                Van Nest/Morris Park, Bronx                 0.003602   \n",
              "\n",
              "         request_hour  pickup_hour  dropoff_hour  driver_percent_in_fare  \\\n",
              "0                   0            0             0              121.875000   \n",
              "1                   0            0             0               76.519608   \n",
              "2                   0            0             0               66.883645   \n",
              "3                   0            0             1               68.340081   \n",
              "4                   0            0             0               66.464156   \n",
              "...               ...          ...           ...                     ...   \n",
              "17780070           23           23            23               92.215909   \n",
              "17780071           23           23            23               77.746793   \n",
              "17780072           23           23             0              154.090150   \n",
              "17780073           23           23            23               86.653956   \n",
              "17780074           23           23            23               75.246548   \n",
              "\n",
              "          driver_expenditure  driver_profit  taxi_company_profit  \n",
              "0                   0.417000       8.943000                -1.68  \n",
              "1                   1.162040      14.447960                 4.79  \n",
              "2                   0.808980       7.411020                 4.07  \n",
              "3                   1.515100      15.364900                 7.82  \n",
              "4                   0.297182       5.172818                 2.76  \n",
              "...                      ...            ...                  ...  \n",
              "17780070            1.687460      14.542540                 1.37  \n",
              "17780071            1.362200      12.577800                 3.99  \n",
              "17780072            0.147340      18.312660                -6.48  \n",
              "17780073            0.792300      26.477700                 4.20  \n",
              "17780074            1.725546      13.534454                 5.02  \n",
              "\n",
              "[17007449 rows x 22 columns]"
            ],
            "text/html": [
              "\n",
              "  <div id=\"df-d257c466-eb67-4cd5-8b56-5fedd5ecc1b2\">\n",
              "    <div class=\"colab-df-container\">\n",
              "      <div>\n",
              "<style scoped>\n",
              "    .dataframe tbody tr th:only-of-type {\n",
              "        vertical-align: middle;\n",
              "    }\n",
              "\n",
              "    .dataframe tbody tr th {\n",
              "        vertical-align: top;\n",
              "    }\n",
              "\n",
              "    .dataframe thead th {\n",
              "        text-align: right;\n",
              "    }\n",
              "</style>\n",
              "<table border=\"1\" class=\"dataframe\">\n",
              "  <thead>\n",
              "    <tr style=\"text-align: right;\">\n",
              "      <th></th>\n",
              "      <th>taxi_company</th>\n",
              "      <th>request_datetime</th>\n",
              "      <th>pickup_datetime</th>\n",
              "      <th>dropoff_datetime</th>\n",
              "      <th>PULocation</th>\n",
              "      <th>DOLocation</th>\n",
              "      <th>trip_miles</th>\n",
              "      <th>trip_time</th>\n",
              "      <th>base_passenger_fare</th>\n",
              "      <th>tips</th>\n",
              "      <th>...</th>\n",
              "      <th>PULocationName</th>\n",
              "      <th>DOLocationName</th>\n",
              "      <th>fare_per_mile_per_second</th>\n",
              "      <th>request_hour</th>\n",
              "      <th>pickup_hour</th>\n",
              "      <th>dropoff_hour</th>\n",
              "      <th>driver_percent_in_fare</th>\n",
              "      <th>driver_expenditure</th>\n",
              "      <th>driver_profit</th>\n",
              "      <th>taxi_company_profit</th>\n",
              "    </tr>\n",
              "  </thead>\n",
              "  <tbody>\n",
              "    <tr>\n",
              "      <th>0</th>\n",
              "      <td>0</td>\n",
              "      <td>2022-06-01 00:15:35</td>\n",
              "      <td>2022-06-01 00:17:41</td>\n",
              "      <td>2022-06-01 00:25:41</td>\n",
              "      <td>234</td>\n",
              "      <td>114</td>\n",
              "      <td>1.500</td>\n",
              "      <td>480</td>\n",
              "      <td>7.68</td>\n",
              "      <td>1.00</td>\n",
              "      <td>...</td>\n",
              "      <td>Union Sq, Manhattan</td>\n",
              "      <td>Greenwich Village South, Manhattan</td>\n",
              "      <td>0.010667</td>\n",
              "      <td>0</td>\n",
              "      <td>0</td>\n",
              "      <td>0</td>\n",
              "      <td>121.875000</td>\n",
              "      <td>0.417000</td>\n",
              "      <td>8.943000</td>\n",
              "      <td>-1.68</td>\n",
              "    </tr>\n",
              "    <tr>\n",
              "      <th>1</th>\n",
              "      <td>0</td>\n",
              "      <td>2022-06-01 00:39:04</td>\n",
              "      <td>2022-06-01 00:42:37</td>\n",
              "      <td>2022-06-01 00:56:32</td>\n",
              "      <td>161</td>\n",
              "      <td>151</td>\n",
              "      <td>4.180</td>\n",
              "      <td>835</td>\n",
              "      <td>20.40</td>\n",
              "      <td>4.82</td>\n",
              "      <td>...</td>\n",
              "      <td>Midtown Center, Manhattan</td>\n",
              "      <td>Manhattan Valley, Manhattan</td>\n",
              "      <td>0.005845</td>\n",
              "      <td>0</td>\n",
              "      <td>0</td>\n",
              "      <td>0</td>\n",
              "      <td>76.519608</td>\n",
              "      <td>1.162040</td>\n",
              "      <td>14.447960</td>\n",
              "      <td>4.79</td>\n",
              "    </tr>\n",
              "    <tr>\n",
              "      <th>2</th>\n",
              "      <td>0</td>\n",
              "      <td>2022-06-01 00:27:53</td>\n",
              "      <td>2022-06-01 00:36:22</td>\n",
              "      <td>2022-06-01 00:45:31</td>\n",
              "      <td>231</td>\n",
              "      <td>87</td>\n",
              "      <td>2.910</td>\n",
              "      <td>549</td>\n",
              "      <td>12.29</td>\n",
              "      <td>1.00</td>\n",
              "      <td>...</td>\n",
              "      <td>TriBeCa/Civic Center, Manhattan</td>\n",
              "      <td>Financial District North, Manhattan</td>\n",
              "      <td>0.007693</td>\n",
              "      <td>0</td>\n",
              "      <td>0</td>\n",
              "      <td>0</td>\n",
              "      <td>66.883645</td>\n",
              "      <td>0.808980</td>\n",
              "      <td>7.411020</td>\n",
              "      <td>4.07</td>\n",
              "    </tr>\n",
              "    <tr>\n",
              "      <th>3</th>\n",
              "      <td>0</td>\n",
              "      <td>2022-06-01 00:48:15</td>\n",
              "      <td>2022-06-01 00:51:18</td>\n",
              "      <td>2022-06-01 01:11:15</td>\n",
              "      <td>87</td>\n",
              "      <td>225</td>\n",
              "      <td>5.450</td>\n",
              "      <td>1197</td>\n",
              "      <td>24.70</td>\n",
              "      <td>0.00</td>\n",
              "      <td>...</td>\n",
              "      <td>Financial District North, Manhattan</td>\n",
              "      <td>Stuyvesant Heights, Brooklyn</td>\n",
              "      <td>0.003786</td>\n",
              "      <td>0</td>\n",
              "      <td>0</td>\n",
              "      <td>1</td>\n",
              "      <td>68.340081</td>\n",
              "      <td>1.515100</td>\n",
              "      <td>15.364900</td>\n",
              "      <td>7.82</td>\n",
              "    </tr>\n",
              "    <tr>\n",
              "      <th>4</th>\n",
              "      <td>1</td>\n",
              "      <td>2022-06-01 00:04:51</td>\n",
              "      <td>2022-06-01 00:13:33</td>\n",
              "      <td>2022-06-01 00:17:27</td>\n",
              "      <td>137</td>\n",
              "      <td>162</td>\n",
              "      <td>1.069</td>\n",
              "      <td>234</td>\n",
              "      <td>8.23</td>\n",
              "      <td>0.00</td>\n",
              "      <td>...</td>\n",
              "      <td>Kips Bay, Manhattan</td>\n",
              "      <td>Midtown East, Manhattan</td>\n",
              "      <td>0.032901</td>\n",
              "      <td>0</td>\n",
              "      <td>0</td>\n",
              "      <td>0</td>\n",
              "      <td>66.464156</td>\n",
              "      <td>0.297182</td>\n",
              "      <td>5.172818</td>\n",
              "      <td>2.76</td>\n",
              "    </tr>\n",
              "    <tr>\n",
              "      <th>...</th>\n",
              "      <td>...</td>\n",
              "      <td>...</td>\n",
              "      <td>...</td>\n",
              "      <td>...</td>\n",
              "      <td>...</td>\n",
              "      <td>...</td>\n",
              "      <td>...</td>\n",
              "      <td>...</td>\n",
              "      <td>...</td>\n",
              "      <td>...</td>\n",
              "      <td>...</td>\n",
              "      <td>...</td>\n",
              "      <td>...</td>\n",
              "      <td>...</td>\n",
              "      <td>...</td>\n",
              "      <td>...</td>\n",
              "      <td>...</td>\n",
              "      <td>...</td>\n",
              "      <td>...</td>\n",
              "      <td>...</td>\n",
              "      <td>...</td>\n",
              "    </tr>\n",
              "    <tr>\n",
              "      <th>17780070</th>\n",
              "      <td>0</td>\n",
              "      <td>2022-06-30 23:20:49</td>\n",
              "      <td>2022-06-30 23:24:43</td>\n",
              "      <td>2022-06-30 23:38:19</td>\n",
              "      <td>74</td>\n",
              "      <td>224</td>\n",
              "      <td>6.070</td>\n",
              "      <td>816</td>\n",
              "      <td>17.60</td>\n",
              "      <td>2.24</td>\n",
              "      <td>...</td>\n",
              "      <td>East Harlem North, Manhattan</td>\n",
              "      <td>Stuy Town/Peter Cooper Village, Manhattan</td>\n",
              "      <td>0.003553</td>\n",
              "      <td>23</td>\n",
              "      <td>23</td>\n",
              "      <td>23</td>\n",
              "      <td>92.215909</td>\n",
              "      <td>1.687460</td>\n",
              "      <td>14.542540</td>\n",
              "      <td>1.37</td>\n",
              "    </tr>\n",
              "    <tr>\n",
              "      <th>17780071</th>\n",
              "      <td>0</td>\n",
              "      <td>2022-06-30 23:36:13</td>\n",
              "      <td>2022-06-30 23:39:20</td>\n",
              "      <td>2022-06-30 23:51:10</td>\n",
              "      <td>224</td>\n",
              "      <td>13</td>\n",
              "      <td>4.900</td>\n",
              "      <td>710</td>\n",
              "      <td>17.93</td>\n",
              "      <td>0.00</td>\n",
              "      <td>...</td>\n",
              "      <td>Stuy Town/Peter Cooper Village, Manhattan</td>\n",
              "      <td>Battery Park City, Manhattan</td>\n",
              "      <td>0.005154</td>\n",
              "      <td>23</td>\n",
              "      <td>23</td>\n",
              "      <td>23</td>\n",
              "      <td>77.746793</td>\n",
              "      <td>1.362200</td>\n",
              "      <td>12.577800</td>\n",
              "      <td>3.99</td>\n",
              "    </tr>\n",
              "    <tr>\n",
              "      <th>17780072</th>\n",
              "      <td>0</td>\n",
              "      <td>2022-06-30 23:50:50</td>\n",
              "      <td>2022-06-30 23:57:12</td>\n",
              "      <td>2022-07-01 00:07:07</td>\n",
              "      <td>231</td>\n",
              "      <td>231</td>\n",
              "      <td>0.530</td>\n",
              "      <td>595</td>\n",
              "      <td>11.98</td>\n",
              "      <td>3.00</td>\n",
              "      <td>...</td>\n",
              "      <td>TriBeCa/Civic Center, Manhattan</td>\n",
              "      <td>TriBeCa/Civic Center, Manhattan</td>\n",
              "      <td>0.037990</td>\n",
              "      <td>23</td>\n",
              "      <td>23</td>\n",
              "      <td>0</td>\n",
              "      <td>154.090150</td>\n",
              "      <td>0.147340</td>\n",
              "      <td>18.312660</td>\n",
              "      <td>-6.48</td>\n",
              "    </tr>\n",
              "    <tr>\n",
              "      <th>17780073</th>\n",
              "      <td>0</td>\n",
              "      <td>2022-06-30 23:02:40</td>\n",
              "      <td>2022-06-30 23:06:44</td>\n",
              "      <td>2022-06-30 23:26:28</td>\n",
              "      <td>234</td>\n",
              "      <td>48</td>\n",
              "      <td>2.850</td>\n",
              "      <td>1184</td>\n",
              "      <td>31.47</td>\n",
              "      <td>1.00</td>\n",
              "      <td>...</td>\n",
              "      <td>Union Sq, Manhattan</td>\n",
              "      <td>Clinton East, Manhattan</td>\n",
              "      <td>0.009326</td>\n",
              "      <td>23</td>\n",
              "      <td>23</td>\n",
              "      <td>23</td>\n",
              "      <td>86.653956</td>\n",
              "      <td>0.792300</td>\n",
              "      <td>26.477700</td>\n",
              "      <td>4.20</td>\n",
              "    </tr>\n",
              "    <tr>\n",
              "      <th>17780074</th>\n",
              "      <td>1</td>\n",
              "      <td>2022-06-30 23:00:28</td>\n",
              "      <td>2022-06-30 23:03:06</td>\n",
              "      <td>2022-06-30 23:18:13</td>\n",
              "      <td>244</td>\n",
              "      <td>242</td>\n",
              "      <td>6.207</td>\n",
              "      <td>907</td>\n",
              "      <td>20.28</td>\n",
              "      <td>0.00</td>\n",
              "      <td>...</td>\n",
              "      <td>Washington Heights South, Manhattan</td>\n",
              "      <td>Van Nest/Morris Park, Bronx</td>\n",
              "      <td>0.003602</td>\n",
              "      <td>23</td>\n",
              "      <td>23</td>\n",
              "      <td>23</td>\n",
              "      <td>75.246548</td>\n",
              "      <td>1.725546</td>\n",
              "      <td>13.534454</td>\n",
              "      <td>5.02</td>\n",
              "    </tr>\n",
              "  </tbody>\n",
              "</table>\n",
              "<p>17007449 rows × 22 columns</p>\n",
              "</div>\n",
              "      <button class=\"colab-df-convert\" onclick=\"convertToInteractive('df-d257c466-eb67-4cd5-8b56-5fedd5ecc1b2')\"\n",
              "              title=\"Convert this dataframe to an interactive table.\"\n",
              "              style=\"display:none;\">\n",
              "        \n",
              "  <svg xmlns=\"http://www.w3.org/2000/svg\" height=\"24px\"viewBox=\"0 0 24 24\"\n",
              "       width=\"24px\">\n",
              "    <path d=\"M0 0h24v24H0V0z\" fill=\"none\"/>\n",
              "    <path d=\"M18.56 5.44l.94 2.06.94-2.06 2.06-.94-2.06-.94-.94-2.06-.94 2.06-2.06.94zm-11 1L8.5 8.5l.94-2.06 2.06-.94-2.06-.94L8.5 2.5l-.94 2.06-2.06.94zm10 10l.94 2.06.94-2.06 2.06-.94-2.06-.94-.94-2.06-.94 2.06-2.06.94z\"/><path d=\"M17.41 7.96l-1.37-1.37c-.4-.4-.92-.59-1.43-.59-.52 0-1.04.2-1.43.59L10.3 9.45l-7.72 7.72c-.78.78-.78 2.05 0 2.83L4 21.41c.39.39.9.59 1.41.59.51 0 1.02-.2 1.41-.59l7.78-7.78 2.81-2.81c.8-.78.8-2.07 0-2.86zM5.41 20L4 18.59l7.72-7.72 1.47 1.35L5.41 20z\"/>\n",
              "  </svg>\n",
              "      </button>\n",
              "      \n",
              "  <style>\n",
              "    .colab-df-container {\n",
              "      display:flex;\n",
              "      flex-wrap:wrap;\n",
              "      gap: 12px;\n",
              "    }\n",
              "\n",
              "    .colab-df-convert {\n",
              "      background-color: #E8F0FE;\n",
              "      border: none;\n",
              "      border-radius: 50%;\n",
              "      cursor: pointer;\n",
              "      display: none;\n",
              "      fill: #1967D2;\n",
              "      height: 32px;\n",
              "      padding: 0 0 0 0;\n",
              "      width: 32px;\n",
              "    }\n",
              "\n",
              "    .colab-df-convert:hover {\n",
              "      background-color: #E2EBFA;\n",
              "      box-shadow: 0px 1px 2px rgba(60, 64, 67, 0.3), 0px 1px 3px 1px rgba(60, 64, 67, 0.15);\n",
              "      fill: #174EA6;\n",
              "    }\n",
              "\n",
              "    [theme=dark] .colab-df-convert {\n",
              "      background-color: #3B4455;\n",
              "      fill: #D2E3FC;\n",
              "    }\n",
              "\n",
              "    [theme=dark] .colab-df-convert:hover {\n",
              "      background-color: #434B5C;\n",
              "      box-shadow: 0px 1px 3px 1px rgba(0, 0, 0, 0.15);\n",
              "      filter: drop-shadow(0px 1px 2px rgba(0, 0, 0, 0.3));\n",
              "      fill: #FFFFFF;\n",
              "    }\n",
              "  </style>\n",
              "\n",
              "      <script>\n",
              "        const buttonEl =\n",
              "          document.querySelector('#df-d257c466-eb67-4cd5-8b56-5fedd5ecc1b2 button.colab-df-convert');\n",
              "        buttonEl.style.display =\n",
              "          google.colab.kernel.accessAllowed ? 'block' : 'none';\n",
              "\n",
              "        async function convertToInteractive(key) {\n",
              "          const element = document.querySelector('#df-d257c466-eb67-4cd5-8b56-5fedd5ecc1b2');\n",
              "          const dataTable =\n",
              "            await google.colab.kernel.invokeFunction('convertToInteractive',\n",
              "                                                     [key], {});\n",
              "          if (!dataTable) return;\n",
              "\n",
              "          const docLinkHtml = 'Like what you see? Visit the ' +\n",
              "            '<a target=\"_blank\" href=https://colab.research.google.com/notebooks/data_table.ipynb>data table notebook</a>'\n",
              "            + ' to learn more about interactive tables.';\n",
              "          element.innerHTML = '';\n",
              "          dataTable['output_type'] = 'display_data';\n",
              "          await google.colab.output.renderOutput(dataTable, element);\n",
              "          const docLink = document.createElement('div');\n",
              "          docLink.innerHTML = docLinkHtml;\n",
              "          element.appendChild(docLink);\n",
              "        }\n",
              "      </script>\n",
              "    </div>\n",
              "  </div>\n",
              "  "
            ]
          },
          "metadata": {},
          "execution_count": 49
        }
      ],
      "source": [
        "df"
      ]
    },
    {
      "cell_type": "code",
      "execution_count": 50,
      "metadata": {
        "id": "hL1tsfWLllO1"
      },
      "outputs": [],
      "source": [
        "from sklearn.metrics import mean_squared_error, r2_score\n",
        "\n",
        "def get_model_results(model_name, model):\n",
        "    y_pred = model.predict(X_test)\n",
        "    loss = mean_squared_error(y_test, y_pred)\n",
        "    score = r2_score(y_test, y_pred)\n",
        "    print(f'Test results for {model_name}')\n",
        "    print(f'Test Loss: {loss}')\n",
        "    print(f'Test R Square: {score}')\n",
        "    return loss, score"
      ]
    },
    {
      "cell_type": "code",
      "execution_count": 51,
      "metadata": {
        "id": "ddmQ76b02egP"
      },
      "outputs": [],
      "source": [
        "from sklearn.model_selection import train_test_split\n",
        "\n",
        "# Only two features\n",
        "# X_train, X_test, y_train, y_test = train_test_split(df[['trip_miles', 'trip_time']], df[['base_passenger_fare']], test_size=0.3)"
      ]
    },
    {
      "cell_type": "markdown",
      "metadata": {
        "id": "KniN_Q0J4N6A"
      },
      "source": [
        "The fare depends on the demand for the taxi at that particular day of the week and time. So deducing the day of the week from the date and passing it to the model can make it predict better"
      ]
    },
    {
      "cell_type": "code",
      "execution_count": 52,
      "metadata": {
        "id": "r9ffDSZ4llO6"
      },
      "outputs": [],
      "source": [
        "df['trip_day'] = df.request_datetime.dt.day_name()"
      ]
    },
    {
      "cell_type": "code",
      "execution_count": 53,
      "metadata": {
        "id": "P3DxtelZllO7"
      },
      "outputs": [],
      "source": [
        "df['trip_day'] = pd.factorize(df['trip_day'])[0]"
      ]
    },
    {
      "cell_type": "markdown",
      "metadata": {
        "id": "xWgrh2N6zv3A"
      },
      "source": [
        "Splitting the given data in the ratio 70:30 for training and testing"
      ]
    },
    {
      "cell_type": "code",
      "execution_count": 54,
      "metadata": {
        "id": "exWWeKMGllO7"
      },
      "outputs": [],
      "source": [
        "X_train, X_test, y_train, y_test = train_test_split(\n",
        "    df[['trip_miles', 'trip_time', 'request_hour', 'pickup_hour', 'dropoff_hour', 'PULocation', 'DOLocation', 'taxi_company', 'trip_day']],\n",
        "    df[['base_passenger_fare']],\n",
        "    test_size=0.3\n",
        ")"
      ]
    },
    {
      "cell_type": "markdown",
      "metadata": {
        "id": "xeTACnADz0tV"
      },
      "source": [
        "### Model 1 - Linear Regression"
      ]
    },
    {
      "cell_type": "markdown",
      "metadata": {
        "id": "Pjm55Y8o8JE2"
      },
      "source": [
        "- Linear Regression generally fits most of the data with good results (i.e., less loss).\n",
        "- This will be a good starting point for doing price prediction.\n",
        "- Based on the results we get for Linear Regression, we can improve the model for the next models.\n",
        "- Normalizing the data before doing linear regression and enforcing positive coefficients (because fare is positive) gave better results than leaving everything as default\n",
        "- We can now further improve this by using other advanced machine learning models like Decision Tree, Deep Learning"
      ]
    },
    {
      "cell_type": "code",
      "execution_count": 55,
      "metadata": {
        "colab": {
          "base_uri": "https://localhost:8080/"
        },
        "id": "i6HDQxxillO1",
        "outputId": "81a29c9d-a7f8-4eee-b9e6-4521f8ad9f19"
      },
      "outputs": [
        {
          "output_type": "stream",
          "name": "stderr",
          "text": [
            "/usr/local/lib/python3.7/dist-packages/sklearn/linear_model/_base.py:145: FutureWarning: 'normalize' was deprecated in version 1.0 and will be removed in 1.2.\n",
            "If you wish to scale the data, use Pipeline with a StandardScaler in a preprocessing stage. To reproduce the previous behavior:\n",
            "\n",
            "from sklearn.pipeline import make_pipeline\n",
            "\n",
            "model = make_pipeline(StandardScaler(with_mean=False), LinearRegression())\n",
            "\n",
            "If you wish to pass a sample_weight parameter, you need to pass it as a fit parameter to each step of the pipeline as follows:\n",
            "\n",
            "kwargs = {s[0] + '__sample_weight': sample_weight for s in model.steps}\n",
            "model.fit(X, y, **kwargs)\n",
            "\n",
            "\n",
            "  FutureWarning,\n"
          ]
        },
        {
          "output_type": "execute_result",
          "data": {
            "text/plain": [
              "LinearRegression(n_jobs=-1, normalize=True, positive=True)"
            ]
          },
          "metadata": {},
          "execution_count": 55
        }
      ],
      "source": [
        "from sklearn.linear_model import LinearRegression\n",
        "\n",
        "lr = LinearRegression(normalize=True, positive=True, n_jobs=-1)\n",
        "lr.fit(X_train, y_train)"
      ]
    },
    {
      "cell_type": "code",
      "execution_count": 56,
      "metadata": {
        "colab": {
          "base_uri": "https://localhost:8080/"
        },
        "id": "ganTOdilllO1",
        "outputId": "63ade22a-67b2-45b5-faa1-846a936decdb",
        "scrolled": true
      },
      "outputs": [
        {
          "output_type": "stream",
          "name": "stdout",
          "text": [
            "Test results for Linear Regression\n",
            "Test Loss: 70.14919789318425\n",
            "Test R Square: 0.7501338712601957\n"
          ]
        }
      ],
      "source": [
        "lr_loss, lr_score = get_model_results(\"Linear Regression\", lr)"
      ]
    },
    {
      "cell_type": "markdown",
      "metadata": {
        "id": "VzJuDkL4z6yX"
      },
      "source": [
        "### Model 2 - K Nearest Neighbours"
      ]
    },
    {
      "cell_type": "markdown",
      "metadata": {
        "id": "9cHnTKfL-wlD"
      },
      "source": [
        "- K Nearest Neighbors takes the points closer to the given point and predicts fare based on the K closest points to the given input\n",
        "- This should make the predicted price to be similar to other trips with similar trip time and trip fare\n",
        "- KNN is also not effected by data which is not close to the given input which should give this model a better chance to be not effected by far away points which can result in drastic changes because of single outlier point\n",
        "- Using k=10 and weighting points closer to the input gives good results\n",
        "- This is an improvement over Linear Regression"
      ]
    },
    {
      "cell_type": "code",
      "execution_count": 57,
      "metadata": {
        "colab": {
          "base_uri": "https://localhost:8080/"
        },
        "id": "ujp8FVWkllO1",
        "outputId": "8bfc0f50-3fb0-4e54-8bee-d2bf4683b533"
      },
      "outputs": [
        {
          "output_type": "execute_result",
          "data": {
            "text/plain": [
              "KNeighborsRegressor(n_jobs=-1, n_neighbors=10, weights='distance')"
            ]
          },
          "metadata": {},
          "execution_count": 57
        }
      ],
      "source": [
        "from sklearn.neighbors import KNeighborsRegressor\n",
        "\n",
        "knn = KNeighborsRegressor(n_neighbors=10, weights='distance', n_jobs=-1)\n",
        "knn.fit(X_train, y_train)"
      ]
    },
    {
      "cell_type": "code",
      "execution_count": 58,
      "metadata": {
        "id": "bWxaeQS4llO1",
        "colab": {
          "base_uri": "https://localhost:8080/"
        },
        "outputId": "d8dac53c-e36a-4171-9893-09e997637846"
      },
      "outputs": [
        {
          "output_type": "stream",
          "name": "stdout",
          "text": [
            "Test results for k Nearest Neighbours\n",
            "Test Loss: 69.36531923260473\n",
            "Test R Square: 0.7529259876664158\n"
          ]
        }
      ],
      "source": [
        "knn_loss, knn_score = get_model_results(\"k Nearest Neighbours\", knn)"
      ]
    },
    {
      "cell_type": "markdown",
      "metadata": {
        "id": "7Qwj5QiU0A7G"
      },
      "source": [
        "### Model 3 - Decision Tree Regression"
      ]
    },
    {
      "cell_type": "markdown",
      "metadata": {
        "id": "AaSDjQ8BywsK"
      },
      "source": [
        "- Decision Trees are used when we can group the data that are close to each other through similar feature set.\n",
        "- Using Decision Tree will make sure the predicted price is consistent with the similar data points already present in training set\n",
        "- For the purpose of this taxi fare data, I am choosing 500 max leaf nodes so that there will be 500 leafs for all price points.\n",
        "- This configuration gives the best possible loss for the Decision Tree Regression\n",
        "- In the 3 models we have seen so far, this Decision Tree model gave best results\n",
        "- This gave better results than KNN"
      ]
    },
    {
      "cell_type": "code",
      "execution_count": 59,
      "metadata": {
        "id": "tloZcEMRllO1",
        "colab": {
          "base_uri": "https://localhost:8080/"
        },
        "outputId": "b3df1b1d-e7c7-47c9-b9ce-3360c90bfbb0"
      },
      "outputs": [
        {
          "output_type": "execute_result",
          "data": {
            "text/plain": [
              "DecisionTreeRegressor(max_leaf_nodes=500)"
            ]
          },
          "metadata": {},
          "execution_count": 59
        }
      ],
      "source": [
        "from sklearn.tree import DecisionTreeRegressor\n",
        "\n",
        "dtree = DecisionTreeRegressor(max_leaf_nodes=500)\n",
        "dtree.fit(X_train, y_train)"
      ]
    },
    {
      "cell_type": "code",
      "execution_count": 60,
      "metadata": {
        "id": "frRda0YbllO1",
        "colab": {
          "base_uri": "https://localhost:8080/"
        },
        "outputId": "cb91d236-6129-49c9-fe6a-c8351869e907"
      },
      "outputs": [
        {
          "output_type": "stream",
          "name": "stdout",
          "text": [
            "Test results for Decision Tree Regressor\n",
            "Test Loss: 65.46318815033239\n",
            "Test R Square: 0.76682508297535\n"
          ]
        }
      ],
      "source": [
        "dtree_loss, dtree_score = get_model_results(\"Decision Tree Regressor\", dtree)"
      ]
    },
    {
      "cell_type": "markdown",
      "metadata": {
        "id": "uJEblfO00KBY"
      },
      "source": [
        "### Model 4 - LightGBM Regression"
      ]
    },
    {
      "cell_type": "markdown",
      "metadata": {
        "id": "Wn0ka3404F-2"
      },
      "source": [
        "- LightGBM is a lighter Gradient boosting framework based on Decision Trees and is known for being fast and efficient.\n",
        "- Instead of growing horizontally, this algorithm grows vertically and chooses leaf with minimum error which drastically improves prediction but this is prone to overfitting for smaller data sets. Since we are using 17M records, chances are very less for this to happen.\n",
        "- We are choosing \"gbdt\" boosting type for the algorithm as it is based on ensemble model\n",
        "- Since we have lots of data, we can choose a smaller learning rate so that the tree learns accurately.\n",
        "- This is the best result we achieved so far."
      ]
    },
    {
      "cell_type": "code",
      "execution_count": 61,
      "metadata": {
        "id": "bj_s234hllO2",
        "colab": {
          "base_uri": "https://localhost:8080/"
        },
        "outputId": "43868b88-b458-4d87-9df5-cecb6946853f"
      },
      "outputs": [
        {
          "output_type": "execute_result",
          "data": {
            "text/plain": [
              "LGBMRegressor()"
            ]
          },
          "metadata": {},
          "execution_count": 61
        }
      ],
      "source": [
        "from lightgbm import LGBMRegressor\n",
        "\n",
        "lgbm = LGBMRegressor(learning_rate=0.1, n_jobs=-1)\n",
        "lgbm.fit(X_train, y_train)"
      ]
    },
    {
      "cell_type": "code",
      "execution_count": 62,
      "metadata": {
        "id": "GPT6xFvTllO2",
        "colab": {
          "base_uri": "https://localhost:8080/"
        },
        "outputId": "1da7c2a5-558c-4542-9a27-37b68ad60c38"
      },
      "outputs": [
        {
          "output_type": "stream",
          "name": "stdout",
          "text": [
            "Test results for LightGBM Regressor\n",
            "Test Loss: 56.33599262957038\n",
            "Test R Square: 0.7993354619891871\n"
          ]
        }
      ],
      "source": [
        "lgbm_loss, lgbm_score = get_model_results(\"LightGBM Regressor\", lgbm)"
      ]
    },
    {
      "cell_type": "markdown",
      "metadata": {
        "id": "01FBacv0EtNX"
      },
      "source": [
        "Note: SVM Regression is taking too long to train on 17M records so that is not included in this phase"
      ]
    },
    {
      "cell_type": "markdown",
      "metadata": {
        "id": "S_RqCXqb42v4"
      },
      "source": [
        "### Model 5 - Deep Learning Model"
      ]
    },
    {
      "cell_type": "markdown",
      "metadata": {
        "id": "0DUz4eayllO2"
      },
      "source": [
        "For training the Deep Learning Model, we are using all 17 Million records."
      ]
    },
    {
      "cell_type": "markdown",
      "metadata": {
        "id": "BVEbdIATibOw"
      },
      "source": [
        "After trying various Neural Network Architectures, different hyperparameters, I have finalized the following Neural Network with best results. The other Neural Networks I have tried are not shown here."
      ]
    },
    {
      "cell_type": "code",
      "execution_count": 63,
      "metadata": {
        "id": "BM8sH02MngTR",
        "colab": {
          "base_uri": "https://localhost:8080/"
        },
        "outputId": "e1d6fb97-8e11-454d-b07f-c5e219daa3db"
      },
      "outputs": [
        {
          "output_type": "stream",
          "name": "stdout",
          "text": [
            "Looking in indexes: https://pypi.org/simple, https://us-python.pkg.dev/colab-wheels/public/simple/\n",
            "Collecting tensorflow-addons\n",
            "  Downloading tensorflow_addons-0.18.0-cp37-cp37m-manylinux_2_17_x86_64.manylinux2014_x86_64.whl (1.1 MB)\n",
            "\u001b[K     |████████████████████████████████| 1.1 MB 15.4 MB/s \n",
            "\u001b[?25hRequirement already satisfied: packaging in /usr/local/lib/python3.7/dist-packages (from tensorflow-addons) (21.3)\n",
            "Requirement already satisfied: typeguard>=2.7 in /usr/local/lib/python3.7/dist-packages (from tensorflow-addons) (2.7.1)\n",
            "Requirement already satisfied: pyparsing!=3.0.5,>=2.0.2 in /usr/local/lib/python3.7/dist-packages (from packaging->tensorflow-addons) (3.0.9)\n",
            "Installing collected packages: tensorflow-addons\n",
            "Successfully installed tensorflow-addons-0.18.0\n"
          ]
        }
      ],
      "source": [
        "!pip install tensorflow-addons"
      ]
    },
    {
      "cell_type": "code",
      "execution_count": 64,
      "metadata": {
        "id": "0mt3xy28llO7"
      },
      "outputs": [],
      "source": [
        "from tensorflow.keras.layers import Dense\n",
        "from tensorflow.keras import Sequential, Input\n",
        "from tensorflow.keras.layers import BatchNormalization\n",
        "from tensorflow_addons.metrics import RSquare"
      ]
    },
    {
      "cell_type": "markdown",
      "metadata": {
        "id": "OkPFeeBzJqdP"
      },
      "source": [
        "- Since we have lots of data, we need to have sufficiently large number of parameters to train before we can start to overfit.\n",
        "- Hence choosing more deeper and more number of neurons per layer. \n",
        "- I have tried 7 other architectures of Neural Networks and this configuration performed best. Other Neural Networks are not shown in this notebook."
      ]
    },
    {
      "cell_type": "code",
      "execution_count": 65,
      "metadata": {
        "id": "81Sqm4FJllO7",
        "colab": {
          "base_uri": "https://localhost:8080/"
        },
        "outputId": "aaffb267-16ae-44b1-b9ca-194c1ac76889"
      },
      "outputs": [
        {
          "output_type": "stream",
          "name": "stdout",
          "text": [
            "Model: \"sequential\"\n",
            "_________________________________________________________________\n",
            " Layer (type)                Output Shape              Param #   \n",
            "=================================================================\n",
            " batch_normalization (BatchN  (None, 9)                36        \n",
            " ormalization)                                                   \n",
            "                                                                 \n",
            " layer1 (Dense)              (None, 64)                640       \n",
            "                                                                 \n",
            " layer2 (Dense)              (None, 128)               8320      \n",
            "                                                                 \n",
            " layer3 (Dense)              (None, 128)               16512     \n",
            "                                                                 \n",
            " layer4 (Dense)              (None, 512)               66048     \n",
            "                                                                 \n",
            " layer5 (Dense)              (None, 1024)              525312    \n",
            "                                                                 \n",
            " layer6 (Dense)              (None, 1024)              1049600   \n",
            "                                                                 \n",
            " layer7 (Dense)              (None, 256)               262400    \n",
            "                                                                 \n",
            " layer8 (Dense)              (None, 128)               32896     \n",
            "                                                                 \n",
            " layer9 (Dense)              (None, 64)                8256      \n",
            "                                                                 \n",
            " layer10 (Dense)             (None, 16)                1040      \n",
            "                                                                 \n",
            " output (Dense)              (None, 1)                 17        \n",
            "                                                                 \n",
            "=================================================================\n",
            "Total params: 1,971,077\n",
            "Trainable params: 1,971,059\n",
            "Non-trainable params: 18\n",
            "_________________________________________________________________\n"
          ]
        }
      ],
      "source": [
        "dl = Sequential(\n",
        "    [\n",
        "        Input(shape=X_train.shape[1:]),\n",
        "        BatchNormalization(),\n",
        "        Dense(64, activation='relu', name='layer1'),\n",
        "        Dense(128, activation='relu', name='layer2'),\n",
        "        Dense(128, activation='relu', name='layer3'),\n",
        "        Dense(512, activation='relu', name='layer4'),\n",
        "        Dense(1024, activation='relu', name='layer5'),\n",
        "        Dense(1024, activation='relu', name='layer6'),\n",
        "        Dense(256, activation='relu', name='layer7'),\n",
        "        Dense(128, activation='relu', name='layer8'),\n",
        "        Dense(64, activation='relu', name='layer9'),\n",
        "        Dense(16, activation='relu', name='layer10'),\n",
        "        Dense(1, activation='relu', name='output')\n",
        "    ]\n",
        ")\n",
        "\n",
        "dl.summary()"
      ]
    },
    {
      "cell_type": "markdown",
      "metadata": {
        "id": "OuxmFn1SHjmZ"
      },
      "source": [
        "- We have 1.9M parameters to train. Since we have 17M data points. We should be able to train them.\n",
        "- 20% of the training data is used for validation"
      ]
    },
    {
      "cell_type": "code",
      "execution_count": 66,
      "metadata": {
        "id": "3nIXFT_jllO7",
        "colab": {
          "base_uri": "https://localhost:8080/"
        },
        "outputId": "c96c0be1-1dbd-4eec-a0c8-ceb8f4e3731f"
      },
      "outputs": [
        {
          "output_type": "stream",
          "name": "stdout",
          "text": [
            "Epoch 1/100\n",
            "4651/4651 [==============================] - 49s 10ms/step - loss: 68.9871 - r_square: 0.7549 - val_loss: 63.2422 - val_r_square: 0.7750\n",
            "Epoch 2/100\n",
            "4651/4651 [==============================] - 44s 9ms/step - loss: 64.4354 - r_square: 0.7711 - val_loss: 62.4430 - val_r_square: 0.7779\n",
            "Epoch 3/100\n",
            "4651/4651 [==============================] - 44s 10ms/step - loss: 62.9089 - r_square: 0.7765 - val_loss: 64.0768 - val_r_square: 0.7721\n",
            "Epoch 4/100\n",
            "4651/4651 [==============================] - 44s 9ms/step - loss: 62.1442 - r_square: 0.7792 - val_loss: 60.6002 - val_r_square: 0.7844\n",
            "Epoch 5/100\n",
            "4651/4651 [==============================] - 44s 9ms/step - loss: 61.4579 - r_square: 0.7817 - val_loss: 61.0601 - val_r_square: 0.7828\n",
            "Epoch 6/100\n",
            "4651/4651 [==============================] - 44s 9ms/step - loss: 60.9485 - r_square: 0.7835 - val_loss: 60.2064 - val_r_square: 0.7858\n",
            "Epoch 7/100\n",
            "4651/4651 [==============================] - 44s 9ms/step - loss: 60.5402 - r_square: 0.7849 - val_loss: 59.2769 - val_r_square: 0.7892\n",
            "Epoch 8/100\n",
            "4651/4651 [==============================] - 44s 9ms/step - loss: 60.2095 - r_square: 0.7861 - val_loss: 59.0468 - val_r_square: 0.7900\n",
            "Epoch 9/100\n",
            "4651/4651 [==============================] - 44s 9ms/step - loss: 59.9097 - r_square: 0.7872 - val_loss: 60.2041 - val_r_square: 0.7859\n",
            "Epoch 10/100\n",
            "4651/4651 [==============================] - 44s 9ms/step - loss: 59.7082 - r_square: 0.7879 - val_loss: 58.3918 - val_r_square: 0.7923\n",
            "Epoch 11/100\n",
            "4651/4651 [==============================] - 44s 9ms/step - loss: 59.3213 - r_square: 0.7892 - val_loss: 57.7626 - val_r_square: 0.7945\n",
            "Epoch 12/100\n",
            "4651/4651 [==============================] - 44s 9ms/step - loss: 59.2543 - r_square: 0.7895 - val_loss: 59.7785 - val_r_square: 0.7874\n",
            "Epoch 13/100\n",
            "4651/4651 [==============================] - 44s 9ms/step - loss: 59.0069 - r_square: 0.7904 - val_loss: 62.6875 - val_r_square: 0.7770\n",
            "Epoch 14/100\n",
            "4651/4651 [==============================] - 44s 9ms/step - loss: 58.8163 - r_square: 0.7910 - val_loss: 57.5815 - val_r_square: 0.7952\n",
            "Epoch 15/100\n",
            "4651/4651 [==============================] - 44s 9ms/step - loss: 58.6892 - r_square: 0.7915 - val_loss: 57.6702 - val_r_square: 0.7949\n",
            "Epoch 16/100\n",
            "4651/4651 [==============================] - 44s 9ms/step - loss: 58.5174 - r_square: 0.7921 - val_loss: 57.6901 - val_r_square: 0.7948\n",
            "Epoch 17/100\n",
            "4651/4651 [==============================] - 44s 9ms/step - loss: 58.3088 - r_square: 0.7928 - val_loss: 57.5642 - val_r_square: 0.7952\n",
            "Epoch 18/100\n",
            "4651/4651 [==============================] - 44s 9ms/step - loss: 58.2813 - r_square: 0.7929 - val_loss: 57.0814 - val_r_square: 0.7970\n",
            "Epoch 19/100\n",
            "4651/4651 [==============================] - 44s 9ms/step - loss: 58.2135 - r_square: 0.7932 - val_loss: 57.5242 - val_r_square: 0.7954\n",
            "Epoch 20/100\n",
            "4651/4651 [==============================] - 44s 9ms/step - loss: 58.0279 - r_square: 0.7938 - val_loss: 58.4902 - val_r_square: 0.7920\n",
            "Epoch 21/100\n",
            "4651/4651 [==============================] - 44s 9ms/step - loss: 57.8660 - r_square: 0.7944 - val_loss: 57.4987 - val_r_square: 0.7955\n",
            "Epoch 22/100\n",
            "4651/4651 [==============================] - 44s 9ms/step - loss: 57.9003 - r_square: 0.7943 - val_loss: 56.8765 - val_r_square: 0.7977\n",
            "Epoch 23/100\n",
            "4651/4651 [==============================] - 44s 9ms/step - loss: 57.7228 - r_square: 0.7949 - val_loss: 56.8712 - val_r_square: 0.7977\n",
            "Epoch 24/100\n",
            "4651/4651 [==============================] - 44s 9ms/step - loss: 57.6518 - r_square: 0.7952 - val_loss: 57.0160 - val_r_square: 0.7972\n",
            "Epoch 25/100\n",
            "4651/4651 [==============================] - 44s 9ms/step - loss: 57.5810 - r_square: 0.7954 - val_loss: 57.9435 - val_r_square: 0.7939\n",
            "Epoch 26/100\n",
            "4651/4651 [==============================] - 44s 9ms/step - loss: 57.4959 - r_square: 0.7957 - val_loss: 56.6231 - val_r_square: 0.7986\n",
            "Epoch 27/100\n",
            "4651/4651 [==============================] - 44s 9ms/step - loss: 57.3983 - r_square: 0.7961 - val_loss: 57.6069 - val_r_square: 0.7951\n",
            "Epoch 28/100\n",
            "4651/4651 [==============================] - 44s 9ms/step - loss: 57.3501 - r_square: 0.7962 - val_loss: 56.6659 - val_r_square: 0.7984\n",
            "Epoch 29/100\n",
            "4651/4651 [==============================] - 44s 9ms/step - loss: 57.3030 - r_square: 0.7964 - val_loss: 57.0780 - val_r_square: 0.7970\n",
            "Epoch 30/100\n",
            "4651/4651 [==============================] - 44s 9ms/step - loss: 57.1982 - r_square: 0.7968 - val_loss: 57.0243 - val_r_square: 0.7972\n",
            "Epoch 31/100\n",
            "4651/4651 [==============================] - 44s 9ms/step - loss: 57.1334 - r_square: 0.7970 - val_loss: 56.5942 - val_r_square: 0.7987\n",
            "Epoch 32/100\n",
            "4651/4651 [==============================] - 44s 9ms/step - loss: 57.0902 - r_square: 0.7972 - val_loss: 57.7735 - val_r_square: 0.7945\n",
            "Epoch 33/100\n",
            "4651/4651 [==============================] - 44s 9ms/step - loss: 56.8893 - r_square: 0.7979 - val_loss: 57.2393 - val_r_square: 0.7964\n",
            "Epoch 34/100\n",
            "4651/4651 [==============================] - 44s 9ms/step - loss: 56.8827 - r_square: 0.7979 - val_loss: 56.8523 - val_r_square: 0.7978\n",
            "Epoch 35/100\n",
            "4651/4651 [==============================] - 44s 9ms/step - loss: 56.8883 - r_square: 0.7979 - val_loss: 56.7756 - val_r_square: 0.7980\n",
            "Epoch 36/100\n",
            "4651/4651 [==============================] - 44s 9ms/step - loss: 56.7941 - r_square: 0.7982 - val_loss: 56.3758 - val_r_square: 0.7995\n",
            "Epoch 37/100\n",
            "4651/4651 [==============================] - 44s 9ms/step - loss: 56.6664 - r_square: 0.7987 - val_loss: 57.2554 - val_r_square: 0.7963\n",
            "Epoch 38/100\n",
            "4651/4651 [==============================] - 44s 9ms/step - loss: 56.8116 - r_square: 0.7982 - val_loss: 57.3462 - val_r_square: 0.7960\n",
            "Epoch 39/100\n",
            "4651/4651 [==============================] - 44s 9ms/step - loss: 56.5594 - r_square: 0.7991 - val_loss: 56.5980 - val_r_square: 0.7987\n",
            "Epoch 40/100\n",
            "4651/4651 [==============================] - 44s 9ms/step - loss: 56.5892 - r_square: 0.7990 - val_loss: 56.6415 - val_r_square: 0.7985\n",
            "Epoch 41/100\n",
            "4651/4651 [==============================] - 44s 9ms/step - loss: 56.5460 - r_square: 0.7991 - val_loss: 56.4039 - val_r_square: 0.7994\n",
            "Epoch 42/100\n",
            "4651/4651 [==============================] - 44s 9ms/step - loss: 56.3726 - r_square: 0.7997 - val_loss: 56.1744 - val_r_square: 0.8002\n",
            "Epoch 43/100\n",
            "4651/4651 [==============================] - 44s 9ms/step - loss: 56.4063 - r_square: 0.7996 - val_loss: 56.1686 - val_r_square: 0.8002\n",
            "Epoch 44/100\n",
            "4651/4651 [==============================] - 44s 9ms/step - loss: 56.3558 - r_square: 0.7998 - val_loss: 56.4202 - val_r_square: 0.7993\n",
            "Epoch 45/100\n",
            "4651/4651 [==============================] - 44s 9ms/step - loss: 56.1431 - r_square: 0.8005 - val_loss: 56.5421 - val_r_square: 0.7989\n",
            "Epoch 46/100\n",
            "4651/4651 [==============================] - 44s 9ms/step - loss: 56.2201 - r_square: 0.8003 - val_loss: 56.1512 - val_r_square: 0.8003\n",
            "Epoch 47/100\n",
            "4651/4651 [==============================] - 44s 9ms/step - loss: 56.1422 - r_square: 0.8005 - val_loss: 56.3460 - val_r_square: 0.7996\n",
            "Epoch 48/100\n",
            "4651/4651 [==============================] - 44s 9ms/step - loss: 56.1142 - r_square: 0.8006 - val_loss: 56.9821 - val_r_square: 0.7973\n",
            "Epoch 49/100\n",
            "4651/4651 [==============================] - 45s 10ms/step - loss: 56.0037 - r_square: 0.8010 - val_loss: 56.4908 - val_r_square: 0.7991\n",
            "Epoch 50/100\n",
            "4651/4651 [==============================] - 44s 9ms/step - loss: 56.0768 - r_square: 0.8008 - val_loss: 56.5732 - val_r_square: 0.7988\n",
            "Epoch 51/100\n",
            "4651/4651 [==============================] - 44s 9ms/step - loss: 55.9497 - r_square: 0.8012 - val_loss: 56.2773 - val_r_square: 0.7998\n",
            "Epoch 52/100\n",
            "4651/4651 [==============================] - 44s 9ms/step - loss: 55.9209 - r_square: 0.8013 - val_loss: 56.3482 - val_r_square: 0.7996\n",
            "Epoch 53/100\n",
            "4651/4651 [==============================] - 44s 9ms/step - loss: 55.9714 - r_square: 0.8011 - val_loss: 56.7277 - val_r_square: 0.7982\n",
            "Epoch 54/100\n",
            "4651/4651 [==============================] - 44s 9ms/step - loss: 55.8401 - r_square: 0.8016 - val_loss: 56.8413 - val_r_square: 0.7978\n",
            "Epoch 55/100\n",
            "4651/4651 [==============================] - 44s 9ms/step - loss: 55.7390 - r_square: 0.8020 - val_loss: 56.4717 - val_r_square: 0.7991\n",
            "Epoch 56/100\n",
            "4651/4651 [==============================] - 44s 9ms/step - loss: 55.7162 - r_square: 0.8021 - val_loss: 56.1158 - val_r_square: 0.8004\n",
            "Epoch 57/100\n",
            "4651/4651 [==============================] - 44s 9ms/step - loss: 55.6477 - r_square: 0.8023 - val_loss: 56.6382 - val_r_square: 0.7985\n",
            "Epoch 58/100\n",
            "4651/4651 [==============================] - 44s 9ms/step - loss: 55.6590 - r_square: 0.8023 - val_loss: 56.3518 - val_r_square: 0.7996\n",
            "Epoch 59/100\n",
            "4651/4651 [==============================] - 44s 9ms/step - loss: 55.6821 - r_square: 0.8022 - val_loss: 56.0897 - val_r_square: 0.8005\n",
            "Epoch 60/100\n",
            "4651/4651 [==============================] - 44s 9ms/step - loss: 55.5853 - r_square: 0.8025 - val_loss: 56.3275 - val_r_square: 0.7996\n",
            "Epoch 61/100\n",
            "4651/4651 [==============================] - 45s 10ms/step - loss: 55.4952 - r_square: 0.8028 - val_loss: 56.3363 - val_r_square: 0.7996\n",
            "Epoch 62/100\n",
            "4651/4651 [==============================] - 44s 9ms/step - loss: 55.4687 - r_square: 0.8029 - val_loss: 56.6699 - val_r_square: 0.7984\n",
            "Epoch 63/100\n",
            "4651/4651 [==============================] - 44s 9ms/step - loss: 55.4666 - r_square: 0.8029 - val_loss: 56.2986 - val_r_square: 0.7997\n",
            "Epoch 64/100\n",
            "4651/4651 [==============================] - 44s 9ms/step - loss: 55.5317 - r_square: 0.8027 - val_loss: 56.3506 - val_r_square: 0.7996\n",
            "Epoch 65/100\n",
            "4651/4651 [==============================] - 44s 9ms/step - loss: 55.4560 - r_square: 0.8030 - val_loss: 56.1518 - val_r_square: 0.8003\n",
            "Epoch 66/100\n",
            "4651/4651 [==============================] - 44s 9ms/step - loss: 55.3535 - r_square: 0.8033 - val_loss: 56.4686 - val_r_square: 0.7991\n",
            "Epoch 67/100\n",
            "4651/4651 [==============================] - 44s 9ms/step - loss: 55.3376 - r_square: 0.8034 - val_loss: 56.4023 - val_r_square: 0.7994\n",
            "Epoch 68/100\n",
            "4651/4651 [==============================] - 44s 9ms/step - loss: 55.2792 - r_square: 0.8036 - val_loss: 56.2728 - val_r_square: 0.7998\n",
            "Epoch 69/100\n",
            "4651/4651 [==============================] - 44s 9ms/step - loss: 55.2468 - r_square: 0.8037 - val_loss: 56.5555 - val_r_square: 0.7988\n",
            "Epoch 70/100\n",
            "4651/4651 [==============================] - 44s 9ms/step - loss: 55.2330 - r_square: 0.8038 - val_loss: 56.4387 - val_r_square: 0.7992\n",
            "Epoch 71/100\n",
            "4651/4651 [==============================] - 44s 9ms/step - loss: 55.3100 - r_square: 0.8035 - val_loss: 56.0704 - val_r_square: 0.8006\n",
            "Epoch 72/100\n",
            "4651/4651 [==============================] - 44s 9ms/step - loss: 55.1250 - r_square: 0.8042 - val_loss: 56.7724 - val_r_square: 0.7981\n",
            "Epoch 73/100\n",
            "4651/4651 [==============================] - 44s 9ms/step - loss: 55.2339 - r_square: 0.8038 - val_loss: 56.3404 - val_r_square: 0.7996\n",
            "Epoch 74/100\n",
            "4651/4651 [==============================] - 44s 9ms/step - loss: 55.0184 - r_square: 0.8045 - val_loss: 56.2330 - val_r_square: 0.8000\n",
            "Epoch 75/100\n",
            "4651/4651 [==============================] - 44s 9ms/step - loss: 55.1668 - r_square: 0.8040 - val_loss: 56.8484 - val_r_square: 0.7978\n",
            "Epoch 76/100\n",
            "4651/4651 [==============================] - 44s 9ms/step - loss: 55.1087 - r_square: 0.8042 - val_loss: 56.3086 - val_r_square: 0.7997\n",
            "Epoch 77/100\n",
            "4651/4651 [==============================] - 43s 9ms/step - loss: 55.0603 - r_square: 0.8044 - val_loss: 56.1479 - val_r_square: 0.8003\n",
            "Epoch 78/100\n",
            "4651/4651 [==============================] - 43s 9ms/step - loss: 54.9735 - r_square: 0.8047 - val_loss: 56.3182 - val_r_square: 0.7997\n",
            "Epoch 79/100\n",
            "4651/4651 [==============================] - 43s 9ms/step - loss: 54.9682 - r_square: 0.8047 - val_loss: 56.5735 - val_r_square: 0.7988\n",
            "Epoch 80/100\n",
            "4651/4651 [==============================] - 44s 9ms/step - loss: 54.9661 - r_square: 0.8047 - val_loss: 56.0887 - val_r_square: 0.8005\n",
            "Epoch 81/100\n",
            "4651/4651 [==============================] - 44s 9ms/step - loss: 54.8564 - r_square: 0.8051 - val_loss: 56.2961 - val_r_square: 0.7998\n",
            "Epoch 82/100\n",
            "4651/4651 [==============================] - 44s 9ms/step - loss: 54.9207 - r_square: 0.8049 - val_loss: 56.6982 - val_r_square: 0.7983\n",
            "Epoch 83/100\n",
            "4651/4651 [==============================] - 44s 9ms/step - loss: 54.9446 - r_square: 0.8048 - val_loss: 56.5026 - val_r_square: 0.7990\n",
            "Epoch 84/100\n",
            "4651/4651 [==============================] - 44s 9ms/step - loss: 54.9555 - r_square: 0.8048 - val_loss: 56.4590 - val_r_square: 0.7992\n",
            "Epoch 85/100\n",
            "4651/4651 [==============================] - 44s 9ms/step - loss: 54.7933 - r_square: 0.8053 - val_loss: 56.2905 - val_r_square: 0.7998\n",
            "Epoch 86/100\n",
            "4651/4651 [==============================] - 44s 9ms/step - loss: 54.7205 - r_square: 0.8056 - val_loss: 56.0755 - val_r_square: 0.8005\n",
            "Epoch 87/100\n",
            "4651/4651 [==============================] - 44s 9ms/step - loss: 54.7492 - r_square: 0.8055 - val_loss: 56.0173 - val_r_square: 0.8007\n",
            "Epoch 88/100\n",
            "4651/4651 [==============================] - 44s 9ms/step - loss: 54.6672 - r_square: 0.8058 - val_loss: 56.5068 - val_r_square: 0.7990\n",
            "Epoch 89/100\n",
            "4651/4651 [==============================] - 44s 9ms/step - loss: 54.6350 - r_square: 0.8059 - val_loss: 56.5464 - val_r_square: 0.7989\n",
            "Epoch 90/100\n",
            "4651/4651 [==============================] - 44s 9ms/step - loss: 54.8118 - r_square: 0.8053 - val_loss: 56.4236 - val_r_square: 0.7993\n",
            "Epoch 91/100\n",
            "4651/4651 [==============================] - 44s 9ms/step - loss: 54.7424 - r_square: 0.8055 - val_loss: 56.3169 - val_r_square: 0.7997\n",
            "Epoch 92/100\n",
            "4651/4651 [==============================] - 44s 9ms/step - loss: 54.5759 - r_square: 0.8061 - val_loss: 56.3693 - val_r_square: 0.7995\n",
            "Epoch 93/100\n",
            "4651/4651 [==============================] - 44s 9ms/step - loss: 54.6745 - r_square: 0.8058 - val_loss: 56.3233 - val_r_square: 0.7997\n",
            "Epoch 94/100\n",
            "4651/4651 [==============================] - 44s 9ms/step - loss: 54.5859 - r_square: 0.8061 - val_loss: 56.1994 - val_r_square: 0.8001\n",
            "Epoch 95/100\n",
            "4651/4651 [==============================] - 44s 9ms/step - loss: 54.6209 - r_square: 0.8059 - val_loss: 56.2812 - val_r_square: 0.7998\n",
            "Epoch 96/100\n",
            "4651/4651 [==============================] - 44s 9ms/step - loss: 54.4407 - r_square: 0.8066 - val_loss: 56.7070 - val_r_square: 0.7983\n",
            "Epoch 97/100\n",
            "4651/4651 [==============================] - 44s 9ms/step - loss: 54.6457 - r_square: 0.8059 - val_loss: 56.0508 - val_r_square: 0.8006\n",
            "Epoch 98/100\n",
            "4651/4651 [==============================] - 44s 9ms/step - loss: 54.7391 - r_square: 0.8055 - val_loss: 56.4370 - val_r_square: 0.7993\n",
            "Epoch 99/100\n",
            "4651/4651 [==============================] - 44s 9ms/step - loss: 54.6421 - r_square: 0.8059 - val_loss: 56.0578 - val_r_square: 0.8006\n",
            "Epoch 100/100\n",
            "4651/4651 [==============================] - 44s 9ms/step - loss: 54.5644 - r_square: 0.8061 - val_loss: 56.1713 - val_r_square: 0.8002\n"
          ]
        }
      ],
      "source": [
        "dl.compile(optimizer='adam', loss='mse', metrics=[RSquare()])\n",
        "history = dl.fit(X_train, y_train, validation_split=0.2, epochs=100, batch_size=2048)"
      ]
    },
    {
      "cell_type": "markdown",
      "metadata": {
        "id": "itM5yG2sKcr1"
      },
      "source": [
        "We can keep this training for some more epochs and go on till we see over fitting."
      ]
    },
    {
      "cell_type": "code",
      "execution_count": 67,
      "metadata": {
        "id": "Mrg_AEyollO7",
        "colab": {
          "base_uri": "https://localhost:8080/"
        },
        "outputId": "174af93d-42ab-4b5f-c4ba-25b1a4485cff"
      },
      "outputs": [
        {
          "output_type": "stream",
          "name": "stdout",
          "text": [
            "2492/2492 [==============================] - 10s 4ms/step - loss: 56.0830 - r_square: 0.8002\n"
          ]
        }
      ],
      "source": [
        "# test the deep learning model on the test set\n",
        "dl_loss, dl_score = dl.evaluate(X_test, y_test, batch_size=2048)"
      ]
    },
    {
      "cell_type": "markdown",
      "metadata": {
        "id": "lDAK1f8jllO7"
      },
      "source": [
        "With the addition of two new features \"trip_day\" and \"request_hour\", the model performed better with significantly improved results. "
      ]
    },
    {
      "cell_type": "markdown",
      "metadata": {
        "id": "_gVWADCPNBVA"
      },
      "source": [
        "## Results"
      ]
    },
    {
      "cell_type": "markdown",
      "metadata": {
        "id": "GKNZ6-Kz7lVO"
      },
      "source": [
        "### Visualization - 1"
      ]
    },
    {
      "cell_type": "markdown",
      "metadata": {
        "id": "gr-Li2UxXlLk"
      },
      "source": [
        "We can plot the loss function over epochs for the Deep Learning Model and see it decreasing over epoch"
      ]
    },
    {
      "cell_type": "code",
      "execution_count": 68,
      "metadata": {
        "id": "f3GCTTzt_pzL",
        "colab": {
          "base_uri": "https://localhost:8080/",
          "height": 299
        },
        "outputId": "1f571a22-f735-4b8c-9c2f-c1a5b8ef9707"
      },
      "outputs": [
        {
          "output_type": "execute_result",
          "data": {
            "text/plain": [
              "Text(0.5, 1.0, 'training and validation loss value over epochs')"
            ]
          },
          "metadata": {},
          "execution_count": 68
        },
        {
          "output_type": "display_data",
          "data": {
            "text/plain": [
              "<Figure size 432x288 with 1 Axes>"
            ],
            "image/png": "[encoded data removed]"
          },
          "metadata": {
            "needs_background": "light"
          }
        }
      ],
      "source": [
        "ax = sns.lineplot(data={k: v for k, v in history.history.items() if 'loss' in k})\n",
        "ax.set_title('training and validation loss value over epochs')"
      ]
    },
    {
      "cell_type": "markdown",
      "metadata": {
        "id": "HSIR47aUDUgv"
      },
      "source": [
        "### Visualization - 2"
      ]
    },
    {
      "cell_type": "markdown",
      "metadata": {
        "id": "JbhSOIYEDW1I"
      },
      "source": [
        "We can plot the \"R Square\" of the train and validation over epochs and see it improving over time"
      ]
    },
    {
      "cell_type": "code",
      "execution_count": 69,
      "metadata": {
        "id": "K4jl5V6IDQCl",
        "colab": {
          "base_uri": "https://localhost:8080/",
          "height": 299
        },
        "outputId": "78fc7579-907e-4557-e649-58bc31546099"
      },
      "outputs": [
        {
          "output_type": "execute_result",
          "data": {
            "text/plain": [
              "Text(0.5, 1.0, 'training and validation R square value over epochs')"
            ]
          },
          "metadata": {},
          "execution_count": 69
        },
        {
          "output_type": "display_data",
          "data": {
            "text/plain": [
              "<Figure size 432x288 with 1 Axes>"
            ],
            "image/png": "[encoded data removed]"
          },
          "metadata": {
            "needs_background": "light"
          }
        }
      ],
      "source": [
        "ax = sns.lineplot(data={k: v for k, v in history.history.items() if 'r_square' in k})\n",
        "ax.set_title('training and validation R square value over epochs')"
      ]
    },
    {
      "cell_type": "markdown",
      "metadata": {
        "id": "d4X28LtsD7kW"
      },
      "source": [
        "### Visualization - 3"
      ]
    },
    {
      "cell_type": "markdown",
      "metadata": {
        "id": "sRiyMoA2D_CS"
      },
      "source": [
        "Comparing the R Square values of all the Machine Learning models and deep learning model"
      ]
    },
    {
      "cell_type": "code",
      "execution_count": 70,
      "metadata": {
        "id": "4dORfB7RE_DV"
      },
      "outputs": [],
      "source": [
        "all_models_score = {\n",
        "    \"Linear Regression\": lr_score,\n",
        "    \"KNN\": knn_score,\n",
        "    \"Decision Tree\": dtree_score,\n",
        "    \"Light GBM\": lgbm_score,\n",
        "    \"Deep Learning\": dl_score\n",
        "}"
      ]
    },
    {
      "cell_type": "code",
      "execution_count": 71,
      "metadata": {
        "id": "4J9jcCPfEptq",
        "colab": {
          "base_uri": "https://localhost:8080/"
        },
        "outputId": "623bf094-19eb-4eff-f28e-c1f8bf973ed1"
      },
      "outputs": [
        {
          "output_type": "execute_result",
          "data": {
            "text/plain": [
              "{'Linear Regression': 0.7501338712601957,\n",
              " 'KNN': 0.7529259876664158,\n",
              " 'Decision Tree': 0.76682508297535,\n",
              " 'Light GBM': 0.7993354619891871,\n",
              " 'Deep Learning': 0.8002363443374634}"
            ]
          },
          "metadata": {},
          "execution_count": 71
        }
      ],
      "source": [
        "all_models_score"
      ]
    },
    {
      "cell_type": "code",
      "execution_count": 72,
      "metadata": {
        "id": "FYOOfEZED-Ql",
        "colab": {
          "base_uri": "https://localhost:8080/",
          "height": 299
        },
        "outputId": "abb3fe73-9fe8-41b3-a980-44b541f58398"
      },
      "outputs": [
        {
          "output_type": "execute_result",
          "data": {
            "text/plain": [
              "Text(0.5, 1.0, 'R square for various ML models')"
            ]
          },
          "metadata": {},
          "execution_count": 72
        },
        {
          "output_type": "display_data",
          "data": {
            "text/plain": [
              "<Figure size 432x288 with 1 Axes>"
            ],
            "image/png": "[encoded data removed]"
          },
          "metadata": {
            "needs_background": "light"
          }
        }
      ],
      "source": [
        "ax = sns.barplot(x=list(all_models_score.keys()), y=list(all_models_score.values()))\n",
        "ax.set_ybound(0.7, 0.8)\n",
        "ax.set_title('R square for various ML models')"
      ]
    },
    {
      "cell_type": "markdown",
      "metadata": {
        "id": "etB3GIEtHN6y"
      },
      "source": [
        "Top 2 performing models are Light GBM and Deep Learning model. These will be used in the Phase 3 for building data product."
      ]
    },
    {
      "cell_type": "markdown",
      "metadata": {
        "id": "9iGIAxdf0w31"
      },
      "source": [
        "### Visualization - 4"
      ]
    },
    {
      "cell_type": "markdown",
      "metadata": {
        "id": "CuUPrHRA0w31"
      },
      "source": [
        "Comparing the loss values of all the Machine Learning models and deep learning model"
      ]
    },
    {
      "cell_type": "code",
      "execution_count": 73,
      "metadata": {
        "id": "rNoJhlq50w31"
      },
      "outputs": [],
      "source": [
        "all_models_loss = {\n",
        "    \"Linear Regression\": lr_loss,\n",
        "    \"KNN\": knn_loss,\n",
        "    \"Decision Tree\": dtree_loss,\n",
        "    \"Light GBM\": lgbm_loss,\n",
        "    \"Deep Learning\": dl_loss\n",
        "}"
      ]
    },
    {
      "cell_type": "code",
      "execution_count": 74,
      "metadata": {
        "id": "LLCg8i2X0w32",
        "colab": {
          "base_uri": "https://localhost:8080/"
        },
        "outputId": "757e63ae-5edb-44f0-e2b3-43de35f007ef"
      },
      "outputs": [
        {
          "output_type": "execute_result",
          "data": {
            "text/plain": [
              "{'Linear Regression': 70.14919789318425,\n",
              " 'KNN': 69.36531923260473,\n",
              " 'Decision Tree': 65.46318815033239,\n",
              " 'Light GBM': 56.33599262957038,\n",
              " 'Deep Learning': 56.082984924316406}"
            ]
          },
          "metadata": {},
          "execution_count": 74
        }
      ],
      "source": [
        "all_models_loss"
      ]
    },
    {
      "cell_type": "code",
      "execution_count": 75,
      "metadata": {
        "id": "OfPUP4gz0w32",
        "colab": {
          "base_uri": "https://localhost:8080/",
          "height": 299
        },
        "outputId": "ee3db625-b270-4b28-8cfd-326a4c495004"
      },
      "outputs": [
        {
          "output_type": "execute_result",
          "data": {
            "text/plain": [
              "Text(0.5, 1.0, 'Loss for various ML models')"
            ]
          },
          "metadata": {},
          "execution_count": 75
        },
        {
          "output_type": "display_data",
          "data": {
            "text/plain": [
              "<Figure size 432x288 with 1 Axes>"
            ],
            "image/png": "[encoded data removed]"
          },
          "metadata": {
            "needs_background": "light"
          }
        }
      ],
      "source": [
        "ax = sns.barplot(x=list(all_models_loss.keys()), y=list(all_models_loss.values()))\n",
        "ax.set_ybound(50, 75)\n",
        "ax.set_title('Loss for various ML models')"
      ]
    },
    {
      "cell_type": "markdown",
      "source": [
        "Again here too, Light GBM and Deep Learning models have least losses"
      ],
      "metadata": {
        "id": "Wb0_I6dd6PS3"
      }
    },
    {
      "cell_type": "markdown",
      "metadata": {
        "id": "zTMIoFh_llO7"
      },
      "source": [
        "## Conclusion\n",
        "- In this notebook, Machine Learning algorithms are applied to predict the pricing\n",
        "- Light GBM Regression gave best results among the various Machine Learning algorithms\n",
        "- Seven deep learning models are applied to the problem resulting in even better results.\n",
        "- Only one best performing deep learning model is shown in this notebook among all the ones that are tried.\n",
        "- We will be using the LightGBM Regression model and the Deep Learning model for inference in Phase 3\n",
        "- We can potentially extend this model by adding historical trip data from different months. But this is not the scope of this project."
      ]
    },
    {
      "cell_type": "markdown",
      "metadata": {
        "id": "7hu-JZEyllO7"
      },
      "source": [
        "## References\n",
        "- https://www1.nyc.gov/site/tlc/about/tlc-trip-record-data.page\n",
        "- https://registry.opendata.aws/nyc-tlc-trip-records-pds/\n",
        "- Seaborn, Pandas, Numpy documentation\n",
        "- https://machinelearningmastery.com/adam-optimization-algorithm-for-deep-learning/\n",
        "- https://stats.stackexchange.com/questions/181/how-to-choose-the-number-of-hidden-layers-and-nodes-in-a-feedforward-neural-netw\n",
        "- http://www.faqs.org/faqs/ai-faq/neural-nets/part3/section-9.html\n",
        "- https://hagan.okstate.edu/NNDesign.pdf#page=469\n",
        "- https://datamahadev.com/understanding-light-gradient-boosting-machine/\n",
        "- https://neptune.ai/blog/lightgbm-parameters-guide\n",
        "- LightGBM is inspired from the Kaggle competition - https://www.kaggle.com/competitions/new-york-city-taxi-fare-prediction/code"
      ]
    }
  ],
  "metadata": {
    "accelerator": "GPU",
    "colab": {
      "collapsed_sections": [
        "c6hbLSL4llOw",
        "bFWpFi5AllOx",
        "c7O3DjcyllOx",
        "_kSRQcPIllOy",
        "EBnvhNNFllOy",
        "G6ns_y0tllOz",
        "AyMsAPd5llOz",
        "RFFL-6LWllOz",
        "DRUeHlkdllO0"
      ],
      "machine_shape": "hm",
      "toc_visible": true,
      "provenance": []
    },
    "gpuClass": "standard",
    "kernelspec": {
      "display_name": "Python 3",
      "language": "python",
      "name": "python3"
    },
    "language_info": {
      "codemirror_mode": {
        "name": "ipython",
        "version": 3
      },
      "file_extension": ".py",
      "mimetype": "text/x-python",
      "name": "python",
      "nbconvert_exporter": "python",
      "pygments_lexer": "ipython3",
      "version": "3.7.12"
    }
  },
  "nbformat": 4,
  "nbformat_minor": 0
}