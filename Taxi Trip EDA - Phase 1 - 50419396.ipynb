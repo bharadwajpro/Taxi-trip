{
 "cells": [
  {
   "cell_type": "markdown",
   "metadata": {},
   "source": [
    "# Price analysis of Taxi trips in New York City"
   ]
  },
  {
   "cell_type": "markdown",
   "metadata": {},
   "source": [
    "## Motivation\n",
    "- Modern taxi companies like Uber and Lyft have made the Taxi trip prices as a blackbox. No one other than the company know how the price is determined. It is important for passengers to know how much more the companies charge the passengers and make them aware of the factors that determine the price.\n",
    "- Understanding the factors affecting the price brings more transparency and forces companies and consumers to make the best judgement as to what would be a fair price so that all the involved stackholders (Drivers, Riders and Companies) can sustain according to their best interest.\n",
    "- Even though Uber provides some sort of per minute and per mile rates in their fare breakdown, the rates are variable according to time and location. Predictable pricing allows consumers to plan and adopt the taxi services more."
   ]
  },
  {
   "cell_type": "markdown",
   "metadata": {},
   "source": [
    "## Problem Statement\n",
    "- The goal of this analysis is to do Exploratory Data Analysis (EDA) and try to understand the patterns in each scenario and come to some well defined conclusions.\n",
    "- These findings will help in coming up with the right Machine Learning model that tries to fit in the dataset.\n",
    "- This ML Model can later be used to build a tool to show up the price estimate along with estimated share for each stackholder, given a pickup and dropoff location."
   ]
  },
  {
   "cell_type": "markdown",
   "metadata": {},
   "source": [
    "## Research Questions\n",
    "1. Is the current form of pricing model adopted by Taxi companies benefit the consumers?\n",
    "2. If a different model is to be adopted, what could be the possibilites which benefit all the stackholders like Drivers, Passengers and the Platform companies like Uber, Lyft?\n",
    "3. Is there any way for the Taxi companies to remove the inefficiencies in the current business and pricing models and end up in profits? (For context: Uber and Lyft are still net loss making)"
   ]
  },
  {
   "cell_type": "markdown",
   "metadata": {},
   "source": [
    "Import numpy, pandas, matplotlib, seaborn"
   ]
  },
  {
   "cell_type": "code",
   "execution_count": 1,
   "metadata": {
    "_cell_guid": "b1076dfc-b9ad-4769-8c92-a6c4dae69d19",
    "_uuid": "8f2839f25d086af736a60e9eeb907d3b93b6e0e5",
    "execution": {
     "iopub.execute_input": "2022-10-02T16:51:38.185496Z",
     "iopub.status.busy": "2022-10-02T16:51:38.184885Z",
     "iopub.status.idle": "2022-10-02T16:51:38.214752Z",
     "shell.execute_reply": "2022-10-02T16:51:38.213443Z",
     "shell.execute_reply.started": "2022-10-02T16:51:38.185371Z"
    }
   },
   "outputs": [],
   "source": [
    "import numpy as np\n",
    "import pandas as pd\n",
    "import matplotlib.pyplot as plt"
   ]
  },
  {
   "cell_type": "code",
   "execution_count": 2,
   "metadata": {},
   "outputs": [],
   "source": [
    "import seaborn as sns"
   ]
  },
  {
   "cell_type": "markdown",
   "metadata": {},
   "source": [
    "Source of dataset [https://www1.nyc.gov/site/tlc/about/tlc-trip-record-data.page](https://www1.nyc.gov/site/tlc/about/tlc-trip-record-data.page)"
   ]
  },
  {
   "cell_type": "code",
   "execution_count": 3,
   "metadata": {
    "execution": {
     "iopub.execute_input": "2022-10-02T16:51:41.072215Z",
     "iopub.status.busy": "2022-10-02T16:51:41.071764Z",
     "iopub.status.idle": "2022-10-02T16:51:58.457973Z",
     "shell.execute_reply": "2022-10-02T16:51:58.456490Z",
     "shell.execute_reply.started": "2022-10-02T16:51:41.072175Z"
    }
   },
   "outputs": [
    {
     "name": "stdout",
     "output_type": "stream",
     "text": [
      "--2022-10-09 17:29:15--  https://d37ci6vzurychx.cloudfront.net/trip-data/fhvhv_tripdata_2022-06.parquet\n",
      "Resolving d37ci6vzurychx.cloudfront.net (d37ci6vzurychx.cloudfront.net)... 2600:9000:21dd:1a00:b:20a5:b140:21, 2600:9000:21dd:d000:b:20a5:b140:21, 2600:9000:21dd:be00:b:20a5:b140:21, ...\n",
      "Connecting to d37ci6vzurychx.cloudfront.net (d37ci6vzurychx.cloudfront.net)|2600:9000:21dd:1a00:b:20a5:b140:21|:443... connected.\n",
      "HTTP request sent, awaiting response... 200 OK\n",
      "Length: 458193119 (437M) [application/x-www-form-urlencoded]\n",
      "Saving to: 'fhvhv_tripdata_2022-06.parquet.1'\n",
      "\n",
      "fhvhv_tripdata_2022 100%[===================>] 436.97M  5.72MB/s    in 3m 30s  \n",
      "\n",
      "2022-10-09 17:32:48 (2.08 MB/s) - 'fhvhv_tripdata_2022-06.parquet.1' saved [458193119/458193119]\n",
      "\n"
     ]
    }
   ],
   "source": [
    "# trip data\n",
    "!wget https://d37ci6vzurychx.cloudfront.net/trip-data/fhvhv_tripdata_2022-06.parquet"
   ]
  },
  {
   "cell_type": "code",
   "execution_count": 4,
   "metadata": {},
   "outputs": [
    {
     "name": "stdout",
     "output_type": "stream",
     "text": [
      "--2022-10-09 17:32:48--  https://d37ci6vzurychx.cloudfront.net/misc/taxi+_zone_lookup.csv\n",
      "Resolving d37ci6vzurychx.cloudfront.net (d37ci6vzurychx.cloudfront.net)... 2600:9000:21dd:ea00:b:20a5:b140:21, 2600:9000:21dd:3200:b:20a5:b140:21, 2600:9000:21dd:d800:b:20a5:b140:21, ...\n",
      "Connecting to d37ci6vzurychx.cloudfront.net (d37ci6vzurychx.cloudfront.net)|2600:9000:21dd:ea00:b:20a5:b140:21|:443... connected.\n",
      "HTTP request sent, awaiting response... 200 OK\n",
      "Length: 12322 (12K) [text/csv]\n",
      "Saving to: 'taxi+_zone_lookup.csv.1'\n",
      "\n",
      "taxi+_zone_lookup.c 100%[===================>]  12.03K  --.-KB/s    in 0.01s   \n",
      "\n",
      "2022-10-09 17:32:49 (849 KB/s) - 'taxi+_zone_lookup.csv.1' saved [12322/12322]\n",
      "\n"
     ]
    }
   ],
   "source": [
    "# zone data\n",
    "!wget https://d37ci6vzurychx.cloudfront.net/misc/taxi+_zone_lookup.csv"
   ]
  },
  {
   "cell_type": "markdown",
   "metadata": {},
   "source": [
    "Do\n",
    "1. pip install pyarrow\n",
    "2. pip install fastparquet\n",
    "\n",
    "For reading parquet files"
   ]
  },
  {
   "cell_type": "markdown",
   "metadata": {},
   "source": [
    "Read trip data for June 2022"
   ]
  },
  {
   "cell_type": "code",
   "execution_count": 5,
   "metadata": {
    "execution": {
     "iopub.execute_input": "2022-10-02T16:52:01.441050Z",
     "iopub.status.busy": "2022-10-02T16:52:01.440601Z",
     "iopub.status.idle": "2022-10-02T16:52:13.290253Z",
     "shell.execute_reply": "2022-10-02T16:52:13.289193Z",
     "shell.execute_reply.started": "2022-10-02T16:52:01.441009Z"
    }
   },
   "outputs": [],
   "source": [
    "df = pd.read_parquet('fhvhv_tripdata_2022-06.parquet')"
   ]
  },
  {
   "cell_type": "code",
   "execution_count": 6,
   "metadata": {},
   "outputs": [
    {
     "data": {
      "text/html": [
       "<div>\n",
       "<style scoped>\n",
       "    .dataframe tbody tr th:only-of-type {\n",
       "        vertical-align: middle;\n",
       "    }\n",
       "\n",
       "    .dataframe tbody tr th {\n",
       "        vertical-align: top;\n",
       "    }\n",
       "\n",
       "    .dataframe thead th {\n",
       "        text-align: right;\n",
       "    }\n",
       "</style>\n",
       "<table border=\"1\" class=\"dataframe\">\n",
       "  <thead>\n",
       "    <tr style=\"text-align: right;\">\n",
       "      <th></th>\n",
       "      <th>hvfhs_license_num</th>\n",
       "      <th>dispatching_base_num</th>\n",
       "      <th>originating_base_num</th>\n",
       "      <th>request_datetime</th>\n",
       "      <th>on_scene_datetime</th>\n",
       "      <th>pickup_datetime</th>\n",
       "      <th>dropoff_datetime</th>\n",
       "      <th>PULocationID</th>\n",
       "      <th>DOLocationID</th>\n",
       "      <th>trip_miles</th>\n",
       "      <th>...</th>\n",
       "      <th>sales_tax</th>\n",
       "      <th>congestion_surcharge</th>\n",
       "      <th>airport_fee</th>\n",
       "      <th>tips</th>\n",
       "      <th>driver_pay</th>\n",
       "      <th>shared_request_flag</th>\n",
       "      <th>shared_match_flag</th>\n",
       "      <th>access_a_ride_flag</th>\n",
       "      <th>wav_request_flag</th>\n",
       "      <th>wav_match_flag</th>\n",
       "    </tr>\n",
       "  </thead>\n",
       "  <tbody>\n",
       "    <tr>\n",
       "      <th>0</th>\n",
       "      <td>HV0003</td>\n",
       "      <td>B03404</td>\n",
       "      <td>B03404</td>\n",
       "      <td>2022-06-01 00:15:35</td>\n",
       "      <td>2022-06-01 00:17:20</td>\n",
       "      <td>2022-06-01 00:17:41</td>\n",
       "      <td>2022-06-01 00:25:41</td>\n",
       "      <td>234</td>\n",
       "      <td>114</td>\n",
       "      <td>1.500</td>\n",
       "      <td>...</td>\n",
       "      <td>0.68</td>\n",
       "      <td>2.75</td>\n",
       "      <td>0.0</td>\n",
       "      <td>1.00</td>\n",
       "      <td>9.36</td>\n",
       "      <td>N</td>\n",
       "      <td>N</td>\n",
       "      <td></td>\n",
       "      <td>N</td>\n",
       "      <td>N</td>\n",
       "    </tr>\n",
       "    <tr>\n",
       "      <th>1</th>\n",
       "      <td>HV0003</td>\n",
       "      <td>B03404</td>\n",
       "      <td>B03404</td>\n",
       "      <td>2022-06-01 00:39:04</td>\n",
       "      <td>2022-06-01 00:40:36</td>\n",
       "      <td>2022-06-01 00:42:37</td>\n",
       "      <td>2022-06-01 00:56:32</td>\n",
       "      <td>161</td>\n",
       "      <td>151</td>\n",
       "      <td>4.180</td>\n",
       "      <td>...</td>\n",
       "      <td>1.81</td>\n",
       "      <td>2.75</td>\n",
       "      <td>0.0</td>\n",
       "      <td>4.82</td>\n",
       "      <td>15.61</td>\n",
       "      <td>N</td>\n",
       "      <td>N</td>\n",
       "      <td></td>\n",
       "      <td>N</td>\n",
       "      <td>N</td>\n",
       "    </tr>\n",
       "    <tr>\n",
       "      <th>2</th>\n",
       "      <td>HV0003</td>\n",
       "      <td>B03404</td>\n",
       "      <td>B03404</td>\n",
       "      <td>2022-06-01 00:27:53</td>\n",
       "      <td>2022-06-01 00:31:34</td>\n",
       "      <td>2022-06-01 00:36:22</td>\n",
       "      <td>2022-06-01 00:45:31</td>\n",
       "      <td>231</td>\n",
       "      <td>87</td>\n",
       "      <td>2.910</td>\n",
       "      <td>...</td>\n",
       "      <td>1.09</td>\n",
       "      <td>2.75</td>\n",
       "      <td>0.0</td>\n",
       "      <td>1.00</td>\n",
       "      <td>8.22</td>\n",
       "      <td>N</td>\n",
       "      <td>N</td>\n",
       "      <td></td>\n",
       "      <td>N</td>\n",
       "      <td>N</td>\n",
       "    </tr>\n",
       "    <tr>\n",
       "      <th>3</th>\n",
       "      <td>HV0003</td>\n",
       "      <td>B03404</td>\n",
       "      <td>B03404</td>\n",
       "      <td>2022-06-01 00:48:15</td>\n",
       "      <td>2022-06-01 00:49:38</td>\n",
       "      <td>2022-06-01 00:51:18</td>\n",
       "      <td>2022-06-01 01:11:15</td>\n",
       "      <td>87</td>\n",
       "      <td>225</td>\n",
       "      <td>5.450</td>\n",
       "      <td>...</td>\n",
       "      <td>2.19</td>\n",
       "      <td>2.75</td>\n",
       "      <td>0.0</td>\n",
       "      <td>0.00</td>\n",
       "      <td>16.88</td>\n",
       "      <td>N</td>\n",
       "      <td>N</td>\n",
       "      <td></td>\n",
       "      <td>N</td>\n",
       "      <td>N</td>\n",
       "    </tr>\n",
       "    <tr>\n",
       "      <th>4</th>\n",
       "      <td>HV0005</td>\n",
       "      <td>B03406</td>\n",
       "      <td>None</td>\n",
       "      <td>2022-06-01 00:04:51</td>\n",
       "      <td>NaT</td>\n",
       "      <td>2022-06-01 00:13:33</td>\n",
       "      <td>2022-06-01 00:17:27</td>\n",
       "      <td>137</td>\n",
       "      <td>162</td>\n",
       "      <td>1.069</td>\n",
       "      <td>...</td>\n",
       "      <td>0.73</td>\n",
       "      <td>2.75</td>\n",
       "      <td>0.0</td>\n",
       "      <td>0.00</td>\n",
       "      <td>5.47</td>\n",
       "      <td>N</td>\n",
       "      <td>N</td>\n",
       "      <td>N</td>\n",
       "      <td>N</td>\n",
       "      <td>N</td>\n",
       "    </tr>\n",
       "    <tr>\n",
       "      <th>...</th>\n",
       "      <td>...</td>\n",
       "      <td>...</td>\n",
       "      <td>...</td>\n",
       "      <td>...</td>\n",
       "      <td>...</td>\n",
       "      <td>...</td>\n",
       "      <td>...</td>\n",
       "      <td>...</td>\n",
       "      <td>...</td>\n",
       "      <td>...</td>\n",
       "      <td>...</td>\n",
       "      <td>...</td>\n",
       "      <td>...</td>\n",
       "      <td>...</td>\n",
       "      <td>...</td>\n",
       "      <td>...</td>\n",
       "      <td>...</td>\n",
       "      <td>...</td>\n",
       "      <td>...</td>\n",
       "      <td>...</td>\n",
       "      <td>...</td>\n",
       "    </tr>\n",
       "    <tr>\n",
       "      <th>17780070</th>\n",
       "      <td>HV0003</td>\n",
       "      <td>B03404</td>\n",
       "      <td>B03404</td>\n",
       "      <td>2022-06-30 23:20:49</td>\n",
       "      <td>2022-06-30 23:24:23</td>\n",
       "      <td>2022-06-30 23:24:43</td>\n",
       "      <td>2022-06-30 23:38:19</td>\n",
       "      <td>74</td>\n",
       "      <td>224</td>\n",
       "      <td>6.070</td>\n",
       "      <td>...</td>\n",
       "      <td>1.56</td>\n",
       "      <td>2.75</td>\n",
       "      <td>0.0</td>\n",
       "      <td>2.24</td>\n",
       "      <td>16.23</td>\n",
       "      <td>N</td>\n",
       "      <td>N</td>\n",
       "      <td></td>\n",
       "      <td>N</td>\n",
       "      <td>N</td>\n",
       "    </tr>\n",
       "    <tr>\n",
       "      <th>17780071</th>\n",
       "      <td>HV0003</td>\n",
       "      <td>B03404</td>\n",
       "      <td>B03404</td>\n",
       "      <td>2022-06-30 23:36:13</td>\n",
       "      <td>2022-06-30 23:39:12</td>\n",
       "      <td>2022-06-30 23:39:20</td>\n",
       "      <td>2022-06-30 23:51:10</td>\n",
       "      <td>224</td>\n",
       "      <td>13</td>\n",
       "      <td>4.900</td>\n",
       "      <td>...</td>\n",
       "      <td>1.59</td>\n",
       "      <td>2.75</td>\n",
       "      <td>0.0</td>\n",
       "      <td>0.00</td>\n",
       "      <td>13.94</td>\n",
       "      <td>N</td>\n",
       "      <td>N</td>\n",
       "      <td></td>\n",
       "      <td>N</td>\n",
       "      <td>N</td>\n",
       "    </tr>\n",
       "    <tr>\n",
       "      <th>17780072</th>\n",
       "      <td>HV0003</td>\n",
       "      <td>B03404</td>\n",
       "      <td>B03404</td>\n",
       "      <td>2022-06-30 23:50:50</td>\n",
       "      <td>2022-06-30 23:55:11</td>\n",
       "      <td>2022-06-30 23:57:12</td>\n",
       "      <td>2022-07-01 00:07:07</td>\n",
       "      <td>231</td>\n",
       "      <td>231</td>\n",
       "      <td>0.530</td>\n",
       "      <td>...</td>\n",
       "      <td>1.06</td>\n",
       "      <td>2.75</td>\n",
       "      <td>0.0</td>\n",
       "      <td>3.00</td>\n",
       "      <td>18.46</td>\n",
       "      <td>N</td>\n",
       "      <td>N</td>\n",
       "      <td></td>\n",
       "      <td>N</td>\n",
       "      <td>N</td>\n",
       "    </tr>\n",
       "    <tr>\n",
       "      <th>17780073</th>\n",
       "      <td>HV0003</td>\n",
       "      <td>B03404</td>\n",
       "      <td>B03404</td>\n",
       "      <td>2022-06-30 23:02:40</td>\n",
       "      <td>2022-06-30 23:04:58</td>\n",
       "      <td>2022-06-30 23:06:44</td>\n",
       "      <td>2022-06-30 23:26:28</td>\n",
       "      <td>234</td>\n",
       "      <td>48</td>\n",
       "      <td>2.850</td>\n",
       "      <td>...</td>\n",
       "      <td>2.79</td>\n",
       "      <td>2.75</td>\n",
       "      <td>0.0</td>\n",
       "      <td>1.00</td>\n",
       "      <td>27.27</td>\n",
       "      <td>N</td>\n",
       "      <td>N</td>\n",
       "      <td></td>\n",
       "      <td>N</td>\n",
       "      <td>N</td>\n",
       "    </tr>\n",
       "    <tr>\n",
       "      <th>17780074</th>\n",
       "      <td>HV0005</td>\n",
       "      <td>B03406</td>\n",
       "      <td>None</td>\n",
       "      <td>2022-06-30 23:00:28</td>\n",
       "      <td>NaT</td>\n",
       "      <td>2022-06-30 23:03:06</td>\n",
       "      <td>2022-06-30 23:18:13</td>\n",
       "      <td>244</td>\n",
       "      <td>242</td>\n",
       "      <td>6.207</td>\n",
       "      <td>...</td>\n",
       "      <td>1.80</td>\n",
       "      <td>0.00</td>\n",
       "      <td>0.0</td>\n",
       "      <td>0.00</td>\n",
       "      <td>15.26</td>\n",
       "      <td>N</td>\n",
       "      <td>N</td>\n",
       "      <td>N</td>\n",
       "      <td>N</td>\n",
       "      <td>N</td>\n",
       "    </tr>\n",
       "  </tbody>\n",
       "</table>\n",
       "<p>17780075 rows × 24 columns</p>\n",
       "</div>"
      ],
      "text/plain": [
       "         hvfhs_license_num dispatching_base_num originating_base_num  \\\n",
       "0                   HV0003               B03404               B03404   \n",
       "1                   HV0003               B03404               B03404   \n",
       "2                   HV0003               B03404               B03404   \n",
       "3                   HV0003               B03404               B03404   \n",
       "4                   HV0005               B03406                 None   \n",
       "...                    ...                  ...                  ...   \n",
       "17780070            HV0003               B03404               B03404   \n",
       "17780071            HV0003               B03404               B03404   \n",
       "17780072            HV0003               B03404               B03404   \n",
       "17780073            HV0003               B03404               B03404   \n",
       "17780074            HV0005               B03406                 None   \n",
       "\n",
       "            request_datetime   on_scene_datetime     pickup_datetime  \\\n",
       "0        2022-06-01 00:15:35 2022-06-01 00:17:20 2022-06-01 00:17:41   \n",
       "1        2022-06-01 00:39:04 2022-06-01 00:40:36 2022-06-01 00:42:37   \n",
       "2        2022-06-01 00:27:53 2022-06-01 00:31:34 2022-06-01 00:36:22   \n",
       "3        2022-06-01 00:48:15 2022-06-01 00:49:38 2022-06-01 00:51:18   \n",
       "4        2022-06-01 00:04:51                 NaT 2022-06-01 00:13:33   \n",
       "...                      ...                 ...                 ...   \n",
       "17780070 2022-06-30 23:20:49 2022-06-30 23:24:23 2022-06-30 23:24:43   \n",
       "17780071 2022-06-30 23:36:13 2022-06-30 23:39:12 2022-06-30 23:39:20   \n",
       "17780072 2022-06-30 23:50:50 2022-06-30 23:55:11 2022-06-30 23:57:12   \n",
       "17780073 2022-06-30 23:02:40 2022-06-30 23:04:58 2022-06-30 23:06:44   \n",
       "17780074 2022-06-30 23:00:28                 NaT 2022-06-30 23:03:06   \n",
       "\n",
       "            dropoff_datetime  PULocationID  DOLocationID  trip_miles  ...  \\\n",
       "0        2022-06-01 00:25:41           234           114       1.500  ...   \n",
       "1        2022-06-01 00:56:32           161           151       4.180  ...   \n",
       "2        2022-06-01 00:45:31           231            87       2.910  ...   \n",
       "3        2022-06-01 01:11:15            87           225       5.450  ...   \n",
       "4        2022-06-01 00:17:27           137           162       1.069  ...   \n",
       "...                      ...           ...           ...         ...  ...   \n",
       "17780070 2022-06-30 23:38:19            74           224       6.070  ...   \n",
       "17780071 2022-06-30 23:51:10           224            13       4.900  ...   \n",
       "17780072 2022-07-01 00:07:07           231           231       0.530  ...   \n",
       "17780073 2022-06-30 23:26:28           234            48       2.850  ...   \n",
       "17780074 2022-06-30 23:18:13           244           242       6.207  ...   \n",
       "\n",
       "          sales_tax  congestion_surcharge  airport_fee  tips  driver_pay  \\\n",
       "0              0.68                  2.75          0.0  1.00        9.36   \n",
       "1              1.81                  2.75          0.0  4.82       15.61   \n",
       "2              1.09                  2.75          0.0  1.00        8.22   \n",
       "3              2.19                  2.75          0.0  0.00       16.88   \n",
       "4              0.73                  2.75          0.0  0.00        5.47   \n",
       "...             ...                   ...          ...   ...         ...   \n",
       "17780070       1.56                  2.75          0.0  2.24       16.23   \n",
       "17780071       1.59                  2.75          0.0  0.00       13.94   \n",
       "17780072       1.06                  2.75          0.0  3.00       18.46   \n",
       "17780073       2.79                  2.75          0.0  1.00       27.27   \n",
       "17780074       1.80                  0.00          0.0  0.00       15.26   \n",
       "\n",
       "          shared_request_flag  shared_match_flag  access_a_ride_flag  \\\n",
       "0                           N                  N                       \n",
       "1                           N                  N                       \n",
       "2                           N                  N                       \n",
       "3                           N                  N                       \n",
       "4                           N                  N                   N   \n",
       "...                       ...                ...                 ...   \n",
       "17780070                    N                  N                       \n",
       "17780071                    N                  N                       \n",
       "17780072                    N                  N                       \n",
       "17780073                    N                  N                       \n",
       "17780074                    N                  N                   N   \n",
       "\n",
       "          wav_request_flag wav_match_flag  \n",
       "0                        N              N  \n",
       "1                        N              N  \n",
       "2                        N              N  \n",
       "3                        N              N  \n",
       "4                        N              N  \n",
       "...                    ...            ...  \n",
       "17780070                 N              N  \n",
       "17780071                 N              N  \n",
       "17780072                 N              N  \n",
       "17780073                 N              N  \n",
       "17780074                 N              N  \n",
       "\n",
       "[17780075 rows x 24 columns]"
      ]
     },
     "execution_count": 6,
     "metadata": {},
     "output_type": "execute_result"
    }
   ],
   "source": [
    "df"
   ]
  },
  {
   "cell_type": "markdown",
   "metadata": {},
   "source": [
    "Read zone data"
   ]
  },
  {
   "cell_type": "code",
   "execution_count": 7,
   "metadata": {},
   "outputs": [],
   "source": [
    "zone_df = pd.read_csv('taxi+_zone_lookup.csv')"
   ]
  },
  {
   "cell_type": "code",
   "execution_count": 8,
   "metadata": {},
   "outputs": [
    {
     "data": {
      "text/html": [
       "<div>\n",
       "<style scoped>\n",
       "    .dataframe tbody tr th:only-of-type {\n",
       "        vertical-align: middle;\n",
       "    }\n",
       "\n",
       "    .dataframe tbody tr th {\n",
       "        vertical-align: top;\n",
       "    }\n",
       "\n",
       "    .dataframe thead th {\n",
       "        text-align: right;\n",
       "    }\n",
       "</style>\n",
       "<table border=\"1\" class=\"dataframe\">\n",
       "  <thead>\n",
       "    <tr style=\"text-align: right;\">\n",
       "      <th></th>\n",
       "      <th>LocationID</th>\n",
       "      <th>Borough</th>\n",
       "      <th>Zone</th>\n",
       "      <th>service_zone</th>\n",
       "    </tr>\n",
       "  </thead>\n",
       "  <tbody>\n",
       "    <tr>\n",
       "      <th>0</th>\n",
       "      <td>1</td>\n",
       "      <td>EWR</td>\n",
       "      <td>Newark Airport</td>\n",
       "      <td>EWR</td>\n",
       "    </tr>\n",
       "    <tr>\n",
       "      <th>1</th>\n",
       "      <td>2</td>\n",
       "      <td>Queens</td>\n",
       "      <td>Jamaica Bay</td>\n",
       "      <td>Boro Zone</td>\n",
       "    </tr>\n",
       "    <tr>\n",
       "      <th>2</th>\n",
       "      <td>3</td>\n",
       "      <td>Bronx</td>\n",
       "      <td>Allerton/Pelham Gardens</td>\n",
       "      <td>Boro Zone</td>\n",
       "    </tr>\n",
       "    <tr>\n",
       "      <th>3</th>\n",
       "      <td>4</td>\n",
       "      <td>Manhattan</td>\n",
       "      <td>Alphabet City</td>\n",
       "      <td>Yellow Zone</td>\n",
       "    </tr>\n",
       "    <tr>\n",
       "      <th>4</th>\n",
       "      <td>5</td>\n",
       "      <td>Staten Island</td>\n",
       "      <td>Arden Heights</td>\n",
       "      <td>Boro Zone</td>\n",
       "    </tr>\n",
       "    <tr>\n",
       "      <th>...</th>\n",
       "      <td>...</td>\n",
       "      <td>...</td>\n",
       "      <td>...</td>\n",
       "      <td>...</td>\n",
       "    </tr>\n",
       "    <tr>\n",
       "      <th>260</th>\n",
       "      <td>261</td>\n",
       "      <td>Manhattan</td>\n",
       "      <td>World Trade Center</td>\n",
       "      <td>Yellow Zone</td>\n",
       "    </tr>\n",
       "    <tr>\n",
       "      <th>261</th>\n",
       "      <td>262</td>\n",
       "      <td>Manhattan</td>\n",
       "      <td>Yorkville East</td>\n",
       "      <td>Yellow Zone</td>\n",
       "    </tr>\n",
       "    <tr>\n",
       "      <th>262</th>\n",
       "      <td>263</td>\n",
       "      <td>Manhattan</td>\n",
       "      <td>Yorkville West</td>\n",
       "      <td>Yellow Zone</td>\n",
       "    </tr>\n",
       "    <tr>\n",
       "      <th>263</th>\n",
       "      <td>264</td>\n",
       "      <td>Unknown</td>\n",
       "      <td>NV</td>\n",
       "      <td>NaN</td>\n",
       "    </tr>\n",
       "    <tr>\n",
       "      <th>264</th>\n",
       "      <td>265</td>\n",
       "      <td>Unknown</td>\n",
       "      <td>NaN</td>\n",
       "      <td>NaN</td>\n",
       "    </tr>\n",
       "  </tbody>\n",
       "</table>\n",
       "<p>265 rows × 4 columns</p>\n",
       "</div>"
      ],
      "text/plain": [
       "     LocationID        Borough                     Zone service_zone\n",
       "0             1            EWR           Newark Airport          EWR\n",
       "1             2         Queens              Jamaica Bay    Boro Zone\n",
       "2             3          Bronx  Allerton/Pelham Gardens    Boro Zone\n",
       "3             4      Manhattan            Alphabet City  Yellow Zone\n",
       "4             5  Staten Island            Arden Heights    Boro Zone\n",
       "..          ...            ...                      ...          ...\n",
       "260         261      Manhattan       World Trade Center  Yellow Zone\n",
       "261         262      Manhattan           Yorkville East  Yellow Zone\n",
       "262         263      Manhattan           Yorkville West  Yellow Zone\n",
       "263         264        Unknown                       NV          NaN\n",
       "264         265        Unknown                      NaN          NaN\n",
       "\n",
       "[265 rows x 4 columns]"
      ]
     },
     "execution_count": 8,
     "metadata": {},
     "output_type": "execute_result"
    }
   ],
   "source": [
    "zone_df"
   ]
  },
  {
   "cell_type": "markdown",
   "metadata": {},
   "source": [
    "Statistics for each column of trip data"
   ]
  },
  {
   "cell_type": "code",
   "execution_count": 9,
   "metadata": {
    "execution": {
     "iopub.execute_input": "2022-10-02T16:37:42.569668Z",
     "iopub.status.busy": "2022-10-02T16:37:42.569268Z",
     "iopub.status.idle": "2022-10-02T16:37:52.318440Z",
     "shell.execute_reply": "2022-10-02T16:37:52.317430Z",
     "shell.execute_reply.started": "2022-10-02T16:37:42.569639Z"
    }
   },
   "outputs": [
    {
     "data": {
      "text/html": [
       "<div>\n",
       "<style scoped>\n",
       "    .dataframe tbody tr th:only-of-type {\n",
       "        vertical-align: middle;\n",
       "    }\n",
       "\n",
       "    .dataframe tbody tr th {\n",
       "        vertical-align: top;\n",
       "    }\n",
       "\n",
       "    .dataframe thead th {\n",
       "        text-align: right;\n",
       "    }\n",
       "</style>\n",
       "<table border=\"1\" class=\"dataframe\">\n",
       "  <thead>\n",
       "    <tr style=\"text-align: right;\">\n",
       "      <th></th>\n",
       "      <th>PULocationID</th>\n",
       "      <th>DOLocationID</th>\n",
       "      <th>trip_miles</th>\n",
       "      <th>trip_time</th>\n",
       "      <th>base_passenger_fare</th>\n",
       "      <th>tolls</th>\n",
       "      <th>bcf</th>\n",
       "      <th>sales_tax</th>\n",
       "      <th>congestion_surcharge</th>\n",
       "      <th>airport_fee</th>\n",
       "      <th>tips</th>\n",
       "      <th>driver_pay</th>\n",
       "    </tr>\n",
       "  </thead>\n",
       "  <tbody>\n",
       "    <tr>\n",
       "      <th>count</th>\n",
       "      <td>1.778008e+07</td>\n",
       "      <td>1.778008e+07</td>\n",
       "      <td>1.778008e+07</td>\n",
       "      <td>1.778008e+07</td>\n",
       "      <td>1.778008e+07</td>\n",
       "      <td>1.778008e+07</td>\n",
       "      <td>1.778008e+07</td>\n",
       "      <td>1.778008e+07</td>\n",
       "      <td>1.778008e+07</td>\n",
       "      <td>1.778008e+07</td>\n",
       "      <td>1.778008e+07</td>\n",
       "      <td>1.778008e+07</td>\n",
       "    </tr>\n",
       "    <tr>\n",
       "      <th>mean</th>\n",
       "      <td>1.390083e+02</td>\n",
       "      <td>1.429608e+02</td>\n",
       "      <td>5.169061e+00</td>\n",
       "      <td>1.216133e+03</td>\n",
       "      <td>2.507782e+01</td>\n",
       "      <td>1.194475e+00</td>\n",
       "      <td>7.946835e-01</td>\n",
       "      <td>2.124014e+00</td>\n",
       "      <td>1.160395e+00</td>\n",
       "      <td>2.122203e-01</td>\n",
       "      <td>1.164189e+00</td>\n",
       "      <td>1.992252e+01</td>\n",
       "    </tr>\n",
       "    <tr>\n",
       "      <th>std</th>\n",
       "      <td>7.492537e+01</td>\n",
       "      <td>7.802175e+01</td>\n",
       "      <td>6.058429e+00</td>\n",
       "      <td>8.924502e+02</td>\n",
       "      <td>2.111751e+01</td>\n",
       "      <td>3.975068e+00</td>\n",
       "      <td>7.077042e-01</td>\n",
       "      <td>1.757838e+00</td>\n",
       "      <td>1.366686e+00</td>\n",
       "      <td>7.030242e-01</td>\n",
       "      <td>3.247914e+00</td>\n",
       "      <td>1.629283e+01</td>\n",
       "    </tr>\n",
       "    <tr>\n",
       "      <th>min</th>\n",
       "      <td>2.000000e+00</td>\n",
       "      <td>1.000000e+00</td>\n",
       "      <td>0.000000e+00</td>\n",
       "      <td>0.000000e+00</td>\n",
       "      <td>-1.055700e+02</td>\n",
       "      <td>0.000000e+00</td>\n",
       "      <td>0.000000e+00</td>\n",
       "      <td>0.000000e+00</td>\n",
       "      <td>0.000000e+00</td>\n",
       "      <td>0.000000e+00</td>\n",
       "      <td>0.000000e+00</td>\n",
       "      <td>-1.300000e+02</td>\n",
       "    </tr>\n",
       "    <tr>\n",
       "      <th>25%</th>\n",
       "      <td>7.500000e+01</td>\n",
       "      <td>7.600000e+01</td>\n",
       "      <td>1.660000e+00</td>\n",
       "      <td>6.180000e+02</td>\n",
       "      <td>1.191000e+01</td>\n",
       "      <td>0.000000e+00</td>\n",
       "      <td>3.600000e-01</td>\n",
       "      <td>1.000000e+00</td>\n",
       "      <td>0.000000e+00</td>\n",
       "      <td>0.000000e+00</td>\n",
       "      <td>0.000000e+00</td>\n",
       "      <td>9.570000e+00</td>\n",
       "    </tr>\n",
       "    <tr>\n",
       "      <th>50%</th>\n",
       "      <td>1.400000e+02</td>\n",
       "      <td>1.420000e+02</td>\n",
       "      <td>3.119000e+00</td>\n",
       "      <td>9.840000e+02</td>\n",
       "      <td>1.922000e+01</td>\n",
       "      <td>0.000000e+00</td>\n",
       "      <td>5.800000e-01</td>\n",
       "      <td>1.640000e+00</td>\n",
       "      <td>0.000000e+00</td>\n",
       "      <td>0.000000e+00</td>\n",
       "      <td>0.000000e+00</td>\n",
       "      <td>1.536000e+01</td>\n",
       "    </tr>\n",
       "    <tr>\n",
       "      <th>75%</th>\n",
       "      <td>2.110000e+02</td>\n",
       "      <td>2.200000e+02</td>\n",
       "      <td>6.420000e+00</td>\n",
       "      <td>1.544000e+03</td>\n",
       "      <td>3.084000e+01</td>\n",
       "      <td>0.000000e+00</td>\n",
       "      <td>9.700000e-01</td>\n",
       "      <td>2.670000e+00</td>\n",
       "      <td>2.750000e+00</td>\n",
       "      <td>0.000000e+00</td>\n",
       "      <td>0.000000e+00</td>\n",
       "      <td>2.477000e+01</td>\n",
       "    </tr>\n",
       "    <tr>\n",
       "      <th>max</th>\n",
       "      <td>2.650000e+02</td>\n",
       "      <td>2.650000e+02</td>\n",
       "      <td>6.259600e+02</td>\n",
       "      <td>4.230900e+04</td>\n",
       "      <td>2.409230e+03</td>\n",
       "      <td>2.262000e+02</td>\n",
       "      <td>7.291000e+01</td>\n",
       "      <td>2.156800e+02</td>\n",
       "      <td>1.100000e+01</td>\n",
       "      <td>6.900000e+00</td>\n",
       "      <td>1.500000e+02</td>\n",
       "      <td>9.933100e+02</td>\n",
       "    </tr>\n",
       "  </tbody>\n",
       "</table>\n",
       "</div>"
      ],
      "text/plain": [
       "       PULocationID  DOLocationID    trip_miles     trip_time  \\\n",
       "count  1.778008e+07  1.778008e+07  1.778008e+07  1.778008e+07   \n",
       "mean   1.390083e+02  1.429608e+02  5.169061e+00  1.216133e+03   \n",
       "std    7.492537e+01  7.802175e+01  6.058429e+00  8.924502e+02   \n",
       "min    2.000000e+00  1.000000e+00  0.000000e+00  0.000000e+00   \n",
       "25%    7.500000e+01  7.600000e+01  1.660000e+00  6.180000e+02   \n",
       "50%    1.400000e+02  1.420000e+02  3.119000e+00  9.840000e+02   \n",
       "75%    2.110000e+02  2.200000e+02  6.420000e+00  1.544000e+03   \n",
       "max    2.650000e+02  2.650000e+02  6.259600e+02  4.230900e+04   \n",
       "\n",
       "       base_passenger_fare         tolls           bcf     sales_tax  \\\n",
       "count         1.778008e+07  1.778008e+07  1.778008e+07  1.778008e+07   \n",
       "mean          2.507782e+01  1.194475e+00  7.946835e-01  2.124014e+00   \n",
       "std           2.111751e+01  3.975068e+00  7.077042e-01  1.757838e+00   \n",
       "min          -1.055700e+02  0.000000e+00  0.000000e+00  0.000000e+00   \n",
       "25%           1.191000e+01  0.000000e+00  3.600000e-01  1.000000e+00   \n",
       "50%           1.922000e+01  0.000000e+00  5.800000e-01  1.640000e+00   \n",
       "75%           3.084000e+01  0.000000e+00  9.700000e-01  2.670000e+00   \n",
       "max           2.409230e+03  2.262000e+02  7.291000e+01  2.156800e+02   \n",
       "\n",
       "       congestion_surcharge   airport_fee          tips    driver_pay  \n",
       "count          1.778008e+07  1.778008e+07  1.778008e+07  1.778008e+07  \n",
       "mean           1.160395e+00  2.122203e-01  1.164189e+00  1.992252e+01  \n",
       "std            1.366686e+00  7.030242e-01  3.247914e+00  1.629283e+01  \n",
       "min            0.000000e+00  0.000000e+00  0.000000e+00 -1.300000e+02  \n",
       "25%            0.000000e+00  0.000000e+00  0.000000e+00  9.570000e+00  \n",
       "50%            0.000000e+00  0.000000e+00  0.000000e+00  1.536000e+01  \n",
       "75%            2.750000e+00  0.000000e+00  0.000000e+00  2.477000e+01  \n",
       "max            1.100000e+01  6.900000e+00  1.500000e+02  9.933100e+02  "
      ]
     },
     "execution_count": 9,
     "metadata": {},
     "output_type": "execute_result"
    }
   ],
   "source": [
    "df.describe()"
   ]
  },
  {
   "cell_type": "markdown",
   "metadata": {},
   "source": [
    "Column description for this data - [https://www1.nyc.gov/assets/tlc/downloads/pdf/data_dictionary_trip_records_hvfhs.pdf](https://www1.nyc.gov/assets/tlc/downloads/pdf/data_dictionary_trip_records_hvfhs.pdf)"
   ]
  },
  {
   "cell_type": "markdown",
   "metadata": {},
   "source": [
    "Data Cleaning/Processing - 1\n",
    "- Remove unnecessary columns not relevant to our problem statement"
   ]
  },
  {
   "cell_type": "code",
   "execution_count": 10,
   "metadata": {},
   "outputs": [],
   "source": [
    "df.drop(columns=['dispatching_base_num',\n",
    "                 'originating_base_num',\n",
    "                 'on_scene_datetime',\n",
    "                 'tolls',\n",
    "                 'bcf',\n",
    "                 'sales_tax',\n",
    "                 'congestion_surcharge',\n",
    "                 'airport_fee',\n",
    "                 'shared_request_flag',\n",
    "                 'shared_match_flag',\n",
    "                 'access_a_ride_flag',\n",
    "                 'wav_request_flag',\n",
    "                 'wav_match_flag'],\n",
    "        inplace=True)"
   ]
  },
  {
   "cell_type": "code",
   "execution_count": 11,
   "metadata": {
    "execution": {
     "iopub.execute_input": "2022-10-02T16:53:07.281744Z",
     "iopub.status.busy": "2022-10-02T16:53:07.280549Z",
     "iopub.status.idle": "2022-10-02T16:53:20.292017Z",
     "shell.execute_reply": "2022-10-02T16:53:20.290826Z",
     "shell.execute_reply.started": "2022-10-02T16:53:07.281688Z"
    },
    "scrolled": false
   },
   "outputs": [
    {
     "data": {
      "text/html": [
       "<div>\n",
       "<style scoped>\n",
       "    .dataframe tbody tr th:only-of-type {\n",
       "        vertical-align: middle;\n",
       "    }\n",
       "\n",
       "    .dataframe tbody tr th {\n",
       "        vertical-align: top;\n",
       "    }\n",
       "\n",
       "    .dataframe thead th {\n",
       "        text-align: right;\n",
       "    }\n",
       "</style>\n",
       "<table border=\"1\" class=\"dataframe\">\n",
       "  <thead>\n",
       "    <tr style=\"text-align: right;\">\n",
       "      <th></th>\n",
       "      <th>hvfhs_license_num</th>\n",
       "      <th>request_datetime</th>\n",
       "      <th>pickup_datetime</th>\n",
       "      <th>dropoff_datetime</th>\n",
       "      <th>PULocationID</th>\n",
       "      <th>DOLocationID</th>\n",
       "      <th>trip_miles</th>\n",
       "      <th>trip_time</th>\n",
       "      <th>base_passenger_fare</th>\n",
       "      <th>tips</th>\n",
       "      <th>driver_pay</th>\n",
       "    </tr>\n",
       "  </thead>\n",
       "  <tbody>\n",
       "    <tr>\n",
       "      <th>0</th>\n",
       "      <td>HV0003</td>\n",
       "      <td>2022-06-01 00:15:35</td>\n",
       "      <td>2022-06-01 00:17:41</td>\n",
       "      <td>2022-06-01 00:25:41</td>\n",
       "      <td>234</td>\n",
       "      <td>114</td>\n",
       "      <td>1.500</td>\n",
       "      <td>480</td>\n",
       "      <td>7.68</td>\n",
       "      <td>1.00</td>\n",
       "      <td>9.36</td>\n",
       "    </tr>\n",
       "    <tr>\n",
       "      <th>1</th>\n",
       "      <td>HV0003</td>\n",
       "      <td>2022-06-01 00:39:04</td>\n",
       "      <td>2022-06-01 00:42:37</td>\n",
       "      <td>2022-06-01 00:56:32</td>\n",
       "      <td>161</td>\n",
       "      <td>151</td>\n",
       "      <td>4.180</td>\n",
       "      <td>835</td>\n",
       "      <td>20.40</td>\n",
       "      <td>4.82</td>\n",
       "      <td>15.61</td>\n",
       "    </tr>\n",
       "    <tr>\n",
       "      <th>2</th>\n",
       "      <td>HV0003</td>\n",
       "      <td>2022-06-01 00:27:53</td>\n",
       "      <td>2022-06-01 00:36:22</td>\n",
       "      <td>2022-06-01 00:45:31</td>\n",
       "      <td>231</td>\n",
       "      <td>87</td>\n",
       "      <td>2.910</td>\n",
       "      <td>549</td>\n",
       "      <td>12.29</td>\n",
       "      <td>1.00</td>\n",
       "      <td>8.22</td>\n",
       "    </tr>\n",
       "    <tr>\n",
       "      <th>3</th>\n",
       "      <td>HV0003</td>\n",
       "      <td>2022-06-01 00:48:15</td>\n",
       "      <td>2022-06-01 00:51:18</td>\n",
       "      <td>2022-06-01 01:11:15</td>\n",
       "      <td>87</td>\n",
       "      <td>225</td>\n",
       "      <td>5.450</td>\n",
       "      <td>1197</td>\n",
       "      <td>24.70</td>\n",
       "      <td>0.00</td>\n",
       "      <td>16.88</td>\n",
       "    </tr>\n",
       "    <tr>\n",
       "      <th>4</th>\n",
       "      <td>HV0005</td>\n",
       "      <td>2022-06-01 00:04:51</td>\n",
       "      <td>2022-06-01 00:13:33</td>\n",
       "      <td>2022-06-01 00:17:27</td>\n",
       "      <td>137</td>\n",
       "      <td>162</td>\n",
       "      <td>1.069</td>\n",
       "      <td>234</td>\n",
       "      <td>8.23</td>\n",
       "      <td>0.00</td>\n",
       "      <td>5.47</td>\n",
       "    </tr>\n",
       "    <tr>\n",
       "      <th>...</th>\n",
       "      <td>...</td>\n",
       "      <td>...</td>\n",
       "      <td>...</td>\n",
       "      <td>...</td>\n",
       "      <td>...</td>\n",
       "      <td>...</td>\n",
       "      <td>...</td>\n",
       "      <td>...</td>\n",
       "      <td>...</td>\n",
       "      <td>...</td>\n",
       "      <td>...</td>\n",
       "    </tr>\n",
       "    <tr>\n",
       "      <th>17780070</th>\n",
       "      <td>HV0003</td>\n",
       "      <td>2022-06-30 23:20:49</td>\n",
       "      <td>2022-06-30 23:24:43</td>\n",
       "      <td>2022-06-30 23:38:19</td>\n",
       "      <td>74</td>\n",
       "      <td>224</td>\n",
       "      <td>6.070</td>\n",
       "      <td>816</td>\n",
       "      <td>17.60</td>\n",
       "      <td>2.24</td>\n",
       "      <td>16.23</td>\n",
       "    </tr>\n",
       "    <tr>\n",
       "      <th>17780071</th>\n",
       "      <td>HV0003</td>\n",
       "      <td>2022-06-30 23:36:13</td>\n",
       "      <td>2022-06-30 23:39:20</td>\n",
       "      <td>2022-06-30 23:51:10</td>\n",
       "      <td>224</td>\n",
       "      <td>13</td>\n",
       "      <td>4.900</td>\n",
       "      <td>710</td>\n",
       "      <td>17.93</td>\n",
       "      <td>0.00</td>\n",
       "      <td>13.94</td>\n",
       "    </tr>\n",
       "    <tr>\n",
       "      <th>17780072</th>\n",
       "      <td>HV0003</td>\n",
       "      <td>2022-06-30 23:50:50</td>\n",
       "      <td>2022-06-30 23:57:12</td>\n",
       "      <td>2022-07-01 00:07:07</td>\n",
       "      <td>231</td>\n",
       "      <td>231</td>\n",
       "      <td>0.530</td>\n",
       "      <td>595</td>\n",
       "      <td>11.98</td>\n",
       "      <td>3.00</td>\n",
       "      <td>18.46</td>\n",
       "    </tr>\n",
       "    <tr>\n",
       "      <th>17780073</th>\n",
       "      <td>HV0003</td>\n",
       "      <td>2022-06-30 23:02:40</td>\n",
       "      <td>2022-06-30 23:06:44</td>\n",
       "      <td>2022-06-30 23:26:28</td>\n",
       "      <td>234</td>\n",
       "      <td>48</td>\n",
       "      <td>2.850</td>\n",
       "      <td>1184</td>\n",
       "      <td>31.47</td>\n",
       "      <td>1.00</td>\n",
       "      <td>27.27</td>\n",
       "    </tr>\n",
       "    <tr>\n",
       "      <th>17780074</th>\n",
       "      <td>HV0005</td>\n",
       "      <td>2022-06-30 23:00:28</td>\n",
       "      <td>2022-06-30 23:03:06</td>\n",
       "      <td>2022-06-30 23:18:13</td>\n",
       "      <td>244</td>\n",
       "      <td>242</td>\n",
       "      <td>6.207</td>\n",
       "      <td>907</td>\n",
       "      <td>20.28</td>\n",
       "      <td>0.00</td>\n",
       "      <td>15.26</td>\n",
       "    </tr>\n",
       "  </tbody>\n",
       "</table>\n",
       "<p>17780075 rows × 11 columns</p>\n",
       "</div>"
      ],
      "text/plain": [
       "         hvfhs_license_num    request_datetime     pickup_datetime  \\\n",
       "0                   HV0003 2022-06-01 00:15:35 2022-06-01 00:17:41   \n",
       "1                   HV0003 2022-06-01 00:39:04 2022-06-01 00:42:37   \n",
       "2                   HV0003 2022-06-01 00:27:53 2022-06-01 00:36:22   \n",
       "3                   HV0003 2022-06-01 00:48:15 2022-06-01 00:51:18   \n",
       "4                   HV0005 2022-06-01 00:04:51 2022-06-01 00:13:33   \n",
       "...                    ...                 ...                 ...   \n",
       "17780070            HV0003 2022-06-30 23:20:49 2022-06-30 23:24:43   \n",
       "17780071            HV0003 2022-06-30 23:36:13 2022-06-30 23:39:20   \n",
       "17780072            HV0003 2022-06-30 23:50:50 2022-06-30 23:57:12   \n",
       "17780073            HV0003 2022-06-30 23:02:40 2022-06-30 23:06:44   \n",
       "17780074            HV0005 2022-06-30 23:00:28 2022-06-30 23:03:06   \n",
       "\n",
       "            dropoff_datetime  PULocationID  DOLocationID  trip_miles  \\\n",
       "0        2022-06-01 00:25:41           234           114       1.500   \n",
       "1        2022-06-01 00:56:32           161           151       4.180   \n",
       "2        2022-06-01 00:45:31           231            87       2.910   \n",
       "3        2022-06-01 01:11:15            87           225       5.450   \n",
       "4        2022-06-01 00:17:27           137           162       1.069   \n",
       "...                      ...           ...           ...         ...   \n",
       "17780070 2022-06-30 23:38:19            74           224       6.070   \n",
       "17780071 2022-06-30 23:51:10           224            13       4.900   \n",
       "17780072 2022-07-01 00:07:07           231           231       0.530   \n",
       "17780073 2022-06-30 23:26:28           234            48       2.850   \n",
       "17780074 2022-06-30 23:18:13           244           242       6.207   \n",
       "\n",
       "          trip_time  base_passenger_fare  tips  driver_pay  \n",
       "0               480                 7.68  1.00        9.36  \n",
       "1               835                20.40  4.82       15.61  \n",
       "2               549                12.29  1.00        8.22  \n",
       "3              1197                24.70  0.00       16.88  \n",
       "4               234                 8.23  0.00        5.47  \n",
       "...             ...                  ...   ...         ...  \n",
       "17780070        816                17.60  2.24       16.23  \n",
       "17780071        710                17.93  0.00       13.94  \n",
       "17780072        595                11.98  3.00       18.46  \n",
       "17780073       1184                31.47  1.00       27.27  \n",
       "17780074        907                20.28  0.00       15.26  \n",
       "\n",
       "[17780075 rows x 11 columns]"
      ]
     },
     "execution_count": 11,
     "metadata": {},
     "output_type": "execute_result"
    }
   ],
   "source": [
    "df"
   ]
  },
  {
   "cell_type": "markdown",
   "metadata": {},
   "source": [
    "Data Cleaning/Processing - 2\n",
    "- Drop NA values"
   ]
  },
  {
   "cell_type": "code",
   "execution_count": 12,
   "metadata": {},
   "outputs": [],
   "source": [
    "df.dropna(inplace=True)"
   ]
  },
  {
   "cell_type": "markdown",
   "metadata": {},
   "source": [
    "Data Cleaning/Processing - 3\n",
    "- Rename Columns and map the taxi company code to taxi name like Uber, Lyft"
   ]
  },
  {
   "cell_type": "markdown",
   "metadata": {},
   "source": [
    "Actual codes\n",
    "- HV0002: Juno\n",
    "- HV0003: Uber\n",
    "- HV0004: Via\n",
    "- HV0005: Lyft"
   ]
  },
  {
   "cell_type": "code",
   "execution_count": 13,
   "metadata": {},
   "outputs": [],
   "source": [
    "df.rename(columns={\n",
    "    'hvfhs_license_num': 'taxi_company',\n",
    "    'PULocationID': 'PULocation',\n",
    "    'DOLocationID': 'DOLocation'\n",
    "}, inplace=True)"
   ]
  },
  {
   "cell_type": "code",
   "execution_count": 14,
   "metadata": {},
   "outputs": [],
   "source": [
    "def license_company_map(lic):\n",
    "    if lic == 'HV0003':\n",
    "        return 'Uber'\n",
    "    elif lic == 'HV0005':\n",
    "        return 'Lyft'\n",
    "    return lic"
   ]
  },
  {
   "cell_type": "code",
   "execution_count": 15,
   "metadata": {},
   "outputs": [],
   "source": [
    "df['taxi_company'] = df['taxi_company'].map(license_company_map)"
   ]
  },
  {
   "cell_type": "markdown",
   "metadata": {},
   "source": [
    "Data Cleaning/Processing - 4\n",
    "- Now there are some unknown locations in Pickup and Dropoff which we know by analysing Zone dataframe\n",
    "- Remove the rows containing unknown locations in \"df\""
   ]
  },
  {
   "cell_type": "code",
   "execution_count": 16,
   "metadata": {},
   "outputs": [
    {
     "data": {
      "text/html": [
       "<div>\n",
       "<style scoped>\n",
       "    .dataframe tbody tr th:only-of-type {\n",
       "        vertical-align: middle;\n",
       "    }\n",
       "\n",
       "    .dataframe tbody tr th {\n",
       "        vertical-align: top;\n",
       "    }\n",
       "\n",
       "    .dataframe thead th {\n",
       "        text-align: right;\n",
       "    }\n",
       "</style>\n",
       "<table border=\"1\" class=\"dataframe\">\n",
       "  <thead>\n",
       "    <tr style=\"text-align: right;\">\n",
       "      <th></th>\n",
       "      <th>LocationID</th>\n",
       "      <th>Borough</th>\n",
       "      <th>Zone</th>\n",
       "      <th>service_zone</th>\n",
       "    </tr>\n",
       "  </thead>\n",
       "  <tbody>\n",
       "    <tr>\n",
       "      <th>0</th>\n",
       "      <td>1</td>\n",
       "      <td>EWR</td>\n",
       "      <td>Newark Airport</td>\n",
       "      <td>EWR</td>\n",
       "    </tr>\n",
       "    <tr>\n",
       "      <th>1</th>\n",
       "      <td>2</td>\n",
       "      <td>Queens</td>\n",
       "      <td>Jamaica Bay</td>\n",
       "      <td>Boro Zone</td>\n",
       "    </tr>\n",
       "    <tr>\n",
       "      <th>2</th>\n",
       "      <td>3</td>\n",
       "      <td>Bronx</td>\n",
       "      <td>Allerton/Pelham Gardens</td>\n",
       "      <td>Boro Zone</td>\n",
       "    </tr>\n",
       "    <tr>\n",
       "      <th>3</th>\n",
       "      <td>4</td>\n",
       "      <td>Manhattan</td>\n",
       "      <td>Alphabet City</td>\n",
       "      <td>Yellow Zone</td>\n",
       "    </tr>\n",
       "    <tr>\n",
       "      <th>4</th>\n",
       "      <td>5</td>\n",
       "      <td>Staten Island</td>\n",
       "      <td>Arden Heights</td>\n",
       "      <td>Boro Zone</td>\n",
       "    </tr>\n",
       "    <tr>\n",
       "      <th>...</th>\n",
       "      <td>...</td>\n",
       "      <td>...</td>\n",
       "      <td>...</td>\n",
       "      <td>...</td>\n",
       "    </tr>\n",
       "    <tr>\n",
       "      <th>260</th>\n",
       "      <td>261</td>\n",
       "      <td>Manhattan</td>\n",
       "      <td>World Trade Center</td>\n",
       "      <td>Yellow Zone</td>\n",
       "    </tr>\n",
       "    <tr>\n",
       "      <th>261</th>\n",
       "      <td>262</td>\n",
       "      <td>Manhattan</td>\n",
       "      <td>Yorkville East</td>\n",
       "      <td>Yellow Zone</td>\n",
       "    </tr>\n",
       "    <tr>\n",
       "      <th>262</th>\n",
       "      <td>263</td>\n",
       "      <td>Manhattan</td>\n",
       "      <td>Yorkville West</td>\n",
       "      <td>Yellow Zone</td>\n",
       "    </tr>\n",
       "    <tr>\n",
       "      <th>263</th>\n",
       "      <td>264</td>\n",
       "      <td>Unknown</td>\n",
       "      <td>NV</td>\n",
       "      <td>NaN</td>\n",
       "    </tr>\n",
       "    <tr>\n",
       "      <th>264</th>\n",
       "      <td>265</td>\n",
       "      <td>Unknown</td>\n",
       "      <td>NaN</td>\n",
       "      <td>NaN</td>\n",
       "    </tr>\n",
       "  </tbody>\n",
       "</table>\n",
       "<p>265 rows × 4 columns</p>\n",
       "</div>"
      ],
      "text/plain": [
       "     LocationID        Borough                     Zone service_zone\n",
       "0             1            EWR           Newark Airport          EWR\n",
       "1             2         Queens              Jamaica Bay    Boro Zone\n",
       "2             3          Bronx  Allerton/Pelham Gardens    Boro Zone\n",
       "3             4      Manhattan            Alphabet City  Yellow Zone\n",
       "4             5  Staten Island            Arden Heights    Boro Zone\n",
       "..          ...            ...                      ...          ...\n",
       "260         261      Manhattan       World Trade Center  Yellow Zone\n",
       "261         262      Manhattan           Yorkville East  Yellow Zone\n",
       "262         263      Manhattan           Yorkville West  Yellow Zone\n",
       "263         264        Unknown                       NV          NaN\n",
       "264         265        Unknown                      NaN          NaN\n",
       "\n",
       "[265 rows x 4 columns]"
      ]
     },
     "execution_count": 16,
     "metadata": {},
     "output_type": "execute_result"
    }
   ],
   "source": [
    "zone_df"
   ]
  },
  {
   "cell_type": "code",
   "execution_count": 17,
   "metadata": {},
   "outputs": [
    {
     "data": {
      "text/html": [
       "<div>\n",
       "<style scoped>\n",
       "    .dataframe tbody tr th:only-of-type {\n",
       "        vertical-align: middle;\n",
       "    }\n",
       "\n",
       "    .dataframe tbody tr th {\n",
       "        vertical-align: top;\n",
       "    }\n",
       "\n",
       "    .dataframe thead th {\n",
       "        text-align: right;\n",
       "    }\n",
       "</style>\n",
       "<table border=\"1\" class=\"dataframe\">\n",
       "  <thead>\n",
       "    <tr style=\"text-align: right;\">\n",
       "      <th></th>\n",
       "      <th>taxi_company</th>\n",
       "      <th>request_datetime</th>\n",
       "      <th>pickup_datetime</th>\n",
       "      <th>dropoff_datetime</th>\n",
       "      <th>PULocation</th>\n",
       "      <th>DOLocation</th>\n",
       "      <th>trip_miles</th>\n",
       "      <th>trip_time</th>\n",
       "      <th>base_passenger_fare</th>\n",
       "      <th>tips</th>\n",
       "      <th>driver_pay</th>\n",
       "    </tr>\n",
       "  </thead>\n",
       "  <tbody>\n",
       "    <tr>\n",
       "      <th>0</th>\n",
       "      <td>Uber</td>\n",
       "      <td>2022-06-01 00:15:35</td>\n",
       "      <td>2022-06-01 00:17:41</td>\n",
       "      <td>2022-06-01 00:25:41</td>\n",
       "      <td>234</td>\n",
       "      <td>114</td>\n",
       "      <td>1.500</td>\n",
       "      <td>480</td>\n",
       "      <td>7.68</td>\n",
       "      <td>1.00</td>\n",
       "      <td>9.36</td>\n",
       "    </tr>\n",
       "    <tr>\n",
       "      <th>1</th>\n",
       "      <td>Uber</td>\n",
       "      <td>2022-06-01 00:39:04</td>\n",
       "      <td>2022-06-01 00:42:37</td>\n",
       "      <td>2022-06-01 00:56:32</td>\n",
       "      <td>161</td>\n",
       "      <td>151</td>\n",
       "      <td>4.180</td>\n",
       "      <td>835</td>\n",
       "      <td>20.40</td>\n",
       "      <td>4.82</td>\n",
       "      <td>15.61</td>\n",
       "    </tr>\n",
       "    <tr>\n",
       "      <th>2</th>\n",
       "      <td>Uber</td>\n",
       "      <td>2022-06-01 00:27:53</td>\n",
       "      <td>2022-06-01 00:36:22</td>\n",
       "      <td>2022-06-01 00:45:31</td>\n",
       "      <td>231</td>\n",
       "      <td>87</td>\n",
       "      <td>2.910</td>\n",
       "      <td>549</td>\n",
       "      <td>12.29</td>\n",
       "      <td>1.00</td>\n",
       "      <td>8.22</td>\n",
       "    </tr>\n",
       "    <tr>\n",
       "      <th>3</th>\n",
       "      <td>Uber</td>\n",
       "      <td>2022-06-01 00:48:15</td>\n",
       "      <td>2022-06-01 00:51:18</td>\n",
       "      <td>2022-06-01 01:11:15</td>\n",
       "      <td>87</td>\n",
       "      <td>225</td>\n",
       "      <td>5.450</td>\n",
       "      <td>1197</td>\n",
       "      <td>24.70</td>\n",
       "      <td>0.00</td>\n",
       "      <td>16.88</td>\n",
       "    </tr>\n",
       "    <tr>\n",
       "      <th>4</th>\n",
       "      <td>Lyft</td>\n",
       "      <td>2022-06-01 00:04:51</td>\n",
       "      <td>2022-06-01 00:13:33</td>\n",
       "      <td>2022-06-01 00:17:27</td>\n",
       "      <td>137</td>\n",
       "      <td>162</td>\n",
       "      <td>1.069</td>\n",
       "      <td>234</td>\n",
       "      <td>8.23</td>\n",
       "      <td>0.00</td>\n",
       "      <td>5.47</td>\n",
       "    </tr>\n",
       "    <tr>\n",
       "      <th>...</th>\n",
       "      <td>...</td>\n",
       "      <td>...</td>\n",
       "      <td>...</td>\n",
       "      <td>...</td>\n",
       "      <td>...</td>\n",
       "      <td>...</td>\n",
       "      <td>...</td>\n",
       "      <td>...</td>\n",
       "      <td>...</td>\n",
       "      <td>...</td>\n",
       "      <td>...</td>\n",
       "    </tr>\n",
       "    <tr>\n",
       "      <th>17780070</th>\n",
       "      <td>Uber</td>\n",
       "      <td>2022-06-30 23:20:49</td>\n",
       "      <td>2022-06-30 23:24:43</td>\n",
       "      <td>2022-06-30 23:38:19</td>\n",
       "      <td>74</td>\n",
       "      <td>224</td>\n",
       "      <td>6.070</td>\n",
       "      <td>816</td>\n",
       "      <td>17.60</td>\n",
       "      <td>2.24</td>\n",
       "      <td>16.23</td>\n",
       "    </tr>\n",
       "    <tr>\n",
       "      <th>17780071</th>\n",
       "      <td>Uber</td>\n",
       "      <td>2022-06-30 23:36:13</td>\n",
       "      <td>2022-06-30 23:39:20</td>\n",
       "      <td>2022-06-30 23:51:10</td>\n",
       "      <td>224</td>\n",
       "      <td>13</td>\n",
       "      <td>4.900</td>\n",
       "      <td>710</td>\n",
       "      <td>17.93</td>\n",
       "      <td>0.00</td>\n",
       "      <td>13.94</td>\n",
       "    </tr>\n",
       "    <tr>\n",
       "      <th>17780072</th>\n",
       "      <td>Uber</td>\n",
       "      <td>2022-06-30 23:50:50</td>\n",
       "      <td>2022-06-30 23:57:12</td>\n",
       "      <td>2022-07-01 00:07:07</td>\n",
       "      <td>231</td>\n",
       "      <td>231</td>\n",
       "      <td>0.530</td>\n",
       "      <td>595</td>\n",
       "      <td>11.98</td>\n",
       "      <td>3.00</td>\n",
       "      <td>18.46</td>\n",
       "    </tr>\n",
       "    <tr>\n",
       "      <th>17780073</th>\n",
       "      <td>Uber</td>\n",
       "      <td>2022-06-30 23:02:40</td>\n",
       "      <td>2022-06-30 23:06:44</td>\n",
       "      <td>2022-06-30 23:26:28</td>\n",
       "      <td>234</td>\n",
       "      <td>48</td>\n",
       "      <td>2.850</td>\n",
       "      <td>1184</td>\n",
       "      <td>31.47</td>\n",
       "      <td>1.00</td>\n",
       "      <td>27.27</td>\n",
       "    </tr>\n",
       "    <tr>\n",
       "      <th>17780074</th>\n",
       "      <td>Lyft</td>\n",
       "      <td>2022-06-30 23:00:28</td>\n",
       "      <td>2022-06-30 23:03:06</td>\n",
       "      <td>2022-06-30 23:18:13</td>\n",
       "      <td>244</td>\n",
       "      <td>242</td>\n",
       "      <td>6.207</td>\n",
       "      <td>907</td>\n",
       "      <td>20.28</td>\n",
       "      <td>0.00</td>\n",
       "      <td>15.26</td>\n",
       "    </tr>\n",
       "  </tbody>\n",
       "</table>\n",
       "<p>17780075 rows × 11 columns</p>\n",
       "</div>"
      ],
      "text/plain": [
       "         taxi_company    request_datetime     pickup_datetime  \\\n",
       "0                Uber 2022-06-01 00:15:35 2022-06-01 00:17:41   \n",
       "1                Uber 2022-06-01 00:39:04 2022-06-01 00:42:37   \n",
       "2                Uber 2022-06-01 00:27:53 2022-06-01 00:36:22   \n",
       "3                Uber 2022-06-01 00:48:15 2022-06-01 00:51:18   \n",
       "4                Lyft 2022-06-01 00:04:51 2022-06-01 00:13:33   \n",
       "...               ...                 ...                 ...   \n",
       "17780070         Uber 2022-06-30 23:20:49 2022-06-30 23:24:43   \n",
       "17780071         Uber 2022-06-30 23:36:13 2022-06-30 23:39:20   \n",
       "17780072         Uber 2022-06-30 23:50:50 2022-06-30 23:57:12   \n",
       "17780073         Uber 2022-06-30 23:02:40 2022-06-30 23:06:44   \n",
       "17780074         Lyft 2022-06-30 23:00:28 2022-06-30 23:03:06   \n",
       "\n",
       "            dropoff_datetime  PULocation  DOLocation  trip_miles  trip_time  \\\n",
       "0        2022-06-01 00:25:41         234         114       1.500        480   \n",
       "1        2022-06-01 00:56:32         161         151       4.180        835   \n",
       "2        2022-06-01 00:45:31         231          87       2.910        549   \n",
       "3        2022-06-01 01:11:15          87         225       5.450       1197   \n",
       "4        2022-06-01 00:17:27         137         162       1.069        234   \n",
       "...                      ...         ...         ...         ...        ...   \n",
       "17780070 2022-06-30 23:38:19          74         224       6.070        816   \n",
       "17780071 2022-06-30 23:51:10         224          13       4.900        710   \n",
       "17780072 2022-07-01 00:07:07         231         231       0.530        595   \n",
       "17780073 2022-06-30 23:26:28         234          48       2.850       1184   \n",
       "17780074 2022-06-30 23:18:13         244         242       6.207        907   \n",
       "\n",
       "          base_passenger_fare  tips  driver_pay  \n",
       "0                        7.68  1.00        9.36  \n",
       "1                       20.40  4.82       15.61  \n",
       "2                       12.29  1.00        8.22  \n",
       "3                       24.70  0.00       16.88  \n",
       "4                        8.23  0.00        5.47  \n",
       "...                       ...   ...         ...  \n",
       "17780070                17.60  2.24       16.23  \n",
       "17780071                17.93  0.00       13.94  \n",
       "17780072                11.98  3.00       18.46  \n",
       "17780073                31.47  1.00       27.27  \n",
       "17780074                20.28  0.00       15.26  \n",
       "\n",
       "[17780075 rows x 11 columns]"
      ]
     },
     "execution_count": 17,
     "metadata": {},
     "output_type": "execute_result"
    }
   ],
   "source": [
    "df"
   ]
  },
  {
   "cell_type": "code",
   "execution_count": 18,
   "metadata": {},
   "outputs": [],
   "source": [
    "def unknown_locations(id):\n",
    "    if id == 264 or id == 265:\n",
    "        return True\n",
    "    return False"
   ]
  },
  {
   "cell_type": "code",
   "execution_count": 19,
   "metadata": {},
   "outputs": [
    {
     "data": {
      "text/plain": [
       "Int64Index([   13254,    64649,    70100,    75130,    86298,    99255,\n",
       "              106944,   129350,   147399,   183654,\n",
       "            ...\n",
       "            17479230, 17500961, 17516820, 17545267, 17573284, 17618911,\n",
       "            17700506, 17772055, 17773057, 17776276],\n",
       "           dtype='int64', length=900)"
      ]
     },
     "execution_count": 19,
     "metadata": {},
     "output_type": "execute_result"
    }
   ],
   "source": [
    "df[\n",
    "    df.PULocation.map(unknown_locations)\n",
    "].index"
   ]
  },
  {
   "cell_type": "code",
   "execution_count": 20,
   "metadata": {},
   "outputs": [],
   "source": [
    "df.drop(df[\n",
    "    df.PULocation.map(unknown_locations)\n",
    "].index, inplace=True)"
   ]
  },
  {
   "cell_type": "code",
   "execution_count": 21,
   "metadata": {},
   "outputs": [
    {
     "data": {
      "text/plain": [
       "Int64Index([      23,       26,       44,       68,       80,      138,\n",
       "                 150,      168,      192,      240,\n",
       "            ...\n",
       "            17779915, 17779930, 17779977, 17779986, 17779990, 17779999,\n",
       "            17780016, 17780024, 17780036, 17780049],\n",
       "           dtype='int64', length=767811)"
      ]
     },
     "execution_count": 21,
     "metadata": {},
     "output_type": "execute_result"
    }
   ],
   "source": [
    "df[\n",
    "    df.DOLocation.map(unknown_locations)\n",
    "].index"
   ]
  },
  {
   "cell_type": "code",
   "execution_count": 22,
   "metadata": {},
   "outputs": [],
   "source": [
    "df.drop(df[\n",
    "    df.DOLocation.map(unknown_locations)\n",
    "].index, inplace=True)"
   ]
  },
  {
   "cell_type": "markdown",
   "metadata": {},
   "source": [
    "Data Cleaning/Processing - 5\n",
    "- There are some trips either having 0 miles as trip_miles or 0 seconds as time_time\n",
    "- Remove those trips"
   ]
  },
  {
   "cell_type": "code",
   "execution_count": 23,
   "metadata": {},
   "outputs": [],
   "source": [
    "def zero_trip(trip_ms):\n",
    "    if trip_ms == 0:\n",
    "        return True\n",
    "    return False"
   ]
  },
  {
   "cell_type": "code",
   "execution_count": 24,
   "metadata": {},
   "outputs": [],
   "source": [
    "df.drop(df[\n",
    "    df.trip_miles.map(zero_trip)\n",
    "].index, inplace=True)"
   ]
  },
  {
   "cell_type": "code",
   "execution_count": 25,
   "metadata": {},
   "outputs": [],
   "source": [
    "df.drop(df[\n",
    "    df.trip_time.map(zero_trip)\n",
    "].index, inplace=True)"
   ]
  },
  {
   "cell_type": "code",
   "execution_count": 26,
   "metadata": {},
   "outputs": [
    {
     "data": {
      "text/html": [
       "<div>\n",
       "<style scoped>\n",
       "    .dataframe tbody tr th:only-of-type {\n",
       "        vertical-align: middle;\n",
       "    }\n",
       "\n",
       "    .dataframe tbody tr th {\n",
       "        vertical-align: top;\n",
       "    }\n",
       "\n",
       "    .dataframe thead th {\n",
       "        text-align: right;\n",
       "    }\n",
       "</style>\n",
       "<table border=\"1\" class=\"dataframe\">\n",
       "  <thead>\n",
       "    <tr style=\"text-align: right;\">\n",
       "      <th></th>\n",
       "      <th>taxi_company</th>\n",
       "      <th>request_datetime</th>\n",
       "      <th>pickup_datetime</th>\n",
       "      <th>dropoff_datetime</th>\n",
       "      <th>PULocation</th>\n",
       "      <th>DOLocation</th>\n",
       "      <th>trip_miles</th>\n",
       "      <th>trip_time</th>\n",
       "      <th>base_passenger_fare</th>\n",
       "      <th>tips</th>\n",
       "      <th>driver_pay</th>\n",
       "    </tr>\n",
       "  </thead>\n",
       "  <tbody>\n",
       "    <tr>\n",
       "      <th>0</th>\n",
       "      <td>Uber</td>\n",
       "      <td>2022-06-01 00:15:35</td>\n",
       "      <td>2022-06-01 00:17:41</td>\n",
       "      <td>2022-06-01 00:25:41</td>\n",
       "      <td>234</td>\n",
       "      <td>114</td>\n",
       "      <td>1.500</td>\n",
       "      <td>480</td>\n",
       "      <td>7.68</td>\n",
       "      <td>1.00</td>\n",
       "      <td>9.36</td>\n",
       "    </tr>\n",
       "    <tr>\n",
       "      <th>1</th>\n",
       "      <td>Uber</td>\n",
       "      <td>2022-06-01 00:39:04</td>\n",
       "      <td>2022-06-01 00:42:37</td>\n",
       "      <td>2022-06-01 00:56:32</td>\n",
       "      <td>161</td>\n",
       "      <td>151</td>\n",
       "      <td>4.180</td>\n",
       "      <td>835</td>\n",
       "      <td>20.40</td>\n",
       "      <td>4.82</td>\n",
       "      <td>15.61</td>\n",
       "    </tr>\n",
       "    <tr>\n",
       "      <th>2</th>\n",
       "      <td>Uber</td>\n",
       "      <td>2022-06-01 00:27:53</td>\n",
       "      <td>2022-06-01 00:36:22</td>\n",
       "      <td>2022-06-01 00:45:31</td>\n",
       "      <td>231</td>\n",
       "      <td>87</td>\n",
       "      <td>2.910</td>\n",
       "      <td>549</td>\n",
       "      <td>12.29</td>\n",
       "      <td>1.00</td>\n",
       "      <td>8.22</td>\n",
       "    </tr>\n",
       "    <tr>\n",
       "      <th>3</th>\n",
       "      <td>Uber</td>\n",
       "      <td>2022-06-01 00:48:15</td>\n",
       "      <td>2022-06-01 00:51:18</td>\n",
       "      <td>2022-06-01 01:11:15</td>\n",
       "      <td>87</td>\n",
       "      <td>225</td>\n",
       "      <td>5.450</td>\n",
       "      <td>1197</td>\n",
       "      <td>24.70</td>\n",
       "      <td>0.00</td>\n",
       "      <td>16.88</td>\n",
       "    </tr>\n",
       "    <tr>\n",
       "      <th>4</th>\n",
       "      <td>Lyft</td>\n",
       "      <td>2022-06-01 00:04:51</td>\n",
       "      <td>2022-06-01 00:13:33</td>\n",
       "      <td>2022-06-01 00:17:27</td>\n",
       "      <td>137</td>\n",
       "      <td>162</td>\n",
       "      <td>1.069</td>\n",
       "      <td>234</td>\n",
       "      <td>8.23</td>\n",
       "      <td>0.00</td>\n",
       "      <td>5.47</td>\n",
       "    </tr>\n",
       "    <tr>\n",
       "      <th>...</th>\n",
       "      <td>...</td>\n",
       "      <td>...</td>\n",
       "      <td>...</td>\n",
       "      <td>...</td>\n",
       "      <td>...</td>\n",
       "      <td>...</td>\n",
       "      <td>...</td>\n",
       "      <td>...</td>\n",
       "      <td>...</td>\n",
       "      <td>...</td>\n",
       "      <td>...</td>\n",
       "    </tr>\n",
       "    <tr>\n",
       "      <th>17780070</th>\n",
       "      <td>Uber</td>\n",
       "      <td>2022-06-30 23:20:49</td>\n",
       "      <td>2022-06-30 23:24:43</td>\n",
       "      <td>2022-06-30 23:38:19</td>\n",
       "      <td>74</td>\n",
       "      <td>224</td>\n",
       "      <td>6.070</td>\n",
       "      <td>816</td>\n",
       "      <td>17.60</td>\n",
       "      <td>2.24</td>\n",
       "      <td>16.23</td>\n",
       "    </tr>\n",
       "    <tr>\n",
       "      <th>17780071</th>\n",
       "      <td>Uber</td>\n",
       "      <td>2022-06-30 23:36:13</td>\n",
       "      <td>2022-06-30 23:39:20</td>\n",
       "      <td>2022-06-30 23:51:10</td>\n",
       "      <td>224</td>\n",
       "      <td>13</td>\n",
       "      <td>4.900</td>\n",
       "      <td>710</td>\n",
       "      <td>17.93</td>\n",
       "      <td>0.00</td>\n",
       "      <td>13.94</td>\n",
       "    </tr>\n",
       "    <tr>\n",
       "      <th>17780072</th>\n",
       "      <td>Uber</td>\n",
       "      <td>2022-06-30 23:50:50</td>\n",
       "      <td>2022-06-30 23:57:12</td>\n",
       "      <td>2022-07-01 00:07:07</td>\n",
       "      <td>231</td>\n",
       "      <td>231</td>\n",
       "      <td>0.530</td>\n",
       "      <td>595</td>\n",
       "      <td>11.98</td>\n",
       "      <td>3.00</td>\n",
       "      <td>18.46</td>\n",
       "    </tr>\n",
       "    <tr>\n",
       "      <th>17780073</th>\n",
       "      <td>Uber</td>\n",
       "      <td>2022-06-30 23:02:40</td>\n",
       "      <td>2022-06-30 23:06:44</td>\n",
       "      <td>2022-06-30 23:26:28</td>\n",
       "      <td>234</td>\n",
       "      <td>48</td>\n",
       "      <td>2.850</td>\n",
       "      <td>1184</td>\n",
       "      <td>31.47</td>\n",
       "      <td>1.00</td>\n",
       "      <td>27.27</td>\n",
       "    </tr>\n",
       "    <tr>\n",
       "      <th>17780074</th>\n",
       "      <td>Lyft</td>\n",
       "      <td>2022-06-30 23:00:28</td>\n",
       "      <td>2022-06-30 23:03:06</td>\n",
       "      <td>2022-06-30 23:18:13</td>\n",
       "      <td>244</td>\n",
       "      <td>242</td>\n",
       "      <td>6.207</td>\n",
       "      <td>907</td>\n",
       "      <td>20.28</td>\n",
       "      <td>0.00</td>\n",
       "      <td>15.26</td>\n",
       "    </tr>\n",
       "  </tbody>\n",
       "</table>\n",
       "<p>17007449 rows × 11 columns</p>\n",
       "</div>"
      ],
      "text/plain": [
       "         taxi_company    request_datetime     pickup_datetime  \\\n",
       "0                Uber 2022-06-01 00:15:35 2022-06-01 00:17:41   \n",
       "1                Uber 2022-06-01 00:39:04 2022-06-01 00:42:37   \n",
       "2                Uber 2022-06-01 00:27:53 2022-06-01 00:36:22   \n",
       "3                Uber 2022-06-01 00:48:15 2022-06-01 00:51:18   \n",
       "4                Lyft 2022-06-01 00:04:51 2022-06-01 00:13:33   \n",
       "...               ...                 ...                 ...   \n",
       "17780070         Uber 2022-06-30 23:20:49 2022-06-30 23:24:43   \n",
       "17780071         Uber 2022-06-30 23:36:13 2022-06-30 23:39:20   \n",
       "17780072         Uber 2022-06-30 23:50:50 2022-06-30 23:57:12   \n",
       "17780073         Uber 2022-06-30 23:02:40 2022-06-30 23:06:44   \n",
       "17780074         Lyft 2022-06-30 23:00:28 2022-06-30 23:03:06   \n",
       "\n",
       "            dropoff_datetime  PULocation  DOLocation  trip_miles  trip_time  \\\n",
       "0        2022-06-01 00:25:41         234         114       1.500        480   \n",
       "1        2022-06-01 00:56:32         161         151       4.180        835   \n",
       "2        2022-06-01 00:45:31         231          87       2.910        549   \n",
       "3        2022-06-01 01:11:15          87         225       5.450       1197   \n",
       "4        2022-06-01 00:17:27         137         162       1.069        234   \n",
       "...                      ...         ...         ...         ...        ...   \n",
       "17780070 2022-06-30 23:38:19          74         224       6.070        816   \n",
       "17780071 2022-06-30 23:51:10         224          13       4.900        710   \n",
       "17780072 2022-07-01 00:07:07         231         231       0.530        595   \n",
       "17780073 2022-06-30 23:26:28         234          48       2.850       1184   \n",
       "17780074 2022-06-30 23:18:13         244         242       6.207        907   \n",
       "\n",
       "          base_passenger_fare  tips  driver_pay  \n",
       "0                        7.68  1.00        9.36  \n",
       "1                       20.40  4.82       15.61  \n",
       "2                       12.29  1.00        8.22  \n",
       "3                       24.70  0.00       16.88  \n",
       "4                        8.23  0.00        5.47  \n",
       "...                       ...   ...         ...  \n",
       "17780070                17.60  2.24       16.23  \n",
       "17780071                17.93  0.00       13.94  \n",
       "17780072                11.98  3.00       18.46  \n",
       "17780073                31.47  1.00       27.27  \n",
       "17780074                20.28  0.00       15.26  \n",
       "\n",
       "[17007449 rows x 11 columns]"
      ]
     },
     "execution_count": 26,
     "metadata": {},
     "output_type": "execute_result"
    }
   ],
   "source": [
    "df"
   ]
  },
  {
   "cell_type": "code",
   "execution_count": 27,
   "metadata": {},
   "outputs": [
    {
     "data": {
      "text/html": [
       "<div>\n",
       "<style scoped>\n",
       "    .dataframe tbody tr th:only-of-type {\n",
       "        vertical-align: middle;\n",
       "    }\n",
       "\n",
       "    .dataframe tbody tr th {\n",
       "        vertical-align: top;\n",
       "    }\n",
       "\n",
       "    .dataframe thead th {\n",
       "        text-align: right;\n",
       "    }\n",
       "</style>\n",
       "<table border=\"1\" class=\"dataframe\">\n",
       "  <thead>\n",
       "    <tr style=\"text-align: right;\">\n",
       "      <th></th>\n",
       "      <th>LocationID</th>\n",
       "      <th>Borough</th>\n",
       "      <th>Zone</th>\n",
       "      <th>service_zone</th>\n",
       "    </tr>\n",
       "  </thead>\n",
       "  <tbody>\n",
       "    <tr>\n",
       "      <th>0</th>\n",
       "      <td>1</td>\n",
       "      <td>EWR</td>\n",
       "      <td>Newark Airport</td>\n",
       "      <td>EWR</td>\n",
       "    </tr>\n",
       "    <tr>\n",
       "      <th>1</th>\n",
       "      <td>2</td>\n",
       "      <td>Queens</td>\n",
       "      <td>Jamaica Bay</td>\n",
       "      <td>Boro Zone</td>\n",
       "    </tr>\n",
       "    <tr>\n",
       "      <th>2</th>\n",
       "      <td>3</td>\n",
       "      <td>Bronx</td>\n",
       "      <td>Allerton/Pelham Gardens</td>\n",
       "      <td>Boro Zone</td>\n",
       "    </tr>\n",
       "    <tr>\n",
       "      <th>3</th>\n",
       "      <td>4</td>\n",
       "      <td>Manhattan</td>\n",
       "      <td>Alphabet City</td>\n",
       "      <td>Yellow Zone</td>\n",
       "    </tr>\n",
       "    <tr>\n",
       "      <th>4</th>\n",
       "      <td>5</td>\n",
       "      <td>Staten Island</td>\n",
       "      <td>Arden Heights</td>\n",
       "      <td>Boro Zone</td>\n",
       "    </tr>\n",
       "    <tr>\n",
       "      <th>...</th>\n",
       "      <td>...</td>\n",
       "      <td>...</td>\n",
       "      <td>...</td>\n",
       "      <td>...</td>\n",
       "    </tr>\n",
       "    <tr>\n",
       "      <th>260</th>\n",
       "      <td>261</td>\n",
       "      <td>Manhattan</td>\n",
       "      <td>World Trade Center</td>\n",
       "      <td>Yellow Zone</td>\n",
       "    </tr>\n",
       "    <tr>\n",
       "      <th>261</th>\n",
       "      <td>262</td>\n",
       "      <td>Manhattan</td>\n",
       "      <td>Yorkville East</td>\n",
       "      <td>Yellow Zone</td>\n",
       "    </tr>\n",
       "    <tr>\n",
       "      <th>262</th>\n",
       "      <td>263</td>\n",
       "      <td>Manhattan</td>\n",
       "      <td>Yorkville West</td>\n",
       "      <td>Yellow Zone</td>\n",
       "    </tr>\n",
       "    <tr>\n",
       "      <th>263</th>\n",
       "      <td>264</td>\n",
       "      <td>Unknown</td>\n",
       "      <td>NV</td>\n",
       "      <td>NaN</td>\n",
       "    </tr>\n",
       "    <tr>\n",
       "      <th>264</th>\n",
       "      <td>265</td>\n",
       "      <td>Unknown</td>\n",
       "      <td>NaN</td>\n",
       "      <td>NaN</td>\n",
       "    </tr>\n",
       "  </tbody>\n",
       "</table>\n",
       "<p>265 rows × 4 columns</p>\n",
       "</div>"
      ],
      "text/plain": [
       "     LocationID        Borough                     Zone service_zone\n",
       "0             1            EWR           Newark Airport          EWR\n",
       "1             2         Queens              Jamaica Bay    Boro Zone\n",
       "2             3          Bronx  Allerton/Pelham Gardens    Boro Zone\n",
       "3             4      Manhattan            Alphabet City  Yellow Zone\n",
       "4             5  Staten Island            Arden Heights    Boro Zone\n",
       "..          ...            ...                      ...          ...\n",
       "260         261      Manhattan       World Trade Center  Yellow Zone\n",
       "261         262      Manhattan           Yorkville East  Yellow Zone\n",
       "262         263      Manhattan           Yorkville West  Yellow Zone\n",
       "263         264        Unknown                       NV          NaN\n",
       "264         265        Unknown                      NaN          NaN\n",
       "\n",
       "[265 rows x 4 columns]"
      ]
     },
     "execution_count": 27,
     "metadata": {},
     "output_type": "execute_result"
    }
   ],
   "source": [
    "zone_df"
   ]
  },
  {
   "cell_type": "markdown",
   "metadata": {},
   "source": [
    "Data Cleaning/Processing - 6\n",
    "- Expand the pickup and dropoff column to contain location names instead of location code\n",
    "- This is used in later phases to lookup addresses and estimate distance"
   ]
  },
  {
   "cell_type": "code",
   "execution_count": 28,
   "metadata": {},
   "outputs": [],
   "source": [
    "zone_df['LocationName'] = zone_df['Zone'] + \", \" + zone_df['Borough']"
   ]
  },
  {
   "cell_type": "code",
   "execution_count": 29,
   "metadata": {},
   "outputs": [
    {
     "data": {
      "text/html": [
       "<div>\n",
       "<style scoped>\n",
       "    .dataframe tbody tr th:only-of-type {\n",
       "        vertical-align: middle;\n",
       "    }\n",
       "\n",
       "    .dataframe tbody tr th {\n",
       "        vertical-align: top;\n",
       "    }\n",
       "\n",
       "    .dataframe thead th {\n",
       "        text-align: right;\n",
       "    }\n",
       "</style>\n",
       "<table border=\"1\" class=\"dataframe\">\n",
       "  <thead>\n",
       "    <tr style=\"text-align: right;\">\n",
       "      <th></th>\n",
       "      <th>LocationID</th>\n",
       "      <th>Borough</th>\n",
       "      <th>Zone</th>\n",
       "      <th>service_zone</th>\n",
       "      <th>LocationName</th>\n",
       "    </tr>\n",
       "  </thead>\n",
       "  <tbody>\n",
       "    <tr>\n",
       "      <th>0</th>\n",
       "      <td>1</td>\n",
       "      <td>EWR</td>\n",
       "      <td>Newark Airport</td>\n",
       "      <td>EWR</td>\n",
       "      <td>Newark Airport, EWR</td>\n",
       "    </tr>\n",
       "    <tr>\n",
       "      <th>1</th>\n",
       "      <td>2</td>\n",
       "      <td>Queens</td>\n",
       "      <td>Jamaica Bay</td>\n",
       "      <td>Boro Zone</td>\n",
       "      <td>Jamaica Bay, Queens</td>\n",
       "    </tr>\n",
       "    <tr>\n",
       "      <th>2</th>\n",
       "      <td>3</td>\n",
       "      <td>Bronx</td>\n",
       "      <td>Allerton/Pelham Gardens</td>\n",
       "      <td>Boro Zone</td>\n",
       "      <td>Allerton/Pelham Gardens, Bronx</td>\n",
       "    </tr>\n",
       "    <tr>\n",
       "      <th>3</th>\n",
       "      <td>4</td>\n",
       "      <td>Manhattan</td>\n",
       "      <td>Alphabet City</td>\n",
       "      <td>Yellow Zone</td>\n",
       "      <td>Alphabet City, Manhattan</td>\n",
       "    </tr>\n",
       "    <tr>\n",
       "      <th>4</th>\n",
       "      <td>5</td>\n",
       "      <td>Staten Island</td>\n",
       "      <td>Arden Heights</td>\n",
       "      <td>Boro Zone</td>\n",
       "      <td>Arden Heights, Staten Island</td>\n",
       "    </tr>\n",
       "    <tr>\n",
       "      <th>...</th>\n",
       "      <td>...</td>\n",
       "      <td>...</td>\n",
       "      <td>...</td>\n",
       "      <td>...</td>\n",
       "      <td>...</td>\n",
       "    </tr>\n",
       "    <tr>\n",
       "      <th>260</th>\n",
       "      <td>261</td>\n",
       "      <td>Manhattan</td>\n",
       "      <td>World Trade Center</td>\n",
       "      <td>Yellow Zone</td>\n",
       "      <td>World Trade Center, Manhattan</td>\n",
       "    </tr>\n",
       "    <tr>\n",
       "      <th>261</th>\n",
       "      <td>262</td>\n",
       "      <td>Manhattan</td>\n",
       "      <td>Yorkville East</td>\n",
       "      <td>Yellow Zone</td>\n",
       "      <td>Yorkville East, Manhattan</td>\n",
       "    </tr>\n",
       "    <tr>\n",
       "      <th>262</th>\n",
       "      <td>263</td>\n",
       "      <td>Manhattan</td>\n",
       "      <td>Yorkville West</td>\n",
       "      <td>Yellow Zone</td>\n",
       "      <td>Yorkville West, Manhattan</td>\n",
       "    </tr>\n",
       "    <tr>\n",
       "      <th>263</th>\n",
       "      <td>264</td>\n",
       "      <td>Unknown</td>\n",
       "      <td>NV</td>\n",
       "      <td>NaN</td>\n",
       "      <td>NV, Unknown</td>\n",
       "    </tr>\n",
       "    <tr>\n",
       "      <th>264</th>\n",
       "      <td>265</td>\n",
       "      <td>Unknown</td>\n",
       "      <td>NaN</td>\n",
       "      <td>NaN</td>\n",
       "      <td>NaN</td>\n",
       "    </tr>\n",
       "  </tbody>\n",
       "</table>\n",
       "<p>265 rows × 5 columns</p>\n",
       "</div>"
      ],
      "text/plain": [
       "     LocationID        Borough                     Zone service_zone  \\\n",
       "0             1            EWR           Newark Airport          EWR   \n",
       "1             2         Queens              Jamaica Bay    Boro Zone   \n",
       "2             3          Bronx  Allerton/Pelham Gardens    Boro Zone   \n",
       "3             4      Manhattan            Alphabet City  Yellow Zone   \n",
       "4             5  Staten Island            Arden Heights    Boro Zone   \n",
       "..          ...            ...                      ...          ...   \n",
       "260         261      Manhattan       World Trade Center  Yellow Zone   \n",
       "261         262      Manhattan           Yorkville East  Yellow Zone   \n",
       "262         263      Manhattan           Yorkville West  Yellow Zone   \n",
       "263         264        Unknown                       NV          NaN   \n",
       "264         265        Unknown                      NaN          NaN   \n",
       "\n",
       "                       LocationName  \n",
       "0               Newark Airport, EWR  \n",
       "1               Jamaica Bay, Queens  \n",
       "2    Allerton/Pelham Gardens, Bronx  \n",
       "3          Alphabet City, Manhattan  \n",
       "4      Arden Heights, Staten Island  \n",
       "..                              ...  \n",
       "260   World Trade Center, Manhattan  \n",
       "261       Yorkville East, Manhattan  \n",
       "262       Yorkville West, Manhattan  \n",
       "263                     NV, Unknown  \n",
       "264                             NaN  \n",
       "\n",
       "[265 rows x 5 columns]"
      ]
     },
     "execution_count": 29,
     "metadata": {},
     "output_type": "execute_result"
    }
   ],
   "source": [
    "zone_df"
   ]
  },
  {
   "cell_type": "code",
   "execution_count": 30,
   "metadata": {},
   "outputs": [],
   "source": [
    "zone_df.set_index('LocationID', inplace=True)"
   ]
  },
  {
   "cell_type": "code",
   "execution_count": 31,
   "metadata": {},
   "outputs": [],
   "source": [
    "id_location_map = zone_df['LocationName'].T.to_dict()"
   ]
  },
  {
   "cell_type": "code",
   "execution_count": 32,
   "metadata": {},
   "outputs": [],
   "source": [
    "df['PULocation'] = df['PULocation'].map(id_location_map)"
   ]
  },
  {
   "cell_type": "code",
   "execution_count": 33,
   "metadata": {},
   "outputs": [],
   "source": [
    "df['DOLocation'] = df['DOLocation'].map(id_location_map)"
   ]
  },
  {
   "cell_type": "code",
   "execution_count": 34,
   "metadata": {},
   "outputs": [
    {
     "data": {
      "text/html": [
       "<div>\n",
       "<style scoped>\n",
       "    .dataframe tbody tr th:only-of-type {\n",
       "        vertical-align: middle;\n",
       "    }\n",
       "\n",
       "    .dataframe tbody tr th {\n",
       "        vertical-align: top;\n",
       "    }\n",
       "\n",
       "    .dataframe thead th {\n",
       "        text-align: right;\n",
       "    }\n",
       "</style>\n",
       "<table border=\"1\" class=\"dataframe\">\n",
       "  <thead>\n",
       "    <tr style=\"text-align: right;\">\n",
       "      <th></th>\n",
       "      <th>taxi_company</th>\n",
       "      <th>request_datetime</th>\n",
       "      <th>pickup_datetime</th>\n",
       "      <th>dropoff_datetime</th>\n",
       "      <th>PULocation</th>\n",
       "      <th>DOLocation</th>\n",
       "      <th>trip_miles</th>\n",
       "      <th>trip_time</th>\n",
       "      <th>base_passenger_fare</th>\n",
       "      <th>tips</th>\n",
       "      <th>driver_pay</th>\n",
       "    </tr>\n",
       "  </thead>\n",
       "  <tbody>\n",
       "    <tr>\n",
       "      <th>0</th>\n",
       "      <td>Uber</td>\n",
       "      <td>2022-06-01 00:15:35</td>\n",
       "      <td>2022-06-01 00:17:41</td>\n",
       "      <td>2022-06-01 00:25:41</td>\n",
       "      <td>Union Sq, Manhattan</td>\n",
       "      <td>Greenwich Village South, Manhattan</td>\n",
       "      <td>1.500</td>\n",
       "      <td>480</td>\n",
       "      <td>7.68</td>\n",
       "      <td>1.00</td>\n",
       "      <td>9.36</td>\n",
       "    </tr>\n",
       "    <tr>\n",
       "      <th>1</th>\n",
       "      <td>Uber</td>\n",
       "      <td>2022-06-01 00:39:04</td>\n",
       "      <td>2022-06-01 00:42:37</td>\n",
       "      <td>2022-06-01 00:56:32</td>\n",
       "      <td>Midtown Center, Manhattan</td>\n",
       "      <td>Manhattan Valley, Manhattan</td>\n",
       "      <td>4.180</td>\n",
       "      <td>835</td>\n",
       "      <td>20.40</td>\n",
       "      <td>4.82</td>\n",
       "      <td>15.61</td>\n",
       "    </tr>\n",
       "    <tr>\n",
       "      <th>2</th>\n",
       "      <td>Uber</td>\n",
       "      <td>2022-06-01 00:27:53</td>\n",
       "      <td>2022-06-01 00:36:22</td>\n",
       "      <td>2022-06-01 00:45:31</td>\n",
       "      <td>TriBeCa/Civic Center, Manhattan</td>\n",
       "      <td>Financial District North, Manhattan</td>\n",
       "      <td>2.910</td>\n",
       "      <td>549</td>\n",
       "      <td>12.29</td>\n",
       "      <td>1.00</td>\n",
       "      <td>8.22</td>\n",
       "    </tr>\n",
       "    <tr>\n",
       "      <th>3</th>\n",
       "      <td>Uber</td>\n",
       "      <td>2022-06-01 00:48:15</td>\n",
       "      <td>2022-06-01 00:51:18</td>\n",
       "      <td>2022-06-01 01:11:15</td>\n",
       "      <td>Financial District North, Manhattan</td>\n",
       "      <td>Stuyvesant Heights, Brooklyn</td>\n",
       "      <td>5.450</td>\n",
       "      <td>1197</td>\n",
       "      <td>24.70</td>\n",
       "      <td>0.00</td>\n",
       "      <td>16.88</td>\n",
       "    </tr>\n",
       "    <tr>\n",
       "      <th>4</th>\n",
       "      <td>Lyft</td>\n",
       "      <td>2022-06-01 00:04:51</td>\n",
       "      <td>2022-06-01 00:13:33</td>\n",
       "      <td>2022-06-01 00:17:27</td>\n",
       "      <td>Kips Bay, Manhattan</td>\n",
       "      <td>Midtown East, Manhattan</td>\n",
       "      <td>1.069</td>\n",
       "      <td>234</td>\n",
       "      <td>8.23</td>\n",
       "      <td>0.00</td>\n",
       "      <td>5.47</td>\n",
       "    </tr>\n",
       "    <tr>\n",
       "      <th>...</th>\n",
       "      <td>...</td>\n",
       "      <td>...</td>\n",
       "      <td>...</td>\n",
       "      <td>...</td>\n",
       "      <td>...</td>\n",
       "      <td>...</td>\n",
       "      <td>...</td>\n",
       "      <td>...</td>\n",
       "      <td>...</td>\n",
       "      <td>...</td>\n",
       "      <td>...</td>\n",
       "    </tr>\n",
       "    <tr>\n",
       "      <th>17780070</th>\n",
       "      <td>Uber</td>\n",
       "      <td>2022-06-30 23:20:49</td>\n",
       "      <td>2022-06-30 23:24:43</td>\n",
       "      <td>2022-06-30 23:38:19</td>\n",
       "      <td>East Harlem North, Manhattan</td>\n",
       "      <td>Stuy Town/Peter Cooper Village, Manhattan</td>\n",
       "      <td>6.070</td>\n",
       "      <td>816</td>\n",
       "      <td>17.60</td>\n",
       "      <td>2.24</td>\n",
       "      <td>16.23</td>\n",
       "    </tr>\n",
       "    <tr>\n",
       "      <th>17780071</th>\n",
       "      <td>Uber</td>\n",
       "      <td>2022-06-30 23:36:13</td>\n",
       "      <td>2022-06-30 23:39:20</td>\n",
       "      <td>2022-06-30 23:51:10</td>\n",
       "      <td>Stuy Town/Peter Cooper Village, Manhattan</td>\n",
       "      <td>Battery Park City, Manhattan</td>\n",
       "      <td>4.900</td>\n",
       "      <td>710</td>\n",
       "      <td>17.93</td>\n",
       "      <td>0.00</td>\n",
       "      <td>13.94</td>\n",
       "    </tr>\n",
       "    <tr>\n",
       "      <th>17780072</th>\n",
       "      <td>Uber</td>\n",
       "      <td>2022-06-30 23:50:50</td>\n",
       "      <td>2022-06-30 23:57:12</td>\n",
       "      <td>2022-07-01 00:07:07</td>\n",
       "      <td>TriBeCa/Civic Center, Manhattan</td>\n",
       "      <td>TriBeCa/Civic Center, Manhattan</td>\n",
       "      <td>0.530</td>\n",
       "      <td>595</td>\n",
       "      <td>11.98</td>\n",
       "      <td>3.00</td>\n",
       "      <td>18.46</td>\n",
       "    </tr>\n",
       "    <tr>\n",
       "      <th>17780073</th>\n",
       "      <td>Uber</td>\n",
       "      <td>2022-06-30 23:02:40</td>\n",
       "      <td>2022-06-30 23:06:44</td>\n",
       "      <td>2022-06-30 23:26:28</td>\n",
       "      <td>Union Sq, Manhattan</td>\n",
       "      <td>Clinton East, Manhattan</td>\n",
       "      <td>2.850</td>\n",
       "      <td>1184</td>\n",
       "      <td>31.47</td>\n",
       "      <td>1.00</td>\n",
       "      <td>27.27</td>\n",
       "    </tr>\n",
       "    <tr>\n",
       "      <th>17780074</th>\n",
       "      <td>Lyft</td>\n",
       "      <td>2022-06-30 23:00:28</td>\n",
       "      <td>2022-06-30 23:03:06</td>\n",
       "      <td>2022-06-30 23:18:13</td>\n",
       "      <td>Washington Heights South, Manhattan</td>\n",
       "      <td>Van Nest/Morris Park, Bronx</td>\n",
       "      <td>6.207</td>\n",
       "      <td>907</td>\n",
       "      <td>20.28</td>\n",
       "      <td>0.00</td>\n",
       "      <td>15.26</td>\n",
       "    </tr>\n",
       "  </tbody>\n",
       "</table>\n",
       "<p>17007449 rows × 11 columns</p>\n",
       "</div>"
      ],
      "text/plain": [
       "         taxi_company    request_datetime     pickup_datetime  \\\n",
       "0                Uber 2022-06-01 00:15:35 2022-06-01 00:17:41   \n",
       "1                Uber 2022-06-01 00:39:04 2022-06-01 00:42:37   \n",
       "2                Uber 2022-06-01 00:27:53 2022-06-01 00:36:22   \n",
       "3                Uber 2022-06-01 00:48:15 2022-06-01 00:51:18   \n",
       "4                Lyft 2022-06-01 00:04:51 2022-06-01 00:13:33   \n",
       "...               ...                 ...                 ...   \n",
       "17780070         Uber 2022-06-30 23:20:49 2022-06-30 23:24:43   \n",
       "17780071         Uber 2022-06-30 23:36:13 2022-06-30 23:39:20   \n",
       "17780072         Uber 2022-06-30 23:50:50 2022-06-30 23:57:12   \n",
       "17780073         Uber 2022-06-30 23:02:40 2022-06-30 23:06:44   \n",
       "17780074         Lyft 2022-06-30 23:00:28 2022-06-30 23:03:06   \n",
       "\n",
       "            dropoff_datetime                                 PULocation  \\\n",
       "0        2022-06-01 00:25:41                        Union Sq, Manhattan   \n",
       "1        2022-06-01 00:56:32                  Midtown Center, Manhattan   \n",
       "2        2022-06-01 00:45:31            TriBeCa/Civic Center, Manhattan   \n",
       "3        2022-06-01 01:11:15        Financial District North, Manhattan   \n",
       "4        2022-06-01 00:17:27                        Kips Bay, Manhattan   \n",
       "...                      ...                                        ...   \n",
       "17780070 2022-06-30 23:38:19               East Harlem North, Manhattan   \n",
       "17780071 2022-06-30 23:51:10  Stuy Town/Peter Cooper Village, Manhattan   \n",
       "17780072 2022-07-01 00:07:07            TriBeCa/Civic Center, Manhattan   \n",
       "17780073 2022-06-30 23:26:28                        Union Sq, Manhattan   \n",
       "17780074 2022-06-30 23:18:13        Washington Heights South, Manhattan   \n",
       "\n",
       "                                         DOLocation  trip_miles  trip_time  \\\n",
       "0                Greenwich Village South, Manhattan       1.500        480   \n",
       "1                       Manhattan Valley, Manhattan       4.180        835   \n",
       "2               Financial District North, Manhattan       2.910        549   \n",
       "3                      Stuyvesant Heights, Brooklyn       5.450       1197   \n",
       "4                           Midtown East, Manhattan       1.069        234   \n",
       "...                                             ...         ...        ...   \n",
       "17780070  Stuy Town/Peter Cooper Village, Manhattan       6.070        816   \n",
       "17780071               Battery Park City, Manhattan       4.900        710   \n",
       "17780072            TriBeCa/Civic Center, Manhattan       0.530        595   \n",
       "17780073                    Clinton East, Manhattan       2.850       1184   \n",
       "17780074                Van Nest/Morris Park, Bronx       6.207        907   \n",
       "\n",
       "          base_passenger_fare  tips  driver_pay  \n",
       "0                        7.68  1.00        9.36  \n",
       "1                       20.40  4.82       15.61  \n",
       "2                       12.29  1.00        8.22  \n",
       "3                       24.70  0.00       16.88  \n",
       "4                        8.23  0.00        5.47  \n",
       "...                       ...   ...         ...  \n",
       "17780070                17.60  2.24       16.23  \n",
       "17780071                17.93  0.00       13.94  \n",
       "17780072                11.98  3.00       18.46  \n",
       "17780073                31.47  1.00       27.27  \n",
       "17780074                20.28  0.00       15.26  \n",
       "\n",
       "[17007449 rows x 11 columns]"
      ]
     },
     "execution_count": 34,
     "metadata": {},
     "output_type": "execute_result"
    }
   ],
   "source": [
    "df"
   ]
  },
  {
   "cell_type": "code",
   "execution_count": 35,
   "metadata": {},
   "outputs": [],
   "source": [
    "def plot_bar(obj):\n",
    "    obj.plot(kind='bar')"
   ]
  },
  {
   "cell_type": "code",
   "execution_count": 36,
   "metadata": {
    "execution": {
     "iopub.execute_input": "2022-10-02T16:54:13.034123Z",
     "iopub.status.busy": "2022-10-02T16:54:13.033617Z",
     "iopub.status.idle": "2022-10-02T16:54:13.783164Z",
     "shell.execute_reply": "2022-10-02T16:54:13.782049Z",
     "shell.execute_reply.started": "2022-10-02T16:54:13.034079Z"
    },
    "scrolled": true
   },
   "outputs": [
    {
     "data": {
      "text/plain": [
       "Uber    12473021\n",
       "Lyft     4534428\n",
       "Name: taxi_company, dtype: int64"
      ]
     },
     "execution_count": 36,
     "metadata": {},
     "output_type": "execute_result"
    }
   ],
   "source": [
    "df['taxi_company'].value_counts()"
   ]
  },
  {
   "cell_type": "code",
   "execution_count": 37,
   "metadata": {},
   "outputs": [
    {
     "data": {
      "image/png": "[encoded data removed]",
      "text/plain": [
       "<Figure size 432x288 with 1 Axes>"
      ]
     },
     "metadata": {
      "needs_background": "light"
     },
     "output_type": "display_data"
    }
   ],
   "source": [
    "plot_bar(df['taxi_company'].value_counts())"
   ]
  },
  {
   "cell_type": "markdown",
   "metadata": {},
   "source": [
    "Data Cleaning/Processing - 7\n",
    "- Extract the hour from the given date time column for Request, Pickup and Dropoff\n",
    "- This is used later to analyse the trips during different times of day"
   ]
  },
  {
   "cell_type": "code",
   "execution_count": 38,
   "metadata": {
    "scrolled": true
   },
   "outputs": [],
   "source": [
    "df['request_hour'] = df['request_datetime'].dt.hour\n",
    "df['pickup_hour'] = df['pickup_datetime'].dt.hour\n",
    "df['dropoff_hour'] = df['dropoff_datetime'].dt.hour"
   ]
  },
  {
   "cell_type": "code",
   "execution_count": 39,
   "metadata": {},
   "outputs": [
    {
     "data": {
      "image/png": "[encoded data removed]",
      "text/plain": [
       "<Figure size 432x288 with 1 Axes>"
      ]
     },
     "metadata": {
      "needs_background": "light"
     },
     "output_type": "display_data"
    }
   ],
   "source": [
    "plot_bar(df['request_hour'].value_counts())"
   ]
  },
  {
   "cell_type": "code",
   "execution_count": 40,
   "metadata": {},
   "outputs": [
    {
     "data": {
      "image/png": "[encoded data removed]",
      "text/plain": [
       "<Figure size 432x288 with 1 Axes>"
      ]
     },
     "metadata": {
      "needs_background": "light"
     },
     "output_type": "display_data"
    }
   ],
   "source": [
    "plot_bar(df['pickup_hour'].value_counts())"
   ]
  },
  {
   "cell_type": "code",
   "execution_count": 41,
   "metadata": {},
   "outputs": [
    {
     "data": {
      "image/png": "[encoded data removed]",
      "text/plain": [
       "<Figure size 432x288 with 1 Axes>"
      ]
     },
     "metadata": {
      "needs_background": "light"
     },
     "output_type": "display_data"
    }
   ],
   "source": [
    "plot_bar(df['dropoff_hour'].value_counts())"
   ]
  },
  {
   "cell_type": "code",
   "execution_count": 42,
   "metadata": {},
   "outputs": [
    {
     "data": {
      "image/png": "[encoded data removed]",
      "text/plain": [
       "<Figure size 432x288 with 1 Axes>"
      ]
     },
     "metadata": {
      "needs_background": "light"
     },
     "output_type": "display_data"
    }
   ],
   "source": [
    "plot_bar(df['PULocation'].value_counts()[:20])"
   ]
  },
  {
   "cell_type": "code",
   "execution_count": 43,
   "metadata": {},
   "outputs": [
    {
     "data": {
      "image/png": "[encoded data removed]",
      "text/plain": [
       "<Figure size 432x288 with 1 Axes>"
      ]
     },
     "metadata": {
      "needs_background": "light"
     },
     "output_type": "display_data"
    }
   ],
   "source": [
    "plot_bar(df['DOLocation'].value_counts()[:20])"
   ]
  },
  {
   "cell_type": "code",
   "execution_count": 44,
   "metadata": {},
   "outputs": [],
   "source": [
    "def plot_hist(df, series, remove_extremes=True):\n",
    "    max_value = df[series].quantile(0.99)\n",
    "    if remove_extremes:\n",
    "        df = df[df[series] < max_value]\n",
    "        df = df[df[series] > 0]\n",
    "    df[series].hist(bins=range(int(max_value)))"
   ]
  },
  {
   "cell_type": "code",
   "execution_count": 45,
   "metadata": {},
   "outputs": [
    {
     "data": {
      "image/png": "[encoded data removed]",
      "text/plain": [
       "<Figure size 432x288 with 1 Axes>"
      ]
     },
     "metadata": {
      "needs_background": "light"
     },
     "output_type": "display_data"
    }
   ],
   "source": [
    "plot_hist(df, 'trip_time')"
   ]
  },
  {
   "cell_type": "code",
   "execution_count": 46,
   "metadata": {
    "scrolled": true
   },
   "outputs": [
    {
     "data": {
      "image/png": "[encoded data removed]",
      "text/plain": [
       "<Figure size 432x288 with 1 Axes>"
      ]
     },
     "metadata": {
      "needs_background": "light"
     },
     "output_type": "display_data"
    }
   ],
   "source": [
    "plot_hist(df, 'base_passenger_fare')"
   ]
  },
  {
   "cell_type": "code",
   "execution_count": 47,
   "metadata": {},
   "outputs": [
    {
     "data": {
      "image/png": "[encoded data removed]",
      "text/plain": [
       "<Figure size 432x288 with 1 Axes>"
      ]
     },
     "metadata": {
      "needs_background": "light"
     },
     "output_type": "display_data"
    }
   ],
   "source": [
    "plot_hist(df, 'tips')"
   ]
  },
  {
   "cell_type": "code",
   "execution_count": 48,
   "metadata": {},
   "outputs": [
    {
     "data": {
      "image/png": "[encoded data removed]",
      "text/plain": [
       "<Figure size 432x288 with 1 Axes>"
      ]
     },
     "metadata": {
      "needs_background": "light"
     },
     "output_type": "display_data"
    }
   ],
   "source": [
    "plot_hist(df, 'driver_pay')"
   ]
  },
  {
   "cell_type": "markdown",
   "metadata": {},
   "source": [
    "Data Cleaning/Processing - 8\n",
    "- Create a new column \"driver_percent_in_fare\" to analyse the driver's pay as a percentage of the \"base_passenger_fare\"\n",
    "- This is used later to understand how much of a profit margin Taxi companies are targetting to achieve. This profit margin directly effects the price passengers pay."
   ]
  },
  {
   "cell_type": "code",
   "execution_count": 49,
   "metadata": {},
   "outputs": [
    {
     "data": {
      "image/png": "[encoded data removed]",
      "text/plain": [
       "<Figure size 432x288 with 1 Axes>"
      ]
     },
     "metadata": {
      "needs_background": "light"
     },
     "output_type": "display_data"
    }
   ],
   "source": [
    "df['driver_percent_in_fare'] = df['driver_pay']/df['base_passenger_fare']*100\n",
    "plot_hist(df, 'driver_percent_in_fare')"
   ]
  },
  {
   "cell_type": "code",
   "execution_count": 50,
   "metadata": {},
   "outputs": [],
   "source": [
    "def plot_sns_grp_hist(grp_df, x, hue):\n",
    "    ax = sns.histplot(grp_df, x=x, hue=hue, multiple='stack')\n",
    "    ax.set(xlim=(0, grp_df[x].quantile(0.99)))"
   ]
  },
  {
   "cell_type": "code",
   "execution_count": 51,
   "metadata": {},
   "outputs": [],
   "source": [
    "def plot_sns_grp_bar(grp_df, x, hue):\n",
    "    ax = sns.barplot(grp_df, x=x, hue=hue, multiple='stack')\n",
    "    ax.set(xlim=(0, grp_df[x].quantile(0.99)))"
   ]
  },
  {
   "cell_type": "markdown",
   "metadata": {},
   "source": [
    "## Which users tip more? (Uber or Lyft)\n",
    "Lyft"
   ]
  },
  {
   "cell_type": "code",
   "execution_count": 52,
   "metadata": {},
   "outputs": [],
   "source": [
    "taxi_grp_df = df.groupby(['taxi_company'])"
   ]
  },
  {
   "cell_type": "code",
   "execution_count": 53,
   "metadata": {},
   "outputs": [
    {
     "data": {
      "text/plain": [
       "taxi_company\n",
       "Lyft    1.142484\n",
       "Uber    1.032130\n",
       "Name: tips, dtype: float64"
      ]
     },
     "execution_count": 53,
     "metadata": {},
     "output_type": "execute_result"
    }
   ],
   "source": [
    "taxi_grp_df['tips'].mean()"
   ]
  },
  {
   "cell_type": "code",
   "execution_count": 54,
   "metadata": {},
   "outputs": [
    {
     "data": {
      "image/png": "[encoded data removed]",
      "text/plain": [
       "<Figure size 432x288 with 1 Axes>"
      ]
     },
     "metadata": {
      "needs_background": "light"
     },
     "output_type": "display_data"
    }
   ],
   "source": [
    "plot_sns_grp_hist(df, 'tips', 'taxi_company')"
   ]
  },
  {
   "cell_type": "markdown",
   "metadata": {},
   "source": [
    "## Which drivers earn more? (Uber or Lyft)\n",
    "Uber"
   ]
  },
  {
   "cell_type": "code",
   "execution_count": 55,
   "metadata": {},
   "outputs": [
    {
     "data": {
      "text/plain": [
       "taxi_company\n",
       "Lyft    17.249506\n",
       "Uber    19.016435\n",
       "Name: driver_pay, dtype: float64"
      ]
     },
     "execution_count": 55,
     "metadata": {},
     "output_type": "execute_result"
    }
   ],
   "source": [
    "taxi_grp_df['driver_pay'].mean()"
   ]
  },
  {
   "cell_type": "code",
   "execution_count": 56,
   "metadata": {
    "scrolled": true
   },
   "outputs": [
    {
     "data": {
      "image/png": "[encoded data removed]",
      "text/plain": [
       "<Figure size 432x288 with 1 Axes>"
      ]
     },
     "metadata": {
      "needs_background": "light"
     },
     "output_type": "display_data"
    }
   ],
   "source": [
    "plot_sns_grp_hist(df, 'driver_pay', 'taxi_company')"
   ]
  },
  {
   "cell_type": "markdown",
   "metadata": {},
   "source": [
    "## Which is cheaper for passenger?\n",
    "Lyft"
   ]
  },
  {
   "cell_type": "code",
   "execution_count": 57,
   "metadata": {},
   "outputs": [
    {
     "data": {
      "text/plain": [
       "taxi_company\n",
       "Lyft    22.561838\n",
       "Uber    23.572609\n",
       "Name: base_passenger_fare, dtype: float64"
      ]
     },
     "execution_count": 57,
     "metadata": {},
     "output_type": "execute_result"
    }
   ],
   "source": [
    "taxi_grp_df['base_passenger_fare'].mean()"
   ]
  },
  {
   "cell_type": "markdown",
   "metadata": {},
   "source": [
    "## Preference for longer trips\n",
    "Lyft"
   ]
  },
  {
   "cell_type": "code",
   "execution_count": 58,
   "metadata": {},
   "outputs": [
    {
     "data": {
      "text/plain": [
       "taxi_company\n",
       "Lyft    4.677353\n",
       "Uber    4.579548\n",
       "Name: trip_miles, dtype: float64"
      ]
     },
     "execution_count": 58,
     "metadata": {},
     "output_type": "execute_result"
    }
   ],
   "source": [
    "taxi_grp_df['trip_miles'].mean()"
   ]
  },
  {
   "cell_type": "code",
   "execution_count": 59,
   "metadata": {},
   "outputs": [
    {
     "data": {
      "image/png": "[encoded data removed]",
      "text/plain": [
       "<Figure size 432x288 with 1 Axes>"
      ]
     },
     "metadata": {
      "needs_background": "light"
     },
     "output_type": "display_data"
    }
   ],
   "source": [
    "plot_sns_grp_hist(df, 'trip_miles', 'taxi_company')"
   ]
  },
  {
   "cell_type": "markdown",
   "metadata": {},
   "source": [
    "## Passenger preference for \"Uber vs Lyft\" according to different times of day"
   ]
  },
  {
   "cell_type": "code",
   "execution_count": 60,
   "metadata": {
    "scrolled": false
   },
   "outputs": [
    {
     "data": {
      "image/png": "[encoded data removed]",
      "text/plain": [
       "<Figure size 432x288 with 1 Axes>"
      ]
     },
     "metadata": {
      "needs_background": "light"
     },
     "output_type": "display_data"
    }
   ],
   "source": [
    "plot_sns_grp_hist(df, 'pickup_hour', 'taxi_company')"
   ]
  },
  {
   "cell_type": "code",
   "execution_count": 61,
   "metadata": {},
   "outputs": [
    {
     "data": {
      "image/png": "[encoded data removed]",
      "text/plain": [
       "<Figure size 432x288 with 1 Axes>"
      ]
     },
     "metadata": {
      "needs_background": "light"
     },
     "output_type": "display_data"
    }
   ],
   "source": [
    "plot_sns_grp_hist(df, 'dropoff_hour', 'taxi_company')"
   ]
  },
  {
   "cell_type": "markdown",
   "metadata": {},
   "source": [
    "Closely correlated and no specific preference"
   ]
  },
  {
   "cell_type": "code",
   "execution_count": 62,
   "metadata": {},
   "outputs": [],
   "source": [
    "def remove_outliers(df, column):\n",
    "    min_value = df[column].quantile(0.01)\n",
    "    max_value = df[column].quantile(0.99)\n",
    "    df = df[df[column] < max_value]\n",
    "    df = df[df[column] > min_value]"
   ]
  },
  {
   "cell_type": "code",
   "execution_count": 63,
   "metadata": {},
   "outputs": [],
   "source": [
    "def mean_std_norm(df, column):\n",
    "    meanv = df[column].mean()\n",
    "    stdv = df[column].std()\n",
    "    df[column] = (df[column] - meanv)/stdv\n",
    "    df[column] += 1\n",
    "    df[column] /= 2"
   ]
  },
  {
   "cell_type": "code",
   "execution_count": 64,
   "metadata": {},
   "outputs": [],
   "source": [
    "def min_max_norm(df, column):\n",
    "    minv = df[column].min()\n",
    "    maxv = df[column].max()\n",
    "    df[column] = 100*(df[column] - minv)/(maxv - minv)"
   ]
  },
  {
   "cell_type": "markdown",
   "metadata": {},
   "source": [
    "Data Cleaning/Processing - 9\n",
    "- Each trip has different number of miles, time taken and the final price\n",
    "- To compare the prices among different trips, a new column called \"fare_per_mile_per_second\" is created which is obtained by dividing the \"base_passenger_fare\" by the \"trip_miles\" and \"trip_time\""
   ]
  },
  {
   "cell_type": "code",
   "execution_count": 65,
   "metadata": {},
   "outputs": [],
   "source": [
    "df['fare_per_mile_per_second'] = df['base_passenger_fare']/(df['trip_miles']*df['trip_time'])"
   ]
  },
  {
   "cell_type": "code",
   "execution_count": 66,
   "metadata": {},
   "outputs": [],
   "source": [
    "remove_outliers(df, 'fare_per_mile_per_second')\n",
    "min_max_norm(df, 'fare_per_mile_per_second')"
   ]
  },
  {
   "cell_type": "code",
   "execution_count": 67,
   "metadata": {},
   "outputs": [
    {
     "data": {
      "image/png": "[encoded data removed]",
      "text/plain": [
       "<Figure size 432x288 with 1 Axes>"
      ]
     },
     "metadata": {
      "needs_background": "light"
     },
     "output_type": "display_data"
    }
   ],
   "source": [
    "grp_by_pickup_hr = df.groupby(['pickup_hour'])\n",
    "fms_by_hr = grp_by_pickup_hr['fare_per_mile_per_second'].mean()\n",
    "plot_bar(fms_by_hr)"
   ]
  },
  {
   "cell_type": "code",
   "execution_count": 68,
   "metadata": {},
   "outputs": [
    {
     "data": {
      "image/png": "[encoded data removed]",
      "text/plain": [
       "<Figure size 432x288 with 1 Axes>"
      ]
     },
     "metadata": {
      "needs_background": "light"
     },
     "output_type": "display_data"
    }
   ],
   "source": [
    "plot_bar(grp_by_pickup_hr.size())"
   ]
  },
  {
   "cell_type": "code",
   "execution_count": 69,
   "metadata": {},
   "outputs": [
    {
     "data": {
      "text/html": [
       "<div>\n",
       "<style scoped>\n",
       "    .dataframe tbody tr th:only-of-type {\n",
       "        vertical-align: middle;\n",
       "    }\n",
       "\n",
       "    .dataframe tbody tr th {\n",
       "        vertical-align: top;\n",
       "    }\n",
       "\n",
       "    .dataframe thead th {\n",
       "        text-align: right;\n",
       "    }\n",
       "</style>\n",
       "<table border=\"1\" class=\"dataframe\">\n",
       "  <thead>\n",
       "    <tr style=\"text-align: right;\">\n",
       "      <th></th>\n",
       "      <th>taxi_company</th>\n",
       "      <th>request_datetime</th>\n",
       "      <th>pickup_datetime</th>\n",
       "      <th>dropoff_datetime</th>\n",
       "      <th>PULocation</th>\n",
       "      <th>DOLocation</th>\n",
       "      <th>trip_miles</th>\n",
       "      <th>trip_time</th>\n",
       "      <th>base_passenger_fare</th>\n",
       "      <th>tips</th>\n",
       "      <th>driver_pay</th>\n",
       "      <th>request_hour</th>\n",
       "      <th>pickup_hour</th>\n",
       "      <th>dropoff_hour</th>\n",
       "      <th>driver_percent_in_fare</th>\n",
       "      <th>fare_per_mile_per_second</th>\n",
       "    </tr>\n",
       "  </thead>\n",
       "  <tbody>\n",
       "    <tr>\n",
       "      <th>0</th>\n",
       "      <td>Uber</td>\n",
       "      <td>2022-06-01 00:15:35</td>\n",
       "      <td>2022-06-01 00:17:41</td>\n",
       "      <td>2022-06-01 00:25:41</td>\n",
       "      <td>Union Sq, Manhattan</td>\n",
       "      <td>Greenwich Village South, Manhattan</td>\n",
       "      <td>1.500</td>\n",
       "      <td>480</td>\n",
       "      <td>7.68</td>\n",
       "      <td>1.00</td>\n",
       "      <td>9.36</td>\n",
       "      <td>0</td>\n",
       "      <td>0</td>\n",
       "      <td>0</td>\n",
       "      <td>121.875000</td>\n",
       "      <td>1.237362</td>\n",
       "    </tr>\n",
       "    <tr>\n",
       "      <th>1</th>\n",
       "      <td>Uber</td>\n",
       "      <td>2022-06-01 00:39:04</td>\n",
       "      <td>2022-06-01 00:42:37</td>\n",
       "      <td>2022-06-01 00:56:32</td>\n",
       "      <td>Midtown Center, Manhattan</td>\n",
       "      <td>Manhattan Valley, Manhattan</td>\n",
       "      <td>4.180</td>\n",
       "      <td>835</td>\n",
       "      <td>20.40</td>\n",
       "      <td>4.82</td>\n",
       "      <td>15.61</td>\n",
       "      <td>0</td>\n",
       "      <td>0</td>\n",
       "      <td>0</td>\n",
       "      <td>76.519608</td>\n",
       "      <td>1.237247</td>\n",
       "    </tr>\n",
       "    <tr>\n",
       "      <th>2</th>\n",
       "      <td>Uber</td>\n",
       "      <td>2022-06-01 00:27:53</td>\n",
       "      <td>2022-06-01 00:36:22</td>\n",
       "      <td>2022-06-01 00:45:31</td>\n",
       "      <td>TriBeCa/Civic Center, Manhattan</td>\n",
       "      <td>Financial District North, Manhattan</td>\n",
       "      <td>2.910</td>\n",
       "      <td>549</td>\n",
       "      <td>12.29</td>\n",
       "      <td>1.00</td>\n",
       "      <td>8.22</td>\n",
       "      <td>0</td>\n",
       "      <td>0</td>\n",
       "      <td>0</td>\n",
       "      <td>66.883645</td>\n",
       "      <td>1.237291</td>\n",
       "    </tr>\n",
       "    <tr>\n",
       "      <th>3</th>\n",
       "      <td>Uber</td>\n",
       "      <td>2022-06-01 00:48:15</td>\n",
       "      <td>2022-06-01 00:51:18</td>\n",
       "      <td>2022-06-01 01:11:15</td>\n",
       "      <td>Financial District North, Manhattan</td>\n",
       "      <td>Stuyvesant Heights, Brooklyn</td>\n",
       "      <td>5.450</td>\n",
       "      <td>1197</td>\n",
       "      <td>24.70</td>\n",
       "      <td>0.00</td>\n",
       "      <td>16.88</td>\n",
       "      <td>0</td>\n",
       "      <td>0</td>\n",
       "      <td>1</td>\n",
       "      <td>68.340081</td>\n",
       "      <td>1.237197</td>\n",
       "    </tr>\n",
       "    <tr>\n",
       "      <th>4</th>\n",
       "      <td>Lyft</td>\n",
       "      <td>2022-06-01 00:04:51</td>\n",
       "      <td>2022-06-01 00:13:33</td>\n",
       "      <td>2022-06-01 00:17:27</td>\n",
       "      <td>Kips Bay, Manhattan</td>\n",
       "      <td>Midtown East, Manhattan</td>\n",
       "      <td>1.069</td>\n",
       "      <td>234</td>\n",
       "      <td>8.23</td>\n",
       "      <td>0.00</td>\n",
       "      <td>5.47</td>\n",
       "      <td>0</td>\n",
       "      <td>0</td>\n",
       "      <td>0</td>\n",
       "      <td>66.464156</td>\n",
       "      <td>1.237896</td>\n",
       "    </tr>\n",
       "    <tr>\n",
       "      <th>...</th>\n",
       "      <td>...</td>\n",
       "      <td>...</td>\n",
       "      <td>...</td>\n",
       "      <td>...</td>\n",
       "      <td>...</td>\n",
       "      <td>...</td>\n",
       "      <td>...</td>\n",
       "      <td>...</td>\n",
       "      <td>...</td>\n",
       "      <td>...</td>\n",
       "      <td>...</td>\n",
       "      <td>...</td>\n",
       "      <td>...</td>\n",
       "      <td>...</td>\n",
       "      <td>...</td>\n",
       "      <td>...</td>\n",
       "    </tr>\n",
       "    <tr>\n",
       "      <th>17780070</th>\n",
       "      <td>Uber</td>\n",
       "      <td>2022-06-30 23:20:49</td>\n",
       "      <td>2022-06-30 23:24:43</td>\n",
       "      <td>2022-06-30 23:38:19</td>\n",
       "      <td>East Harlem North, Manhattan</td>\n",
       "      <td>Stuy Town/Peter Cooper Village, Manhattan</td>\n",
       "      <td>6.070</td>\n",
       "      <td>816</td>\n",
       "      <td>17.60</td>\n",
       "      <td>2.24</td>\n",
       "      <td>16.23</td>\n",
       "      <td>23</td>\n",
       "      <td>23</td>\n",
       "      <td>23</td>\n",
       "      <td>92.215909</td>\n",
       "      <td>1.237192</td>\n",
       "    </tr>\n",
       "    <tr>\n",
       "      <th>17780071</th>\n",
       "      <td>Uber</td>\n",
       "      <td>2022-06-30 23:36:13</td>\n",
       "      <td>2022-06-30 23:39:20</td>\n",
       "      <td>2022-06-30 23:51:10</td>\n",
       "      <td>Stuy Town/Peter Cooper Village, Manhattan</td>\n",
       "      <td>Battery Park City, Manhattan</td>\n",
       "      <td>4.900</td>\n",
       "      <td>710</td>\n",
       "      <td>17.93</td>\n",
       "      <td>0.00</td>\n",
       "      <td>13.94</td>\n",
       "      <td>23</td>\n",
       "      <td>23</td>\n",
       "      <td>23</td>\n",
       "      <td>77.746793</td>\n",
       "      <td>1.237230</td>\n",
       "    </tr>\n",
       "    <tr>\n",
       "      <th>17780072</th>\n",
       "      <td>Uber</td>\n",
       "      <td>2022-06-30 23:50:50</td>\n",
       "      <td>2022-06-30 23:57:12</td>\n",
       "      <td>2022-07-01 00:07:07</td>\n",
       "      <td>TriBeCa/Civic Center, Manhattan</td>\n",
       "      <td>TriBeCa/Civic Center, Manhattan</td>\n",
       "      <td>0.530</td>\n",
       "      <td>595</td>\n",
       "      <td>11.98</td>\n",
       "      <td>3.00</td>\n",
       "      <td>18.46</td>\n",
       "      <td>23</td>\n",
       "      <td>23</td>\n",
       "      <td>0</td>\n",
       "      <td>154.090150</td>\n",
       "      <td>1.238018</td>\n",
       "    </tr>\n",
       "    <tr>\n",
       "      <th>17780073</th>\n",
       "      <td>Uber</td>\n",
       "      <td>2022-06-30 23:02:40</td>\n",
       "      <td>2022-06-30 23:06:44</td>\n",
       "      <td>2022-06-30 23:26:28</td>\n",
       "      <td>Union Sq, Manhattan</td>\n",
       "      <td>Clinton East, Manhattan</td>\n",
       "      <td>2.850</td>\n",
       "      <td>1184</td>\n",
       "      <td>31.47</td>\n",
       "      <td>1.00</td>\n",
       "      <td>27.27</td>\n",
       "      <td>23</td>\n",
       "      <td>23</td>\n",
       "      <td>23</td>\n",
       "      <td>86.653956</td>\n",
       "      <td>1.237330</td>\n",
       "    </tr>\n",
       "    <tr>\n",
       "      <th>17780074</th>\n",
       "      <td>Lyft</td>\n",
       "      <td>2022-06-30 23:00:28</td>\n",
       "      <td>2022-06-30 23:03:06</td>\n",
       "      <td>2022-06-30 23:18:13</td>\n",
       "      <td>Washington Heights South, Manhattan</td>\n",
       "      <td>Van Nest/Morris Park, Bronx</td>\n",
       "      <td>6.207</td>\n",
       "      <td>907</td>\n",
       "      <td>20.28</td>\n",
       "      <td>0.00</td>\n",
       "      <td>15.26</td>\n",
       "      <td>23</td>\n",
       "      <td>23</td>\n",
       "      <td>23</td>\n",
       "      <td>75.246548</td>\n",
       "      <td>1.237193</td>\n",
       "    </tr>\n",
       "  </tbody>\n",
       "</table>\n",
       "<p>17007449 rows × 16 columns</p>\n",
       "</div>"
      ],
      "text/plain": [
       "         taxi_company    request_datetime     pickup_datetime  \\\n",
       "0                Uber 2022-06-01 00:15:35 2022-06-01 00:17:41   \n",
       "1                Uber 2022-06-01 00:39:04 2022-06-01 00:42:37   \n",
       "2                Uber 2022-06-01 00:27:53 2022-06-01 00:36:22   \n",
       "3                Uber 2022-06-01 00:48:15 2022-06-01 00:51:18   \n",
       "4                Lyft 2022-06-01 00:04:51 2022-06-01 00:13:33   \n",
       "...               ...                 ...                 ...   \n",
       "17780070         Uber 2022-06-30 23:20:49 2022-06-30 23:24:43   \n",
       "17780071         Uber 2022-06-30 23:36:13 2022-06-30 23:39:20   \n",
       "17780072         Uber 2022-06-30 23:50:50 2022-06-30 23:57:12   \n",
       "17780073         Uber 2022-06-30 23:02:40 2022-06-30 23:06:44   \n",
       "17780074         Lyft 2022-06-30 23:00:28 2022-06-30 23:03:06   \n",
       "\n",
       "            dropoff_datetime                                 PULocation  \\\n",
       "0        2022-06-01 00:25:41                        Union Sq, Manhattan   \n",
       "1        2022-06-01 00:56:32                  Midtown Center, Manhattan   \n",
       "2        2022-06-01 00:45:31            TriBeCa/Civic Center, Manhattan   \n",
       "3        2022-06-01 01:11:15        Financial District North, Manhattan   \n",
       "4        2022-06-01 00:17:27                        Kips Bay, Manhattan   \n",
       "...                      ...                                        ...   \n",
       "17780070 2022-06-30 23:38:19               East Harlem North, Manhattan   \n",
       "17780071 2022-06-30 23:51:10  Stuy Town/Peter Cooper Village, Manhattan   \n",
       "17780072 2022-07-01 00:07:07            TriBeCa/Civic Center, Manhattan   \n",
       "17780073 2022-06-30 23:26:28                        Union Sq, Manhattan   \n",
       "17780074 2022-06-30 23:18:13        Washington Heights South, Manhattan   \n",
       "\n",
       "                                         DOLocation  trip_miles  trip_time  \\\n",
       "0                Greenwich Village South, Manhattan       1.500        480   \n",
       "1                       Manhattan Valley, Manhattan       4.180        835   \n",
       "2               Financial District North, Manhattan       2.910        549   \n",
       "3                      Stuyvesant Heights, Brooklyn       5.450       1197   \n",
       "4                           Midtown East, Manhattan       1.069        234   \n",
       "...                                             ...         ...        ...   \n",
       "17780070  Stuy Town/Peter Cooper Village, Manhattan       6.070        816   \n",
       "17780071               Battery Park City, Manhattan       4.900        710   \n",
       "17780072            TriBeCa/Civic Center, Manhattan       0.530        595   \n",
       "17780073                    Clinton East, Manhattan       2.850       1184   \n",
       "17780074                Van Nest/Morris Park, Bronx       6.207        907   \n",
       "\n",
       "          base_passenger_fare  tips  driver_pay  request_hour  pickup_hour  \\\n",
       "0                        7.68  1.00        9.36             0            0   \n",
       "1                       20.40  4.82       15.61             0            0   \n",
       "2                       12.29  1.00        8.22             0            0   \n",
       "3                       24.70  0.00       16.88             0            0   \n",
       "4                        8.23  0.00        5.47             0            0   \n",
       "...                       ...   ...         ...           ...          ...   \n",
       "17780070                17.60  2.24       16.23            23           23   \n",
       "17780071                17.93  0.00       13.94            23           23   \n",
       "17780072                11.98  3.00       18.46            23           23   \n",
       "17780073                31.47  1.00       27.27            23           23   \n",
       "17780074                20.28  0.00       15.26            23           23   \n",
       "\n",
       "          dropoff_hour  driver_percent_in_fare  fare_per_mile_per_second  \n",
       "0                    0              121.875000                  1.237362  \n",
       "1                    0               76.519608                  1.237247  \n",
       "2                    0               66.883645                  1.237291  \n",
       "3                    1               68.340081                  1.237197  \n",
       "4                    0               66.464156                  1.237896  \n",
       "...                ...                     ...                       ...  \n",
       "17780070            23               92.215909                  1.237192  \n",
       "17780071            23               77.746793                  1.237230  \n",
       "17780072             0              154.090150                  1.238018  \n",
       "17780073            23               86.653956                  1.237330  \n",
       "17780074            23               75.246548                  1.237193  \n",
       "\n",
       "[17007449 rows x 16 columns]"
      ]
     },
     "execution_count": 69,
     "metadata": {},
     "output_type": "execute_result"
    }
   ],
   "source": [
    "df"
   ]
  },
  {
   "cell_type": "code",
   "execution_count": 70,
   "metadata": {},
   "outputs": [],
   "source": [
    "grp_by_pickup_location = df.groupby(['PULocation'])\n",
    "sorted_pickup_locations = grp_by_pickup_location['fare_per_mile_per_second'].mean().sort_values(ascending=False)"
   ]
  },
  {
   "cell_type": "code",
   "execution_count": 71,
   "metadata": {},
   "outputs": [
    {
     "data": {
      "image/png": "[encoded data removed]",
      "text/plain": [
       "<Figure size 432x288 with 1 Axes>"
      ]
     },
     "metadata": {
      "needs_background": "light"
     },
     "output_type": "display_data"
    }
   ],
   "source": [
    "expensive_pickup_locations = sorted_pickup_locations[:20]\n",
    "plot_bar(expensive_pickup_locations)"
   ]
  },
  {
   "cell_type": "code",
   "execution_count": 72,
   "metadata": {},
   "outputs": [
    {
     "data": {
      "image/png": "[encoded data removed]",
      "text/plain": [
       "<Figure size 432x288 with 1 Axes>"
      ]
     },
     "metadata": {
      "needs_background": "light"
     },
     "output_type": "display_data"
    }
   ],
   "source": [
    "cheap_pickup_locations = sorted_pickup_locations[-20:]\n",
    "plot_bar(cheap_pickup_locations)"
   ]
  },
  {
   "cell_type": "code",
   "execution_count": 73,
   "metadata": {},
   "outputs": [],
   "source": [
    "grp_by_dropoff_location = df.groupby(['DOLocation'])\n",
    "sorted_dropoff_locations = grp_by_dropoff_location['fare_per_mile_per_second'].mean().sort_values(ascending=False)"
   ]
  },
  {
   "cell_type": "code",
   "execution_count": 74,
   "metadata": {},
   "outputs": [
    {
     "data": {
      "image/png": "[encoded data removed]",
      "text/plain": [
       "<Figure size 432x288 with 1 Axes>"
      ]
     },
     "metadata": {
      "needs_background": "light"
     },
     "output_type": "display_data"
    }
   ],
   "source": [
    "expensive_dropoff_locations = sorted_dropoff_locations[:20]\n",
    "plot_bar(expensive_dropoff_locations)"
   ]
  },
  {
   "cell_type": "code",
   "execution_count": 75,
   "metadata": {},
   "outputs": [
    {
     "data": {
      "image/png": "[encoded data removed]",
      "text/plain": [
       "<Figure size 432x288 with 1 Axes>"
      ]
     },
     "metadata": {
      "needs_background": "light"
     },
     "output_type": "display_data"
    }
   ],
   "source": [
    "cheap_dropoff_locations = sorted_dropoff_locations[-20:]\n",
    "plot_bar(cheap_dropoff_locations)"
   ]
  },
  {
   "cell_type": "code",
   "execution_count": 76,
   "metadata": {},
   "outputs": [],
   "source": [
    "popular_pickup_locations = grp_by_pickup_location.size().sort_values(ascending=False).reset_index()"
   ]
  },
  {
   "cell_type": "code",
   "execution_count": 77,
   "metadata": {},
   "outputs": [
    {
     "data": {
      "image/png": "[encoded data removed]",
      "text/plain": [
       "<Figure size 432x288 with 1 Axes>"
      ]
     },
     "metadata": {
      "needs_background": "light"
     },
     "output_type": "display_data"
    }
   ],
   "source": [
    "plot_bar(grp_by_pickup_location['fare_per_mile_per_second'].mean()[popular_pickup_locations['PULocation']][:20])"
   ]
  },
  {
   "cell_type": "code",
   "execution_count": 78,
   "metadata": {},
   "outputs": [],
   "source": [
    "popular_dropoff_locations = grp_by_dropoff_location.size().sort_values(ascending=False).reset_index()"
   ]
  },
  {
   "cell_type": "code",
   "execution_count": 79,
   "metadata": {},
   "outputs": [
    {
     "data": {
      "image/png": "[encoded data removed]",
      "text/plain": [
       "<Figure size 432x288 with 1 Axes>"
      ]
     },
     "metadata": {
      "needs_background": "light"
     },
     "output_type": "display_data"
    }
   ],
   "source": [
    "plot_bar(grp_by_dropoff_location['fare_per_mile_per_second'].mean()[popular_dropoff_locations['DOLocation']][:20])"
   ]
  },
  {
   "cell_type": "markdown",
   "metadata": {},
   "source": [
    "Data Cleaning/Processing - 10\n",
    "- In order to understand the true cost of each trip and the driver profits after deducting their gas cost, new columns like \"driver_expenditure\", \"driver_profit\" and \"taxi_company_profit\" are created.\n",
    "- This is used in later phases to predict the base fare and how little or more the taxi company can charge the passenger and still end up in profit."
   ]
  },
  {
   "cell_type": "code",
   "execution_count": 80,
   "metadata": {},
   "outputs": [],
   "source": [
    "mpg = 20 # average miles per gallon\n",
    "pg = 5.56 # gas price in June 2022\n",
    "df['driver_expenditure'] = (df['trip_miles']/mpg)*pg\n",
    "df['driver_profit'] = df['driver_pay'] - df['driver_expenditure']\n",
    "df['taxi_company_profit'] = df['base_passenger_fare'] - df['driver_pay']"
   ]
  },
  {
   "cell_type": "code",
   "execution_count": 81,
   "metadata": {},
   "outputs": [
    {
     "data": {
      "image/png": "[encoded data removed]",
      "text/plain": [
       "<Figure size 432x288 with 1 Axes>"
      ]
     },
     "metadata": {
      "needs_background": "light"
     },
     "output_type": "display_data"
    }
   ],
   "source": [
    "plot_hist(df, 'driver_profit')"
   ]
  },
  {
   "cell_type": "code",
   "execution_count": 82,
   "metadata": {},
   "outputs": [
    {
     "data": {
      "image/png": "[encoded data removed]",
      "text/plain": [
       "<Figure size 432x288 with 1 Axes>"
      ]
     },
     "metadata": {
      "needs_background": "light"
     },
     "output_type": "display_data"
    }
   ],
   "source": [
    "plot_hist(df, 'taxi_company_profit')"
   ]
  }
 ],
 "metadata": {
  "kernelspec": {
   "display_name": "Python 3 (ipykernel)",
   "language": "python",
   "name": "python3"
  },
  "language_info": {
   "codemirror_mode": {
    "name": "ipython",
    "version": 3
   },
   "file_extension": ".py",
   "mimetype": "text/x-python",
   "name": "python",
   "nbconvert_exporter": "python",
   "pygments_lexer": "ipython3",
   "version": "3.9.12"
  }
 },
 "nbformat": 4,
 "nbformat_minor": 4
}
